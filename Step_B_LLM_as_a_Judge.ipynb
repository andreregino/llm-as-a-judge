{
  "nbformat": 4,
  "nbformat_minor": 0,
  "metadata": {
    "colab": {
      "provenance": [],
      "authorship_tag": "ABX9TyOfvDeLQaLRXLYhAbrBWsLG",
      "include_colab_link": true
    },
    "kernelspec": {
      "name": "python3",
      "display_name": "Python 3"
    },
    "language_info": {
      "name": "python"
    }
  },
  "cells": [
    {
      "cell_type": "markdown",
      "metadata": {
        "id": "view-in-github",
        "colab_type": "text"
      },
      "source": [
        "<a href=\"https://colab.research.google.com/github/andreregino/llm-as-a-judge/blob/main/Step_B_LLM_as_a_Judge.ipynb\" target=\"_parent\"><img src=\"https://colab.research.google.com/assets/colab-badge.svg\" alt=\"Open In Colab\"/></a>"
      ]
    },
    {
      "cell_type": "code",
      "source": [
        "import pandas as pd\n",
        "import json"
      ],
      "metadata": {
        "id": "SZWd-zWBzhu5"
      },
      "execution_count": null,
      "outputs": []
    },
    {
      "cell_type": "markdown",
      "source": [
        "## Dataset"
      ],
      "metadata": {
        "id": "iUhKej4yx3JM"
      }
    },
    {
      "cell_type": "code",
      "source": [
        "# mounting the main folder from google drive\n",
        "\n",
        "from os.path import join\n",
        "from google.colab import drive\n",
        "\n",
        "ROOT = \"/content/drive\"\n",
        "drive.mount(ROOT)\n",
        "\n",
        "%cd /content/drive/My Drive/CTI/Experimentos/llm-as-a-judge-e-commerce-triples/input/"
      ],
      "metadata": {
        "colab": {
          "base_uri": "https://localhost:8080/"
        },
        "id": "BX3RvAj5x7_W",
        "outputId": "0fed252e-1e0d-47ea-8751-6f86bc603b3d"
      },
      "execution_count": null,
      "outputs": [
        {
          "output_type": "stream",
          "name": "stdout",
          "text": [
            "Mounted at /content/drive\n",
            "/content/drive/My Drive/CTI/Experimentos/llm-as-a-judge-e-commerce-triples/input\n"
          ]
        }
      ]
    },
    {
      "cell_type": "code",
      "source": [
        "csv_filename = \"300_triples_multidomain_llama_fewshot.csv\"\n",
        "\n",
        "df = pd.read_csv(csv_filename)\n",
        "\n",
        "df.head()"
      ],
      "metadata": {
        "colab": {
          "base_uri": "https://localhost:8080/",
          "height": 206
        },
        "id": "EODUmp8Zza-x",
        "outputId": "acbac395-0a1d-4614-d6c2-97ac1f9ec5b3"
      },
      "execution_count": null,
      "outputs": [
        {
          "output_type": "execute_result",
          "data": {
            "text/plain": [
              "                                 summarized sentence  \\\n",
              "0  O Central Multimídia Universal Mp5 Espelhament...   \n",
              "1  O Quadro Decorativo Grande Para Sala Quarto Le...   \n",
              "2  O Controle Ar Condicionado Universal Diversos ...   \n",
              "3  A Polia Correia Alternador Idea 2005/2010 4429...   \n",
              "4  O Assoalho Fiat Uno 92 93 94 95 96 97 98 99 La...   \n",
              "\n",
              "                                              triple  \n",
              "0  {central_multimidia_universal_mp5_espelhamento...  \n",
              "1  {quadro_decorativo_grande_para_sala_quarto_lea...  \n",
              "2  {controle_ar_condicionado_universal_diversos_m...  \n",
              "3  {polia_correia_alternador_idea_2005_2010_4429}...  \n",
              "4  {assoalho_fiat_uno_92_93_94_95_96_97_98_99_lad...  "
            ],
            "text/html": [
              "\n",
              "  <div id=\"df-49e2e8d0-ef7d-40c3-944c-aada5993ff8e\" class=\"colab-df-container\">\n",
              "    <div>\n",
              "<style scoped>\n",
              "    .dataframe tbody tr th:only-of-type {\n",
              "        vertical-align: middle;\n",
              "    }\n",
              "\n",
              "    .dataframe tbody tr th {\n",
              "        vertical-align: top;\n",
              "    }\n",
              "\n",
              "    .dataframe thead th {\n",
              "        text-align: right;\n",
              "    }\n",
              "</style>\n",
              "<table border=\"1\" class=\"dataframe\">\n",
              "  <thead>\n",
              "    <tr style=\"text-align: right;\">\n",
              "      <th></th>\n",
              "      <th>summarized sentence</th>\n",
              "      <th>triple</th>\n",
              "    </tr>\n",
              "  </thead>\n",
              "  <tbody>\n",
              "    <tr>\n",
              "      <th>0</th>\n",
              "      <td>O Central Multimídia Universal Mp5 Espelhament...</td>\n",
              "      <td>{central_multimidia_universal_mp5_espelhamento...</td>\n",
              "    </tr>\n",
              "    <tr>\n",
              "      <th>1</th>\n",
              "      <td>O Quadro Decorativo Grande Para Sala Quarto Le...</td>\n",
              "      <td>{quadro_decorativo_grande_para_sala_quarto_lea...</td>\n",
              "    </tr>\n",
              "    <tr>\n",
              "      <th>2</th>\n",
              "      <td>O Controle Ar Condicionado Universal Diversos ...</td>\n",
              "      <td>{controle_ar_condicionado_universal_diversos_m...</td>\n",
              "    </tr>\n",
              "    <tr>\n",
              "      <th>3</th>\n",
              "      <td>A Polia Correia Alternador Idea 2005/2010 4429...</td>\n",
              "      <td>{polia_correia_alternador_idea_2005_2010_4429}...</td>\n",
              "    </tr>\n",
              "    <tr>\n",
              "      <th>4</th>\n",
              "      <td>O Assoalho Fiat Uno 92 93 94 95 96 97 98 99 La...</td>\n",
              "      <td>{assoalho_fiat_uno_92_93_94_95_96_97_98_99_lad...</td>\n",
              "    </tr>\n",
              "  </tbody>\n",
              "</table>\n",
              "</div>\n",
              "    <div class=\"colab-df-buttons\">\n",
              "\n",
              "  <div class=\"colab-df-container\">\n",
              "    <button class=\"colab-df-convert\" onclick=\"convertToInteractive('df-49e2e8d0-ef7d-40c3-944c-aada5993ff8e')\"\n",
              "            title=\"Convert this dataframe to an interactive table.\"\n",
              "            style=\"display:none;\">\n",
              "\n",
              "  <svg xmlns=\"http://www.w3.org/2000/svg\" height=\"24px\" viewBox=\"0 -960 960 960\">\n",
              "    <path d=\"M120-120v-720h720v720H120Zm60-500h600v-160H180v160Zm220 220h160v-160H400v160Zm0 220h160v-160H400v160ZM180-400h160v-160H180v160Zm440 0h160v-160H620v160ZM180-180h160v-160H180v160Zm440 0h160v-160H620v160Z\"/>\n",
              "  </svg>\n",
              "    </button>\n",
              "\n",
              "  <style>\n",
              "    .colab-df-container {\n",
              "      display:flex;\n",
              "      gap: 12px;\n",
              "    }\n",
              "\n",
              "    .colab-df-convert {\n",
              "      background-color: #E8F0FE;\n",
              "      border: none;\n",
              "      border-radius: 50%;\n",
              "      cursor: pointer;\n",
              "      display: none;\n",
              "      fill: #1967D2;\n",
              "      height: 32px;\n",
              "      padding: 0 0 0 0;\n",
              "      width: 32px;\n",
              "    }\n",
              "\n",
              "    .colab-df-convert:hover {\n",
              "      background-color: #E2EBFA;\n",
              "      box-shadow: 0px 1px 2px rgba(60, 64, 67, 0.3), 0px 1px 3px 1px rgba(60, 64, 67, 0.15);\n",
              "      fill: #174EA6;\n",
              "    }\n",
              "\n",
              "    .colab-df-buttons div {\n",
              "      margin-bottom: 4px;\n",
              "    }\n",
              "\n",
              "    [theme=dark] .colab-df-convert {\n",
              "      background-color: #3B4455;\n",
              "      fill: #D2E3FC;\n",
              "    }\n",
              "\n",
              "    [theme=dark] .colab-df-convert:hover {\n",
              "      background-color: #434B5C;\n",
              "      box-shadow: 0px 1px 3px 1px rgba(0, 0, 0, 0.15);\n",
              "      filter: drop-shadow(0px 1px 2px rgba(0, 0, 0, 0.3));\n",
              "      fill: #FFFFFF;\n",
              "    }\n",
              "  </style>\n",
              "\n",
              "    <script>\n",
              "      const buttonEl =\n",
              "        document.querySelector('#df-49e2e8d0-ef7d-40c3-944c-aada5993ff8e button.colab-df-convert');\n",
              "      buttonEl.style.display =\n",
              "        google.colab.kernel.accessAllowed ? 'block' : 'none';\n",
              "\n",
              "      async function convertToInteractive(key) {\n",
              "        const element = document.querySelector('#df-49e2e8d0-ef7d-40c3-944c-aada5993ff8e');\n",
              "        const dataTable =\n",
              "          await google.colab.kernel.invokeFunction('convertToInteractive',\n",
              "                                                    [key], {});\n",
              "        if (!dataTable) return;\n",
              "\n",
              "        const docLinkHtml = 'Like what you see? Visit the ' +\n",
              "          '<a target=\"_blank\" href=https://colab.research.google.com/notebooks/data_table.ipynb>data table notebook</a>'\n",
              "          + ' to learn more about interactive tables.';\n",
              "        element.innerHTML = '';\n",
              "        dataTable['output_type'] = 'display_data';\n",
              "        await google.colab.output.renderOutput(dataTable, element);\n",
              "        const docLink = document.createElement('div');\n",
              "        docLink.innerHTML = docLinkHtml;\n",
              "        element.appendChild(docLink);\n",
              "      }\n",
              "    </script>\n",
              "  </div>\n",
              "\n",
              "\n",
              "    <div id=\"df-8d67309f-c0df-49a4-b6da-ee1539b2d4cb\">\n",
              "      <button class=\"colab-df-quickchart\" onclick=\"quickchart('df-8d67309f-c0df-49a4-b6da-ee1539b2d4cb')\"\n",
              "                title=\"Suggest charts\"\n",
              "                style=\"display:none;\">\n",
              "\n",
              "<svg xmlns=\"http://www.w3.org/2000/svg\" height=\"24px\"viewBox=\"0 0 24 24\"\n",
              "     width=\"24px\">\n",
              "    <g>\n",
              "        <path d=\"M19 3H5c-1.1 0-2 .9-2 2v14c0 1.1.9 2 2 2h14c1.1 0 2-.9 2-2V5c0-1.1-.9-2-2-2zM9 17H7v-7h2v7zm4 0h-2V7h2v10zm4 0h-2v-4h2v4z\"/>\n",
              "    </g>\n",
              "</svg>\n",
              "      </button>\n",
              "\n",
              "<style>\n",
              "  .colab-df-quickchart {\n",
              "      --bg-color: #E8F0FE;\n",
              "      --fill-color: #1967D2;\n",
              "      --hover-bg-color: #E2EBFA;\n",
              "      --hover-fill-color: #174EA6;\n",
              "      --disabled-fill-color: #AAA;\n",
              "      --disabled-bg-color: #DDD;\n",
              "  }\n",
              "\n",
              "  [theme=dark] .colab-df-quickchart {\n",
              "      --bg-color: #3B4455;\n",
              "      --fill-color: #D2E3FC;\n",
              "      --hover-bg-color: #434B5C;\n",
              "      --hover-fill-color: #FFFFFF;\n",
              "      --disabled-bg-color: #3B4455;\n",
              "      --disabled-fill-color: #666;\n",
              "  }\n",
              "\n",
              "  .colab-df-quickchart {\n",
              "    background-color: var(--bg-color);\n",
              "    border: none;\n",
              "    border-radius: 50%;\n",
              "    cursor: pointer;\n",
              "    display: none;\n",
              "    fill: var(--fill-color);\n",
              "    height: 32px;\n",
              "    padding: 0;\n",
              "    width: 32px;\n",
              "  }\n",
              "\n",
              "  .colab-df-quickchart:hover {\n",
              "    background-color: var(--hover-bg-color);\n",
              "    box-shadow: 0 1px 2px rgba(60, 64, 67, 0.3), 0 1px 3px 1px rgba(60, 64, 67, 0.15);\n",
              "    fill: var(--button-hover-fill-color);\n",
              "  }\n",
              "\n",
              "  .colab-df-quickchart-complete:disabled,\n",
              "  .colab-df-quickchart-complete:disabled:hover {\n",
              "    background-color: var(--disabled-bg-color);\n",
              "    fill: var(--disabled-fill-color);\n",
              "    box-shadow: none;\n",
              "  }\n",
              "\n",
              "  .colab-df-spinner {\n",
              "    border: 2px solid var(--fill-color);\n",
              "    border-color: transparent;\n",
              "    border-bottom-color: var(--fill-color);\n",
              "    animation:\n",
              "      spin 1s steps(1) infinite;\n",
              "  }\n",
              "\n",
              "  @keyframes spin {\n",
              "    0% {\n",
              "      border-color: transparent;\n",
              "      border-bottom-color: var(--fill-color);\n",
              "      border-left-color: var(--fill-color);\n",
              "    }\n",
              "    20% {\n",
              "      border-color: transparent;\n",
              "      border-left-color: var(--fill-color);\n",
              "      border-top-color: var(--fill-color);\n",
              "    }\n",
              "    30% {\n",
              "      border-color: transparent;\n",
              "      border-left-color: var(--fill-color);\n",
              "      border-top-color: var(--fill-color);\n",
              "      border-right-color: var(--fill-color);\n",
              "    }\n",
              "    40% {\n",
              "      border-color: transparent;\n",
              "      border-right-color: var(--fill-color);\n",
              "      border-top-color: var(--fill-color);\n",
              "    }\n",
              "    60% {\n",
              "      border-color: transparent;\n",
              "      border-right-color: var(--fill-color);\n",
              "    }\n",
              "    80% {\n",
              "      border-color: transparent;\n",
              "      border-right-color: var(--fill-color);\n",
              "      border-bottom-color: var(--fill-color);\n",
              "    }\n",
              "    90% {\n",
              "      border-color: transparent;\n",
              "      border-bottom-color: var(--fill-color);\n",
              "    }\n",
              "  }\n",
              "</style>\n",
              "\n",
              "      <script>\n",
              "        async function quickchart(key) {\n",
              "          const quickchartButtonEl =\n",
              "            document.querySelector('#' + key + ' button');\n",
              "          quickchartButtonEl.disabled = true;  // To prevent multiple clicks.\n",
              "          quickchartButtonEl.classList.add('colab-df-spinner');\n",
              "          try {\n",
              "            const charts = await google.colab.kernel.invokeFunction(\n",
              "                'suggestCharts', [key], {});\n",
              "          } catch (error) {\n",
              "            console.error('Error during call to suggestCharts:', error);\n",
              "          }\n",
              "          quickchartButtonEl.classList.remove('colab-df-spinner');\n",
              "          quickchartButtonEl.classList.add('colab-df-quickchart-complete');\n",
              "        }\n",
              "        (() => {\n",
              "          let quickchartButtonEl =\n",
              "            document.querySelector('#df-8d67309f-c0df-49a4-b6da-ee1539b2d4cb button');\n",
              "          quickchartButtonEl.style.display =\n",
              "            google.colab.kernel.accessAllowed ? 'block' : 'none';\n",
              "        })();\n",
              "      </script>\n",
              "    </div>\n",
              "\n",
              "    </div>\n",
              "  </div>\n"
            ],
            "application/vnd.google.colaboratory.intrinsic+json": {
              "type": "dataframe",
              "variable_name": "df",
              "summary": "{\n  \"name\": \"df\",\n  \"rows\": 300,\n  \"fields\": [\n    {\n      \"column\": \"summarized sentence\",\n      \"properties\": {\n        \"dtype\": \"string\",\n        \"num_unique_values\": 296,\n        \"samples\": [\n          \"A Cal\\u00e7a Jogger Sarja Colorida Jeans Masculina Plus Size G1g2g3 \\u00e9 dispon\\u00edvel em preto nas varia\\u00e7\\u00f5es G1 e G2, mas n\\u00e3o h\\u00e1 confirma\\u00e7\\u00e3o de disponibilidade da cor clara.\",\n          \"O Guarda Sol Gigante 2,4 M Piscina Praia Pesca Gde Articulado n\\u00e3o tem como parafusar no piso, mas pode ser usado com uma base para ficar em p\\u00e9.\",\n          \"O farol \\u00e9 compat\\u00edvel com o Polo Sedan 2004 modelo 2005.\"\n        ],\n        \"semantic_type\": \"\",\n        \"description\": \"\"\n      }\n    },\n    {\n      \"column\": \"triple\",\n      \"properties\": {\n        \"dtype\": \"string\",\n        \"num_unique_values\": 295,\n        \"samples\": [\n          \"{calca_jogger_sarja_colorida_jeans_masculina_plus_size_g1g2g3} {disponivel} {'cor preta nas variacoes G1 e G2'}\",\n          \"{puff_multiuso_3_em_1_casal_jacquard_preto} {especificacao} {'parte_inferior_em_tecido'}\",\n          \"{bateria_12v_9a_selada} {compativel} {bomba_costal_eletrica_12v_9a}\"\n        ],\n        \"semantic_type\": \"\",\n        \"description\": \"\"\n      }\n    }\n  ]\n}"
            }
          },
          "metadata": {},
          "execution_count": 3
        }
      ]
    },
    {
      "cell_type": "markdown",
      "source": [
        "## Prompt LLM"
      ],
      "metadata": {
        "id": "xiBqcV0dx42g"
      }
    },
    {
      "cell_type": "code",
      "source": [
        "from google.colab import userdata\n",
        "\n",
        "MARITACA_TOKEN = userdata.get('MARITACA_TOKEN')\n",
        "GROQ_TOKEN = userdata.get('GROQ_TOKEN')\n",
        "TOGETHER_TOKEN = userdata.get('TOGETHER_TOKEN')"
      ],
      "metadata": {
        "id": "3iievkgox0Ls"
      },
      "execution_count": null,
      "outputs": []
    },
    {
      "cell_type": "code",
      "source": [
        "import openai\n",
        "\n",
        "def maritaca_query(content):\n",
        "    client = openai.OpenAI(\n",
        "        api_key=MARITACA_TOKEN,\n",
        "        base_url=\"https://chat.maritaca.ai/api\",\n",
        "    )\n",
        "\n",
        "    response = client.beta.chat.completions.parse(\n",
        "      model=\"sabiazinho-3\",\n",
        "      messages=[\n",
        "        {\"role\": \"user\", \"content\": content},\n",
        "      ],\n",
        "      response_format={\"type\": \"json_object\"},\n",
        "      temperature=0.1\n",
        "    )\n",
        "    return response.choices[0].message.content\n",
        "\n",
        "\n",
        "maritaca_query(\"Do you know how to build an RDF triple?\")"
      ],
      "metadata": {
        "colab": {
          "base_uri": "https://localhost:8080/",
          "height": 125
        },
        "id": "pl2zIhKpx2c4",
        "outputId": "a7512479-2d9b-4f2d-b31d-c65080dd370b"
      },
      "execution_count": null,
      "outputs": [
        {
          "output_type": "execute_result",
          "data": {
            "text/plain": [
              "'{\"text\": \"Yes, to build an RDF (Resource Description Framework) triple, you need three components: a subject, a predicate, and an object. The triple represents a statement about some resource. Here\\'s a simple breakdown of how to construct one:\\\\n\\\\n1. **Subject**: This is the resource you are describing. It should be a URI (Uniform Resource Identifier) that uniquely identifies the resource, or a blank node if the resource is not named.\\\\n\\\\n2. **Predicate**: This is a property that connects the subject with the object. It should be a URI that comes from a known vocabulary or ontology, indicating the relationship between the subject and the object.\\\\n\\\\n3. **Object**: This can be another URI, a blank node, or a literal value (such as a string, number, date, etc.). It is the \\'thing\\' that the subject has the relationship with, as defined by the predicate.\\\\n\\\\nFor example, let\\'s say we want to represent the statement: \\\\\"Sócrates is the father of Plato\\\\\". Here\\'s how the RDF triple would look:\\\\n\\\\n- **Subject**: <http://dbpedia.org/resource/Socrates>\\\\n- **Predicate**: <http://dbpedia.org/property/father>\\\\n- **Object**: <http://dbpedia.org/resource/Plato>\\\\n\\\\nIn RDF syntax, this triple would be written as:\\\\n\\\\n<http://dbpedia.org/resource/Socrates> <http://dbpedia.org/property/father> <http://dbpedia.org/resource/Plato> .\\\\n\\\\nThis triple states that Sócrates is the father of Plato according to the DBpedia ontology.\"}'"
            ],
            "application/vnd.google.colaboratory.intrinsic+json": {
              "type": "string"
            }
          },
          "metadata": {},
          "execution_count": 5
        }
      ]
    },
    {
      "cell_type": "code",
      "source": [
        "import os\n",
        "import openai\n",
        "\n",
        "def groq_query(content, model_groq):\n",
        "  client = openai.OpenAI(\n",
        "      base_url=\"https://api.groq.com/openai/v1\",\n",
        "      api_key=GROQ_TOKEN\n",
        "  )\n",
        "\n",
        "  response = client.beta.chat.completions.parse(\n",
        "      model=model_groq,\n",
        "      messages=[\n",
        "        {\"role\": \"user\", \"content\": content},\n",
        "      ],\n",
        "      response_format={\"type\": \"json_object\"},\n",
        "      temperature=0.1\n",
        "    )\n",
        "\n",
        "\n",
        "  return response.choices[0].message.content\n",
        "\n",
        "groq_query(\"Do you know how to build an RDF triple? Answer in json format\", \"qwen-qwq-32b\")"
      ],
      "metadata": {
        "colab": {
          "base_uri": "https://localhost:8080/",
          "height": 71
        },
        "id": "Aa8lThhE03Gm",
        "outputId": "c8c38487-996a-4197-c0bf-6c38c17bbf7d"
      },
      "execution_count": null,
      "outputs": [
        {
          "output_type": "execute_result",
          "data": {
            "text/plain": [
              "'{  \"triple\": {\\n    \"subject\": {\\n      \"type\": \"URI or blank node\",\\n      \"example\": \"http://example.org/people/john\"\\n    },\\n    \"predicate\": {\\n      \"type\": \"URI\",\\n      \"example\": \"http://example.org/ontology/worksFor\"\\n    },\\n    \"object\": {\\n      \"type\": \"URI, literal, or blank node\",\\n      \"example\": \"http://example.org/companies/acme\"\\n    }\\n  },\\n  \"note\": \"RDF triples describe relationships as (subject, predicate, object). Use URIs for identifiers, literals for values, and ensure namespaces are properly defined.\"\\n}'"
            ],
            "application/vnd.google.colaboratory.intrinsic+json": {
              "type": "string"
            }
          },
          "metadata": {},
          "execution_count": 6
        }
      ]
    },
    {
      "cell_type": "code",
      "source": [
        "import os\n",
        "import openai\n",
        "\n",
        "def together_query(content, model_together):\n",
        "  client = openai.OpenAI(\n",
        "      base_url=\"https://api.together.xyz/v1\",\n",
        "      api_key=TOGETHER_TOKEN\n",
        "  )\n",
        "\n",
        "  response = client.chat.completions.create(\n",
        "      model=model_together,\n",
        "      messages=[\n",
        "        {\"role\": \"user\", \"content\": content},\n",
        "      ],\n",
        "      response_format={\"type\": \"json_object\"},\n",
        "      temperature=0.1,\n",
        "      max_tokens=1500\n",
        "    )\n",
        "\n",
        "\n",
        "  return response.choices[0].message.content\n",
        "\n",
        "together_query(\"Do you know how to build an RDF triple? Answer in json format. Be concise\", \"deepseek-ai/DeepSeek-V3\")"
      ],
      "metadata": {
        "colab": {
          "base_uri": "https://localhost:8080/",
          "height": 35
        },
        "id": "OfOY38GPBPJq",
        "outputId": "6ad6e802-bed3-464c-d775-48c7ff5e7c4b"
      },
      "execution_count": null,
      "outputs": [
        {
          "output_type": "execute_result",
          "data": {
            "text/plain": [
              "'[  \\n  {  \\n    \"subject\": \"URI or blank node\",  \\n    \"predicate\": \"URI\",  \\n    \"object\": \"URI, blank node, or literal\"  \\n  }  \\n]'"
            ],
            "application/vnd.google.colaboratory.intrinsic+json": {
              "type": "string"
            }
          },
          "metadata": {},
          "execution_count": 13
        }
      ]
    },
    {
      "cell_type": "code",
      "source": [
        "def judgment_prompt_few_shots():\n",
        "  return '''\n",
        "    Você é um especialista em ontologias e representação de conhecimento. Sua função é avaliar automaticamente a qualidade de triplas RDF geradas\n",
        "    a partir de frases em linguagem natural. Você tem profundo conhecimento sobre estruturas semânticas,\n",
        "    relações sujeito-predicado-objeto e boas práticas de modelagem de conhecimento.\n",
        "\n",
        "    Dada uma frase descritiva e uma tripla RDF extraída automaticamente dessa frase, seu papel é atuar como um juiz avaliador,\n",
        "    julgando a qualidade da tripla com base na fidelidade semântica e estrutural em relação à frase original.\n",
        "\n",
        "    Avalie a tripla fornecida com base na frase original, respondendo às quatro primeiras perguntas com uma nota de 1 a 5 na escala de Likert,\n",
        "    e justificando suas avaliações com um comentário de até 30 palavras.\n",
        "\n",
        "    Etapas\n",
        "    1. Leia atentamente a frase original.\n",
        "    2. Analise a tripla RDF (sujeito, predicado, objeto).\n",
        "    3. Avalie os seguintes aspectos com notas de 1 (inadequado/incorreto) a 5 (completamente adequado/correto):\n",
        "    JUDGMENT 1: O sujeito está corretamente extraído?\n",
        "    JUDGMENT 2: O predicado representa corretamente a relação expressa na frase?\n",
        "    JUDGMENT 3: O objeto reflete corretamente o alvo da relação?\n",
        "    JUDGMENT 4: A tripla representa com precisão a informação da frase?\n",
        "    JUDGMENT 5: Justifique sua avaliação com uma frase de no máximo 30 palavras.\n",
        "\n",
        "    Retorne a resposta em formato JSON, conforme os exemplos. Não é necessário retornar retornar os caracteres ``` e json, somente o objeto avaliação.\n",
        "\n",
        "    Exemplos Few-Shot\n",
        "    ----- ENTRADA -----\n",
        "    SENTENÇA: O produto Kit Quadros... é disponível em tamanho maior, desde que seja solicitado o tamanho desejado.\n",
        "    TRIPLA: {Kit Quadros...} {disponivel} {tamanho maior}\n",
        "\n",
        "    ----- SAÍDA -----\n",
        "    avaliacao {\n",
        "        \"JUDGMENT 1\": 5,\n",
        "        \"JUDGMENT 2\": 5,\n",
        "        \"JUDGMENT 3\": 4,\n",
        "        \"JUDGMENT 4\": 4,\n",
        "        \"JUDGMENT 5\": \"O sujeito e o predicado da tripla expressam fielmente o sujeito e a intenção da frase. No objeto, parece faltar a condição do tamanho desejado.\"\n",
        "    }\n",
        "\n",
        "    ----- ENTRADA -----\n",
        "    SENTENÇA: Este suporte pode ser instalado em paredes de concreto ou madeira.\n",
        "    TRIPLA: {suporte} {pode ser instalado}\n",
        "\n",
        "    ----- SAÍDA -----\n",
        "    avaliacao {\n",
        "        \"JUDGMENT 1\": 5,\n",
        "        \"JUDGMENT 2\": 4,\n",
        "        \"JUDGMENT 3\": 1,\n",
        "        \"JUDGMENT 4\": 2,\n",
        "        \"JUDGMENT 5\": \"A tripla está incompleta, pois omite completamente o alvo da instalação. Falta o objeto que especifica onde o suporte pode ser instalado.\"\n",
        "    }\n",
        "'''\n",
        "\n",
        "def judgment_prompt_zero_shot():\n",
        "  return '''\n",
        "    Você é um especialista em ontologias e representação de conhecimento. Sua função é avaliar automaticamente a qualidade de triplas RDF geradas\n",
        "    a partir de frases em linguagem natural. Você tem profundo conhecimento sobre estruturas semânticas,\n",
        "    relações sujeito-predicado-objeto e boas práticas de modelagem de conhecimento.\n",
        "\n",
        "    Dada uma frase descritiva e uma tripla RDF extraída automaticamente dessa frase, seu papel é atuar como um juiz avaliador,\n",
        "    julgando a qualidade da tripla com base na fidelidade semântica e estrutural em relação à frase original.\n",
        "\n",
        "    Avalie a tripla fornecida com base na frase original, respondendo às quatro primeiras perguntas com uma nota de 1 a 5 na escala de Likert,\n",
        "    e justificando suas avaliações com um comentário de até 30 palavras.\n",
        "\n",
        "    Etapas\n",
        "    1. Leia atentamente a frase original.\n",
        "    2. Analise a tripla RDF (sujeito, predicado, objeto).\n",
        "    3. Avalie os seguintes aspectos com notas de 1 (inadequado/incorreto) a 5 (completamente adequado/correto):\n",
        "    JUDGMENT 1: O sujeito está corretamente extraído?\n",
        "    JUDGMENT 2: O predicado representa corretamente a relação expressa na frase?\n",
        "    JUDGMENT 3: O objeto reflete corretamente o alvo da relação?\n",
        "    JUDGMENT 4: A tripla representa com precisão a informação da frase?\n",
        "    JUDGMENT 5: Justifique sua avaliação com uma frase de no máximo 30 palavras.\n",
        "\n",
        "    Retorne a resposta em formato JSON, conforme os exemplos. Não é necessário retornar retornar os caracteres ``` e json, somente o objeto avaliação.\n",
        "\n",
        "    ----- ENTRADA -----\n",
        "    SENTENÇA: {SENTENÇA}\n",
        "    TRIPLA: {SUJEITO} {PREDICADO} {OBJETO}\n",
        "\n",
        "    ----- SAÍDA -----\n",
        "    avaliacao {\n",
        "        \"JUDGMENT 1\": {NOTA_1},\n",
        "        \"JUDGMENT 2\": {NOTA_2},\n",
        "        \"JUDGMENT 3\": {NOTA_3},\n",
        "        \"JUDGMENT 4\": {NOTA_4},\n",
        "        \"JUDGMENT 5\": \"{JULGAMENTO}\"\n",
        "    }\n",
        "'''\n",
        "\n",
        "\n",
        "def build_prompt(sentence, triple):\n",
        "  prompt = judgment_prompt_few_shots()\n",
        "  prompt += \"----- ENTRADA ------\"\n",
        "  prompt += \"\\nSENTENÇA: \" + sentence\n",
        "  prompt += \"\\nTRIPLA: \" + triple\n",
        "  prompt += \"\\n\\n ----- SAIDA -----\"\n",
        "  return prompt\n"
      ],
      "metadata": {
        "id": "IciZ7QC02Tr5"
      },
      "execution_count": null,
      "outputs": []
    },
    {
      "cell_type": "code",
      "source": [
        "judgments = []\n",
        "for i, row in df.iterrows():\n",
        "  #judgment = maritaca_query(build_prompt(row['summarized sentence'], row['triple']))\n",
        "  #judgment = groq_query(build_prompt(row['summarized sentence'], row['triple']), \"gemma2-9b-it\")\n",
        "  #judgment = huggingface_query(build_prompt(row['summarized sentence'], row['triple']))\n",
        "  judgment = together_query(build_prompt(row['summarized sentence'], row['triple']), \"Qwen/Qwen2.5-7B-Instruct-Turbo\")\n",
        "\n",
        "  print(row['summarized sentence'])\n",
        "  print(row['triple'])\n",
        "  print(judgment)\n",
        "  judgments.append(judgment)"
      ],
      "metadata": {
        "colab": {
          "base_uri": "https://localhost:8080/"
        },
        "id": "mEfUnHk12WMH",
        "outputId": "deb212c5-87c0-48d8-8dd2-7dc11ad0f39c"
      },
      "execution_count": null,
      "outputs": [
        {
          "output_type": "stream",
          "name": "stdout",
          "text": [
            "O Central Multimídia Universal Mp5 Espelhamento Android Ios Promoção é compatível com o Meriva 2004 com a moldura específica para esse modelo.\n",
            "{central_multimidia_universal_mp5_espelhamento_android_ios} {compativel} {meriva_2004}\n",
            "avaliacao {\n",
            "    \"JUDGMENT 1\": 5,\n",
            "    \"JUDGMENT 2\": 4,\n",
            "    \"JUDGMENT 3\": 3,\n",
            "    \"JUDGMENT 4\": 3,\n",
            "    \"JUDGMENT 5\": \"O sujeito está correto, mas o predicado e o objeto faltam detalhes importantes presentes na frase original.\"\n",
            "}\n",
            "O Quadro Decorativo Grande Para Sala Quarto Leão Realista Judá não pode ser colado em vidro porque é um modelo com borda infinita.\n",
            "{quadro_decorativo_grande_para_sala_quarto_leao_realista_juda} {incompativel} {vidro}\n",
            "avaliacao {\n",
            "    \"JUDGMENT 1\": 5,\n",
            "    \"JUDGMENT 2\": 5,\n",
            "    \"JUDGMENT 3\": 4,\n",
            "    \"JUDGMENT 4\": 4,\n",
            "    \"JUDGMENT 5\": \"O sujeito e o predicado estão corretos, mas o objeto omite a razão específica da incompatibilidade.\"\n",
            "}\n",
            "O Controle Ar Condicionado Universal Diversos Modelo 1000 Em 1 é compatível com ar da marca Consul.\n",
            "{controle_ar_condicionado_universal_diversos_modelo_1000_em_1} {compativel} {ar_da_marca_consul}\n",
            "avaliacao {\n",
            "    \"JUDGMENT 1\": 5,\n",
            "    \"JUDGMENT 2\": 5,\n",
            "    \"JUDGMENT 3\": 5,\n",
            "    \"JUDGMENT 4\": 5,\n",
            "    \"JUDGMENT 5\": \"A tripla reflete fielmente a frase original, capturando corretamente o sujeito, a relação e o objeto.\"\n",
            "}\n",
            "A Polia Correia Alternador Idea 2005/2010 4429 não é compatível com o Idea 1.4 ELX 2008.\n",
            "{polia_correia_alternador_idea_2005_2010_4429} {incompativel} {idea_1_4_elx_2008}\n",
            "avaliacao {\n",
            "    \"JUDGMENT 1\": 5,\n",
            "    \"JUDGMENT 2\": 5,\n",
            "    \"JUDGMENT 3\": 5,\n",
            "    \"JUDGMENT 4\": 5,\n",
            "    \"JUDGMENT 5\": \"A tripla reflete fielmente a frase original, com sujeito, predicado e objeto corretamente identificados.\"\n",
            "}\n",
            "O Assoalho Fiat Uno 92 93 94 95 96 97 98 99 Lado Direito é compatível com o carro de 2 portas.\n",
            "{assoalho_fiat_uno_92_93_94_95_96_97_98_99_lado_direito} {compativel} {carro_2_portas}\n",
            "avaliacao {\n",
            "    \"JUDGMENT 1\": 5,\n",
            "    \"JUDGMENT 2\": 5,\n",
            "    \"JUDGMENT 3\": 5,\n",
            "    \"JUDGMENT 4\": 5,\n",
            "    \"JUDGMENT 5\": \"A tripla reflete fielmente a frase original, com sujeito, predicado e objeto corretamente identificados.\"\n",
            "}\n",
            "O Kit Filtro Combustivel+óleo+ar Motor Peugeot 206 1.0 16v é compatível com o Peugeot 206 Soleil 1.0 16v 2001.\n",
            "{kit_filtro_combustivel_oleo_ar_motor_peugeot_206_1_0_16v} {compativel} {peugeot_206_soleil_1_0_16v_2001}\n",
            "avaliacao {\n",
            "    \"JUDGMENT 1\": 5,\n",
            "    \"JUDGMENT 2\": 5,\n",
            "    \"JUDGMENT 3\": 5,\n",
            "    \"JUDGMENT 4\": 5,\n",
            "    \"JUDGMENT 5\": \"A tripla captura corretamente o sujeito, o predicado e o objeto da frase original, representando a informação de forma precisa.\"\n",
            "}\n",
            "O Controle Remoto De Tv Led H-buster HBTv 32L05HD é compatível com a TV ibuster LCD HBTV32L05HD.\n",
            "{controle_remoto_de_tv_led_h_buster_hbtv_32l05hd} {compativel} {tv_ibuster_lcd_hbtv32l05hd}\n",
            "avaliacao {\n",
            "    \"JUDGMENT 1\": 5,\n",
            "    \"JUDGMENT 2\": 5,\n",
            "    \"JUDGMENT 3\": 5,\n",
            "    \"JUDGMENT 4\": 5,\n",
            "    \"JUDGMENT 5\": \"A tripla reflete fielmente a frase original, com sujeito, predicado e objeto corretamente identificados.\"\n",
            "}\n",
            "O Jogo Casquilho Fixo Std Fiat Punto 1.8 8v 2008 a 2016 não é compatível com o Punto 1.6 2011 Etorque.\n",
            "{jogo_casquilho_fixo_std_fiat_punto_1_8_8v_2008_a_2016} {incompativel} {punto_1_6_2011_ettorq}\n",
            "avaliacao {\n",
            "    \"JUDGMENT 1\": 5,\n",
            "    \"JUDGMENT 2\": 5,\n",
            "    \"JUDGMENT 3\": 5,\n",
            "    \"JUDGMENT 4\": 5,\n",
            "    \"JUDGMENT 5\": \"A tripla captura corretamente o sujeito, o predicado e o objeto da frase original, representando a informação de forma precisa.\"\n",
            "}\n",
            "A Bobina De Ignição Original Ngk U5029 é compatível com o Corolla GLi 1.8 16V automático 2009.\n",
            "{bobina_de_ignicao_original_ngk_u5029} {compativel} {corolla_gli_1_8_16v_automatico_2009}\n",
            "avaliacao {\n",
            "    \"JUDGMENT 1\": 5,\n",
            "    \"JUDGMENT 2\": 5,\n",
            "    \"JUDGMENT 3\": 5,\n",
            "    \"JUDGMENT 4\": 5,\n",
            "    \"JUDGMENT 5\": \"A tripla reflete fielmente a frase original, com sujeito, predicado e objeto corretamente identificados.\"\n",
            "}\n",
            "O Radiador Peugeot 307 é compatível com o Peugeot 307 1.6 16v ano 2009.\n",
            "{radiador_peugeot_307} {compativel} {peugeot_307_1_6_16v_ano_2009}\n",
            "avaliacao {\n",
            "    \"JUDGMENT 1\": 5,\n",
            "    \"JUDGMENT 2\": 5,\n",
            "    \"JUDGMENT 3\": 5,\n",
            "    \"JUDGMENT 4\": 5,\n",
            "    \"JUDGMENT 5\": \"A tripla reflete fielmente a frase original, com sujeito, predicado e objeto corretamente identificados.\"\n",
            "}\n",
            "A Bomba Hidráulica S10 2.8/ Blazer não é compatível com o microônibus Volare A6.\n",
            "{bomba_hidraulica_s10_2_8_blazer} {incompativel} {microonibus_volare_a6}\n",
            "avaliacao {\n",
            "    \"JUDGMENT 1\": 5,\n",
            "    \"JUDGMENT 2\": 5,\n",
            "    \"JUDGMENT 3\": 5,\n",
            "    \"JUDGMENT 4\": 5,\n",
            "    \"JUDGMENT 5\": \"A tripla captura corretamente o sujeito, o predicado e o objeto da frase original.\"\n",
            "}\n",
            "O Kit Escapamento Abafador + Silencioso Fiesta Sedan 1.6 09 14 é compatível com o Fiesta Sedan 2010 1.6 8V.\n",
            "{kit_escapamento_abafador_silencioso_fiesta_sedan_1_6_09_14} {compativel} {fiesta_sedan_2010_1_6_8v}\n",
            "avaliacao {\n",
            "    \"JUDGMENT 1\": 5,\n",
            "    \"JUDGMENT 2\": 5,\n",
            "    \"JUDGMENT 3\": 5,\n",
            "    \"JUDGMENT 4\": 5,\n",
            "    \"JUDGMENT 5\": \"A tripla reflete fielmente a frase original, com sujeito, predicado e objeto corretamente identificados.\"\n",
            "}\n",
            "O Kit Embreagem Gol Saveiro Voyage Passat Ap 1.6 - Luk não é compatível com o Voyage 1.0 2011 8v flex.\n",
            "{kit_embreagem_gol_saveiro_voyage_passat_ap_1_6_luk} {incompativel} {voyage_1_0_2011_8v_flex}\n",
            "avaliacao {\n",
            "    \"JUDGMENT 1\": 5,\n",
            "    \"JUDGMENT 2\": 5,\n",
            "    \"JUDGMENT 3\": 5,\n",
            "    \"JUDGMENT 4\": 5,\n",
            "    \"JUDGMENT 5\": \"A tripla reflete fielmente a frase original, capturando corretamente o sujeito, o predicado e o objeto relacionado à incompatibilidade.\"\n",
            "}\n",
            "O Radiador Megane 1.6 Flex Manual / Automático Ano 2005 A 2012 é compatível com o Megane Espresso Flex 2009 manual e com ar.\n",
            "{radiador_megane_1_6_flex_manual_automático_ano_2005_a_2012} {compativel} {megane_espresso_flex_2009_manual_com_ar}\n",
            "avaliacao {\n",
            "    \"JUDGMENT 1\": 5,\n",
            "    \"JUDGMENT 2\": 5,\n",
            "    \"JUDGMENT 3\": 5,\n",
            "    \"JUDGMENT 4\": 4,\n",
            "    \"JUDGMENT 5\": \"O sujeito, predicado e objeto estão corretamente identificados, mas a tripla omite a informação sobre a compatibilidade com o ar.\"\n",
            "}\n",
            "O Shampoo Automotivo Lava Auto Concentrado V-floc 3l Vonixx é compatível com pintura vitrificada.\n",
            "{shampoo_automotivo_lava_auto_concentrado_v_floc_3l_vonixx} {compativel} {pintura_vitrificada}\n",
            "avaliacao {\n",
            "    \"JUDGMENT 1\": 5,\n",
            "    \"JUDGMENT 2\": 5,\n",
            "    \"JUDGMENT 3\": 5,\n",
            "    \"JUDGMENT 4\": 5,\n",
            "    \"JUDGMENT 5\": \"A tripla reflete fielmente a frase original, capturando corretamente o sujeito, a relação e o objeto.\"\n",
            "}\n",
            "O Cabo Adaptador Conversor Hdmi Para Vga Com Saída P2 De Áudio é compatível com notebooks que saem HDMI e monitores que entram VGA.\n",
            "{cabo_adaptador_conversor_hdmi_para_vga_com_saida_p2_de_audio} {compativel} {notebooks_com_saida_hdmi_e_monitores_com_entrada_vga}\n",
            "avaliacao {\n",
            "    \"JUDGMENT 1\": 5,\n",
            "    \"JUDGMENT 2\": 5,\n",
            "    \"JUDGMENT 3\": 5,\n",
            "    \"JUDGMENT 4\": 5,\n",
            "    \"JUDGMENT 5\": \"A tripla RDF captura corretamente a compatibilidade do cabo com notebooks e monitores, refletindo fielmente a frase original.\"\n",
            "}\n",
            "O Central Multimidia Universal Mp5 Espelha Android Ios Chery é compatível com o Chery Tigo2, mas requer uma moldura.\n",
            "{central_multimidia_universal_mp5_espelha_android_ios_chery} {compativel} {chery_tigo2}\n",
            "avaliacao {\n",
            "    \"JUDGMENT 1\": 5,\n",
            "    \"JUDGMENT 2\": 5,\n",
            "    \"JUDGMENT 3\": 4,\n",
            "    \"JUDGMENT 4\": 4,\n",
            "    \"JUDGMENT 5\": \"O sujeito e o predicado estão corretos, mas o objeto falta especificar a condição necessária (a moldura).\"\n",
            "}\n",
            "O Kit Ultra Led Nano 22000 Lumêns 6500k Farol Alto,baixo Milha é compatível com o Renault Duster 2018/2019.\n",
            "{kit_ultra_led_nano_22000_lumens_6500k} {compativel} {renault_duster_2018_2019}\n",
            "avaliacao {\n",
            "    \"JUDGMENT 1\": 5,\n",
            "    \"JUDGMENT 2\": 5,\n",
            "    \"JUDGMENT 3\": 5,\n",
            "    \"JUDGMENT 4\": 4,\n",
            "    \"JUDGMENT 5\": \"O sujeito, predicado e objeto estão corretamente identificados, mas a tripla omite detalhes sobre a compatibilidade específica, como as características do farol.\"\n",
            "}\n",
            "O Controle P/ Ar Condicionado Compativel Ar Philco Fm5 M M2 M3 não é compatível com o modelo ph12000fm2.\n",
            "{controle_p_ar_condicionado_compativel_ar_philco_fm5_m_m2_m3} {incompativel} {ph12000fm2}\n",
            "avaliacao {\n",
            "    \"JUDGMENT 1\": 5,\n",
            "    \"JUDGMENT 2\": 5,\n",
            "    \"JUDGMENT 3\": 5,\n",
            "    \"JUDGMENT 4\": 5,\n",
            "    \"JUDGMENT 5\": \"A tripla reflete fielmente a frase original, com sujeito, predicado e objeto corretamente identificados.\"\n",
            "}\n",
            "A Junta Homocinética Chevrolet Onix 1.0 2013 a 2016 Nakata é compatível com o Onix Joy 2018 1.0 manual se a junta homocinética atual do veículo for 20 dentes internos e 25 dentes externos.\n",
            "{junta_homocinetica_chevrolet_onix_1_0_2013_a_2016_nakata} {compativel} {onix_joy_2018_1_0_manual}\n",
            "avaliacao {\n",
            "    \"JUDGMENT 1\": 5,\n",
            "    \"JUDGMENT 2\": 4,\n",
            "    \"JUDGMENT 3\": 3,\n",
            "    \"JUDGMENT 4\": 3,\n",
            "    \"JUDGMENT 5\": \"O sujeito está correto, mas o predicado e o objeto faltam detalhes importantes presentes na frase original.\"\n",
            "}\n",
            "A luz de freio Black Light é compatível com o veículo de chassi 8AGBN69S0JR107627.\n",
            "{luz_de_freio_black_light} {compativel} {veiculo_chassi_8AGBN69S0JR107627}\n",
            "avaliacao {\n",
            "    \"JUDGMENT 1\": 5,\n",
            "    \"JUDGMENT 2\": 5,\n",
            "    \"JUDGMENT 3\": 5,\n",
            "    \"JUDGMENT 4\": 5,\n",
            "    \"JUDGMENT 5\": \"A tripla reflete fielmente a frase original, capturando corretamente o sujeito, o predicado e o objeto.\"\n",
            "}\n",
            "O Kit 4l Óleo Lubrificante Mineral Lubrax Essencial Sl 20w50 é compatível com o Uno SX 1,0 Mille 2997.\n",
            "{kit_4l_oleo_lubrificante_mineral_lubrax_essencial_sl_20w50} {compativel} {uno_sx_1_0_mille_2997}\n",
            "avaliacao {\n",
            "    \"JUDGMENT 1\": 5,\n",
            "    \"JUDGMENT 2\": 5,\n",
            "    \"JUDGMENT 3\": 5,\n",
            "    \"JUDGMENT 4\": 5,\n",
            "    \"JUDGMENT 5\": \"A tripla captura corretamente o sujeito, o predicado e o objeto da frase original, representando a informação de forma precisa.\"\n",
            "}\n",
            "O Cabo Selecao Original Argo 2017 2018 2019 não é compatível com o Argo 2018 1.3 start Chassi 9bd358a4hjyh48300.\n",
            "{cabo_selecao_original_argo_2017_2018_2019} {imcompativel} {argo_2018_1_3_start_chassi_9bd358a4hjyh48300}\n",
            "avaliacao {\n",
            "    \"JUDGMENT 1\": 5,\n",
            "    \"JUDGMENT 2\": 5,\n",
            "    \"JUDGMENT 3\": 5,\n",
            "    \"JUDGMENT 4\": 5,\n",
            "    \"JUDGMENT 5\": \"O sujeito, predicado e objeto da tripla correspondem exatamente à frase original.\"\n",
            "}\n",
            "O Pisca Cromado Titan 125/150 Twister Cbx250 Traseiro serve apenas no lado esquerdo.\n",
            "{pisca_cromado_titan_125_150_twister_cbx250_traseiro} {兼容_lado} {lado_esquerdo}\n",
            "avaliacao {\n",
            "    \"JUDGMENT 1\": 5,\n",
            "    \"JUDGMENT 2\": 5,\n",
            "    \"JUDGMENT 3\": 4,\n",
            "    \"JUDGMENT 4\": 4,\n",
            "    \"JUDGMENT 5\": \"O sujeito e o predicado estão corretos, mas o objeto poderia ser mais preciso, indicando 'lado esquerdo' como um valor específico.\"\n",
            "}\n",
            "O Radiador Nissan Grand Livina / Livina 2009 Em Diante Manual é compatível com o veículo de chassi 94DJBYL10DJ251420.\n",
            "{radiador_nissan_grand_livina_livina_2009_em_diante_manual} {compativel} {veiculo_de_chassi_94DJBYL10DJ251420}\n",
            "avaliacao {\n",
            "    \"JUDGMENT 1\": 5,\n",
            "    \"JUDGMENT 2\": 5,\n",
            "    \"JUDGMENT 3\": 5,\n",
            "    \"JUDGMENT 4\": 5,\n",
            "    \"JUDGMENT 5\": \"A tripla captura corretamente o sujeito, o predicado e o objeto da frase original, representando a informação de forma precisa.\"\n",
            "}\n",
            "O Kit 4 Bicos Injetores Uno 1.0 Fire Flex Marelli Original é compatível com o Fiat Uno Fire 2001 a gasolina.\n",
            "{kit_4_bicos_injetores_uno_1_0_fire_flex_marelli_original} {compativel} {fiat_uno_fire_2001_a_gasolina}\n",
            "avaliacao {\n",
            "    \"JUDGMENT 1\": 5,\n",
            "    \"JUDGMENT 2\": 5,\n",
            "    \"JUDGMENT 3\": 5,\n",
            "    \"JUDGMENT 4\": 5,\n",
            "    \"JUDGMENT 5\": \"A tripla captura corretamente o sujeito, o predicado e o objeto da frase original, representando a informação de forma precisa.\"\n",
            "}\n",
            "O Pneu Moto Maggion Aro 18 Winner 90/90-18 57p Tt é compatível com a Start 160.\n",
            "{pneu_moto_maggion_aro_18_winner_90_90_18_57p_tt} {compativel} {start_160}\n",
            "avaliacao {\n",
            "    \"JUDGMENT 1\": 5,\n",
            "    \"JUDGMENT 2\": 5,\n",
            "    \"JUDGMENT 3\": 5,\n",
            "    \"JUDGMENT 4\": 5,\n",
            "    \"JUDGMENT 5\": \"A tripla reflete fielmente a frase original, com sujeito, predicado e objeto corretamente identificados.\"\n",
            "}\n",
            "O Pneu Aro 16 235/70 R16 106t Aplus All Terrain A929 é compatível com o S10 Advance ano 2006.\n",
            "{pneu_aro_16_235_70_r16_106t_aplus_all_terrain_a929} {compativel} {s10_advance_2006}\n",
            "avaliacao {\n",
            "    \"JUDGMENT 1\": 5,\n",
            "    \"JUDGMENT 2\": 5,\n",
            "    \"JUDGMENT 3\": 5,\n",
            "    \"JUDGMENT 4\": 5,\n",
            "    \"JUDGMENT 5\": \"A tripla RDF captura corretamente o sujeito, o predicado e o objeto da frase original, representando a informação de forma precisa.\"\n",
            "}\n",
            "O Tubo Bengala Interno Fazer 250 2012 + Par De Retentores é compatível com o modelo Fazer 250 de 2008/2009.\n",
            "{tubo_bengala_interno_fazer_250_2012_par_de_retentores} {compativel} {fazer_250_2008_2009}\n",
            "avaliacao {\n",
            "    \"JUDGMENT 1\": 5,\n",
            "    \"JUDGMENT 2\": 5,\n",
            "    \"JUDGMENT 3\": 5,\n",
            "    \"JUDGMENT 4\": 5,\n",
            "    \"JUDGMENT 5\": \"A tripla reflete fielmente a frase original, com sujeito, predicado e objeto corretamente identificados.\"\n",
            "}\n",
            "O Radiador Kia Sportage 2.0 Automatico é compatível com os modelos de 2012 e 2013.\n",
            "{radiador_kia_sportage_2_0_automatico} {compativel} {kia_sportage_2012_2013}\n",
            "avaliacao {\n",
            "    \"JUDGMENT 1\": 5,\n",
            "    \"JUDGMENT 2\": 5,\n",
            "    \"JUDGMENT 3\": 4,\n",
            "    \"JUDGMENT 4\": 4,\n",
            "    \"JUDGMENT 5\": \"O sujeito e o predicado estão corretos, mas o objeto não reflete completamente a informação da frase original.\"\n",
            "}\n",
            "O Regulador Voltagem Gol, Parati, Logus, Corsa, Focus - Ga040 é compatível com o modelo que possui a numeração GA040.\n",
            "{regulador_voltagem_gol_parati_logus_corsa_focus_ga040} {compativel} {modelo_ga040}\n",
            "avaliacao {\n",
            "    \"JUDGMENT 1\": 5,\n",
            "    \"JUDGMENT 2\": 5,\n",
            "    \"JUDGMENT 3\": 5,\n",
            "    \"JUDGMENT 4\": 5,\n",
            "    \"JUDGMENT 5\": \"A tripla reflete fielmente a frase original, com sujeito, predicado e objeto corretamente identificados.\"\n",
            "}\n",
            "A roldana não é compatível com a Twister, sendo necessário trocar apenas a capa não é suficiente.\n",
            "{roldana} {incompativel} {twister}\n",
            "avaliacao {\n",
            "    \"JUDGMENT 1\": 5,\n",
            "    \"JUDGMENT 2\": 5,\n",
            "    \"JUDGMENT 3\": 5,\n",
            "    \"JUDGMENT 4\": 5,\n",
            "    \"JUDGMENT 5\": \"A tripla reflete precisamente a incompatibilidade entre a roldana e a Twister, conforme expresso na frase.\"\n",
            "}\n",
            "A manta térmica dupla face é compatível com a área de 200m², pois possui os dois lados aluminizados, oferecendo controle térmico, e há um kit específico para essa área disponível.\n",
            "{manta_termica_dupla_face} {compativel} {area_200m²}\n",
            "avaliacao {\n",
            "    \"JUDGMENT 1\": 5,\n",
            "    \"JUDGMENT 2\": 4,\n",
            "    \"JUDGMENT 3\": 3,\n",
            "    \"JUDGMENT 4\": 3,\n",
            "    \"JUDGMENT 5\": \"O sujeito está correto, mas o predicado e o objeto são parciais. A tripla não reflete completamente a informação da frase original.\"\n",
            "}\n",
            "O Central Multimídia Universal Mp5 Espelhamento Android Ios é compatível com o Nissan March 2018, mas requer a aquisição de uma moldura específica.\n",
            "{central_multimidia_universal_mp5_espelhamento_android_ios} {compativel} {nissan_march_2018}\n",
            "avaliacao {\n",
            "    \"JUDGMENT 1\": 5,\n",
            "    \"JUDGMENT 2\": 5,\n",
            "    \"JUDGMENT 3\": 3,\n",
            "    \"JUDGMENT 4\": 4,\n",
            "    \"JUDGMENT 5\": \"O sujeito e o predicado estão corretos, mas o objeto falta detalhes sobre a condição de compatibilidade.\"\n",
            "}\n",
            "O Alternador Bongo K2700 97/04 é compatível com a Besta GS 3.0 e permite a instalação do regulador ao lado do passageiro.\n",
            "{alternador_bongo_k2700_97_04} {compativel} {besta_gs_3_0}\n",
            "avaliacao {\n",
            "    \"JUDGMENT 1\": 5,\n",
            "    \"JUDGMENT 2\": 4,\n",
            "    \"JUDGMENT 3\": 3,\n",
            "    \"JUDGMENT 4\": 3,\n",
            "    \"JUDGMENT 5\": \"O sujeito está correto, mas o predicado e o objeto são parciais. Falta especificar a ação de instalação e o detalhe do lado do passageiro.\"\n",
            "}\n",
            "O Interruptor Inteligente Wi-fi Nova Digital 3 Botões Original é compatível com instalação em rede 220 e seu esquema de ligação é similar ao de um interruptor convencional.\n",
            "{interruptor_inteligente_wi-fi_nova_digital_3_botoes_original} {compativel} {instalacao_em_rede_220}\n",
            "avaliacao {\n",
            "    \"JUDGMENT 1\": 5,\n",
            "    \"JUDGMENT 2\": 5,\n",
            "    \"JUDGMENT 3\": 4,\n",
            "    \"JUDGMENT 4\": 4,\n",
            "    \"JUDGMENT 5\": \"O sujeito e o predicado estão corretos, mas o objeto falta detalhar o tipo de instalação compatível.\"\n",
            "}\n",
            "O Kit Todas Correias Rolamentos Tensor Up Mpi Com Ar Orig. Vw não é compatível com o chassi 9BWAG4120FT532577.\n",
            "{kit_todas_correias_rolamentos_tensor_up_mpi_com_ar_orig_vw} {incompativel} {chassi_9bwag4120ft532577}\n",
            "avaliacao {\n",
            "    \"JUDGMENT 1\": 5,\n",
            "    \"JUDGMENT 2\": 5,\n",
            "    \"JUDGMENT 3\": 5,\n",
            "    \"JUDGMENT 4\": 5,\n",
            "    \"JUDGMENT 5\": \"A tripla reflete fielmente a frase original, com sujeito, predicado e objeto corretamente identificados.\"\n",
            "}\n",
            "A Maquina De Solda Mig Mag Inversora Migflex 160 Bv Boxer pode ser utilizada com gás.\n",
            "{maquina_de_solda_mig_mag_inversora_migflex_160_bv_boxer} {compativel} {gas}\n",
            "avaliacao {\n",
            "    \"JUDGMENT 1\": 5,\n",
            "    \"JUDGMENT 2\": 5,\n",
            "    \"JUDGMENT 3\": 4,\n",
            "    \"JUDGMENT 4\": 4,\n",
            "    \"JUDGMENT 5\": \"O sujeito e o predicado estão corretos, mas o objeto poderia ser mais específico, indicando o tipo de gás compatível.\"\n",
            "}\n",
            "O Carburador Titan 125 2002/04 Fan 125 2002/08 Mod Original é compatível com a moto Max Sundown 125, mas requer adaptação, regulagem e acerto.\n",
            "{carburador_titan_125_2002_04_fan_125_2002_08_mod_original} {compativel_com_restricoes} {moto_max_sundown_125}\n",
            "avaliacao {\n",
            "    \"JUDGMENT 1\": 5,\n",
            "    \"JUDGMENT 2\": 4,\n",
            "    \"JUDGMENT 3\": 3,\n",
            "    \"JUDGMENT 4\": 3,\n",
            "    \"JUDGMENT 5\": \"O sujeito está correto, mas o predicado e o objeto não capturam completamente a informação da frase original.\"\n",
            "}\n",
            "O Jogo De Mini Piscas Setas Com Lâmpadas Cg Titan Fan 150 125 é compatível com a fan KS 125 2011/2012.\n",
            "{jogo_de_mini_piscas_setas_com_lampadas_cg_titan_fan_150_125} {compativel} {fan_ks_125_2011_2012}\n",
            "avaliacao {\n",
            "    \"JUDGMENT 1\": 5,\n",
            "    \"JUDGMENT 2\": 5,\n",
            "    \"JUDGMENT 3\": 5,\n",
            "    \"JUDGMENT 4\": 5,\n",
            "    \"JUDGMENT 5\": \"A tripla reflete fielmente a frase original, com sujeito, predicado e objeto corretamente identificados.\"\n",
            "}\n",
            "O Par Amortecedor Traseiro Gol G5 G6 G7 Original Nakata E Kit é compatível com o Gol Sport LINE 2013.\n",
            "{par_amortecedor_traseiro_gol_g5_g6_g7_original_nakata_e_kit} {compativel} {gol_sport_line_2013}\n",
            "avaliacao {\n",
            "    \"JUDGMENT 1\": 5,\n",
            "    \"JUDGMENT 2\": 5,\n",
            "    \"JUDGMENT 3\": 5,\n",
            "    \"JUDGMENT 4\": 5,\n",
            "    \"JUDGMENT 5\": \"A tripla reflete fielmente a frase original, capturando corretamente o sujeito, o predicado e o objeto.\"\n",
            "}\n",
            "As lâmpadas Ultra Led 12000 Lumêns são compatíveis com o farol do Ford Versailles do ano 94.\n",
            "{lampadas_ultra_led_12000_lumens} {compativel} {ford_versailles_1994}\n",
            "{\n",
            "    \"JUDGMENT 1\": 5,\n",
            "    \"JUDGMENT 2\": 5,\n",
            "    \"JUDGMENT 3\": 4,\n",
            "    \"JUDGMENT 4\": 4,\n",
            "    \"JUDGMENT 5\": \"O sujeito e o predicado estão corretos, mas o objeto poderia ser mais específico, indicando a parte do farol compatível.\"\n",
            "}\n",
            "O Multímetro Digital Portátil 114 Fluke não mede amperagem.\n",
            "{multimetro_digital_portatil_114_fluke} {nao_medir} {amperagem}\n",
            "avaliacao {\n",
            "    \"JUDGMENT 1\": 5,\n",
            "    \"JUDGMENT 2\": 5,\n",
            "    \"JUDGMENT 3\": 5,\n",
            "    \"JUDGMENT 4\": 5,\n",
            "    \"JUDGMENT 5\": \"A tripla reflete fielmente a frase original, com sujeito, predicado e objeto corretamente identificados.\"\n",
            "}\n",
            "O Radiador A3 2001 2002 2003 2004 2005 Audi Motor 1.6 1.8 1.8t é compatível com o Audi A3 1.8t 150cv 2002 manual.\n",
            "{radiador_a3_2001_2002_2003_2004_2005_audi_motor_1.6_1.8_1.8t} {compativel} {audi_a3_1.8t_150cv_2002_manual}\n",
            "avaliacao {\n",
            "    \"JUDGMENT 1\": 5,\n",
            "    \"JUDGMENT 2\": 5,\n",
            "    \"JUDGMENT 3\": 5,\n",
            "    \"JUDGMENT 4\": 5,\n",
            "    \"JUDGMENT 5\": \"Todos os elementos da tripla correspondem exatamente à informação fornecida na frase original.\"\n",
            "}\n",
            "O Kit Central Multimídia Fiat 2 Din Mp5 Bt Espelha Dvd não é compatível com o Peugeot 206.\n",
            "{kit_central_multimidia_fiat_2_din_mp5_bt_espelha_dvd} {incompativel} {peugeot_206}\n",
            "avaliacao {\n",
            "    \"JUDGMENT 1\": 5,\n",
            "    \"JUDGMENT 2\": 5,\n",
            "    \"JUDGMENT 3\": 5,\n",
            "    \"JUDGMENT 4\": 5,\n",
            "    \"JUDGMENT 5\": \"A tripla reflete fielmente a frase original, capturando corretamente o sujeito, o predicado e o objeto.\"\n",
            "}\n",
            "O Protetor Carter Peito De Aço é compatível com o Kadett 91 SL/e a gasolina.\n",
            "{protetor_carter_peito_de_aco} {compativel} {kadett_91_sl_a_gasolina}\n",
            "avaliacao {\n",
            "    \"JUDGMENT 1\": 5,\n",
            "    \"JUDGMENT 2\": 5,\n",
            "    \"JUDGMENT 3\": 5,\n",
            "    \"JUDGMENT 4\": 5,\n",
            "    \"JUDGMENT 5\": \"A tripla reflete fielmente a frase original, capturando corretamente o sujeito, a relação e o objeto.\"\n",
            "}\n",
            "O Par Farol não é compatível com a Saveiro 2002 Geração 3, pois é dedicado para o modelo ou ano descrito na foto e descrições do anúncio.\n",
            "{par_farol} {incompativel} {saveiro_2002_geracao_3}\n",
            "avaliacao {\n",
            "    \"JUDGMENT 1\": 5,\n",
            "    \"JUDGMENT 2\": 4,\n",
            "    \"JUDGMENT 3\": 3,\n",
            "    \"JUDGMENT 4\": 3,\n",
            "    \"JUDGMENT 5\": \"O sujeito está correto, mas o predicado e o objeto não capturam completamente a complexidade da frase original.\"\n",
            "}\n",
            "A lanterna traseira não é compatível com o Renault Clio RL ano 2001.\n",
            "{lanterna_traseira} {incompativel} {renault_clio_rl_2001}\n",
            "avaliacao {\n",
            "    \"JUDGMENT 1\": 5,\n",
            "    \"JUDGMENT 2\": 5,\n",
            "    \"JUDGMENT 3\": 5,\n",
            "    \"JUDGMENT 4\": 5,\n",
            "    \"JUDGMENT 5\": \"A tripla reflete fielmente a frase original, capturando corretamente o sujeito, o predicado e o objeto.\"\n",
            "}\n",
            "O módulo Taramps DS800x2 é compatível com os seus alto-falantes Pioneer 400w RMS.\n",
            "{modulo_taramps_ds800x2} {compativel} {alto_falantes_pioneer_400w_rms}\n",
            "avaliacao {\n",
            "    \"JUDGMENT 1\": 5,\n",
            "    \"JUDGMENT 2\": 5,\n",
            "    \"JUDGMENT 3\": 5,\n",
            "    \"JUDGMENT 4\": 5,\n",
            "    \"JUDGMENT 5\": \"A tripla reflete fielmente a frase original, com sujeito, predicado e objeto corretamente identificados.\"\n",
            "}\n",
            "O Farol Yaris 2018 2019 20 Cromado não é compatível com Yaris 2020/2021.\n",
            "{farol_yaris_2018_2019_20_cromado} {incompativel} {yaris_2020_2021}\n",
            "avaliacao {\n",
            "    \"JUDGMENT 1\": 5,\n",
            "    \"JUDGMENT 2\": 5,\n",
            "    \"JUDGMENT 3\": 5,\n",
            "    \"JUDGMENT 4\": 5,\n",
            "    \"JUDGMENT 5\": \"A tripla reflete fielmente a frase original, com sujeito, predicado e objeto corretamente identificados.\"\n",
            "}\n",
            "A Tampa De Plataforma Harley Inserções Do Estribo Passageiro não é compatível com a Harley Deluxe 2012.\n",
            "{tampa_de_plataforma_harley_insercoes_do_estribo_passageiro} {incompativel} {harley_deluxe_2012}\n",
            "avaliacao {\n",
            "    \"JUDGMENT 1\": 5,\n",
            "    \"JUDGMENT 2\": 5,\n",
            "    \"JUDGMENT 3\": 5,\n",
            "    \"JUDGMENT 4\": 5,\n",
            "    \"JUDGMENT 5\": \"A tripla reflete fielmente a frase original, com sujeito, predicado e objeto corretamente identificados.\"\n",
            "}\n",
            "A caixa de direção serve no Ford Ka ano 2004 com direção mecânica e motor 1.0.\n",
            "{caixa_de_direcao} {compativel} {ford_ka_2004_direcao_mecanica_motor_1_0}\n",
            "avaliacao {\n",
            "    \"JUDGMENT 1\": 5,\n",
            "    \"JUDGMENT 2\": 5,\n",
            "    \"JUDGMENT 3\": 5,\n",
            "    \"JUDGMENT 4\": 5,\n",
            "    \"JUDGMENT 5\": \"O sujeito, predicado e objeto da tripla refletem fielmente a frase original, representando corretamente a compatibilidade da caixa de direção com o Ford Ka de 2004.\"\n",
            "}\n",
            "A Interface De Desbloqueio De Video Faaftech FT-RC-UC4 não é compatível com o Sportage 2018.\n",
            "{interface_de_desbloqueio_de_video_faaftech_ft_rc_uc4} {incompativel} {sportage_2018}\n",
            "avaliacao {\n",
            "    \"JUDGMENT 1\": 5,\n",
            "    \"JUDGMENT 2\": 5,\n",
            "    \"JUDGMENT 3\": 5,\n",
            "    \"JUDGMENT 4\": 5,\n",
            "    \"JUDGMENT 5\": \"A tripla captura corretamente o sujeito, o predicado e o objeto da frase original, representando a informação de forma precisa.\"\n",
            "}\n",
            "O Martelete Eletropneumático Dewalt Dch263b Sem Fio Amarelo E Preto tem motor brushless.\n",
            "{martelete_eletropneumático_dewalt_dch263b} {tem_motor} {brushless}\n",
            "avaliacao {\n",
            "    \"JUDGMENT 1\": 5,\n",
            "    \"JUDGMENT 2\": 5,\n",
            "    \"JUDGMENT 3\": 5,\n",
            "    \"JUDGMENT 4\": 5,\n",
            "    \"JUDGMENT 5\": \"A tripla captura corretamente o sujeito, o predicado e o objeto da frase original.\"\n",
            "}\n",
            "O Kit Pedal De Freio Fan 160 é compatível com a Estart 160 2020.\n",
            "{kit_pedal_de_freio_fan_160} {compativel} {estart_160_2020}\n",
            "avaliacao {\n",
            "    \"JUDGMENT 1\": 5,\n",
            "    \"JUDGMENT 2\": 5,\n",
            "    \"JUDGMENT 3\": 5,\n",
            "    \"JUDGMENT 4\": 5,\n",
            "    \"JUDGMENT 5\": \"A tripla reflete fielmente a frase original, com sujeito, predicado e objeto corretamente identificados.\"\n",
            "}\n",
            "O Par Amortecedor Pop 110 Velth Traseiro é compatível com o modelo Pop 110i de 2017, ano 2018.\n",
            "{par_amortecedor_pop_110_velth_traseiro} {compativel} {pop_110i_2017_2018}\n",
            "avaliacao {\n",
            "    \"JUDGMENT 1\": 5,\n",
            "    \"JUDGMENT 2\": 5,\n",
            "    \"JUDGMENT 3\": 4,\n",
            "    \"JUDGMENT 4\": 4,\n",
            "    \"JUDGMENT 5\": \"O sujeito e o predicado estão corretos, mas o objeto não reflete completamente a informação da frase original, que menciona dois anos.\"\n",
            "}\n",
            "O Par Palheta Limpador Parabrisa Bosch Aerotwin não é compatível com a Saveiro G3 - 2002.\n",
            "{par_palheta_limpador_parabrisa_bosch_aerotwin} {incompativel} {saveiro_g3_2002}\n",
            "avaliacao {\n",
            "    \"JUDGMENT 1\": 5,\n",
            "    \"JUDGMENT 2\": 5,\n",
            "    \"JUDGMENT 3\": 5,\n",
            "    \"JUDGMENT 4\": 5,\n",
            "    \"JUDGMENT 5\": \"A tripla reflete fielmente a frase original, com sujeito, predicado e objeto corretamente identificados.\"\n",
            "}\n",
            "O Kit Cilindros Ignição Mala Porta Fiesta Hatch 96 97 98 99 02 é compatível com o Fiesta 2 portas.\n",
            "{kit_cilindros_ignicao_mala_porta_fiesta_hatch_96_97_98_99_02} {compativel} {fiesta_2_portas}\n",
            "avaliacao {\n",
            "    \"JUDGMENT 1\": 5,\n",
            "    \"JUDGMENT 2\": 5,\n",
            "    \"JUDGMENT 3\": 5,\n",
            "    \"JUDGMENT 4\": 5,\n",
            "    \"JUDGMENT 5\": \"O sujeito, predicado e objeto da tripla refletem fielmente a frase original.\"\n",
            "}\n",
            "O Apoio De Braço Encosto Onix E Prisma não é compatível com o Onix de 2021.\n",
            "{apoio_de_braço_encosto_onix_e_prisma} {incompativel} {onix_2021}\n",
            "avaliacao {\n",
            "    \"JUDGMENT 1\": 5,\n",
            "    \"JUDGMENT 2\": 5,\n",
            "    \"JUDGMENT 3\": 5,\n",
            "    \"JUDGMENT 4\": 5,\n",
            "    \"JUDGMENT 5\": \"A tripla reflete fielmente a frase original, capturando corretamente o sujeito, o predicado e o objeto.\"\n",
            "}\n",
            "O Amortecedor Monoshock Moto Nxr Bros 150 1°linha não é compatível com a Bros 2002, pois é compatível apenas com os modelos BROS 125/150/160.\n",
            "{amortecedor_monoshock_moto_nxr_bros_150} {incompativel} {bros_2002}\n",
            "avaliacao {\n",
            "    \"JUDGMENT 1\": 5,\n",
            "    \"JUDGMENT 2\": 5,\n",
            "    \"JUDGMENT 3\": 4,\n",
            "    \"JUDGMENT 4\": 4,\n",
            "    \"JUDGMENT 5\": \"O sujeito e o predicado estão corretos, mas o objeto omite a informação sobre os modelos compatíveis.\"\n",
            "}\n",
            "A Chave Interruptor Farol Cobalt Lt 12/17 Gm 52098292 não é compatível com o veículo de chassi 9BGJB69X0CB297632.\n",
            "{chave_interruptor_farol_cobalt_lt_12_17_gm_52098292} {incompativel} {veiculo_chassi_9bgjb69x0cb297632}\n",
            "avaliacao {\n",
            "    \"JUDGMENT 1\": 5,\n",
            "    \"JUDGMENT 2\": 5,\n",
            "    \"JUDGMENT 3\": 5,\n",
            "    \"JUDGMENT 4\": 5,\n",
            "    \"JUDGMENT 5\": \"A tripla captura corretamente o sujeito, o predicado e o objeto da frase original, representando a informação de forma precisa.\"\n",
            "}\n",
            "A lona do produto Lona Plastica Encerado 9x5 Azul Multiuso Ajax não é completamente impermeável e pode vazar água em caso de chuvas fortes.\n",
            "{lona_plastica_encerado_9x5_azul_multiuso_ajax} {nao_e_impermeavel} {chuvas_fortes}\n",
            "avaliacao {\n",
            "    \"JUDGMENT 1\": 5,\n",
            "    \"JUDGMENT 2\": 4,\n",
            "    \"JUDGMENT 3\": 1,\n",
            "    \"JUDGMENT 4\": 2,\n",
            "    \"JUDGMENT 5\": \"O sujeito está correto, mas o predicado e o objeto não capturam completamente a informação da frase original.\"\n",
            "}\n",
            "O Carburador Titan 125 2002/04 Fan 125 2002/08 pode ser adaptado para uma moto Max Moto Sundown 125, mas requer adaptação, regulagem e acerto, recomendando-se a verificação com um mecânico.\n",
            "{carburador_titan_125_2002_04_fan_125_2002_08} {pode_ser_adaptado} {moto_max_moto_sundown_125}\n",
            "avaliacao {\n",
            "    \"JUDGMENT 1\": 5,\n",
            "    \"JUDGMENT 2\": 5,\n",
            "    \"JUDGMENT 3\": 4,\n",
            "    \"JUDGMENT 4\": 3,\n",
            "    \"JUDGMENT 5\": \"O sujeito e o predicado estão corretos, mas o objeto falta detalhes sobre as condições necessárias para a adaptação.\"\n",
            "}\n",
            "A resina não é recomendada para uso conjunto em telhas e madeiras, pois é indicada para superfícies como telhas cerâmicas, concreto aparente, pedras naturais e outros materiais específicos, e não é adequada para madeira.\n",
            "{resina} {incompativel} {madeira}\n",
            "avaliacao {\n",
            "    \"JUDGMENT 1\": 5,\n",
            "    \"JUDGMENT 2\": 5,\n",
            "    \"JUDGMENT 3\": 4,\n",
            "    \"JUDGMENT 4\": 3,\n",
            "    \"JUDGMENT 5\": \"O sujeito e o predicado estão corretos, mas o objeto é parcial. A frase indica incompatibilidade com madeira, mas não menciona explicitamente compatibilidade com outras superfícies.\"\n",
            "}\n",
            "O kit de 2 Amortecedores Traseiros serve no Voyage 2019.\n",
            "{kit_2_amortecedores_traseiros} {compativel} {voyage_2019}\n",
            "avaliacao {\n",
            "    \"JUDGMENT 1\": 5,\n",
            "    \"JUDGMENT 2\": 5,\n",
            "    \"JUDGMENT 3\": 5,\n",
            "    \"JUDGMENT 4\": 5,\n",
            "    \"JUDGMENT 5\": \"A tripla reflete fielmente a frase original, com sujeito, predicado e objeto corretamente identificados.\"\n",
            "}\n",
            "O Kit Central Multimídia 2 Din Mp5 Espelha Dvd Bt Toyota é compatível com o Toyota Corolla 2007/2008.\n",
            "{kit_central_multimidia_2_din_mp5_espelha_dvd_bt_toyota} {compativel} {toyota_corolla_2007_2008}\n",
            "avaliacao {\n",
            "    \"JUDGMENT 1\": 5,\n",
            "    \"JUDGMENT 2\": 5,\n",
            "    \"JUDGMENT 3\": 5,\n",
            "    \"JUDGMENT 4\": 5,\n",
            "    \"JUDGMENT 5\": \"A tripla reflete fielmente a frase original, capturando corretamente o sujeito, a relação e o objeto.\"\n",
            "}\n",
            "A Capa Capinha Personalizada Com Nome Flor Cerejeira é compatível com o Samsung J6.\n",
            "{capa_capinha_personalizada_com_nome_flor_cerejeira} {compativel} {samsung_j6}\n",
            "avaliacao {\n",
            "    \"JUDGMENT 1\": 5,\n",
            "    \"JUDGMENT 2\": 5,\n",
            "    \"JUDGMENT 3\": 5,\n",
            "    \"JUDGMENT 4\": 5,\n",
            "    \"JUDGMENT 5\": \"A tripla reflete fielmente a frase original, capturando corretamente o sujeito, a relação e o objeto.\"\n",
            "}\n",
            "O Par De Amortecedor Dianteiro Duster Automática 543026348r é compatível com a Duster 1.6 18/19 automática chassis 93yhsr3hskj655977.\n",
            "{par_de_amortecedor_dianteiro_duster_automatica_543026348r} {compativel} {duster_1_6_18_19_automatica_chassis_93yhsr3hskj655977}\n",
            "avaliacao {\n",
            "    \"JUDGMENT 1\": 5,\n",
            "    \"JUDGMENT 2\": 5,\n",
            "    \"JUDGMENT 3\": 5,\n",
            "    \"JUDGMENT 4\": 5,\n",
            "    \"JUDGMENT 5\": \"A tripla RDF captura corretamente o sujeito, o predicado e o objeto da frase original, representando a informação de forma precisa.\"\n",
            "}\n",
            "O Volante De Celta 2012 2013 Esportivo Gm Comando Som + Cubo é compatível com o Celta Life 2005/2006 e o cubo é feito de alumínio.\n",
            "{volante_de_celta_2012_2013_esportivo_gm_comando_som_cubo} {compativel} {celta_life_2005_2006}\n",
            "avaliacao {\n",
            "    \"JUDGMENT 1\": 5,\n",
            "    \"JUDGMENT 2\": 5,\n",
            "    \"JUDGMENT 3\": 4,\n",
            "    \"JUDGMENT 4\": 4,\n",
            "    \"JUDGMENT 5\": \"O sujeito e o predicado estão corretos, mas o objeto omite a informação sobre o material do cubo.\"\n",
            "}\n",
            "O Alternador Renault 231002299r - Sandero 2010-2016 é compatível com o chassi 93YBSR8VKCJ204375.\n",
            "{alternador_renault_231002299r_sandero_2010_2016} {compativel} {chassi_93ybsr8vkcj204375}\n",
            "avaliacao {\n",
            "    \"JUDGMENT 1\": 5,\n",
            "    \"JUDGMENT 2\": 5,\n",
            "    \"JUDGMENT 3\": 5,\n",
            "    \"JUDGMENT 4\": 5,\n",
            "    \"JUDGMENT 5\": \"A tripla reflete fielmente a frase original, com sujeito, predicado e objeto corretamente identificados.\"\n",
            "}\n",
            "A seladora a vácuo é compatível com sacos lisos e sem ranhuras, com boca de até 28cm.\n",
            "{seladora_a_vacuo} {compativel} {sacos_lisos_sem_ranhuras_com_boca_ate_28cm}\n",
            "avaliacao {\n",
            "    \"JUDGMENT 1\": 5,\n",
            "    \"JUDGMENT 2\": 5,\n",
            "    \"JUDGMENT 3\": 5,\n",
            "    \"JUDGMENT 4\": 5,\n",
            "    \"JUDGMENT 5\": \"A tripla captura corretamente o sujeito, o predicado e o objeto da frase original, representando a informação de forma precisa.\"\n",
            "}\n",
            "A moldura farol de milha Fiat Idea lado esquerdo não é compatível com o chassis 00595556884.\n",
            "{moldura_farlo_de_milha_fiat_idea_lado_esquerdo} {incompativel} {chassis_00595556884}\n",
            "avaliacao {\n",
            "    \"JUDGMENT 1\": 5,\n",
            "    \"JUDGMENT 2\": 5,\n",
            "    \"JUDGMENT 3\": 5,\n",
            "    \"JUDGMENT 4\": 5,\n",
            "    \"JUDGMENT 5\": \"A tripla reflete fielmente a frase original, com sujeito, predicado e objeto corretamente identificados.\"\n",
            "}\n",
            "A junta tampa valvulas não é compatível com o modelo 325i de 2001.\n",
            "{junta_tampa_valvulas} {incompativel} {modelo_325i_2001}\n",
            "avaliacao {\n",
            "    \"JUDGMENT 1\": 5,\n",
            "    \"JUDGMENT 2\": 5,\n",
            "    \"JUDGMENT 3\": 5,\n",
            "    \"JUDGMENT 4\": 5,\n",
            "    \"JUDGMENT 5\": \"A tripla reflete fielmente a frase original, capturando corretamente o sujeito, o predicado e o objeto.\"\n",
            "}\n",
            "A correia Poly V alternador não é compatível com o Golf 1.8 de 95, pois é compatível com os modelos 2.0 8V e 2.0 16V dos anos 1993 a 1998.\n",
            "{correia_poly_v_alternador} {incompativel} {golf_1.8_de_95}\n",
            "avaliacao {\n",
            "    \"JUDGMENT 1\": 5,\n",
            "    \"JUDGMENT 2\": 4,\n",
            "    \"JUDGMENT 3\": 1,\n",
            "    \"JUDGMENT 4\": 2,\n",
            "    \"JUDGMENT 5\": \"O sujeito está correto, mas a tripla omite a informação sobre a compatibilidade e especifica incorretamente o modelo não compatível.\"\n",
            "}\n",
            "O Sensor Oxigênio Logan 2017/2021 é compatível com o Flex 1.6 16v.\n",
            "{sensor_oxigenio_logan_2017_2021} {compativel} {flex_1_6_16v}\n",
            "avaliacao {\n",
            "    \"JUDGMENT 1\": 5,\n",
            "    \"JUDGMENT 2\": 5,\n",
            "    \"JUDGMENT 3\": 5,\n",
            "    \"JUDGMENT 4\": 5,\n",
            "    \"JUDGMENT 5\": \"A tripla reflete fielmente a frase original, capturando corretamente o sujeito, a relação e o objeto.\"\n",
            "}\n",
            "A alavanca marcha seletora cambio case 521d 621d 821d orig zf não é compatível com a máquina new holland 12d 2016.\n",
            "{alavanca_marcha_seletora_cambio_case_521d_621d_821d_orig_zf} {incompativel} {maquina_new_holland_12d_2016}\n",
            "avaliacao {\n",
            "    \"JUDGMENT 1\": 5,\n",
            "    \"JUDGMENT 2\": 5,\n",
            "    \"JUDGMENT 3\": 5,\n",
            "    \"JUDGMENT 4\": 5,\n",
            "    \"JUDGMENT 5\": \"A tripla captura corretamente o sujeito, o predicado e o objeto da frase original, representando a informação de forma precisa.\"\n",
            "}\n",
            "O Kit Troca Oleo Câmbio Dsg Jetta Tiguan Golf Original Vw é compatível com o A3 2.0 TFSI 2016.\n",
            "{kit_troca_oleo_camiao_dsg_jetta_tiguan_golf_original_vw} {compativel} {a3_2_0_tfsi_2016}\n",
            "avaliacao {\n",
            "    \"JUDGMENT 1\": 5,\n",
            "    \"JUDGMENT 2\": 5,\n",
            "    \"JUDGMENT 3\": 5,\n",
            "    \"JUDGMENT 4\": 5,\n",
            "    \"JUDGMENT 5\": \"O sujeito, predicado e objeto da tripla correspondem exatamente à frase original.\"\n",
            "}\n",
            "O Controle Ar Condicionado Universal Diversos Modelo 1000 Em 1 é compatível com ar da marca Consul.\n",
            "{controle_ar_condicionado_universal_diversos_modelo_1000_em_1} {compativel} {ar_da_marca_consul}\n",
            "{\n",
            "    \"JUDGMENT 1\": 5,\n",
            "    \"JUDGMENT 2\": 5,\n",
            "    \"JUDGMENT 3\": 5,\n",
            "    \"JUDGMENT 4\": 5,\n",
            "    \"JUDGMENT 5\": \"A tripla reflete fielmente a frase original, capturando corretamente o sujeito, a relação e o objeto.\"\n",
            "}\n",
            "A Chave De Seta Gol G3 2000 2001 2002 2003 Kostal Original não é compatível com o Gol 2003 com pisca alerta na chave de seta.\n",
            "{chave_de_seta_gol_g3_2000_2001_2002_2003_kostal_original} {incompativel} {gol_2003_com_pisca_alerta_na_chave_de_seta}\n",
            "avaliacao {\n",
            "    \"JUDGMENT 1\": 5,\n",
            "    \"JUDGMENT 2\": 5,\n",
            "    \"JUDGMENT 3\": 5,\n",
            "    \"JUDGMENT 4\": 5,\n",
            "    \"JUDGMENT 5\": \"A tripla captura corretamente o sujeito, o predicado e o objeto da frase original, representando a informação de forma precisa.\"\n",
            "}\n",
            "O Kit Entrada De Ar Renault Sandero é compatível com o chassi 93Y5SRD64FJ542490.\n",
            "{kit_entrada_de_ar_renault_sandero} {compativel} {chassi_93y5srd64fj542490}\n",
            "avaliacao {\n",
            "    \"JUDGMENT 1\": 5,\n",
            "    \"JUDGMENT 2\": 5,\n",
            "    \"JUDGMENT 3\": 5,\n",
            "    \"JUDGMENT 4\": 5,\n",
            "    \"JUDGMENT 5\": \"A tripla reflete fielmente a frase original, com sujeito, predicado e objeto corretamente identificados.\"\n",
            "}\n",
            "A roldana não serve e é necessário usar a que tá na Twister, trocando apenas a capa.\n",
            "{roldana} {imcompativel} {twister}\n",
            "avaliacao {\n",
            "    \"JUDGMENT 1\": 5,\n",
            "    \"JUDGMENT 2\": 5,\n",
            "    \"JUDGMENT 3\": 4,\n",
            "    \"JUDGMENT 4\": 4,\n",
            "    \"JUDGMENT 5\": \"O sujeito e o predicado estão corretos, mas o objeto poderia ser mais específico, indicando diretamente a roldana da Twister.\"\n",
            "}\n",
            "O pneu Moto Maggion Aro 18 Winner 90/90-18 57p TT é compatível com a moto CG160 de 2017, desde que seja montado com câmara de ar.\n",
            "{pneu_moto_maggion_aro_18_winner_90/90-18_57p_tt} {compativel} {moto_cg160_2017}\n",
            "avaliacao {\n",
            "    \"JUDGMENT 1\": 5,\n",
            "    \"JUDGMENT 2\": 5,\n",
            "    \"JUDGMENT 3\": 4,\n",
            "    \"JUDGMENT 4\": 4,\n",
            "    \"JUDGMENT 5\": \"O sujeito e o predicado estão corretos, mas o objeto falta especificar a condição necessária para a compatibilidade.\"\n",
            "}\n",
            "O Kit Ultra Led Nano 22000 Lumêns 6500k Farol Alto,baixo Milha é compatível com o Renault Duster 2018/2019.\n",
            "{kit_ultra_led_nano_22000_lumens_6500k_farol_alto_baixo_milha} {compativel} {renault_duster_2018_2019}\n",
            "avaliacao {\n",
            "    \"JUDGMENT 1\": 5,\n",
            "    \"JUDGMENT 2\": 5,\n",
            "    \"JUDGMENT 3\": 5,\n",
            "    \"JUDGMENT 4\": 5,\n",
            "    \"JUDGMENT 5\": \"A tripla captura corretamente o sujeito, o predicado e o objeto da frase original, representando a informação de forma precisa.\"\n",
            "}\n",
            "O Kit Porca Da Roda Chery Face Original - Caoa Chery Amur é compatível com o Chery QQ 2011/2012.\n",
            "{kit_porca_da_roda_chery_face_original_caoa_chery_amur} {compativel} {chery.qq_2011_2012}\n",
            "avaliacao {\n",
            "    \"JUDGMENT 1\": 5,\n",
            "    \"JUDGMENT 2\": 5,\n",
            "    \"JUDGMENT 3\": 5,\n",
            "    \"JUDGMENT 4\": 5,\n",
            "    \"JUDGMENT 5\": \"A tripla reflete fielmente a frase original, com sujeito, predicado e objeto corretamente identificados.\"\n",
            "}\n",
            "A Bicicleta Ergométrica Kikos F7i Cor Preto é compatível com usuários de até 1,85m e possui regulagem de peso (carga) de até 10kg.\n",
            "{bicicleta_ergometrica_kikos_f7i_cor_preto} {compativel} {usuarios_ate_185m}\n",
            "avaliacao {\n",
            "    \"JUDGMENT 1\": 5,\n",
            "    \"JUDGMENT 2\": 4,\n",
            "    \"JUDGMENT 3\": 3,\n",
            "    \"JUDGMENT 4\": 3,\n",
            "    \"JUDGMENT 5\": \"O sujeito está correto, mas a tripla omite informações importantes sobre o alvo da compatibilidade e o peso máximo suportado.\"\n",
            "}\n",
            "A Bateria 12v 9,0a Selada serve em bomba costal elétrica que precise de 12v e 9a.\n",
            "{bateria_12v_9a_selada} {compativel} {bomba_costal_eletrica_12v_9a}\n",
            "avaliacao {\n",
            "    \"JUDGMENT 1\": 5,\n",
            "    \"JUDGMENT 2\": 5,\n",
            "    \"JUDGMENT 3\": 5,\n",
            "    \"JUDGMENT 4\": 5,\n",
            "    \"JUDGMENT 5\": \"A tripla reflete fielmente a frase original, com sujeito, predicado e objeto corretamente identificados.\"\n",
            "}\n",
            "O farol é compatível com o Polo Sedan 2004 modelo 2005.\n",
            "{farol} {compativel} {polo_sedan_2004_modelo_2005}\n",
            "avaliacao {\n",
            "    \"JUDGMENT 1\": 5,\n",
            "    \"JUDGMENT 2\": 5,\n",
            "    \"JUDGMENT 3\": 5,\n",
            "    \"JUDGMENT 4\": 5,\n",
            "    \"JUDGMENT 5\": \"A tripla reflete fielmente a frase original, com sujeito, predicado e objeto corretamente identificados.\"\n",
            "}\n",
            "O Farol Fazer 250 Lâmpada Led Super Branca 2006 2007 2008 2009 é compatível com a Bandit 1200cc de 2006, mas requer adaptação.\n",
            "{farol_fazer_250_lampada_led_super_branca_2006_2007_2008_2009} {compativel_com_adaptacao} {bandit_1200cc_2006}\n",
            "avaliacao {\n",
            "    \"JUDGMENT 1\": 5,\n",
            "    \"JUDGMENT 2\": 4,\n",
            "    \"JUDGMENT 3\": 5,\n",
            "    \"JUDGMENT 4\": 3,\n",
            "    \"JUDGMENT 5\": \"O sujeito está correto, mas o predicado não captura completamente a relação. O objeto está bem identificado, mas a tripla não reflete completamente a informação de que é necessária adaptação.\"\n",
            "}\n",
            "O Homocinética Fixa Roda Ford Fusion 3.0 09/12 é compatível com o Fusion 3.0 V6 2010, mas é necessário verificar a quantidade de estrias para garantir a escolha do modelo correto.\n",
            "{homocinetica_fixa_roda_ford_fusion_3_0_09_12} {compativel} {fusion_3_0_v6_2010}\n",
            "avaliacao {\n",
            "    \"JUDGMENT 1\": 5,\n",
            "    \"JUDGMENT 2\": 5,\n",
            "    \"JUDGMENT 3\": 3,\n",
            "    \"JUDGMENT 4\": 3,\n",
            "    \"JUDGMENT 5\": \"O sujeito e o predicado estão corretos, mas o objeto omite a necessidade de verificar a quantidade de estrias, o que é importante para a compatibilidade.\"\n",
            "}\n",
            "O Jogo Anel Segmento Std Honda Civic 1.7 é compatível com o modelo CIVIC SEDAN LX de 115cv com transmissão manual.\n",
            "{jogo_anel_segmento_std_honda_civic_1_7} {compativel} {honda_civic_sedan_lx_115cv_transmissao_manual}\n",
            "avaliacao {\n",
            "    \"JUDGMENT 1\": 5,\n",
            "    \"JUDGMENT 2\": 5,\n",
            "    \"JUDGMENT 3\": 4,\n",
            "    \"JUDGMENT 4\": 4,\n",
            "    \"JUDGMENT 5\": \"O sujeito e o predicado estão corretos, mas o objeto poderia ser mais específico, incluindo todos os detalhes mencionados na frase.\"\n",
            "}\n",
            "A Bomba De Água Hyundai Hb20 Kia Picanto 1.0 12v 3 Cilindros é compatível com o HB20 1.0 12v 17/17.\n",
            "{bomba_de_agua_hyundai_hb20_kia_picanto_1_0_12v_3_cilindros} {compativel} {hb20_1_0_12v_17}\n",
            "avaliacao {\n",
            "    \"JUDGMENT 1\": 5,\n",
            "    \"JUDGMENT 2\": 5,\n",
            "    \"JUDGMENT 3\": 5,\n",
            "    \"JUDGMENT 4\": 5,\n",
            "    \"JUDGMENT 5\": \"A tripla captura corretamente o sujeito, o predicado e o objeto da frase original, representando a informação de forma precisa.\"\n",
            "}\n",
            "O Cabo Adaptador Conversor Hdmi Para Vga Com Saída P2 De Áudio é compatível com saída HDMI do notebook e entrada VGA do monitor.\n",
            "{cabo_adaptador_conversor_hdmi_para_vga_com_saida_p2_de_audio} {compativel} {notebook_com_saida_hdmi_e_monitor_com_entrada_vga}\n",
            "avaliacao {\n",
            "    \"JUDGMENT 1\": 5,\n",
            "    \"JUDGMENT 2\": 5,\n",
            "    \"JUDGMENT 3\": 5,\n",
            "    \"JUDGMENT 4\": 4,\n",
            "    \"JUDGMENT 5\": \"O sujeito, predicado e objeto estão corretamente identificados, mas a tripla poderia ser mais precisa se incluísse os detalhes específicos mencionados na frase.\"\n",
            "}\n",
            "A capa de estepe rígida Ecosport 2011 2012 Cinza Berlin não é compatível com carros que têm furo no meio.\n",
            "{capa_de_estepe_rigida_ecosport_2011_2012_cinza_berlin} {incompativel} {carros_com_furo_no_meio}\n",
            "avaliacao {\n",
            "    \"JUDGMENT 1\": 5,\n",
            "    \"JUDGMENT 2\": 5,\n",
            "    \"JUDGMENT 3\": 5,\n",
            "    \"JUDGMENT 4\": 5,\n",
            "    \"JUDGMENT 5\": \"A tripla reflete fielmente a frase original, capturando corretamente o sujeito, a relação e o objeto.\"\n",
            "}\n",
            "O Kit De Tulipa Direita E Trizeta Ford Focus 2.0 03/13 não é compatível com o Ford Focus 1.6 sigma 16v manual 2012.\n",
            "{kit_de_tulipa_direita_e_trizeta_ford_focus_2_0_03_13} {incompativel} {ford_focus_1_6_sigma_16v_manual_2012}\n",
            "avaliacao {\n",
            "    \"JUDGMENT 1\": 5,\n",
            "    \"JUDGMENT 2\": 5,\n",
            "    \"JUDGMENT 3\": 5,\n",
            "    \"JUDGMENT 4\": 5,\n",
            "    \"JUDGMENT 5\": \"A tripla reflete fielmente a frase original, capturando corretamente o sujeito, o predicado e o objeto relacionado.\"\n",
            "}\n",
            "O Interruptor Inteligente Wi-fi Nova Digital 3 Botões Original é compatível com instalação em rede 220V, seguindo o mesmo esquema de ligação de um interruptor convencional.\n",
            "{interruptor_inteligente_wi-fi_nova_digital_3_botoes_original} {compativel} {interruptor_convencional}\n",
            "avaliacao {\n",
            "    \"JUDGMENT 1\": 5,\n",
            "    \"JUDGMENT 2\": 4,\n",
            "    \"JUDGMENT 3\": 2,\n",
            "    \"JUDGMENT 4\": 3,\n",
            "    \"JUDGMENT 5\": \"O sujeito está correto, mas o predicado e o objeto não refletem completamente a informação da frase. Falta especificar a compatibilidade com a rede 220V.\"\n",
            "}\n",
            "O Kit Sensor Estacionamento Câmera Ré Espelho Retrovisor é compatível com o Siena.\n",
            "{kit_sensor_estacionamento_camara_re_espelho_retrovisor} {compativel} {siena}\n",
            "avaliacao {\n",
            "    \"JUDGMENT 1\": 5,\n",
            "    \"JUDGMENT 2\": 5,\n",
            "    \"JUDGMENT 3\": 5,\n",
            "    \"JUDGMENT 4\": 5,\n",
            "    \"JUDGMENT 5\": \"A tripla reflete fielmente a frase original, com sujeito, predicado e objeto corretamente identificados.\"\n",
            "}\n",
            "O Comando De Valvulas Gm Onix Prisma 1.0 8v 98500212 Original é compatível com o veículo de chassi 9BGKR48G00GG130133.\n",
            "{comando_de_valvulas_gm_onix_prisma_1_0_8v_98500212} {compativel} {veiculo_chassi_9bgkr48g00gg130133}\n",
            "avaliacao {\n",
            "    \"JUDGMENT 1\": 5,\n",
            "    \"JUDGMENT 2\": 5,\n",
            "    \"JUDGMENT 3\": 5,\n",
            "    \"JUDGMENT 4\": 5,\n",
            "    \"JUDGMENT 5\": \"A tripla reflete fielmente a frase original, com sujeito, predicado e objeto corretamente identificados.\"\n",
            "}\n",
            "A Carabina De Pressão B19-x 5.5mm Madeira - Cbc não é compatível com o kit pistão elite da B19Z.\n",
            "{carabina_de_pressao_b19_x_5_5mm_madeira_cbc} {incompativel} {kit_piston_elite_da_b19z}\n",
            "avaliacao {\n",
            "    \"JUDGMENT 1\": 5,\n",
            "    \"JUDGMENT 2\": 5,\n",
            "    \"JUDGMENT 3\": 5,\n",
            "    \"JUDGMENT 4\": 5,\n",
            "    \"JUDGMENT 5\": \"A tripla reflete fielmente a frase original, capturando corretamente o sujeito, a relação e o objeto.\"\n",
            "}\n",
            "A Fita Rotulador Dymo Rosa 12mm D1 1933238 é compatível com a etiquetadora Dymo Colorpop.\n",
            "{fita_rotulador_dymo_rosa_12mm_d1_1933238} {compativel} {etiquetadora_dymo_colorpop}\n",
            "avaliacao {\n",
            "    \"JUDGMENT 1\": 5,\n",
            "    \"JUDGMENT 2\": 5,\n",
            "    \"JUDGMENT 3\": 5,\n",
            "    \"JUDGMENT 4\": 5,\n",
            "    \"JUDGMENT 5\": \"A tripla reflete fielmente a frase original, com sujeito, predicado e objeto corretamente identificados.\"\n",
            "}\n",
            "A Palheta Limpador Para-brisa Bosch Dianteiras + Traseira não é compatível com a Pajero GLS Full 3.2 TD 2008/2009.\n",
            "{palheta_limpador_para_brisa_bosch_dianteiras_traseira} {imcompativel} {pajero_gls_full_3_2_td_2008_2009}\n",
            "avaliacao {\n",
            "    \"JUDGMENT 1\": 5,\n",
            "    \"JUDGMENT 2\": 5,\n",
            "    \"JUDGMENT 3\": 5,\n",
            "    \"JUDGMENT 4\": 5,\n",
            "    \"JUDGMENT 5\": \"A tripla reflete fielmente a frase original, com sujeito, predicado e objeto corretamente identificados.\"\n",
            "}\n",
            "O Pneu General Tire Aro 14 Altimax one 185/60r14 82h é fabricado no Brasil.\n",
            "{pneu_general_tire_altimax_one} {especificacao} {'fabricacao Brasil'}\n",
            "avaliacao {\n",
            "    \"JUDGMENT 1\": 4,\n",
            "    \"JUDGMENT 2\": 3,\n",
            "    \"JUDGMENT 3\": 2,\n",
            "    \"JUDGMENT 4\": 1,\n",
            "    \"JUDGMENT 5\": \"O sujeito está parcialmente correto, mas o predicado e o objeto estão incorretos. A frase original indica a localização da fabricação, não especificações do pneu.\"\n",
            "}\n",
            "O guidão Oxxy Alto 31mm Crf 250f Crf 230 Bros 160 Xre 190 300 tem o comprimento de 820mm para a XRE 300.\n",
            "{guidao_oxxy_alto_31mm} {especificacao} {'comprimento 820mm'}\n",
            "avaliacao {\n",
            "    \"JUDGMENT 1\": 5,\n",
            "    \"JUDGMENT 2\": 4,\n",
            "    \"JUDGMENT 3\": 3,\n",
            "    \"JUDGMENT 4\": 3,\n",
            "    \"JUDGMENT 5\": \"O sujeito está correto, mas o predicado e o objeto são parciais. Falta especificar a relação exata entre o guidão e o comprimento.\"\n",
            "}\n",
            "As câmeras do Kit 4 Câmeras Intelbras Visão Noturna 30m + Dvr Mhdx 1204 possuem lente de 2,8mm e proteção IP67.\n",
            "{kit_4_cameras_intelbras_visao_noturna_30m} {especificacao} {'lente 2,8mm e protecao IP67'}\n",
            "avaliacao {\n",
            "    \"JUDGMENT 1\": 5,\n",
            "    \"JUDGMENT 2\": 5,\n",
            "    \"JUDGMENT 3\": 4,\n",
            "    \"JUDGMENT 4\": 4,\n",
            "    \"JUDGMENT 5\": \"O sujeito e o predicado estão corretos, mas o objeto poderia ser mais estruturado para refletir melhor a informação da frase.\"\n",
            "}\n",
            "Para cobrir uma parede de 3 metros de comprimento por 2,70 metros de altura, você precisaria de 2 rolos do Plástico Adesivo Papel De Parede Cimento Queimado.\n",
            "{plastico_adesivo_papel_de_parede_cimento_queimado} {especificacao} {'quantidade necessaria 2 rolos para 3x2.70m'}\n",
            "avaliacao {\n",
            "    \"JUDGMENT 1\": 5,\n",
            "    \"JUDGMENT 2\": 4,\n",
            "    \"JUDGMENT 3\": 3,\n",
            "    \"JUDGMENT 4\": 3,\n",
            "    \"JUDGMENT 5\": \"O sujeito está correto, mas o predicado e o objeto não refletem precisamente a informação da frase original.\"\n",
            "}\n",
            "O Pneu Moto Maggion Aro 21 Viper 90/90-21 54t Tt é novo.\n",
            "{pneu_moto_maggion_aro_21_viper} {especificacao} {'estado novo'}\n",
            "avaliacao {\n",
            "    \"JUDGMENT 1\": 5,\n",
            "    \"JUDGMENT 2\": 3,\n",
            "    \"JUDGMENT 3\": 4,\n",
            "    \"JUDGMENT 4\": 3,\n",
            "    \"JUDGMENT 5\": \"O sujeito está correto, mas o predicado e o objeto não refletem precisamente a informação da frase original.\"\n",
            "}\n",
            "O Retentor Volante Motor Hyundai Hb20 1.0 3 Cil Flex 2012/ é original.\n",
            "{retentor_volante_motor_hyundai_hb20} {especificacao} {'tipo original'}\n",
            "avaliacao {\n",
            "    \"JUDGMENT 1\": 5,\n",
            "    \"JUDGMENT 2\": 4,\n",
            "    \"JUDGMENT 3\": 1,\n",
            "    \"JUDGMENT 4\": 2,\n",
            "    \"JUDGMENT 5\": \"O sujeito está correto, mas o predicado e o objeto não refletem a informação completa da frase.\"\n",
            "}\n",
            "O Colar Prateado Pingente Signos Zodíaco S4842 tem uma corrente com comprimento de 47cm.\n",
            "{colar_prateado_pingente_signos_zodiaco_s4842} {especificacao} {'comprimento da corrente 47cm'}\n",
            "avaliacao {\n",
            "    \"JUDGMENT 1\": 5,\n",
            "    \"JUDGMENT 2\": 5,\n",
            "    \"JUDGMENT 3\": 4,\n",
            "    \"JUDGMENT 4\": 4,\n",
            "    \"JUDGMENT 5\": \"O sujeito e o predicado estão corretos, mas o objeto não reflete exatamente a informação da frase original.\"\n",
            "}\n",
            "O produto Fechadura Porta Dianteira Esquerda Fiat Palio Siena 51879178 serve para veículos com 4 portas.\n",
            "{fechadura_porta_dianteira_esquerda_fiat_palio_siena_51879178} {especificacao} {'veiculos com 4 portas'}\n",
            "avaliacao {\n",
            "    \"JUDGMENT 1\": 5,\n",
            "    \"JUDGMENT 2\": 5,\n",
            "    \"JUDGMENT 3\": 4,\n",
            "    \"JUDGMENT 4\": 4,\n",
            "    \"JUDGMENT 5\": \"O sujeito e o predicado estão corretos, mas o objeto poderia ser mais preciso, especificando exatamente o tipo de veículo.\"\n",
            "}\n",
            "O Jogo 4 Pneus Itaro Aro 13 It203 175/60r13 77t não é remold, pois são pneus novos e originais.\n",
            "{jogo_4_pneus_itaro_it203} {especificacao} {'tipo pneus novos e originais'}\n",
            "avaliacao {\n",
            "    \"JUDGMENT 1\": 5,\n",
            "    \"JUDGMENT 2\": 4,\n",
            "    \"JUDGMENT 3\": 3,\n",
            "    \"JUDGMENT 4\": 3,\n",
            "    \"JUDGMENT 5\": \"O sujeito está correto, mas o predicado e o objeto não refletem precisamente a informação da frase original.\"\n",
            "}\n",
            "O produto Galocha Feminina Limpeza Bota Leve Grendene 0345 Pega Forte tem a especificação de tamanho 35/36 para pé com medida de 23,5 cm.\n",
            "{galocha_feminina_grendene_0345} {especificacao} {'tamanho 35/36'}\n",
            "avaliacao {\n",
            "    \"JUDGMENT 1\": 5,\n",
            "    \"JUDGMENT 2\": 4,\n",
            "    \"JUDGMENT 3\": 3,\n",
            "    \"JUDGMENT 4\": 3,\n",
            "    \"JUDGMENT 5\": \"O sujeito está correto, mas a tripla omite detalhes importantes da especificação e o predicado não é específico o suficiente.\"\n",
            "}\n",
            "O frete para Itupeva-SP fica em R$440,00.\n",
            "{frete_para_itupeva_sp} {especificacao} {'valor_r$440,00'}\n",
            "avaliacao {\n",
            "    \"JUDGMENT 1\": 5,\n",
            "    \"JUDGMENT 2\": 4,\n",
            "    \"JUDGMENT 3\": 5,\n",
            "    \"JUDGMENT 4\": 3,\n",
            "    \"JUDGMENT 5\": \"O sujeito está correto, mas o predicado não expressa a relação exata. O objeto reflete o valor, mas a tripla não captura completamente a informação da frase.\"\n",
            "}\n",
            "O Revestimento De Porta Ford Ka na cor cinza é um cinza claro.\n",
            "{revestimento_porta_ford_ka} {especificacao} {'cor cinza'}\n",
            "avaliacao {\n",
            "    \"JUDGMENT 1\": 5,\n",
            "    \"JUDGMENT 2\": 4,\n",
            "    \"JUDGMENT 3\": 3,\n",
            "    \"JUDGMENT 4\": 3,\n",
            "    \"JUDGMENT 5\": \"O sujeito está correto, mas o predicado e o objeto não capturam completamente a informação da frase original.\"\n",
            "}\n",
            "A Panela De Pressão Elétrica - 4 Litros - In Brasil pode fazer arroz e feijão.\n",
            "{panela_de_pressao_eletrica_4_litros} {especificacao} {'cozinha arroz e feijao'}\n",
            "avaliacao {\n",
            "    \"JUDGMENT 1\": 5,\n",
            "    \"JUDGMENT 2\": 3,\n",
            "    \"JUDGMENT 3\": 1,\n",
            "    \"JUDGMENT 4\": 2,\n",
            "    \"JUDGMENT 5\": \"O sujeito está correto, mas o predicado e o objeto estão mal representados. A tripla não reflete adequadamente as capacidades da panela mencionadas na frase.\"\n",
            "}\n",
            "O Motor Partida 12v Bosch 0001115114 Fiat Ducato Multijet 2.3 tem a referência do bendz como 1.006.209.864.\n",
            "{motor_partida_12v_bosch_0001115114} {especificacao} {'referencia_bendz 1.006.209.864'}\n",
            "avaliacao {\n",
            "    \"JUDGMENT 1\": 5,\n",
            "    \"JUDGMENT 2\": 4,\n",
            "    \"JUDGMENT 3\": 3,\n",
            "    \"JUDGMENT 4\": 3,\n",
            "    \"JUDGMENT 5\": \"O sujeito está correto, mas o predicado e o objeto precisam ser mais precisos. A tripla não reflete exatamente a informação de referência fornecida na frase.\"\n",
            "}\n",
            "O Servo Freio Hidrovacuo Santana 1992 93 94 95 96 97 98 1999 é nova.\n",
            "{servo_freio_hidrovacuo_santana} {especificacao} {'estado nova'}\n",
            "avaliacao {\n",
            "    \"JUDGMENT 1\": 5,\n",
            "    \"JUDGMENT 2\": 4,\n",
            "    \"JUDGMENT 3\": 5,\n",
            "    \"JUDGMENT 4\": 3,\n",
            "    \"JUDGMENT 5\": \"O sujeito está correto, mas o predicado não reflete a relação expressa na frase. O objeto está adequado, mas a tripla como um todo não transmite a informação completa.\"\n",
            "}\n",
            "O Kit Rolamento Batente Coxim Amortecedor Dianteiro Fox 1.0 é feito de plástico.\n",
            "{kit_rolamento_batente_coxim_amortecedor_dianteiro_fox_1_0} {especificacao} {'material plástico'}\n",
            "avaliacao {\n",
            "    \"JUDGMENT 1\": 5,\n",
            "    \"JUDGMENT 2\": 3,\n",
            "    \"JUDGMENT 3\": 1,\n",
            "    \"JUDGMENT 4\": 2,\n",
            "    \"JUDGMENT 5\": \"O sujeito está correto, mas o predicado e o objeto estão inadequados. A frase indica que o produto é feito de plástico, não especifica uma 'especificação'.\"\n",
            "}\n",
            "A junta cabecote Toyota Land Cruiser 3.0 Prado 5p 04/09 tem a espessura de 0,95mm.\n",
            "{junta_cabecote_toyota_land_cruiser_3_0_prado_5p_04_09} {especificacao} {'espessura 0.95mm'}\n",
            "avaliacao {\n",
            "    \"JUDGMENT 1\": 5,\n",
            "    \"JUDGMENT 2\": 4,\n",
            "    \"JUDGMENT 3\": 3,\n",
            "    \"JUDGMENT 4\": 3,\n",
            "    \"JUDGMENT 5\": \"O sujeito está correto, mas o predicado e o objeto estão incompletos e mal formulados. Falta especificar a natureza da espessura.\"\n",
            "}\n",
            "A tela Display Xiaomi Redmi Note 8 Com Aro Azul é nova e original, não sendo usada ou retirada de outro celular.\n",
            "{tela_display_xiaomi_redmi_note_8} {especificacao} {'estado nova_e_original'}\n",
            "avaliacao {\n",
            "    \"JUDGMENT 1\": 5,\n",
            "    \"JUDGMENT 2\": 4,\n",
            "    \"JUDGMENT 3\": 5,\n",
            "    \"JUDGMENT 4\": 3,\n",
            "    \"JUDGMENT 5\": \"O sujeito está correto, mas o predicado não representa bem a relação expressa na frase. O objeto reflete parcialmente o estado da tela, mas a tripla não captura completamente a informação.\"\n",
            "}\n",
            "O Jogo Raio Bros 160 Inox Par Bace Dianteiro Traseiro Disco tem cabeças feitas de Inox.\n",
            "{jogo_raio_bros_160_inox} {especificacao} {'material_inox'}\n",
            "avaliacao {\n",
            "    \"JUDGMENT 1\": 5,\n",
            "    \"JUDGMENT 2\": 4,\n",
            "    \"JUDGMENT 3\": 3,\n",
            "    \"JUDGMENT 4\": 3,\n",
            "    \"JUDGMENT 5\": \"O sujeito está correto, mas o predicado e o objeto não capturam completamente a informação da frase. Falta especificar que o material refere-se às cabeças.\"\n",
            "}\n",
            "O produto Cabeceira Cama Box Queen Valência 1.6 não é areia em corinho, mas sim corino branco, e há diversas cores e tecidos disponíveis.\n",
            "{cabeceira_cama_box_queen_valencia_1_6} {especificacao} {'cor corinho branco e diversas cores e tecidos'}\n",
            "avaliacao {\n",
            "    \"JUDGMENT 1\": 5,\n",
            "    \"JUDGMENT 2\": 3,\n",
            "    \"JUDGMENT 3\": 4,\n",
            "    \"JUDGMENT 4\": 3,\n",
            "    \"JUDGMENT 5\": \"O sujeito está correto, mas o predicado e o objeto não refletem precisamente a informação da frase.\"\n",
            "}\n",
            "O Mini Bicicleta Cicloergômetro Dobrável Com Massageador tem o cronômetro digital.\n",
            "{mini_bicicleta_cicloergometro_dobravel} {especificacao} {'tem cronometro digital'}\n",
            "avaliacao {\n",
            "    \"JUDGMENT 1\": 5,\n",
            "    \"JUDGMENT 2\": 4,\n",
            "    \"JUDGMENT 3\": 5,\n",
            "    \"JUDGMENT 4\": 3,\n",
            "    \"JUDGMENT 5\": \"O sujeito está correto, mas o predicado não reflete exatamente a relação expressa na frase. O objeto está bem identificado, mas a tripla não captura completamente a informação da frase.\"\n",
            "}\n",
            "A Reparo Placa Principal Memória Philco Ph29e63d Versão A se refere à versão do televisor, identificada pela última letra do serial da TV.\n",
            "{reparo_placa_principal_memoria_philco_ph29e63d} {especificacao} {'versao_id_por_serial'}\n",
            "avaliacao {\n",
            "    \"JUDGMENT 1\": 5,\n",
            "    \"JUDGMENT 2\": 4,\n",
            "    \"JUDGMENT 3\": 3,\n",
            "    \"JUDGMENT 4\": 3,\n",
            "    \"JUDGMENT 5\": \"O sujeito está correto, mas o predicado e o objeto não refletem precisamente a relação e o conteúdo da frase original.\"\n",
            "}\n",
            "A cama Casal/queen Com Cabeceira E Mesa De Apoio Dg tem uma largura de 2 metros e 28 centímetros.\n",
            "{cama_casal_queen_com_cabeceira_e_mesa_de_apoio_dg} {especificacao} {'largura 2m28cm'}\n",
            "avaliacao {\n",
            "    \"JUDGMENT 1\": 5,\n",
            "    \"JUDGMENT 2\": 4,\n",
            "    \"JUDGMENT 3\": 3,\n",
            "    \"JUDGMENT 4\": 3,\n",
            "    \"JUDGMENT 5\": \"O sujeito está correto, mas o predicado e o objeto são vagos e não refletem a informação específica da frase.\"\n",
            "}\n",
            "O Kit 3 Coxim Da Centrifuga Suggar Giromax é compatível com a centrífuga Sofia de 15 kg.\n",
            "{kit_3_coxim_da_centrifuga_suggar_giromax} {especificacao} {'compativel com centrifuga sofia 15kg'}\n",
            "avaliacao {\n",
            "    \"JUDGMENT 1\": 5,\n",
            "    \"JUDGMENT 2\": 4,\n",
            "    \"JUDGMENT 3\": 5,\n",
            "    \"JUDGMENT 4\": 3,\n",
            "    \"JUDGMENT 5\": \"O sujeito está correto, mas o predicado não expressa a relação de compatibilidade de forma clara. O objeto reflete a compatibilidade, mas a tripla não transmite a informação com precisão.\"\n",
            "}\n",
            "A Polia Correia Alternador Idea 2005/2010 4429 é de ferro.\n",
            "{polia_correia_alternador_idea_2005_2010_4429} {especificacao} {'material ferro'}\n",
            "avaliacao {\n",
            "    \"JUDGMENT 1\": 5,\n",
            "    \"JUDGMENT 2\": 4,\n",
            "    \"JUDGMENT 3\": 3,\n",
            "    \"JUDGMENT 4\": 3,\n",
            "    \"JUDGMENT 5\": \"O sujeito está correto, mas o predicado e o objeto não refletem precisamente a informação da frase original.\"\n",
            "}\n",
            "A principal diferença entre a Roçadeira Profissional Gasolina 2 Tempos 52cc Tbc52x Toyama e a versão Premium é o guidom.\n",
            "{roçadeira_profissional_gasolina_2_tempos_52cc_tbc52x_toyama} {especificacao} {'diferenca guidom'}\n",
            "avaliacao {\n",
            "    \"JUDGMENT 1\": 5,\n",
            "    \"JUDGMENT 2\": 4,\n",
            "    \"JUDGMENT 3\": 3,\n",
            "    \"JUDGMENT 4\": 3,\n",
            "    \"JUDGMENT 5\": \"O sujeito está correto, mas o predicado e o objeto não refletem completamente a informação original da frase.\"\n",
            "}\n",
            "O relógio Magnum Masculino Couro Marrom Original Nota Fiscal tem pulseira marrom escuro, não preta.\n",
            "{relogio_magnum_masculino_couro_marrom} {especificacao} {'cor da pulseira marrom escuro'}\n",
            "avaliacao {\n",
            "    \"JUDGMENT 1\": 5,\n",
            "    \"JUDGMENT 2\": 4,\n",
            "    \"JUDGMENT 3\": 3,\n",
            "    \"JUDGMENT 4\": 3,\n",
            "    \"JUDGMENT 5\": \"O sujeito está correto, mas o predicado e o objeto não refletem precisamente a informação da frase original.\"\n",
            "}\n",
            "O Tampão Porta Malas Gol G4 2006 A 2014 Cor Cinza + Furos 6x9 é aplicado através de encaixe, sem a necessidade de corda.\n",
            "{tampa_porta_malas_gol_g4_2006_a_2014} {especificacao} {'modo_de_instalacao encaixe sem corda'}\n",
            "avaliacao {\n",
            "    \"JUDGMENT 1\": 5,\n",
            "    \"JUDGMENT 2\": 4,\n",
            "    \"JUDGMENT 3\": 3,\n",
            "    \"JUDGMENT 4\": 3,\n",
            "    \"JUDGMENT 5\": \"O sujeito está correto, mas o predicado e o objeto não refletem precisamente a relação e o alvo da instalação.\"\n",
            "}\n",
            "A calça moletom infantil juvenil skinny jogger slim forrada tem a especificação de 90cm de comprimento da cintura até a barra no tamanho 14.\n",
            "{calca_moletom_infantil_juvenil_skinny_jogger_slim_forrada} {especificacao} {'comprimento 90cm'}\n",
            "avaliacao {\n",
            "    \"JUDGMENT 1\": 5,\n",
            "    \"JUDGMENT 2\": 5,\n",
            "    \"JUDGMENT 3\": 3,\n",
            "    \"JUDGMENT 4\": 3,\n",
            "    \"JUDGMENT 5\": \"O sujeito e o predicado estão corretos, mas o objeto da tripla omite a informação de que a medida refere-se à cintura até a barra.\"\n",
            "}\n",
            "O Condensador Ar Condicionado Volkswagen Up! Cross Tsi 15/18 é original.\n",
            "{condensador_ar_condicionado_volkswagen_up_cross_tsi_15_18} {especificacao} {'origem original'}\n",
            "avaliacao {\n",
            "    \"JUDGMENT 1\": 5,\n",
            "    \"JUDGMENT 2\": 4,\n",
            "    \"JUDGMENT 3\": 3,\n",
            "    \"JUDGMENT 4\": 3,\n",
            "    \"JUDGMENT 5\": \"O sujeito está correto, mas o predicado e o objeto não refletem precisamente a informação original da frase.\"\n",
            "}\n",
            "A câmera do Kit 3 Camera De Segurança Wifi Ip Smart Lampada E27 Com Ir tem rastreamento automático, seguindo a pessoa ao detectar movimento.\n",
            "{kit_3_camera_de_seguranca_wifi_ip_smart_lampada_e27_com_ir} {especificacao} {'rastreamento_automatico'}\n",
            "avaliacao {\n",
            "    \"JUDGMENT 1\": 5,\n",
            "    \"JUDGMENT 2\": 4,\n",
            "    \"JUDGMENT 3\": 3,\n",
            "    \"JUDGMENT 4\": 3,\n",
            "    \"JUDGMENT 5\": \"O sujeito está correto, mas o predicado e o objeto são incompletos. Falta especificar a relação exata e o alvo do rastreamento automático.\"\n",
            "}\n",
            "O Parachoque Dianteiro Palio Economy 2013 2014 2015 não é uma peça original, mas é novo e idêntico ao original.\n",
            "{parachoque_dianteiro_palio_economy_2013_2014_2015} {especificacao} {'nao_eh_peca_original_mas_eh_novo_e_identico'}\n",
            "avaliacao {\n",
            "    \"JUDGMENT 1\": 5,\n",
            "    \"JUDGMENT 2\": 4,\n",
            "    \"JUDGMENT 3\": 3,\n",
            "    \"JUDGMENT 4\": 3,\n",
            "    \"JUDGMENT 5\": \"O sujeito está correto, mas o predicado e o objeto são inadequados. A frase expressa duas informações distintas que não podem ser combinadas em um único predicado.\"\n",
            "}\n",
            "O Ventilador De Teto Ventisol Fênix Inverter Controle Remoto não pode acender ou apagar a luz pelo interruptor, apenas pelo controle remoto.\n",
            "{ventilador_de_teto_ventisol_fenix} {especificacao} {'controle_luz_apenas_pelo_controle_remoto'}\n",
            "avaliacao {\n",
            "    \"JUDGMENT 1\": 5,\n",
            "    \"JUDGMENT 2\": 4,\n",
            "    \"JUDGMENT 3\": 3,\n",
            "    \"JUDGMENT 4\": 3,\n",
            "    \"JUDGMENT 5\": \"O sujeito está correto, mas o predicado e o objeto precisam ser mais precisos para refletir a informação original.\"\n",
            "}\n",
            "A Bota Adventure Couro Via Livre Arizona Original Lançamento não é impermeável.\n",
            "{bota_adventure_couro_via_livre_arizona_original_lancamento} {especificacao} {'não impermeavel'}\n",
            "avaliacao {\n",
            "    \"JUDGMENT 1\": 5,\n",
            "    \"JUDGMENT 2\": 5,\n",
            "    \"JUDGMENT 3\": 4,\n",
            "    \"JUDGMENT 4\": 4,\n",
            "    \"JUDGMENT 5\": \"O sujeito e o predicado estão corretos, mas o objeto poderia ser mais específico, como 'não impermeável'.\"\n",
            "}\n",
            "O Rack Tv 65 Com Pés Retrô E 2 Portas Paris Multimóveis tem uma passagem para fios atrás dos nichos.\n",
            "{rack_tv_65_com_pes_retro_e_2_portas_paris_multimoveis} {especificacao} {'passagem para fios atrás dos nichos'}\n",
            "avaliacao {\n",
            "    \"JUDGMENT 1\": 5,\n",
            "    \"JUDGMENT 2\": 4,\n",
            "    \"JUDGMENT 3\": 3,\n",
            "    \"JUDGMENT 4\": 3,\n",
            "    \"JUDGMENT 5\": \"O sujeito está correto, mas o predicado e o objeto são inadequados. A tripla não expressa uma relação clara e precisa da frase original.\"\n",
            "}\n",
            "O Jogo Raio Bros 160 Inox Par Bace Dianteiro Traseiro Disco é feito de aço inox, mas não especifica se é 304.\n",
            "{jogo_raio_bros_160_inox} {especificacao} {'material aco inox'}\n",
            "avaliacao {\n",
            "    \"JUDGMENT 1\": 5,\n",
            "    \"JUDGMENT 2\": 4,\n",
            "    \"JUDGMENT 3\": 3,\n",
            "    \"JUDGMENT 4\": 3,\n",
            "    \"JUDGMENT 5\": \"O sujeito está correto, mas o predicado e o objeto são insuficientes para capturar completamente a informação da frase.\"\n",
            "}\n",
            "O Fone De Ouvido Booglee Wireless Bluetooth Inpods 12 Branco é um par.\n",
            "{fone_de_ouvido_booglee_wireless_bluetooth_inpods_12_branco} {especificacao} {'quantidade um par'}\n",
            "avaliacao {\n",
            "    \"JUDGMENT 1\": 5,\n",
            "    \"JUDGMENT 2\": 4,\n",
            "    \"JUDGMENT 3\": 3,\n",
            "    \"JUDGMENT 4\": 3,\n",
            "    \"JUDGMENT 5\": \"O sujeito está correto, mas o predicado e o objeto não refletem precisamente a informação da frase original.\"\n",
            "}\n",
            "O cabo de aço galvanizado 30m 1/4 6x19 é resistente a linha de pipa chilena.\n",
            "{cabo_de_aco_galvanizado_30m_1/4_6x19} {especificacao} {'resistente a linha de pipa chilena'}\n",
            "avaliacao {\n",
            "    \"JUDGMENT 1\": 5,\n",
            "    \"JUDGMENT 2\": 3,\n",
            "    \"JUDGMENT 3\": 1,\n",
            "    \"JUDGMENT 4\": 2,\n",
            "    \"JUDGMENT 5\": \"O sujeito está correto, mas o predicado e o objeto estão mal definidos. A frase descreve uma propriedade do cabo, não uma especificação.\"\n",
            "}\n",
            "O Radio Automotivo Mp3 Player Bluetooth 2 Usb Carrega Celular tem saída RCA.\n",
            "{radio_automotivo_mp3_player_bluetooth} {especificacao} {'conecta por RCA'}\n",
            "avaliacao {\n",
            "    \"JUDGMENT 1\": 5,\n",
            "    \"JUDGMENT 2\": 4,\n",
            "    \"JUDGMENT 3\": 3,\n",
            "    \"JUDGMENT 4\": 3,\n",
            "    \"JUDGMENT 5\": \"O sujeito está correto, mas o predicado e o objeto não refletem precisamente a informação da frase original.\"\n",
            "}\n",
            "A medida entre furos do Carburador Mangueiras Filtro Vela Roçadeira Toyama Rt43 é de 31 mm.\n",
            "{carburador_mangueiras_filtro_vela_roçadeira_toyama_rt43} {especificacao} {'medida_entre_furos 31 mm'}\n",
            "{\n",
            "    \"JUDGMENT 1\": 5,\n",
            "    \"JUDGMENT 2\": 5,\n",
            "    \"JUDGMENT 3\": 4,\n",
            "    \"JUDGMENT 4\": 4,\n",
            "    \"JUDGMENT 5\": \"O sujeito e o predicado estão corretos, mas o objeto poderia ser mais específico, indicando claramente que a medida refere-se à 'medida entre furos'.\"\n",
            "}\n",
            "O Rolamento Do Balanceiro Cbx250 , Xr250 é original.\n",
            "{rolamento_do_balanceiro_cbx250_xr250} {especificacao} {'tipo original'}\n",
            "avaliacao {\n",
            "    \"JUDGMENT 1\": 5,\n",
            "    \"JUDGMENT 2\": 4,\n",
            "    \"JUDGMENT 3\": 3,\n",
            "    \"JUDGMENT 4\": 3,\n",
            "    \"JUDGMENT 5\": \"O sujeito está correto, mas o predicado e o objeto não refletem completamente a informação original da frase.\"\n",
            "}\n",
            "O toque do Central Multimidia Citroen C3 2008 Universal Mp5 2din Espe é ótimo.\n",
            "{central_multimidia_citroen_c3_2008} {especificacao} {'toque otimo'}\n",
            "avaliacao {\n",
            "    \"JUDGMENT 1\": 5,\n",
            "    \"JUDGMENT 2\": 4,\n",
            "    \"JUDGMENT 3\": 3,\n",
            "    \"JUDGMENT 4\": 3,\n",
            "    \"JUDGMENT 5\": \"O sujeito está correto, mas o predicado e o objeto não refletem precisamente a relação e o atributo expressos na frase.\"\n",
            "}\n",
            "A mangueira de respiro é a versão fina, aplicável para o Corsa 1.0 1.6 16v de 1996 a 2002.\n",
            "{mangueira_de_respiro} {especificacao} {'versao fina, aplicavel para Corsa 1.0 1.6 16v de 1996 a 2002'}\n",
            "avaliacao {\n",
            "    \"JUDGMENT 1\": 5,\n",
            "    \"JUDGMENT 2\": 5,\n",
            "    \"JUDGMENT 3\": 4,\n",
            "    \"JUDGMENT 4\": 4,\n",
            "    \"JUDGMENT 5\": \"O sujeito e o predicado estão corretos, mas o objeto não captura completamente a informação da frase original.\"\n",
            "}\n",
            "O Gabinete Banheiro Pia Cuba Balcão Armário 80cm Painel Gaveta não é oferecido sem a cuba ou com uma cuba sem entrada de torneira.\n",
            "{gabinete_banheiro_pia_cuba_balcao_armario_80cm} {especificacao} {'não oferecido sem cuba ou com cuba sem entrada de torneira'}\n",
            "avaliacao {\n",
            "    \"JUDGMENT 1\": 5,\n",
            "    \"JUDGMENT 2\": 5,\n",
            "    \"JUDGMENT 3\": 5,\n",
            "    \"JUDGMENT 4\": 5,\n",
            "    \"JUDGMENT 5\": \"A tripla captura corretamente a especificação mencionada na frase original sem qualquer perda de informação.\"\n",
            "}\n",
            "A Máquina De Pintura Airless Profissional 1,8hp D3.0x 220v não é compatível com epóxi 98% sólido por volume, pois apenas suporta tintas látex, acrílicas, esmaltes, vernizes e seladores.\n",
            "{maquina_pintura_airless_profissional} {especificacao} {'compatibilidade_tinta_late_x_acrilica_esmalte_verniz_selador'}\n",
            "avaliacao {\n",
            "    \"JUDGMENT 1\": 5,\n",
            "    \"JUDGMENT 2\": 4,\n",
            "    \"JUDGMENT 3\": 3,\n",
            "    \"JUDGMENT 4\": 3,\n",
            "    \"JUDGMENT 5\": \"O sujeito está correto, mas o predicado e o objeto não capturam completamente a informação da frase original.\"\n",
            "}\n",
            "A prateleira do Conjunto 3 Estantes Para Livros Baixas Industrial Aço 3 suporta até 8 kg.\n",
            "{conjunto_3_estantes_para_livros_baixas_industrial_aço} {especificacao} {'suporte_até_8kg'}\n",
            "avaliacao {\n",
            "    \"JUDGMENT 1\": 5,\n",
            "    \"JUDGMENT 2\": 4,\n",
            "    \"JUDGMENT 3\": 3,\n",
            "    \"JUDGMENT 4\": 3,\n",
            "    \"JUDGMENT 5\": \"O sujeito está correto, mas o predicado e o objeto são inadequados. A tripla não expressa corretamente a capacidade de suporte da prateleira.\"\n",
            "}\n",
            "O produto 10x Pré Hormonal Testo Gh - 120 Cápsulas - Fórmula Importada tem a especificação de ser recomendado para ser tomado 3 cápsulas por dia, preferencialmente antes de dormir ou em jejum.\n",
            "{10x_pre_hormonal_testo_gh} {especificacao} {'recomendacao_de_uso_3_capsulas_por_dia'}\n",
            "avaliacao {\n",
            "    \"JUDGMENT 1\": 5,\n",
            "    \"JUDGMENT 2\": 5,\n",
            "    \"JUDGMENT 3\": 4,\n",
            "    \"JUDGMENT 4\": 4,\n",
            "    \"JUDGMENT 5\": \"O sujeito e o predicado estão corretos, mas o objeto omite detalhes importantes sobre a especificação, como a frequência e as condições de consumo.\"\n",
            "}\n",
            "O produto Parafusadeira Furadeira 12v Bivolt Pfe-12ev Maleta Kit Evald é um produto importado, o que implica ser de fabricação chinesa.\n",
            "{parafusadeira_furadeira_12v_bivolt_pfe_12ev} {especificacao} {'origem china'}\n",
            "avaliacao {\n",
            "    \"JUDGMENT 1\": 5,\n",
            "    \"JUDGMENT 2\": 4,\n",
            "    \"JUDGMENT 3\": 3,\n",
            "    \"JUDGMENT 4\": 3,\n",
            "    \"JUDGMENT 5\": \"O sujeito está correto, mas o predicado e o objeto não capturam completamente a informação da frase original.\"\n",
            "}\n",
            "O Cortador De Grama Elétrico 1200w C/ Recolhedor Black+decker é bivolt somente na voltagem 220v e atende à necessidade de cortar um gramado de 600 metros.\n",
            "{cortador_de_grama_eletrico_1200w} {especificacao} {'voltagem 220v e tamanho do gramado 600 metros'}\n",
            "avaliacao {\n",
            "    \"JUDGMENT 1\": 5,\n",
            "    \"JUDGMENT 2\": 4,\n",
            "    \"JUDGMENT 3\": 3,\n",
            "    \"JUDGMENT 4\": 2,\n",
            "    \"JUDGMENT 5\": \"O sujeito está correto, mas o predicado e o objeto da tripla não refletem fielmente a informação da frase original.\"\n",
            "}\n",
            "A lanterna traseira C/ Led E Piscas Cg Titan Fan 125 2000-2008 não permite o uso de outra lâmpada no lugar da lâmpada de led que vem com a lanterna.\n",
            "{lanterna_traseira_cg_titan_fan_125_2000_2008} {especificacao} {'usa_so_lampada_led'}\n",
            "avaliacao {\n",
            "    \"JUDGMENT 1\": 5,\n",
            "    \"JUDGMENT 2\": 5,\n",
            "    \"JUDGMENT 3\": 4,\n",
            "    \"JUDGMENT 4\": 4,\n",
            "    \"JUDGMENT 5\": \"O sujeito e o predicado estão corretos, mas o objeto poderia ser mais preciso, especificando que a lanterna só usa lâmpadas LED e não outras.\"\n",
            "}\n",
            "A estante Estante Industrial Baixa 3 Prateleiras Crome Freijó E Preto tem espaços entre as prateleiras com 33cm de altura.\n",
            "{estante_industrial_baixa_3_prateleiras_crome_freijo_preto} {especificacao} {'altura entre prateleiras 33cm'}\n",
            "avaliacao {\n",
            "    \"JUDGMENT 1\": 5,\n",
            "    \"JUDGMENT 2\": 5,\n",
            "    \"JUDGMENT 3\": 4,\n",
            "    \"JUDGMENT 4\": 4,\n",
            "    \"JUDGMENT 5\": \"O sujeito e o predicado estão corretos, mas o objeto poderia ser mais preciso, especificando exatamente a altura entre as prateleiras.\"\n",
            "}\n",
            "O valor de 59,70 é equivalente a duas peças de 10x50cm do Ralo Grelha Linear 10x100 Em Alumínio Com Caixilho, formando um metro linear.\n",
            "{ralo_grelha_linear_10x100} {especificacao} {'valor por metro linear 59,70'}\n",
            "avaliacao {\n",
            "    \"JUDGMENT 1\": 5,\n",
            "    \"JUDGMENT 2\": 4,\n",
            "    \"JUDGMENT 3\": 3,\n",
            "    \"JUDGMENT 4\": 3,\n",
            "    \"JUDGMENT 5\": \"O sujeito está correto, mas o predicado e o objeto não refletem completamente a informação da frase original.\"\n",
            "}\n",
            "O Jogo Parafuso De Cabeçote Doblo 1.8 8v 2004 A 2010 Taranto vem com 2 prisioneiros.\n",
            "{jogo_parafuso_de_cabecote_doblo_1_8_8v_2004_a_2010_taranto} {especificacao} {'numero_de_prisioneiros 2'}\n",
            "avaliacao {\n",
            "    \"JUDGMENT 1\": 5,\n",
            "    \"JUDGMENT 2\": 4,\n",
            "    \"JUDGMENT 3\": 3,\n",
            "    \"JUDGMENT 4\": 3,\n",
            "    \"JUDGMENT 5\": \"O sujeito está correto, mas o predicado e o objeto não refletem precisamente a informação original da frase.\"\n",
            "}\n",
            "O Kit 5 Total Quartz Ineo First 0w30 Sn tem as mesmas especificações, apesar da mudança na embalagem.\n",
            "{kit_5_total_quartz_ineo_first_0w30_sn} {especificacao} {'mesmas_especificacoes'}\n",
            "avaliacao {\n",
            "    \"JUDGMENT 1\": 5,\n",
            "    \"JUDGMENT 2\": 5,\n",
            "    \"JUDGMENT 3\": 4,\n",
            "    \"JUDGMENT 4\": 4,\n",
            "    \"JUDGMENT 5\": \"O sujeito e o predicado são corretos, mas o objeto poderia ser mais específico, indicando que as especificações são as mesmas.\"\n",
            "}\n",
            "O Rádio Relógio Alarme Duplo Sonoro Temporizador Am-fm Bivolt utiliza duas pilhas como fonte de alimentação.\n",
            "{radio_relogio_alarme_duplo_sonoro} {especificacao} {'fonte_de_alimentacao_pilhas'}\n",
            "avaliacao {\n",
            "    \"JUDGMENT 1\": 5,\n",
            "    \"JUDGMENT 2\": 4,\n",
            "    \"JUDGMENT 3\": 3,\n",
            "    \"JUDGMENT 4\": 3,\n",
            "    \"JUDGMENT 5\": \"O sujeito está correto, mas o predicado e o objeto são genéricos e não refletem a informação específica da frase.\"\n",
            "}\n",
            "O Farol Ford Fusion 2013 2014 2015 é novo e idêntico ao original.\n",
            "{farol_ford_fusion_2013_2014_2015} {especificacao} {'estado novo e identico ao original'}\n",
            "avaliacao {\n",
            "    \"JUDGMENT 1\": 5,\n",
            "    \"JUDGMENT 2\": 4,\n",
            "    \"JUDGMENT 3\": 5,\n",
            "    \"JUDGMENT 4\": 3,\n",
            "    \"JUDGMENT 5\": \"O sujeito está correto, mas o predicado não representa bem a relação. O objeto, no entanto, reflete adequadamente o estado do farol.\"\n",
            "}\n",
            "O Puff Multiuso 3 Em 1 Casal Jacquard Preto + Travesseiro não possui a parte inferior em courvin, sendo feito em tecido.\n",
            "{puff_multiuso_3_em_1_casal_jacquard_preto} {especificacao} {'parte_inferior_em_tecido'}\n",
            "avaliacao {\n",
            "    \"JUDGMENT 1\": 5,\n",
            "    \"JUDGMENT 2\": 4,\n",
            "    \"JUDGMENT 3\": 5,\n",
            "    \"JUDGMENT 4\": 3,\n",
            "    \"JUDGMENT 5\": \"O sujeito está correto, mas o predicado não reflete exatamente a informação da frase. O objeto está parcialmente correto, mas falta especificar que a parte inferior não é de courvin.\"\n",
            "}\n",
            "O Guarda Sol Gigante 2,4 M Piscina Praia Pesca Gde Articulado não tem como parafusar no piso, mas pode ser usado com uma base para ficar em pé.\n",
            "{guarda_sol_gigante_2_4m} {especificacao} {'não parafusa no piso, usa base'}\n",
            "avaliacao {\n",
            "    \"JUDGMENT 1\": 5,\n",
            "    \"JUDGMENT 2\": 4,\n",
            "    \"JUDGMENT 3\": 3,\n",
            "    \"JUDGMENT 4\": 3,\n",
            "    \"JUDGMENT 5\": \"O sujeito está correto, mas o predicado e o objeto não refletem precisamente a informação da frase.\"\n",
            "}\n",
            "O produto Tampa Traseira De Vidro Xiaoml 11t 5g é original da marca.\n",
            "{tampa_traseira_de_vidro_xiaoml_11t_5g} {especificacao} {'marca original'}\n",
            "avaliacao {\n",
            "    \"JUDGMENT 1\": 5,\n",
            "    \"JUDGMENT 2\": 4,\n",
            "    \"JUDGMENT 3\": 3,\n",
            "    \"JUDGMENT 4\": 3,\n",
            "    \"JUDGMENT 5\": \"O sujeito está correto, mas o predicado e o objeto são insuficientes para expressar a informação completa da frase.\"\n",
            "}\n",
            "O valor do anúncio se refere a uma peça da Lanterna Palio Atractive 2012 2013 2014 2015 2016 2017 Fumê.\n",
            "{lanterna_palio_attractive} {especificacao} {'modelo 2012 2013 2014 2015 2016 2017'}\n",
            "avaliacao {\n",
            "    \"JUDGMENT 1\": 3,\n",
            "    \"JUDGMENT 2\": 4,\n",
            "    \"JUDGMENT 3\": 2,\n",
            "    \"JUDGMENT 4\": 3,\n",
            "    \"JUDGMENT 5\": \"O sujeito e o predicado estão corretos, mas o objeto não reflete a informação completa da frase. A tripla omite o termo 'valor' e a especificação do modelo.\"\n",
            "}\n",
            "O Fone Com Isolamento Acústico Bluetooth 5.0 Mp3 Micro Sd Fm suporta microsd de até 128gb.\n",
            "{fone_com_isolamento_acustico_bluetooth_5_0_mp3_micro_sd_fm} {especificacao} {'suporta microsd de até 128gb'}\n",
            "avaliacao {\n",
            "    \"JUDGMENT 1\": 5,\n",
            "    \"JUDGMENT 2\": 4,\n",
            "    \"JUDGMENT 3\": 5,\n",
            "    \"JUDGMENT 4\": 4,\n",
            "    \"JUDGMENT 5\": \"O sujeito está correto, mas o predicado poderia ser mais específico. O objeto reflete bem a capacidade do fone.\"\n",
            "}\n",
            "O Eixo Cardan Roçadeira Stihl Fs290 Importada não é compatível com guidões bipartidos.\n",
            "{eixo_cardan_roçadeira_stihl_fs290_importada} {especificacao} {'compatibilidade não compatível com guidões bipartidos'}\n",
            "avaliacao {\n",
            "    \"JUDGMENT 1\": 5,\n",
            "    \"JUDGMENT 2\": 5,\n",
            "    \"JUDGMENT 3\": 5,\n",
            "    \"JUDGMENT 4\": 5,\n",
            "    \"JUDGMENT 5\": \"A tripla reflete fielmente a frase original, com sujeito, predicado e objeto corretamente identificados.\"\n",
            "}\n",
            "A grade de dentro da bandeja da Fritadeira Airfryer Painel Digital 4l 1500w 127v Com Seletor Cor Preto é feita de alumínio com revestimento antiaderente.\n",
            "{fritadeira_airfryer_painel_digital_4l_1500w_127v} {especificacao} {'material alumínio com revestimento antiaderente'}\n",
            "avaliacao {\n",
            "    \"JUDGMENT 1\": 5,\n",
            "    \"JUDGMENT 2\": 5,\n",
            "    \"JUDGMENT 3\": 4,\n",
            "    \"JUDGMENT 4\": 4,\n",
            "    \"JUDGMENT 5\": \"O sujeito e o predicado estão corretos, mas o objeto poderia ser mais específico, indicando claramente que o material refere-se à grade.\"\n",
            "}\n",
            "O Cabeçote Original Gm Completo Fiat Doblo 1.8 8v Flex 2006 é composto por peças de marcas como GM, Sabó e Metal Leve.\n",
            "{cabecote_original_gm_completo_fiat_doblo} {especificacao} {'peças de GM, Sabó e Metal Leve'}\n",
            "avaliacao {\n",
            "    \"JUDGMENT 1\": 5,\n",
            "    \"JUDGMENT 2\": 5,\n",
            "    \"JUDGMENT 3\": 4,\n",
            "    \"JUDGMENT 4\": 4,\n",
            "    \"JUDGMENT 5\": \"O sujeito e o predicado estão corretos, mas o objeto poderia ser mais estruturado para refletir melhor a relação de composição.\"\n",
            "}\n",
            "A Caixa De Som Multifuncional Wireless Speaker Celular Tablete tem a especificação de rádio FM e AM.\n",
            "{caixa_de_som_multifuncional_wireless} {especificacao} {'funcionalidade radio FM e AM'}\n",
            "avaliacao {\n",
            "    \"JUDGMENT 1\": 5,\n",
            "    \"JUDGMENT 2\": 4,\n",
            "    \"JUDGMENT 3\": 3,\n",
            "    \"JUDGMENT 4\": 3,\n",
            "    \"JUDGMENT 5\": \"O sujeito está correto, mas o predicado e o objeto não refletem precisamente a especificação de hardware mencionada na frase.\"\n",
            "}\n",
            "Não é recomendado cortar a mangueira de gás.\n",
            "{mangueira_de_gas} {especificacao} {'nao_cortar'}\n",
            "avaliacao {\n",
            "    \"JUDGMENT 1\": 5,\n",
            "    \"JUDGMENT 2\": 3,\n",
            "    \"JUDGMENT 3\": 4,\n",
            "    \"JUDGMENT 4\": 3,\n",
            "    \"JUDGMENT 5\": \"O sujeito está correto, mas o predicado e o objeto não refletem precisamente a recomendação original.\"\n",
            "}\n",
            "O Interruptor Cebolinha Óleo Original Fox Gol G5 G6 Golf Up! é original VW.\n",
            "{interruptor_cebolinha_oleo_original_fox_gol_g5_g6} {especificacao} {'original_vw'}\n",
            "avaliacao {\n",
            "    \"JUDGMENT 1\": 5,\n",
            "    \"JUDGMENT 2\": 4,\n",
            "    \"JUDGMENT 3\": 3,\n",
            "    \"JUDGMENT 4\": 3,\n",
            "    \"JUDGMENT 5\": \"O sujeito está bem identificado, mas o predicado e o objeto não refletem precisamente a informação da frase original.\"\n",
            "}\n",
            "A Caixa De Som Multifuncional Wireless Speaker Celular Tablete possui a especificação de rádio FM e AM.\n",
            "{caixa_de_som_multifuncional_wireless} {especificacao} {'possui_radio_fm_e_am'}\n",
            "avaliacao {\n",
            "    \"JUDGMENT 1\": 5,\n",
            "    \"JUDGMENT 2\": 5,\n",
            "    \"JUDGMENT 3\": 5,\n",
            "    \"JUDGMENT 4\": 5,\n",
            "    \"JUDGMENT 5\": \"A tripla reflete fielmente a frase original, capturando corretamente o sujeito, a relação e o objeto.\"\n",
            "}\n",
            "O Celular Telefone Idosos Nokia 105 Rádio Fm Jogos Lanterna Nf não tem câmera.\n",
            "{celular_telefone_idosos_nokia_105} {especificacao} {'sem camera'}\n",
            "avaliacao {\n",
            "    \"JUDGMENT 1\": 5,\n",
            "    \"JUDGMENT 2\": 4,\n",
            "    \"JUDGMENT 3\": 5,\n",
            "    \"JUDGMENT 4\": 3,\n",
            "    \"JUDGMENT 5\": \"O sujeito está correto, mas o predicado poderia ser mais preciso. O objeto reflete a informação, mas a tripla não captura completamente a negação presente na frase.\"\n",
            "}\n",
            "O Kit Festa Moana Baby tem a especificação de tema carnaval.\n",
            "{kit_festa_moana_baby} {especificacao} {'tema carnaval'}\n",
            "avaliacao {\n",
            "    \"JUDGMENT 1\": 5,\n",
            "    \"JUDGMENT 2\": 5,\n",
            "    \"JUDGMENT 3\": 5,\n",
            "    \"JUDGMENT 4\": 5,\n",
            "    \"JUDGMENT 5\": \"A tripla reflete fielmente a frase original, com sujeito, predicado e objeto corretamente identificados.\"\n",
            "}\n",
            "O jogo Junta Completo C/retentor Captiva Malibu 2.4 16v Ecotec é composto por um kit completo para injeção indireta, mas a lista detalhada de peças não foi fornecida.\n",
            "{jogo_junta_completo_captiva_malibu_2_4_16v_ecotec} {especificacao} {'composicao kit completo para injeção indireta'}\n",
            "avaliacao {\n",
            "    \"JUDGMENT 1\": 5,\n",
            "    \"JUDGMENT 2\": 5,\n",
            "    \"JUDGMENT 3\": 4,\n",
            "    \"JUDGMENT 4\": 4,\n",
            "    \"JUDGMENT 5\": \"O sujeito e o predicado estão corretos, mas o objeto omite a informação sobre a falta de lista detalhada de peças.\"\n",
            "}\n",
            "Você precisará de 5 unidades do Papel Parede Adesivo 3d Tipo Gesso Luxo para cobrir uma área de 2,70 de comprimento e 2,45 de altura.\n",
            "{papel_parede_aadesivo_3d_tipo_gesso_luxo} {especificacao} {'quantidade_recomendada 5 unidades'}\n",
            "avaliacao {\n",
            "    \"JUDGMENT 1\": 5,\n",
            "    \"JUDGMENT 2\": 4,\n",
            "    \"JUDGMENT 3\": 3,\n",
            "    \"JUDGMENT 4\": 3,\n",
            "    \"JUDGMENT 5\": \"O sujeito está correto, mas o predicado e o objeto não refletem completamente a informação original da frase.\"\n",
            "}\n",
            "O Kit 100 Anel Arruela Alumínio Vedação Bujão Carter tem medida interna de 14mm.\n",
            "{kit_100_anel_arruela_aluminio} {especificacao} {'medida_interna 14mm'}\n",
            "avaliacao {\n",
            "    \"JUDGMENT 1\": 5,\n",
            "    \"JUDGMENT 2\": 4,\n",
            "    \"JUDGMENT 3\": 3,\n",
            "    \"JUDGMENT 4\": 3,\n",
            "    \"JUDGMENT 5\": \"O sujeito está correto, mas o predicado e o objeto são insuficientes para expressar a informação completa da frase.\"\n",
            "}\n",
            "O Radiador Água Parati G2 G3 G4 1.6 1.8 2.0 - Com Ar serve para o modelo G4.\n",
            "{radiador_agua_parati_g2_g3_g4} {especificacao} {'modelo_compativel G4'}\n",
            "avaliacao {\n",
            "    \"JUDGMENT 1\": 5,\n",
            "    \"JUDGMENT 2\": 4,\n",
            "    \"JUDGMENT 3\": 3,\n",
            "    \"JUDGMENT 4\": 3,\n",
            "    \"JUDGMENT 5\": \"O sujeito está correto, mas o predicado e o objeto não refletem completamente a informação da frase original.\"\n",
            "}\n",
            "O Balcão Para Forno E Micro-ondas Trevalla 1 Porta C/ Fruteira tem nicho com medidas de 37cm x 40cm x 62cm, sendo compatível com o micro-ondas de 34cm de profundidade, 28cm de altura e 51cm de comprimento.\n",
            "{balcao_para_forno_e_micro_ondas_trevalla_1_porta_c_fruteira} {especificacao} {'medidas 37cm x 40cm x 62cm e compatibilidade micro-ondas 34cm x 28cm x 51cm'}\n",
            "avaliacao {\n",
            "    \"JUDGMENT 1\": 5,\n",
            "    \"JUDGMENT 2\": 4,\n",
            "    \"JUDGMENT 3\": 3,\n",
            "    \"JUDGMENT 4\": 3,\n",
            "    \"JUDGMENT 5\": \"O sujeito está correto, mas a tripla omite a especificação clara e detalhada das medidas e a compatibilidade do micro-ondas.\"\n",
            "}\n",
            " mesa Escrivaninha Compace Kume150.cl é firme ao escrever e digitar, caso a montagem seja feita corretamente de acordo com o manual.\n",
            "{mesa_escrivaninha_compace_kume150} {especificacao} {'estabilidade firme ao escrever e digitar'}\n",
            "avaliacao {\n",
            "    \"JUDGMENT 1\": 5,\n",
            "    \"JUDGMENT 2\": 4,\n",
            "    \"JUDGMENT 3\": 3,\n",
            "    \"JUDGMENT 4\": 3,\n",
            "    \"JUDGMENT 5\": \"O sujeito está correto, mas o predicado e o objeto não capturam completamente a informação da frase original.\"\n",
            "}\n",
            "O Pneu Moto Maggion Aro 21 Viper 90/90-21 54t Tt - Dianteiro é novo.\n",
            "{pneu_moto_maggion_aro_21_viper} {especificacao} {'estado novo'}\n",
            "avaliacao {\n",
            "    \"JUDGMENT 1\": 5,\n",
            "    \"JUDGMENT 2\": 3,\n",
            "    \"JUDGMENT 3\": 4,\n",
            "    \"JUDGMENT 4\": 3,\n",
            "    \"JUDGMENT 5\": \"O sujeito está correto, mas o predicado e o objeto não refletem precisamente a informação da frase original.\"\n",
            "}\n",
            "O Filtro De Linha Régua De 6 Tomadas Tripolares C/ Fusível tem certificação de uma certificadora particular, a Ability.\n",
            "{filtro_de_linha_regua_de_6_tomadas_tripolares} {especificacao} {'certificacao Ability'}\n",
            "avaliacao {\n",
            "    \"JUDGMENT 1\": 5,\n",
            "    \"JUDGMENT 2\": 4,\n",
            "    \"JUDGMENT 3\": 3,\n",
            "    \"JUDGMENT 4\": 3,\n",
            "    \"JUDGMENT 5\": \"O sujeito está correto, mas o predicado e o objeto não refletem precisamente a informação da frase original.\"\n",
            "}\n",
            "O Aplique Cabelo Humano Natural Liso Na Tela possui comprimento de 40 a 45cm.\n",
            "{aplique_cabelo_humano_natural_liso_na_tela} {especificacao} {'comprimento 40 a 45cm'}\n",
            "avaliacao {\n",
            "    \"JUDGMENT 1\": 5,\n",
            "    \"JUDGMENT 2\": 5,\n",
            "    \"JUDGMENT 3\": 4,\n",
            "    \"JUDGMENT 4\": 4,\n",
            "    \"JUDGMENT 5\": \"O sujeito e o predicado estão corretos, mas o objeto poderia ser mais preciso, especificando o comprimento como um valor numérico.\"\n",
            "}\n",
            "O Violão Infantil Iniciante Acústico Cordas Nylon Estudante não é 3/4, mas tem um tamanho ligeiramente menor que o tamanho adulto, com medidas aproximadas de 08x32x89 cm.\n",
            "{violao_infantil_iniciante_acustico} {especificacao} {'tamanho 08x32x89 cm'}\n",
            "avaliacao {\n",
            "    \"JUDGMENT 1\": 5,\n",
            "    \"JUDGMENT 2\": 4,\n",
            "    \"JUDGMENT 3\": 3,\n",
            "    \"JUDGMENT 4\": 3,\n",
            "    \"JUDGMENT 5\": \"O sujeito está correto, mas o predicado e o objeto não capturam completamente a informação da frase. Falta especificar a relação exata entre o violão e o tamanho mencionado.\"\n",
            "}\n",
            "A câmera do Kit 3 Camera De Segurança Wifi Ip Smart Lampada E27 Com Ir possui rastreamento automático, seguindo o alvo ao detectar movimento.\n",
            "{kit_3_camera_de_seguranca_wifi_ip_smart_lampada_e27_com_ir} {especificacao} {'rastreamento_automatico'}\n",
            "avaliacao {\n",
            "    \"JUDGMENT 1\": 5,\n",
            "    \"JUDGMENT 2\": 4,\n",
            "    \"JUDGMENT 3\": 3,\n",
            "    \"JUDGMENT 4\": 3,\n",
            "    \"JUDGMENT 5\": \"O sujeito está correto, mas o predicado e o objeto são incompletos. A tripla não reflete completamente a informação da frase original.\"\n",
            "}\n",
            "O Filtro Para Piscina Até 19000l C/ Bomba 1/3cv Gre By Fluidra tem saídas de 50mm.\n",
            "{filtro_para_piscina_ate_19000l} {especificacao} {'saída 50mm'}\n",
            "avaliacao {\n",
            "    \"JUDGMENT 1\": 5,\n",
            "    \"JUDGMENT 2\": 5,\n",
            "    \"JUDGMENT 3\": 4,\n",
            "    \"JUDGMENT 4\": 4,\n",
            "    \"JUDGMENT 5\": \"O sujeito e o predicado estão corretos, mas o objeto poderia ser mais específico, indicando 'saídas de 50mm' em vez de 'saída 50mm'.\"\n",
            "}\n",
            "O Guarda-sol Gigante 1,8 M Piscina Praia Mor + Cadeiras Sannet suporta até 110kg.\n",
            "{guarda-sol_gigante_1_8m} {especificacao} {'suporta até 110kg'}\n",
            "avaliacao {\n",
            "    \"JUDGMENT 1\": 5,\n",
            "    \"JUDGMENT 2\": 4,\n",
            "    \"JUDGMENT 3\": 5,\n",
            "    \"JUDGMENT 4\": 3,\n",
            "    \"JUDGMENT 5\": \"O sujeito está correto, mas o predicado não reflete exatamente a relação expressa. O objeto está adequado, mas a tripla falta especificar a natureza da especificação.\"\n",
            "}\n",
            "O Notebook Asus E510mabr702 possui o processador Intel Celeron Dual Core N4020.\n",
            "{notebook_asus_e510mabr702} {especificacao} {'processador Intel Celeron Dual Core N4020'}\n",
            "avaliacao {\n",
            "    \"JUDGMENT 1\": 5,\n",
            "    \"JUDGMENT 2\": 4,\n",
            "    \"JUDGMENT 3\": 5,\n",
            "    \"JUDGMENT 4\": 3,\n",
            "    \"JUDGMENT 5\": \"O sujeito está correto, mas o predicado não expressa a relação exata. O objeto reflete a informação corretamente, mas a tripla não captura completamente a natureza da afirmação.\"\n",
            "}\n",
            "O Plástico Adesivo Rolo 10 Metros Envelopamento Móveis Lavável é mais para um tom claro, específicamente um bege puxado para um palha bem claro.\n",
            "{plastico_adesivo_rolo_10_metros} {especificacao} {'cor bege puxado para palha'}\n",
            "avaliacao {\n",
            "    \"JUDGMENT 1\": 5,\n",
            "    \"JUDGMENT 2\": 5,\n",
            "    \"JUDGMENT 3\": 4,\n",
            "    \"JUDGMENT 4\": 4,\n",
            "    \"JUDGMENT 5\": \"O sujeito e o predicado estão corretos, mas o objeto não captura completamente a especificação da cor, que é mais detalhada na frase original.\"\n",
            "}\n",
            "O tamanho do Botas Segurança Calçado Pra Trabalho Epi C.a + Palmilha Gel é normal, correspondendo ao tamanho que o cliente está acostumado a usar.\n",
            "{botas_seguancia_calcao_pra_trabalho_epi_c_a} {especificacao} {'tamanho normal'}\n",
            "avaliacao {\n",
            "    \"JUDGMENT 1\": 5,\n",
            "    \"JUDGMENT 2\": 4,\n",
            "    \"JUDGMENT 3\": 3,\n",
            "    \"JUDGMENT 4\": 3,\n",
            "    \"JUDGMENT 5\": \"O sujeito está correto, mas o predicado e o objeto não capturam completamente a informação da frase original.\"\n",
            "}\n",
            "O Par Farol Milha Vectra 94 95 é vendido pelo valor referente ao par.\n",
            "{par_farol_milha_vectra_94_95} {especificacao} {'vendido_por_par'}\n",
            "avaliacao {\n",
            "    \"JUDGMENT 1\": 4,\n",
            "    \"JUDGMENT 2\": 3,\n",
            "    \"JUDGMENT 3\": 2,\n",
            "    \"JUDGMENT 4\": 1,\n",
            "    \"JUDGMENT 5\": \"O sujeito está parcialmente correto, mas o predicado e o objeto estão mal representados, não refletindo a informação original da frase.\"\n",
            "}\n",
            "A cama box possui pés com altura de 12cm, e a base fica com 22cm de altura sem os pés.\n",
            "{cama_box} {especificacao} {'altura 12cm e 22cm'}\n",
            "avaliacao {\n",
            "    \"JUDGMENT 1\": 5,\n",
            "    \"JUDGMENT 2\": 4,\n",
            "    \"JUDGMENT 3\": 3,\n",
            "    \"JUDGMENT 4\": 3,\n",
            "    \"JUDGMENT 5\": \"O sujeito está correto, mas o predicado e o objeto não refletem precisamente a informação da frase original.\"\n",
            "}\n",
            "O Colchão Solteiro Ortopédico Firme Espuma D33 78x188cm é ortopédico, pois possui espuma de alta qualidade e sustentação para coluna.\n",
            "{colchao_solteiro_ortopedico_firme_espuma_d33} {especificacao} {'tipo ortopedico'}\n",
            "avaliacao {\n",
            "    \"JUDGMENT 1\": 5,\n",
            "    \"JUDGMENT 2\": 4,\n",
            "    \"JUDGMENT 3\": 3,\n",
            "    \"JUDGMENT 4\": 3,\n",
            "    \"JUDGMENT 5\": \"O sujeito está correto, mas o predicado e o objeto não refletem completamente a informação da frase original.\"\n",
            "}\n",
            "O retentor dianteiro do Ford Corcel 1 é compatível com o eixo da polia que gira a ventoinha e o alternador.\n",
            "{retentor_dianteiro_ford_corcel_1} {especificacao} {'compativel com eixo da polia da ventoinha e alternador'}\n",
            "avaliacao {\n",
            "    \"JUDGMENT 1\": 5,\n",
            "    \"JUDGMENT 2\": 4,\n",
            "    \"JUDGMENT 3\": 3,\n",
            "    \"JUDGMENT 4\": 3,\n",
            "    \"JUDGMENT 5\": \"O sujeito está correto, mas o predicado e o objeto são vagos e não refletem a relação específica expressa na frase.\"\n",
            "}\n",
            "O Ventilador De Teto Ventisol Fênix Inverter Controle Remoto é silencioso quando instalado corretamente.\n",
            "{ventilador_de_teto_ventisol_fenix} {especificacao} {'operacao silenciosa'}\n",
            "avaliacao {\n",
            "    \"JUDGMENT 1\": 5,\n",
            "    \"JUDGMENT 2\": 4,\n",
            "    \"JUDGMENT 3\": 3,\n",
            "    \"JUDGMENT 4\": 3,\n",
            "    \"JUDGMENT 5\": \"O sujeito está correto, mas o predicado e o objeto são insuficientes para capturar completamente a informação da frase.\"\n",
            "}\n",
            "O Puff Bahamas Decoração Luxo Jardim Área Externa Seat Garden tem a especificação da cor na palha clara, que é equivalente à cor Cappuccino, uma tonalidade mesclada.\n",
            "{puff_bahamas_decoracao_luxo} {especificacao} {'cor palha clara ou cappuccino'}\n",
            "avaliacao {\n",
            "    \"JUDGMENT 1\": 5,\n",
            "    \"JUDGMENT 2\": 5,\n",
            "    \"JUDGMENT 3\": 4,\n",
            "    \"JUDGMENT 4\": 4,\n",
            "    \"JUDGMENT 5\": \"O sujeito e o predicado estão corretos, mas o objeto não reflete exatamente a especificação da cor como descrito na frase original.\"\n",
            "}\n",
            "O Servo Freio Hidrovacuo Santana 1992 93 94 95 96 97 98 1999 é nova\n",
            "{servo_freio_hidrovacuo_santana} {especificacao} {'condicao nova'}\n",
            "avaliacao {\n",
            "    \"JUDGMENT 1\": 5,\n",
            "    \"JUDGMENT 2\": 4,\n",
            "    \"JUDGMENT 3\": 5,\n",
            "    \"JUDGMENT 4\": 3,\n",
            "    \"JUDGMENT 5\": \"O sujeito está correto, mas o predicado não representa bem a relação expressa na frase. O objeto está adequado, mas a tripla como um todo não captura completamente a informação original.\"\n",
            "}\n",
            "O Sensor Map Gol / Parati / Saveiro / Polo Mi - 036906051 é um produto novo.\n",
            "{sensor_map_gol_parati_saveiro_polo_mi_036906051} {especificacao} {'estado produto novo'}\n",
            "avaliacao {\n",
            "    \"JUDGMENT 1\": 5,\n",
            "    \"JUDGMENT 2\": 4,\n",
            "    \"JUDGMENT 3\": 3,\n",
            "    \"JUDGMENT 4\": 3,\n",
            "    \"JUDGMENT 5\": \"O sujeito está correto, mas o predicado e o objeto não refletem precisamente a informação da frase original.\"\n",
            "}\n",
            "O produto Carnauba Blend Black Liquida Vonixx V-floc Luva Microfibra não permite troca do blend no anúncio atual, mas é possível efetuar a troca comprando por outro link que o vendedor fornece.\n",
            "{carnauba_blend_black_liquida_vonixx_v-floc_luva_microfibra} {especificacao} {'não permite troca do blend'}\n",
            "avaliacao {\n",
            "    \"JUDGMENT 1\": 5,\n",
            "    \"JUDGMENT 2\": 5,\n",
            "    \"JUDGMENT 3\": 4,\n",
            "    \"JUDGMENT 4\": 4,\n",
            "    \"JUDGMENT 5\": \"O sujeito e o predicado estão corretos, mas o objeto não captura completamente a informação da frase, que menciona a possibilidade de troca por outro link.\"\n",
            "}\n",
            "O Cabeçote Original Gm Completo Fiat Doblo 1.8 8v Flex 2006 tem a especificação de marca GM.\n",
            "{cabecote_original_gm_completo_fiat_doblo} {especificacao} {'marca GM'}\n",
            "avaliacao {\n",
            "    \"JUDGMENT 1\": 5,\n",
            "    \"JUDGMENT 2\": 5,\n",
            "    \"JUDGMENT 3\": 4,\n",
            "    \"JUDGMENT 4\": 4,\n",
            "    \"JUDGMENT 5\": \"O sujeito e o predicado estão corretos, mas o objeto não reflete completamente a especificação da marca, apenas menciona a marca GM.\"\n",
            "}\n",
            "O Farol Ford Fusion 2013 2014 2015 é novo e idêntico ao original.\n",
            "{farol_ford_fusion_2013_2014_2015} {especificacao} {'estado novo e identico ao original'}\n",
            "avaliacao {\n",
            "    \"JUDGMENT 1\": 5,\n",
            "    \"JUDGMENT 2\": 4,\n",
            "    \"JUDGMENT 3\": 5,\n",
            "    \"JUDGMENT 4\": 3,\n",
            "    \"JUDGMENT 5\": \"O sujeito está correto, mas o predicado não representa bem a relação. O objeto, no entanto, reflete adequadamente a informação da frase.\"\n",
            "}\n",
            "O aparelho continua com o Spotify ou Waze funcionando se o celular estiver conectado via Bluetooth, mesmo que a tela do celular esteja bloqueada.\n",
            "{aparelho} {especificacao} {'funciona_com_spotify_ou_waze_via_bluetooth'}\n",
            "avaliacao {\n",
            "    \"JUDGMENT 1\": 5,\n",
            "    \"JUDGMENT 2\": 4,\n",
            "    \"JUDGMENT 3\": 3,\n",
            "    \"JUDGMENT 4\": 3,\n",
            "    \"JUDGMENT 5\": \"O sujeito está correto, mas o predicado e o objeto são simplificados demais, perdendo detalhes importantes da frase original.\"\n",
            "}\n",
            "O Bico Injetor Ranger 4.0 V6 De 1998 A 2001 é da marca HD.\n",
            "{bico_injetor_ranger_4_0_v6} {especificacao} {'marca HD'}\n",
            "avaliacao {\n",
            "    \"JUDGMENT 1\": 5,\n",
            "    \"JUDGMENT 2\": 4,\n",
            "    \"JUDGMENT 3\": 3,\n",
            "    \"JUDGMENT 4\": 3,\n",
            "    \"JUDGMENT 5\": \"O sujeito está correto, mas o predicado e o objeto não refletem precisamente a informação original da frase.\"\n",
            "}\n",
            "O produto Manta Asfaltica Auto Adesiva Terracota 5 Uni 90cm X 10m está disponível para compra em uma quantidade de 6 rolos, juntamente com um balde de primer de 18lt.\n",
            "{manta_asfaltica_auto_adesiva_terracota} {especificacao} {'quantidade 6 rolos e inclui primer 18lt'}\n",
            "avaliacao {\n",
            "    \"JUDGMENT 1\": 5,\n",
            "    \"JUDGMENT 2\": 4,\n",
            "    \"JUDGMENT 3\": 3,\n",
            "    \"JUDGMENT 4\": 3,\n",
            "    \"JUDGMENT 5\": \"O sujeito está correto, mas o predicado e o objeto não refletem precisamente a informação da frase original.\"\n",
            "}\n",
            "O Quadro Para Sala Tela Canvas Moldura Cores Abstrata não está disponível com caixa de vidro no tamanho 60x90.\n",
            "{quadro_para_sala_tela_canvas_moldura_cores_abstrata} {indisponivel} {'caixa de vidro no tamanho 60x90'}\n",
            "avaliacao {\n",
            "    \"JUDGMENT 1\": 5,\n",
            "    \"JUDGMENT 2\": 5,\n",
            "    \"JUDGMENT 3\": 5,\n",
            "    \"JUDGMENT 4\": 5,\n",
            "    \"JUDGMENT 5\": \"A tripla reflete fielmente a frase original, incluindo o sujeito, o predicado e o objeto com precisão.\"\n",
            "}\n",
            "Os parafusos do disco de freio dianteiro para o Nxr 125-150 Canela estão disponíveis.\n",
            "{parafusos_do_disco_de_freio_dianteiro_para_nxr_125_150_canela} {disponivel} {}\n",
            "avaliacao {\n",
            "    \"JUDGMENT 1\": 5,\n",
            "    \"JUDGMENT 2\": 5,\n",
            "    \"JUDGMENT 3\": 1,\n",
            "    \"JUDGMENT 4\": 2,\n",
            "    \"JUDGMENT 5\": \"O sujeito e o predicado estão corretos, mas o objeto está vazio, o que não reflete a informação de disponibilidade.\"\n",
            "}\n",
            "O Par Palheta Limpador Parabrisa Bosch Aerotwin não tem a palheta traseira disponível, mas oferece um refil compatível para o Honda Fit 2010.\n",
            "{par_palheta_limpador_parabrisa_bosch_aerotwin} {indisponivel} {'palheta traseira'}\n",
            "avaliacao {\n",
            "    \"JUDGMENT 1\": 5,\n",
            "    \"JUDGMENT 2\": 5,\n",
            "    \"JUDGMENT 3\": 4,\n",
            "    \"JUDGMENT 4\": 4,\n",
            "    \"JUDGMENT 5\": \"O sujeito e o predicado estão corretos, mas o objeto não inclui a informação completa sobre a indisponibilidade do refil compatível.\"\n",
            "}\n",
            "O produto Wind Banner Dupla Face 3mts Completo - Criamos Sua Arte não tem a base branca disponível nesse anúncio, mas está disponível em outro anúncio.\n",
            "{wind_banner_dupla_face_3mts_completo} {indisponivel} {'base branca'}\n",
            "avaliacao {\n",
            "    \"JUDGMENT 1\": 5,\n",
            "    \"JUDGMENT 2\": 5,\n",
            "    \"JUDGMENT 3\": 4,\n",
            "    \"JUDGMENT 4\": 4,\n",
            "    \"JUDGMENT 5\": \"O sujeito e o predicado estão corretos, mas o objeto não captura completamente a informação da frase, que menciona a disponibilidade em outro anúncio.\"\n",
            "}\n",
            "O produto 4 Pcs Grampo De Fixação Tipo C Sargento 4 Polegadas - Ômega não tem a menor polegada solicitada, mas a menor medida em estoque é de 2 polegadas.\n",
            "{4_pcs_grampo_de_fixacao_tipo_c_sargento} {indisponivel} {'polegada solicitada'}\n",
            "avaliacao {\n",
            "    \"JUDGMENT 1\": 5,\n",
            "    \"JUDGMENT 2\": 4,\n",
            "    \"JUDGMENT 3\": 1,\n",
            "    \"JUDGMENT 4\": 2,\n",
            "    \"JUDGMENT 5\": \"O sujeito está correto, mas o predicado e o objeto estão incompletos e imprecisos. Falta especificar o que exatamente está indisponível.\"\n",
            "}\n",
            "O Jogo Raio Titan Fan 125 150 Start 160 Tambor Inox Par Bace é disponível para as duas rodas.\n",
            "{jogo_raio_titan_fan_125_150_start_160_tambor_inox} {disponivel} {'duas rodas'}\n",
            "avaliacao {\n",
            "    \"JUDGMENT 1\": 5,\n",
            "    \"JUDGMENT 2\": 5,\n",
            "    \"JUDGMENT 3\": 4,\n",
            "    \"JUDGMENT 4\": 4,\n",
            "    \"JUDGMENT 5\": \"O sujeito e o predicado estão corretos, mas o objeto poderia ser mais específico, indicando se são motocicletas ou bicicletas.\"\n",
            "}\n",
            "O produto Torneira De Banheiro Lavabo Luxo Metal Preta Black Curta está disponível para compra em quantidade de 4 unidades.\n",
            "{torneira_de_banheiro_lavabo_luxo_metal_preta} {disponivel} {'quantidade 4 unidades'}\n",
            "avaliacao {\n",
            "    \"JUDGMENT 1\": 5,\n",
            "    \"JUDGMENT 2\": 5,\n",
            "    \"JUDGMENT 3\": 4,\n",
            "    \"JUDGMENT 4\": 4,\n",
            "    \"JUDGMENT 5\": \"O sujeito e o predicado estão corretos, mas o objeto não reflete completamente a informação da frase original.\"\n",
            "}\n",
            "O produto não está disponível na cor verde em quantidade de 10 unidades.\n",
            "{produto} {indisponivel} {'cor verde em quantidade de 10 unidades'}\n",
            "avaliacao {\n",
            "    \"JUDGMENT 1\": 5,\n",
            "    \"JUDGMENT 2\": 4,\n",
            "    \"JUDGMENT 3\": 3,\n",
            "    \"JUDGMENT 4\": 3,\n",
            "    \"JUDGMENT 5\": \"O sujeito está correto, mas o predicado e o objeto não refletem completamente a frase original.\"\n",
            "}\n",
            "A lona separada para a Tenda Gazebo 3x3 Semi Profissional Praia Piscina Churrasco está disponível para compra.\n",
            "{lona_separada_para_tenda_gazebo} {disponivel} {'tenda_gazebo_3x3_semi_profissional'}\n",
            "avaliacao {\n",
            "    \"JUDGMENT 1\": 5,\n",
            "    \"JUDGMENT 2\": 4,\n",
            "    \"JUDGMENT 3\": 3,\n",
            "    \"JUDGMENT 4\": 3,\n",
            "    \"JUDGMENT 5\": \"O sujeito está correto, mas o predicado e o objeto são parciais, não refletindo completamente a informação da frase.\"\n",
            "}\n",
            "A Roçadeira 4x1 Profissional Gasolina Nakasaki Japan 60cc 3hp está disponível com um tubo inteiro e cardan para venda.\n",
            "{roçadeira_4x1_profissional_gasolina_nakasaki_japan_60cc_3hp} {disponivel} {'tubo inteiro e cardan'}\n",
            "avaliacao {\n",
            "    \"JUDGMENT 1\": 5,\n",
            "    \"JUDGMENT 2\": 5,\n",
            "    \"JUDGMENT 3\": 4,\n",
            "    \"JUDGMENT 4\": 4,\n",
            "    \"JUDGMENT 5\": \"O sujeito e o predicado são corretos, mas o objeto omite a informação de que a roçadeira está disponível para venda.\"\n",
            "}\n",
            "O Apoio De Braço Encosto Onix E Prisma não está disponível para o modelo 2021, mas há uma opção para o mesmo disponível em outro anúncio.\n",
            "{apoio_de_braço_encosto_onix_e_prisma} {indisponivel} {'modelo 2021'}\n",
            "avaliacao {\n",
            "    \"JUDGMENT 1\": 5,\n",
            "    \"JUDGMENT 2\": 5,\n",
            "    \"JUDGMENT 3\": 3,\n",
            "    \"JUDGMENT 4\": 4,\n",
            "    \"JUDGMENT 5\": \"O sujeito e o predicado estão corretos, mas o objeto é parcial e não reflete completamente a informação da frase, que menciona a indisponibilidade em um modelo específico e a existência de uma opção em outro anúncio.\"\n",
            "}\n",
            "O Jogo Tapetes Mitsubishi Asx 2013 2014 Borracha 05 Pçs está disponível para pronta entrega.\n",
            "{jogo_tapetes_mitsubishi_asx_2013_2014_borracha_05_pcs} {disponivel} {'pronta entrega'}\n",
            "avaliacao {\n",
            "    \"JUDGMENT 1\": 5,\n",
            "    \"JUDGMENT 2\": 5,\n",
            "    \"JUDGMENT 3\": 4,\n",
            "    \"JUDGMENT 4\": 4,\n",
            "    \"JUDGMENT 5\": \"O sujeito e o predicado estão corretos, mas o objeto poderia ser mais específico, indicando que a entrega é pronta.\"\n",
            "}\n",
            "O Kit Quadros Decorativos Sala Árvore Da Vida Entardecer Sol está disponível em tamanhos maiores, de acordo com a necessidade do comprador.\n",
            "{kit_quadros_decorativos_sala_arvore_da_vida_entardecer_sol} {disponivel} {'tamanhos maiores'}\n",
            "{\n",
            "    \"JUDGMENT 1\": 5,\n",
            "    \"JUDGMENT 2\": 5,\n",
            "    \"JUDGMENT 3\": 4,\n",
            "    \"JUDGMENT 4\": 4,\n",
            "    \"JUDGMENT 5\": \"O sujeito e o predicado estão corretos, mas o objeto falta especificar a condição de acordo com a necessidade do comprador.\"\n",
            "}\n",
            "O Colchão Solteiro Espuma D28 A Vácuo Ortopédica não está disponível no tamanho 90x190, mas podem fabricá-lo especialmente em tal medida.\n",
            "{colchao_solteiro_espuma_d28_a_vacuo_ortopedica} {indisponivel} {'tamanho 90x190'}\n",
            "avaliacao {\n",
            "    \"JUDGMENT 1\": 5,\n",
            "    \"JUDGMENT 2\": 5,\n",
            "    \"JUDGMENT 3\": 4,\n",
            "    \"JUDGMENT 4\": 4,\n",
            "    \"JUDGMENT 5\": \"O sujeito e o predicado estão corretos, mas o objeto não reflete completamente a informação da frase, que menciona a possibilidade de fabricação especial.\"\n",
            "}\n",
            "O Kit Relação Coroa Pinhão E Corrente Cb 300 Kmc Pro com pinhão 14 não está disponível no momento.\n",
            "{kit_relacao_coroa_pinhao_e_corrente_cb_300_kmc_pro} {indisponivel} {no_momento}\n",
            "avaliacao {\n",
            "    \"JUDGMENT 1\": 5,\n",
            "    \"JUDGMENT 2\": 5,\n",
            "    \"JUDGMENT 3\": 5,\n",
            "    \"JUDGMENT 4\": 5,\n",
            "    \"JUDGMENT 5\": \"A tripla reflete fielmente a frase original, capturando corretamente o sujeito, o predicado e o objeto.\"\n",
            "}\n",
            "O produto Proteção Quina 4 Portas Borracha Preto Corolla 2020 2021 não tem borracha da porta do carona disponível.\n",
            "{protecao_quina_4_portas_borracha_preto_corolla_2020_2021} {indisponivel} {'borracha da porta do carona'}\n",
            "avaliacao {\n",
            "    \"JUDGMENT 1\": 5,\n",
            "    \"JUDGMENT 2\": 5,\n",
            "    \"JUDGMENT 3\": 5,\n",
            "    \"JUDGMENT 4\": 5,\n",
            "    \"JUDGMENT 5\": \"A tripla reflete fielmente a frase original, com sujeito, predicado e objeto corretamente identificados.\"\n",
            "}\n",
            "O Kit Par 2 Amortecedor Dianteiro Original Nakata não está disponível no momento.\n",
            "{kit_par_2_amortecedor_dianteiro_original_nakata} {indisponivel} {no_momento}\n",
            "avaliacao {\n",
            "    \"JUDGMENT 1\": 5,\n",
            "    \"JUDGMENT 2\": 5,\n",
            "    \"JUDGMENT 3\": 5,\n",
            "    \"JUDGMENT 4\": 5,\n",
            "    \"JUDGMENT 5\": \"A tripla reflete fielmente a frase original, capturando corretamente sujeito, predicado e objeto.\"\n",
            "}\n",
            "O Par Lente Farol Hb20 Hyundai Hatch & Sedan não está disponível para o modelo 2023.\n",
            "{par_lente_farol_hb20_hyundai} {indisponivel} {'modelo 2023'}\n",
            "avaliacao {\n",
            "    \"JUDGMENT 1\": 5,\n",
            "    \"JUDGMENT 2\": 5,\n",
            "    \"JUDGMENT 3\": 3,\n",
            "    \"JUDGMENT 4\": 4,\n",
            "    \"JUDGMENT 5\": \"O sujeito e o predicado estão corretos, mas o objeto não reflete completamente a informação da frase, que especifica o modelo 2023 em particular.\"\n",
            "}\n",
            "O coxim de câmbio para o C4 1.6 hatch competition 13/14 está disponível.\n",
            "{coxin_de_cambio_para_c4_1_6_hatch_competition_13_14} {disponivel} {}\n",
            "avaliacao {\n",
            "    \"JUDGMENT 1\": 5,\n",
            "    \"JUDGMENT 2\": 5,\n",
            "    \"JUDGMENT 3\": 1,\n",
            "    \"JUDGMENT 4\": 2,\n",
            "    \"JUDGMENT 5\": \"O sujeito e o predicado estão corretos, mas o objeto está vazio, o que não reflete a informação de disponibilidade.\"\n",
            "}\n",
            "O produto Caixa Câmbio Transmissão Bs09 Towner Jr, Effa, Hafei não está disponível para o modelo EFFA N900.\n",
            "{caixa_cambio_transmissao_bs09_towner_jr_effa_hafei} {indisponivel} {'modelo effa n900'}\n",
            "avaliacao {\n",
            "    \"JUDGMENT 1\": 5,\n",
            "    \"JUDGMENT 2\": 5,\n",
            "    \"JUDGMENT 3\": 4,\n",
            "    \"JUDGMENT 4\": 4,\n",
            "    \"JUDGMENT 5\": \"O sujeito e o predicado estão corretos, mas o objeto não reflete completamente a informação da frase original.\"\n",
            "}\n",
            "O vendedor não forneceu uma resposta direta sobre a disponibilidade do Gabinete Para Banheiro Com Rodizios 80cm 2 Gavetas na cor preta, apenas forneceu um link para verificar as cores disponíveis.\n",
            "{gabinete_para_banheiro_com_rodizios_80cm_2_gavetas} {indisponivel} {'cor preta'}\n",
            "avaliacao {\n",
            "    \"JUDGMENT 1\": 5,\n",
            "    \"JUDGMENT 2\": 3,\n",
            "    \"JUDGMENT 3\": 1,\n",
            "    \"JUDGMENT 4\": 2,\n",
            "    \"JUDGMENT 5\": \"O sujeito está correto, mas o predicado e o objeto não refletem a informação completa da frase. A tripla omite a falta de resposta direta e o link fornecido.\"\n",
            "}\n",
            "A Manta Asfáltica Auto Adesiva Aluminizada 90cm X 10m está disponível para entrega pronta.\n",
            "{manta_asfaltica_auto_adesiva_aluminizada_90cm_x_10m} {disponivel} {'entrega pronta'}\n",
            "avaliacao {\n",
            "    \"JUDGMENT 1\": 5,\n",
            "    \"JUDGMENT 2\": 5,\n",
            "    \"JUDGMENT 3\": 5,\n",
            "    \"JUDGMENT 4\": 5,\n",
            "    \"JUDGMENT 5\": \"A tripla reflete fielmente a frase original, com sujeito, predicado e objeto corretamente identificados.\"\n",
            "}\n",
            "O produto Volante Multimídia Interface Jfa Vw Gol Golf G2 Comando Som não está disponível somente com os comandos sem o volante.\n",
            "{volante_multimidia_interface_jfa_vw_gol_golf_g2_comando_som} {indisponivel} {'comandos sem volante'}\n",
            "avaliacao {\n",
            "    \"JUDGMENT 1\": 5,\n",
            "    \"JUDGMENT 2\": 5,\n",
            "    \"JUDGMENT 3\": 4,\n",
            "    \"JUDGMENT 4\": 4,\n",
            "    \"JUDGMENT 5\": \"O sujeito e o predicado estão corretos, mas o objeto não reflete completamente a frase original, que menciona a indisponibilidade somente com comandos sem o volante.\"\n",
            "}\n",
            "O kit Correia dentada para Ford Focus 10/11 motor 1.6 16 válvulas não está disponível.\n",
            "{kit_correia_dentada_para_ford_focus} {indisponivel} {}\n",
            "avaliacao {\n",
            "    \"JUDGMENT 1\": 5,\n",
            "    \"JUDGMENT 2\": 5,\n",
            "    \"JUDGMENT 3\": 1,\n",
            "    \"JUDGMENT 4\": 2,\n",
            "    \"JUDGMENT 5\": \"O sujeito e o predicado estão corretos, mas o objeto está vazio, o que não reflete a informação de que o item não está disponível.\"\n",
            "}\n",
            "O produto maçaneta interna do lado do motorista está disponível e pode ser encontrado no link https://produto.mercadolivre.com.br/MLB-823775496-macaneta-interna-cinza-suporte-gol-parati-g2-g3-2-portas-esq-.\n",
            "{macaneta_interna_lado_motorista} {disponivel} {https://produto.mercadolivre.com.br/MLB-823775496-macaneta-interna-cinza-suporte-gol-parati-g2-g3-2-portas-esq-}\n",
            "avaliacao {\n",
            "    \"JUDGMENT 1\": 5,\n",
            "    \"JUDGMENT 2\": 5,\n",
            "    \"JUDGMENT 3\": 4,\n",
            "    \"JUDGMENT 4\": 4,\n",
            "    \"JUDGMENT 5\": \"O sujeito e o predicado estão corretos, mas o objeto é um link de produto em vez de uma descrição do local onde o produto pode ser encontrado.\"\n",
            "}\n",
            "O Armário De Cozinha Completa Branco Promoção Juliete não está disponível na cor preta.\n",
            "{armario_de_cozinha_completa_branco_promocao_juliete} {indisponivel} {'cor preta'}\n",
            "avaliacao {\n",
            "    \"JUDGMENT 1\": 5,\n",
            "    \"JUDGMENT 2\": 5,\n",
            "    \"JUDGMENT 3\": 4,\n",
            "    \"JUDGMENT 4\": 4,\n",
            "    \"JUDGMENT 5\": \"O sujeito e o predicado estão corretos, mas o objeto não reflete completamente a informação da frase, que especifica a cor não disponível.\"\n",
            "}\n",
            "O Colchão Solteiro Espuma D45 Extra Firme Ortopédico está disponível no tamanho de 78cm por 1.88cm.\n",
            "{colchao_solteiro_espuma_d45_extra_firme_ortopedico} {disponivel} {'tamanho 78cm por 1.88cm'}\n",
            "avaliacao {\n",
            "    \"JUDGMENT 1\": 5,\n",
            "    \"JUDGMENT 2\": 5,\n",
            "    \"JUDGMENT 3\": 4,\n",
            "    \"JUDGMENT 4\": 4,\n",
            "    \"JUDGMENT 5\": \"O sujeito e o predicado estão corretos, mas o objeto precisa ser ajustado para refletir o tamanho corretamente, que é 78cm de largura por 188cm de comprimento.\"\n",
            "}\n",
            "O Kit Selo Do Bloco Do Motor Fiat Uno Palio 36.2 Mm ( 10 Pcs ) não está disponível em alumínio.\n",
            "{kit_selo_bloco_motor_fiat_uno_palio} {indisponivel} {'material aluminio'}\n",
            "avaliacao {\n",
            "    \"JUDGMENT 1\": 5,\n",
            "    \"JUDGMENT 2\": 5,\n",
            "    \"JUDGMENT 3\": 3,\n",
            "    \"JUDGMENT 4\": 4,\n",
            "    \"JUDGMENT 5\": \"O sujeito e o predicado estão corretos, mas o objeto não especifica claramente que o material não é aluminio.\"\n",
            "}\n",
            "O Kit 10 Painel Plafon Led 18w Embutir Quadrado Luminária está disponível para compra de 15 unidades através do link fornecido pelo vendedor.\n",
            "{kit_10_painel_plafon_led_18w_embutir_quadrado_luminaria} {disponivel} {'quantidade 15 unidades'}\n",
            "avaliacao {\n",
            "    \"JUDGMENT 1\": 5,\n",
            "    \"JUDGMENT 2\": 4,\n",
            "    \"JUDGMENT 3\": 3,\n",
            "    \"JUDGMENT 4\": 3,\n",
            "    \"JUDGMENT 5\": \"O sujeito está correto, mas o predicado e o objeto estão incompletos. Falta especificar a ação de compra e o link fornecido.\"\n",
            "}\n",
            "O Conjunto Assoalho Fusca (assoalho/caixa De Ar/pe/cangalha) está disponível para o Fusca 77.\n",
            "{conjunto_assoalho_fusca} {disponivel} {'modelo Fusca 77'}\n",
            "avaliacao {\n",
            "    \"JUDGMENT 1\": 5,\n",
            "    \"JUDGMENT 2\": 5,\n",
            "    \"JUDGMENT 3\": 4,\n",
            "    \"JUDGMENT 4\": 4,\n",
            "    \"JUDGMENT 5\": \"O sujeito e o predicado são corretos, mas o objeto poderia ser mais específico, incluindo os itens do conjunto.\"\n",
            "}\n",
            "O produto Lanterna Civic 2012 2013 2014 2015 16 Canto está disponível para o lado direito.\n",
            "{lanterna_civic_2012_2013_2014_2015_16_canto} {disponivel} {'lado direito'}\n",
            "avaliacao {\n",
            "    \"JUDGMENT 1\": 5,\n",
            "    \"JUDGMENT 2\": 5,\n",
            "    \"JUDGMENT 3\": 4,\n",
            "    \"JUDGMENT 4\": 4,\n",
            "    \"JUDGMENT 5\": \"O sujeito e o predicado estão corretos, mas o objeto poderia ser mais específico, indicando 'lado direito do veículo'.\"\n",
            "}\n",
            "O produto Volante Multifuncional Fiat Siena 2008 2009 2010 2011 12 13 não está disponível apenas com o volante sem o controle.\n",
            "{volante_multifuncional_fiat_siena} {indisponivel} {'com volante sem controle'}\n",
            "avaliacao {\n",
            "    \"JUDGMENT 1\": 5,\n",
            "    \"JUDGMENT 2\": 5,\n",
            "    \"JUDGMENT 3\": 4,\n",
            "    \"JUDGMENT 4\": 4,\n",
            "    \"JUDGMENT 5\": \"O sujeito e o predicado estão corretos, mas o objeto não reflete completamente a negação da disponibilidade.\"\n",
            "}\n",
            "O Painel Festa Retangular Balada Neon Casadinho Tecido 1,5x2,2, modelo ANV-2553, está disponível.\n",
            "{painel_festa_retangular_balada_neon_casadinho_tecido} {disponivel} {modelo_anv_2553}\n",
            "avaliacao {\n",
            "    \"JUDGMENT 1\": 4,\n",
            "    \"JUDGMENT 2\": 3,\n",
            "    \"JUDGMENT 3\": 2,\n",
            "    \"JUDGMENT 4\": 1,\n",
            "    \"JUDGMENT 5\": \"O sujeito está parcialmente correto, mas o predicado e o objeto estão incorretos. A tripla não reflete a informação completa da frase original.\"\n",
            "}\n",
            "O produto Jogo Junta Motor Vw Ap 1.6 1.8 Gol Voyage Santana 85/... não está disponível sem a junta do cabeçote.\n",
            "{jogo_junta_motor_vw_ap_1_6_1_8_gol_voyage_santana} {indisponivel} {'sem junta do cabecote'}\n",
            "avaliacao {\n",
            "    \"JUDGMENT 1\": 5,\n",
            "    \"JUDGMENT 2\": 5,\n",
            "    \"JUDGMENT 3\": 4,\n",
            "    \"JUDGMENT 4\": 4,\n",
            "    \"JUDGMENT 5\": \"O sujeito e o predicado estão corretos, mas o objeto poderia ser mais específico, indicando a condição completa da indisponibilidade.\"\n",
            "}\n",
            "O Armário Aéreo 150cm 3 Portas Argélia Branco - Lumil não está disponível na medida de 1,40.\n",
            "{armario_aereo_150cm_3_portas_argelia} {indisponivel} {'medida 1,40'}\n",
            "avaliacao {\n",
            "    \"JUDGMENT 1\": 5,\n",
            "    \"JUDGMENT 2\": 5,\n",
            "    \"JUDGMENT 3\": 4,\n",
            "    \"JUDGMENT 4\": 4,\n",
            "    \"JUDGMENT 5\": \"O sujeito e o predicado estão corretos, mas o objeto poderia ser mais preciso, especificando a medida exata.\"\n",
            "}\n",
            "O Transformador 1500va 1000w 220v Pra 110v Bivolt Fiolux está disponível para entrega imediata.\n",
            "{transformador_1500va_1000w_220v_pra_110v_bivolt_fiolux} {disponivel} {'entrega imediata'}\n",
            "avaliacao {\n",
            "    \"JUDGMENT 1\": 5,\n",
            "    \"JUDGMENT 2\": 5,\n",
            "    \"JUDGMENT 3\": 5,\n",
            "    \"JUDGMENT 4\": 5,\n",
            "    \"JUDGMENT 5\": \"A tripla captura corretamente o sujeito, o predicado e o objeto da frase original.\"\n",
            "}\n",
            "A Caixa De Roda Fusca 71 72 73 74 75 76 do lado do motorista está disponível.\n",
            "{caixa_de_roda_fusca_71_72_73_74_75_76} {disponivel} {lado_do_motorista}\n",
            "avaliacao {\n",
            "    \"JUDGMENT 1\": 5,\n",
            "    \"JUDGMENT 2\": 5,\n",
            "    \"JUDGMENT 3\": 4,\n",
            "    \"JUDGMENT 4\": 4,\n",
            "    \"JUDGMENT 5\": \"O sujeito e o predicado estão corretos, mas o objeto não reflete completamente a informação da frase original.\"\n",
            "}\n",
            "O Guarda-sol Gigante 2,4m Piscina Praia Articulado está disponível em várias cores, que podem ser encontradas no link fornecido.\n",
            "{guarda_sol_gigante} {disponivel} {'varias cores'}\n",
            "avaliacao {\n",
            "    \"JUDGMENT 1\": 5,\n",
            "    \"JUDGMENT 2\": 4,\n",
            "    \"JUDGMENT 3\": 2,\n",
            "    \"JUDGMENT 4\": 3,\n",
            "    \"JUDGMENT 5\": \"O sujeito está correto, mas o predicado e o objeto estão incompletos. A tripla não reflete completamente a informação da frase original.\"\n",
            "}\n",
            "O Cachepot Em Cimento 25x15cm Rosa Mart 12329 não está disponível com suporte no momento.\n",
            "{cachepot_em_cimento_25x15cm_rosa_mart_12329} {indisponivel} {'suporte'}\n",
            "avaliacao {\n",
            "    \"JUDGMENT 1\": 5,\n",
            "    \"JUDGMENT 2\": 5,\n",
            "    \"JUDGMENT 3\": 3,\n",
            "    \"JUDGMENT 4\": 4,\n",
            "    \"JUDGMENT 5\": \"O sujeito e o predicado estão corretos, mas o objeto é insuficiente. Faltam detalhes sobre o motivo da indisponibilidade.\"\n",
            "}\n",
            "O produto Capo Hilux 2012 2013 2014 Com Furo Intercooler está disponível para pronta entrega.\n",
            "{capo_hilux_2012_2013_2014_com_furo_intercooler} {disponivel} {pronta_entrega}\n",
            "avaliacao {\n",
            "    \"JUDGMENT 1\": 5,\n",
            "    \"JUDGMENT 2\": 5,\n",
            "    \"JUDGMENT 3\": 5,\n",
            "    \"JUDGMENT 4\": 5,\n",
            "    \"JUDGMENT 5\": \"A tripla reflete fielmente a frase original, capturando corretamente o sujeito, a relação e o objeto.\"\n",
            "}\n",
            "O Armário Aéreo 160cm 4 Portas Nevada Castanho/cinza - Lumil está disponível na cor preto com marron.\n",
            "{armario_aereo_160cm_4_portas_nevada} {disponivel} {'cor preto com marron'}\n",
            "avaliacao {\n",
            "    \"JUDGMENT 1\": 5,\n",
            "    \"JUDGMENT 2\": 4,\n",
            "    \"JUDGMENT 3\": 3,\n",
            "    \"JUDGMENT 4\": 3,\n",
            "    \"JUDGMENT 5\": \"O sujeito está correto, mas o predicado e o objeto estão incompletos. A tripla não reflete completamente a informação da frase original.\"\n",
            "}\n",
            "O Sensor Velocidade Ds Omega Suprema 4.1 1996 não vem com a coroa e o pinhão do sensor de velocidade.\n",
            "{sensor_velocidade_ds_omega_suprema_4_1_1996} {indisponivel} {'coroa e pinhao do sensor de velocidade'}\n",
            "avaliacao {\n",
            "    \"JUDGMENT 1\": 5,\n",
            "    \"JUDGMENT 2\": 5,\n",
            "    \"JUDGMENT 3\": 4,\n",
            "    \"JUDGMENT 4\": 4,\n",
            "    \"JUDGMENT 5\": \"O sujeito e o predicado estão corretos, mas o objeto poderia ser mais preciso, especificando exatamente o que não vem com o sensor.\"\n",
            "}\n",
            "O produto Reparo Parcial Carburador Solex Simples 30 Pci Vw Fusca 1500 não está disponível para o kit do carburador 32 PCI do Fusca.\n",
            "{reparo_parcial_carburador_solex_simples_30_pci_vw_fusca_1500} {indisponivel} {'kit do carburador 32 PCI do Fusca'}\n",
            "avaliacao {\n",
            "    \"JUDGMENT 1\": 5,\n",
            "    \"JUDGMENT 2\": 5,\n",
            "    \"JUDGMENT 3\": 5,\n",
            "    \"JUDGMENT 4\": 5,\n",
            "    \"JUDGMENT 5\": \"A tripla reflete fielmente a frase original, com sujeito, predicado e objeto corretamente identificados.\"\n",
            "}\n",
            "O Kit Painéis Romano E Redondo E Capas Fundo Do Mar não tem as capas de painel romano no tema leo o caminhão disponíveis para compra direta com imagem, mas é possível adquirir o painel romano avulso e escolher a imagem após a compra.\n",
            "{kit_paineis_romano_e_redondo_e_capas_fundo_do_mar} {indisponivel} {'capas de painel romano no tema leo o caminhão'}\n",
            "avaliacao {\n",
            "    \"JUDGMENT 1\": 5,\n",
            "    \"JUDGMENT 2\": 5,\n",
            "    \"JUDGMENT 3\": 4,\n",
            "    \"JUDGMENT 4\": 4,\n",
            "    \"JUDGMENT 5\": \"O sujeito e o predicado estão corretos, mas o objeto poderia ser mais específico, indicando exatamente o que não está disponível.\"\n",
            "}\n",
            "O Jogo De Taças De Cerveja 320 Ml 6 Pcs não está disponível com 8 unidades da taça com desenho da Stella, mas é possível adicionar mais quantidades ao carrinho.\n",
            "{jogo_de_tacas_de_cerveja_320_ml_6_pcs} {indisponivel} {'taça com desenho da Stella com 8 unidades'}\n",
            "avaliacao {\n",
            "    \"JUDGMENT 1\": 5,\n",
            "    \"JUDGMENT 2\": 4,\n",
            "    \"JUDGMENT 3\": 3,\n",
            "    \"JUDGMENT 4\": 3,\n",
            "    \"JUDGMENT 5\": \"O sujeito está correto, mas o predicado e o objeto não capturam completamente a informação da frase. A tripla omite a condição de indisponibilidade e o fato de que é possível adicionar mais quantidades.\"\n",
            "}\n",
            "O Kit 10 Tulipa De Chopp Degradê Personalizada não está disponível na cor preta.\n",
            "{kit_10_tulipa_de_chopp_degrade_personalizada} {indisponivel} {'cor preta'}\n",
            "avaliacao {\n",
            "    \"JUDGMENT 1\": 5,\n",
            "    \"JUDGMENT 2\": 5,\n",
            "    \"JUDGMENT 3\": 4,\n",
            "    \"JUDGMENT 4\": 4,\n",
            "    \"JUDGMENT 5\": \"O sujeito e o predicado estão corretos, mas o objeto deve incluir a informação de que a cor não está disponível.\"\n",
            "}\n",
            "O kit rolamento retentor da 226 não está disponível.\n",
            "{kit_rolamento_retentor_da_226} {indisponivel} {}\n",
            "avaliacao {\n",
            "    \"JUDGMENT 1\": 5,\n",
            "    \"JUDGMENT 2\": 5,\n",
            "    \"JUDGMENT 3\": 1,\n",
            "    \"JUDGMENT 4\": 2,\n",
            "    \"JUDGMENT 5\": \"O sujeito e o predicado estão corretos, mas o objeto está vazio, o que não reflete a informação de que o item não está disponível.\"\n",
            "}\n",
            "O produto Acionador do Tensor da Corrente da CBR 929 não está disponível.\n",
            "{acionador_do_tensor_da_corrente_da_cbr_929} {indisponivel} {}\n",
            "avaliacao {\n",
            "    \"JUDGMENT 1\": 5,\n",
            "    \"JUDGMENT 2\": 5,\n",
            "    \"JUDGMENT 3\": 1,\n",
            "    \"JUDGMENT 4\": 2,\n",
            "    \"JUDGMENT 5\": \"O sujeito e o predicado estão corretos, mas o objeto está vazio, o que não reflete a informação de que o produto não está disponível.\"\n",
            "}\n",
            "O Kit 3 Bermudas Masculinas De Sarja Colorida Com Lycra Shorts não está disponível no tamanho 44 na cor preta.\n",
            "{kit_3_bermudas_masculinas_de_sarja_colorida_com_lycra_shorts} {indisponivel} {'tamanho 44 na cor preta'}\n",
            "avaliacao {\n",
            "    \"JUDGMENT 1\": 5,\n",
            "    \"JUDGMENT 2\": 5,\n",
            "    \"JUDGMENT 3\": 5,\n",
            "    \"JUDGMENT 4\": 5,\n",
            "    \"JUDGMENT 5\": \"A tripla reflete fielmente a frase original, capturando corretamente o sujeito, a relação e o objeto.\"\n",
            "}\n",
            "O Jogo Tapete Hr-v 2015/.. Porta Copos Objetos Kit Forro não está disponível para o modelo HR-V 2022/23.\n",
            "{jogo_tapete_hr_v} {indisponivel} {'modelo HR-V 2022/23'}\n",
            "avaliacao {\n",
            "    \"JUDGMENT 1\": 5,\n",
            "    \"JUDGMENT 2\": 5,\n",
            "    \"JUDGMENT 3\": 5,\n",
            "    \"JUDGMENT 4\": 5,\n",
            "    \"JUDGMENT 5\": \"A tripla reflete fielmente a frase original, com sujeito, predicado e objeto corretamente identificados.\"\n",
            "}\n",
            "O Escapamento Racing 3 Trioval Cg 125 Fan 2009 A 2015 Gemoto está disponível totalmente preto.\n",
            "{escapamento_racing_3_trioval_cg_125_fan_2009_a_2015_gemoto} {disponivel} {'cor preto'}\n",
            "avaliacao {\n",
            "    \"JUDGMENT 1\": 5,\n",
            "    \"JUDGMENT 2\": 5,\n",
            "    \"JUDGMENT 3\": 3,\n",
            "    \"JUDGMENT 4\": 4,\n",
            "    \"JUDGMENT 5\": \"O sujeito e o predicado estão corretos, mas o objeto não reflete completamente a informação da frase, que indica a cor disponível, não a cor do produto.\"\n",
            "}\n",
            "O Quadro Abstrato Vidro Caixa Alta Tons Azul E Palha 70x50cm não está disponível em outras opções.\n",
            "{quadro_abstrato_vidro_caixa_alta_tons_azul_e_palha_70x50cm} {indisponivel} {'outras opcoes'}\n",
            "avaliacao {\n",
            "    \"JUDGMENT 1\": 5,\n",
            "    \"JUDGMENT 2\": 5,\n",
            "    \"JUDGMENT 3\": 4,\n",
            "    \"JUDGMENT 4\": 4,\n",
            "    \"JUDGMENT 5\": \"O sujeito e o predicado estão corretos, mas o objeto não especifica claramente as opções não disponíveis.\"\n",
            "}\n",
            "O produto Canela De Bengala Nxr 150 Bros Lado Direito Freio Tambor não está disponível montado para o lado direito da Bros 2010.\n",
            "{canela_de_bengala_nxr_150_bros_lado_direito_freio_tambor} {indisponivel} {'lado direito da Bros 2010'}\n",
            "{\n",
            "    \"JUDGMENT 1\": 5,\n",
            "    \"JUDGMENT 2\": 5,\n",
            "    \"JUDGMENT 3\": 3,\n",
            "    \"JUDGMENT 4\": 4,\n",
            "    \"JUDGMENT 5\": \"O sujeito e o predicado estão corretos, mas o objeto não reflete a informação completa da frase. A frase menciona que o freio não está disponível montado para o lado direito, não apenas a localização.\"\n",
            "}\n",
            "O Jogo Pistão E Anéis 0,50 Focus 1.6 Zetec Rocam não está disponível no anúncio, mas o vendedor forneceu links para produtos que atendem às especificações solicitadas, incluindo pistões e anéis 0,50 para gasolina e bronzinas de medida 0,25.\n",
            "{jogo_pistao_e_anies_0_50_focus_1_6_zetec_rocam} {indisponivel} {'anuncio'}\n",
            "avaliacao {\n",
            "    \"JUDGMENT 1\": 5,\n",
            "    \"JUDGMENT 2\": 4,\n",
            "    \"JUDGMENT 3\": 1,\n",
            "    \"JUDGMENT 4\": 2,\n",
            "    \"JUDGMENT 5\": \"O sujeito está correto, mas a tripla omite informações importantes sobre o objeto e a condição de indisponibilidade.\"\n",
            "}\n",
            "O Pneu Traseiro Borilli 110/100-18 está disponível.\n",
            "{pneu_traseiro_borilli_110/100-18} {disponivel} {null}\n",
            "avaliacao {\n",
            "    \"JUDGMENT 1\": 5,\n",
            "    \"JUDGMENT 2\": 5,\n",
            "    \"JUDGMENT 3\": 1,\n",
            "    \"JUDGMENT 4\": 2,\n",
            "    \"JUDGMENT 5\": \"O sujeito e o predicado estão corretos, mas o objeto é nulo, o que não reflete a informação de disponibilidade.\"\n",
            "}\n",
            "O Jogo Tapete Hr-v 2015/.. Porta Copos Objetos Kit Forro não está disponível para o modelo HR-V 2022/23.\n",
            "{jogo_tapete_hr_v} {indisponivel} {'modelo HR-V 2022/23'}\n",
            "avaliacao {\n",
            "    \"JUDGMENT 1\": 5,\n",
            "    \"JUDGMENT 2\": 5,\n",
            "    \"JUDGMENT 3\": 5,\n",
            "    \"JUDGMENT 4\": 5,\n",
            "    \"JUDGMENT 5\": \"A tripla reflete fielmente a frase original, com sujeito, predicado e objeto corretamente identificados.\"\n",
            "}\n",
            "O Espigão Em Aço Inox 304 com rosca BSP de 3/4 para espiga de 1/2 não está disponível.\n",
            "{espigao_em_aco_inox_304} {indisponivel} {}\n",
            "avaliacao {\n",
            "    \"JUDGMENT 1\": 5,\n",
            "    \"JUDGMENT 2\": 5,\n",
            "    \"JUDGMENT 3\": 1,\n",
            "    \"JUDGMENT 4\": 2,\n",
            "    \"JUDGMENT 5\": \"O sujeito e o predicado estão corretos, mas o objeto está vazio, o que não reflete a informação de que o item não está disponível.\"\n",
            "}\n",
            "O Vestido Longo Multiuso Multiformas Madrinha Casamento não tem o tamanho M na cor Azul Serenit, mas tem disponível no tamanho M em outras cores.\n",
            "{vestido_longo_multiuso_multiformas_madrinha_casamento} {indisponivel} {'tamanho M na cor Azul Serenit'}\n",
            "avaliacao {\n",
            "    \"JUDGMENT 1\": 5,\n",
            "    \"JUDGMENT 2\": 5,\n",
            "    \"JUDGMENT 3\": 4,\n",
            "    \"JUDGMENT 4\": 4,\n",
            "    \"JUDGMENT 5\": \"O sujeito e o predicado estão corretos, mas o objeto não reflete completamente a informação da frase, pois omite as outras cores disponíveis.\"\n",
            "}\n",
            "O produto Paleta Traseira Audi Q3 Bosch 2011 2012 A 2015 2016 17 2018 está disponível juntamente com as dianteiras em um anúncio único através do link fornecido.\n",
            "{paleta_traseira_audi_q3_bosch} {disponivel} {'anuncio unico com dianteiras'}\n",
            "avaliacao {\n",
            "    \"JUDGMENT 1\": 5,\n",
            "    \"JUDGMENT 2\": 5,\n",
            "    \"JUDGMENT 3\": 4,\n",
            "    \"JUDGMENT 4\": 4,\n",
            "    \"JUDGMENT 5\": \"O sujeito e o predicado estão corretos, mas o objeto poderia ser mais específico, indicando o link ou a plataforma onde o anúncio está disponível.\"\n",
            "}\n",
            "O produto fechadura elétrica dianteira esquerda está disponível.\n",
            "{fechadura_electronica_dianteira_esquerda} {disponivel} {}\n",
            "avaliacao {\n",
            "    \"JUDGMENT 1\": 5,\n",
            "    \"JUDGMENT 2\": 5,\n",
            "    \"JUDGMENT 3\": 1,\n",
            "    \"JUDGMENT 4\": 2,\n",
            "    \"JUDGMENT 5\": \"O sujeito e o predicado estão corretos, mas o objeto está vazio, o que não reflete a informação de disponibilidade.\"\n",
            "}\n",
            "A Borboleta Plástica Inferior Cabo Dobravel Trapp Original com parafuso não está disponível.\n",
            "{borboleta_plastica_inferior_cabo_dobravel_trapp_original} {indisponivel} {}\n",
            "avaliacao {\n",
            "    \"JUDGMENT 1\": 5,\n",
            "    \"JUDGMENT 2\": 5,\n",
            "    \"JUDGMENT 3\": 1,\n",
            "    \"JUDGMENT 4\": 2,\n",
            "    \"JUDGMENT 5\": \"O sujeito e o predicado estão corretos, mas o objeto está vazio, o que não reflete a informação de que o produto não está disponível.\"\n",
            "}\n",
            "O Kit Escap Tubos + Abafador + Silencioso Gol G5 1.0 09 A 12 está disponível para compra individualmente, apenas a peça de cima da foto.\n",
            "{kit_escap_tubos_abafador_silencioso_gol_g5} {disponivel} {'compra individual da peça de cima'}\n",
            "avaliacao {\n",
            "    \"JUDGMENT 1\": 5,\n",
            "    \"JUDGMENT 2\": 5,\n",
            "    \"JUDGMENT 3\": 4,\n",
            "    \"JUDGMENT 4\": 4,\n",
            "    \"JUDGMENT 5\": \"O sujeito e o predicado estão corretos, mas o objeto precisa ser mais específico para refletir a frase original.\"\n",
            "}\n",
            "O Kit Relação Transmissão Honda Cg 125 Fan 2013 A 2018 não tem lâmpada h4 para fan 125 2018 disponível.\n",
            "{kit_relação_transmissão_honda_cg_125_fan} {indisponivel} {'lâmpada h4 para fan 125 2018'}\n",
            "avaliacao {\n",
            "    \"JUDGMENT 1\": 5,\n",
            "    \"JUDGMENT 2\": 5,\n",
            "    \"JUDGMENT 3\": 5,\n",
            "    \"JUDGMENT 4\": 5,\n",
            "    \"JUDGMENT 5\": \"O sujeito, predicado e objeto da tripla refletem fielmente a frase original.\"\n",
            "}\n",
            "O Rolamento Agulha Serra Tico Tico Skil 4395 2600913040 não está disponível para a serra da Starrett de 5/8 por 3/8.\n",
            "{rolamento_agulha_serra_tico_tico_skil_4395_2600913040} {indisponivel} {'serra da Starrett de 5/8 por 3/8'}\n",
            "avaliacao {\n",
            "    \"JUDGMENT 1\": 5,\n",
            "    \"JUDGMENT 2\": 5,\n",
            "    \"JUDGMENT 3\": 4,\n",
            "    \"JUDGMENT 4\": 4,\n",
            "    \"JUDGMENT 5\": \"O sujeito e o predicado estão corretos, mas o objeto poderia ser mais específico, indicando a indisponibilidade para a serra em particular.\"\n",
            "}\n",
            "A Bicicleta Ergometrica Spinning Com Roda De Inércia não está disponível com roda de inércia de 15kg, mas está disponível com roda de inércia de até 13kg.\n",
            "{bicicleta_ergometrica_spinning_com_roda_de_inercia} {indisponivel} {'roda de inercia de 15kg'}\n",
            "avaliacao {\n",
            "    \"JUDGMENT 1\": 5,\n",
            "    \"JUDGMENT 2\": 5,\n",
            "    \"JUDGMENT 3\": 3,\n",
            "    \"JUDGMENT 4\": 4,\n",
            "    \"JUDGMENT 5\": \"O sujeito e o predicado estão corretos, mas o objeto não reflete completamente a informação da frase, pois deve especificar o tamanho disponível.\"\n",
            "}\n",
            "O produto Articulação Coluna Direção Hidráulica Fiesta 97 2007 Courier não está disponível para a Courier 08 mecanica.\n",
            "{articulacao_coluna_direcao_hidraulica_fiesta_97_2007} {indisponivel} {'modelo Courier 08 mecanica'}\n",
            "avaliacao {\n",
            "    \"JUDGMENT 1\": 5,\n",
            "    \"JUDGMENT 2\": 5,\n",
            "    \"JUDGMENT 3\": 5,\n",
            "    \"JUDGMENT 4\": 5,\n",
            "    \"JUDGMENT 5\": \"O sujeito, predicado e objeto da tripla correspondem exatamente à frase original.\"\n",
            "}\n",
            "O produto Barra Axial e Bieleta do modelo 301m não estão disponíveis no momento.\n",
            "{barra_axial_e_bieleta_301m} {indisponivel} {no_momento}\n",
            "avaliacao {\n",
            "    \"JUDGMENT 1\": 5,\n",
            "    \"JUDGMENT 2\": 5,\n",
            "    \"JUDGMENT 3\": 5,\n",
            "    \"JUDGMENT 4\": 5,\n",
            "    \"JUDGMENT 5\": \"A tripla reflete fielmente a frase original, capturando corretamente o sujeito, a relação e o objeto.\"\n",
            "}\n",
            "O produto Capota Maritima Saveito C Santo Antonio S Estep 99 G2 Treck está disponível e o frete para o interior de São Paulo, São Carlos, CEP 13568-110, custa R$ 95,00,com prazo de entrega de 7 a 10 dias.\n",
            "{capota_maritima_saveito_c_santo_antonio_s_estep_99_g2_treck} {disponivel} {'frete para Sao Carlos, CEP 13568-110, R$ 95,00, 7 a 10 dias'}\n",
            "avaliacao {\n",
            "    \"JUDGMENT 1\": 5,\n",
            "    \"JUDGMENT 2\": 4,\n",
            "    \"JUDGMENT 3\": 3,\n",
            "    \"JUDGMENT 4\": 3,\n",
            "    \"JUDGMENT 5\": \"O sujeito está correto, mas o predicado e o objeto não capturam completamente a informação da frase.\"\n",
            "}\n",
            "O Kit Spr Manchester City Infantil - Azul é recomendado para crianças de 6 anos.\n",
            "{kit_spr_manchester_city_infantil_azul} {recomendado} {'idade 6 anos'}\n",
            "avaliacao {\n",
            "    \"JUDGMENT 1\": 5,\n",
            "    \"JUDGMENT 2\": 5,\n",
            "    \"JUDGMENT 3\": 3,\n",
            "    \"JUDGMENT 4\": 3,\n",
            "    \"JUDGMENT 5\": \"O sujeito e o predicado estão corretos, mas o objeto não reflete adequadamente o alvo da recomendação. A idade deve ser expressa como um predicado relacionado a um objeto que representa o público-alvo.\"\n",
            "}\n",
            "O Balcão Armário Cozinha Gabinete Pia 150cm está disponível na cor preto.\n",
            "{balcao_armario_cozinha_gabinete_pia_150cm} {disponivel} {'cor preto'}\n",
            "avaliacao {\n",
            "    \"JUDGMENT 1\": 5,\n",
            "    \"JUDGMENT 2\": 5,\n",
            "    \"JUDGMENT 3\": 3,\n",
            "    \"JUDGMENT 4\": 4,\n",
            "    \"JUDGMENT 5\": \"O sujeito e o predicado estão corretos, mas o objeto é inadequado, pois a frase indica a cor disponível, não a cor do produto.\"\n",
            "}\n",
            "A Cadeira Gamer Royale Preto Com Regulagem De Altura está disponível para pronta entrega.\n",
            "{cadeira_gamer_royale_preto} {disponivel} {'pronta entrega'}\n",
            "avaliacao {\n",
            "    \"JUDGMENT 1\": 5,\n",
            "    \"JUDGMENT 2\": 5,\n",
            "    \"JUDGMENT 3\": 5,\n",
            "    \"JUDGMENT 4\": 5,\n",
            "    \"JUDGMENT 5\": \"A tripla reflete fielmente a frase original, com sujeito, predicado e objeto corretamente identificados.\"\n",
            "}\n",
            "A Torneira Banheiro Cascata Baixa Monocomando Cromada com altura mais cumprida está disponível, conforme anúncio relacionado.\n",
            "{torneira_banheiro_cascata_baixa_monocomando_cromada} {disponivel} {'altura mais cumprida'}\n",
            "avaliacao {\n",
            "    \"JUDGMENT 1\": 5,\n",
            "    \"JUDGMENT 2\": 4,\n",
            "    \"JUDGMENT 3\": 1,\n",
            "    \"JUDGMENT 4\": 2,\n",
            "    \"JUDGMENT 5\": \"O sujeito está correto, mas o predicado e o objeto estão incompletos. Falta especificar a condição de disponibilidade e o objeto que representa a altura mais cumprida.\"\n",
            "}\n",
            "A Lanterna Traseira Corsa Classic 2011 A 2016 Canto está disponível em ambos os lados, direito e esquerdo.\n",
            "{lanterna_traseira_corsa_classic_2011_a_2016_canto} {disponivel} {'lados direito e esquerdo'}\n",
            "avaliacao {\n",
            "    \"JUDGMENT 1\": 5,\n",
            "    \"JUDGMENT 2\": 5,\n",
            "    \"JUDGMENT 3\": 4,\n",
            "    \"JUDGMENT 4\": 4,\n",
            "    \"JUDGMENT 5\": \"O sujeito e o predicado estão corretos, mas o objeto poderia ser mais específico, indicando direitamente os lados disponíveis.\"\n",
            "}\n",
            "O Ultra Led Code Com Cooler H1 H3 H4 H7 H11 4300k 7600 Lumens está disponível com os conectores HB3, HB4 e H1, que podem ser selecionados no momento da compra.\n",
            "{ultra_led_code_com_cooler} {disponivel} {'conectores HB3, HB4 e H1'}\n",
            "avaliacao {\n",
            "    \"JUDGMENT 1\": 5,\n",
            "    \"JUDGMENT 2\": 5,\n",
            "    \"JUDGMENT 3\": 4,\n",
            "    \"JUDGMENT 4\": 4,\n",
            "    \"JUDGMENT 5\": \"O sujeito e o predicado estão corretos, mas o objeto omite a informação sobre a ação de seleção dos conectores.\"\n",
            "}\n",
            "O Kit Selo Do Bloco Do Motor Fiat Uno Palio 36.2 Mm não está disponível em alumínio.\n",
            "{kit_selo_bloco_motor_fiat_uno_palio_36_2_mm} {indisponivel} {'material aluminio'}\n",
            "avaliacao {\n",
            "    \"JUDGMENT 1\": 5,\n",
            "    \"JUDGMENT 2\": 5,\n",
            "    \"JUDGMENT 3\": 3,\n",
            "    \"JUDGMENT 4\": 4,\n",
            "    \"JUDGMENT 5\": \"O sujeito e o predicado estão corretos, mas o objeto não especifica claramente que o material não é alumínio.\"\n",
            "}\n",
            "O produto Cilindro Aumento De Cilindrada Kmp Cg 125 2009 Bros P/ 220cc não está disponível para a modelo Bros 125 de 2005.\n",
            "{cilindro_aumento_de_cilindrada_kmp_cg_125_2009_bros_p_220cc} {indisponivel} {'modelo Bros 125 de 2005'}\n",
            "avaliacao {\n",
            "    \"JUDGMENT 1\": 5,\n",
            "    \"JUDGMENT 2\": 5,\n",
            "    \"JUDGMENT 3\": 4,\n",
            "    \"JUDGMENT 4\": 4,\n",
            "    \"JUDGMENT 5\": \"O sujeito e o predicado estão corretos, mas o objeto não reflete completamente a frase original, que menciona especificamente o modelo Bros 125 de 2005.\"\n",
            "}\n",
            "O produto Kit Quadros Decorativos Sala Árvore Da Vida Entardecer Sol é disponível em tamanho maior, desde que seja solicitado o tamanho desejado.\n",
            "{kit_quadros_decorativos_sala_arvore_da_vida_entardecer_sol} {disponivel} {'tamanho maior'}\n",
            "avaliacao {\n",
            "    \"JUDGMENT 1\": 5,\n",
            "    \"JUDGMENT 2\": 5,\n",
            "    \"JUDGMENT 3\": 4,\n",
            "    \"JUDGMENT 4\": 4,\n",
            "    \"JUDGMENT 5\": \"O sujeito e o predicado estão corretos, mas o objeto falta especificar a condição de solicitação do tamanho desejado.\"\n",
            "}\n",
            "O Par Molas Suspensão Dianteira e traseira para Fiat Punto 1.6 2011 não está disponível.\n",
            "{par_molas_suspensao_dianteira_e_traseira_para_fiat_punto_1_6_2011} {indisponivel} {null}\n",
            "avaliacao {\n",
            "    \"JUDGMENT 1\": 5,\n",
            "    \"JUDGMENT 2\": 5,\n",
            "    \"JUDGMENT 3\": 1,\n",
            "    \"JUDGMENT 4\": 2,\n",
            "    \"JUDGMENT 5\": \"O sujeito e o predicado estão corretos, mas o objeto está ausente, o que torna a tripla incompleta e imprecisa.\"\n",
            "}\n",
            "A Calça Jogger Sarja Colorida Jeans Masculina Plus Size G1g2g3 é disponível em preto nas variações G1 e G2, mas não há confirmação de disponibilidade da cor clara.\n",
            "{calca_jogger_sarja_colorida_jeans_masculina_plus_size_g1g2g3} {disponivel} {'cor preta nas variacoes G1 e G2'}\n",
            "avaliacao {\n",
            "    \"JUDGMENT 1\": 5,\n",
            "    \"JUDGMENT 2\": 5,\n",
            "    \"JUDGMENT 3\": 4,\n",
            "    \"JUDGMENT 4\": 4,\n",
            "    \"JUDGMENT 5\": \"O sujeito e o predicado estão corretos, mas o objeto omite a informação sobre a ausência de disponibilidade da cor clara.\"\n",
            "}\n",
            "O Baú Para Moto 80 Litros Delivery Transporte Carga + Suporte não está disponível para a XRE300 2023.\n",
            "{bau_para_moto_80_litros} {indisponivel} {'modelo XRE300 2023'}\n",
            "avaliacao {\n",
            "    \"JUDGMENT 1\": 5,\n",
            "    \"JUDGMENT 2\": 5,\n",
            "    \"JUDGMENT 3\": 4,\n",
            "    \"JUDGMENT 4\": 4,\n",
            "    \"JUDGMENT 5\": \"O sujeito e o predicado estão corretos, mas o objeto poderia ser mais preciso, especificando a incompatibilidade com o modelo XRE300 2023.\"\n",
            "}\n",
            "O Kit 2 Radio Walk Talk Comunicador 16 Ch 12km Baofeng 777s Ht não está disponível para venda de uma unidade, pois vem em pares nas caixas.\n",
            "{kit_2_radio_walk_talk_comunicador_16_ch_12km_baofeng_777s_ht} {indisponivel} {'venda de uma unidade'}\n",
            "avaliacao {\n",
            "    \"JUDGMENT 1\": 5,\n",
            "    \"JUDGMENT 2\": 5,\n",
            "    \"JUDGMENT 3\": 4,\n",
            "    \"JUDGMENT 4\": 4,\n",
            "    \"JUDGMENT 5\": \"O sujeito e o predicado estão corretos, mas o objeto omite a informação sobre o motivo da indisponibilidade.\"\n",
            "}\n",
            "O produto Bau Maleiro Teto Jetbag Thule Spin 12 A 18 450 Litros 50kg está disponível para ser utilizado com as longarinas originais do veículo.\n",
            "{bau_maleiro_teto_jetbag_thule_spin} {disponivel} {'longarinas originais do veiculo'}\n",
            "avaliacao {\n",
            "    \"JUDGMENT 1\": 5,\n",
            "    \"JUDGMENT 2\": 5,\n",
            "    \"JUDGMENT 3\": 3,\n",
            "    \"JUDGMENT 4\": 4,\n",
            "    \"JUDGMENT 5\": \"O sujeito e o predicado estão corretos, mas o objeto não reflete completamente a informação da frase original.\"\n",
            "}\n",
            "A Lanterna Traseira Marea Sedan 1998 1999 2000 2001 Fumê não está disponível para o lado esquerdo.\n",
            "{lanterna_traseira_marea_sedan} {indisponivel} {'lado esquerdo'}\n",
            "avaliacao {\n",
            "    \"JUDGMENT 1\": 5,\n",
            "    \"JUDGMENT 2\": 5,\n",
            "    \"JUDGMENT 3\": 4,\n",
            "    \"JUDGMENT 4\": 4,\n",
            "    \"JUDGMENT 5\": \"O sujeito e o predicado estão corretos, mas o objeto deve especificar a ausência de disponibilidade, não apenas o lado esquerdo.\"\n",
            "}\n",
            "O produto Cuba Cozinha Pia Aço Inox Quadrada Acessórios Terena - Prata está disponível.\n",
            "{cuba_cozinha_pia_aco_inox_quadrada_acessorios_terena_prata} {disponivel} {}\n",
            "avaliacao {\n",
            "    \"JUDGMENT 1\": 5,\n",
            "    \"JUDGMENT 2\": 5,\n",
            "    \"JUDGMENT 3\": 1,\n",
            "    \"JUDGMENT 4\": 2,\n",
            "    \"JUDGMENT 5\": \"O sujeito e o predicado estão corretos, mas o objeto está vazio, o que não reflete a informação de disponibilidade.\"\n",
            "}\n",
            "A Tinta Automot. Cinza Massey Fergunson Metálico 3,6l Brasilux não está disponível no splay.\n",
            "{tinta_cinza_massey_fergunson_metallico_36l_brasilux} {indisponivel} {'no splay'}\n",
            "avaliacao {\n",
            "    \"JUDGMENT 1\": 5,\n",
            "    \"JUDGMENT 2\": 5,\n",
            "    \"JUDGMENT 3\": 5,\n",
            "    \"JUDGMENT 4\": 5,\n",
            "    \"JUDGMENT 5\": \"A tripla reflete fielmente a frase original, com sujeito, predicado e objeto corretamente identificados.\"\n",
            "}\n",
            "O Induzido P/esmerilhadeira Ga9020/ga7020 220v Makita 517793-7 está disponível em quantidade de 13 unidades.\n",
            "{induzido_p_esmerilhadeira_ga9020_ga7020_220v_makita_517793-7} {disponivel} {'quantidade 13 unidades'}\n",
            "avaliacao {\n",
            "    \"JUDGMENT 1\": 5,\n",
            "    \"JUDGMENT 2\": 5,\n",
            "    \"JUDGMENT 3\": 3,\n",
            "    \"JUDGMENT 4\": 4,\n",
            "    \"JUDGMENT 5\": \"O sujeito e o predicado estão corretos, mas o objeto não reflete exatamente a informação da frase. Deve ser 'quantidade 13 unidades' em vez de 'quantidade 13'.\"\n",
            "}\n",
            "O produto Lanterna Civic 2012 2013 2014 2015 16 Canto do lado direito está disponível para compra.\n",
            "{lanterna_civic_2012_2015} {disponivel} {'para compra'}\n",
            "{\n",
            "    \"JUDGMENT 1\": 5,\n",
            "    \"JUDGMENT 2\": 5,\n",
            "    \"JUDGMENT 3\": 4,\n",
            "    \"JUDGMENT 4\": 4,\n",
            "    \"JUDGMENT 5\": \"O sujeito e o predicado estão corretos, mas o objeto poderia ser mais específico, indicando 'para compra no site' ou 'em lojas autorizadas'.\"\n",
            "}\n",
            "O produto Câmara De Ar Mr-16/17 Tr-13 não está disponível para pneus 265/70 r 15.\n",
            "{camera_de_ar_mr16_17_tr13} {indisponivel} {'pneus 265/70 r 15'}\n",
            "avaliacao {\n",
            "    \"JUDGMENT 1\": 5,\n",
            "    \"JUDGMENT 2\": 5,\n",
            "    \"JUDGMENT 3\": 5,\n",
            "    \"JUDGMENT 4\": 5,\n",
            "    \"JUDGMENT 5\": \"A tripla reflete fielmente a frase original, com sujeito, predicado e objeto corretamente identificados.\"\n",
            "}\n",
            "A Cadeira De Escritório Nagano 102039705  Preta Com Estofado De Couro Sintético não está disponível para compra de 04 unidades de uma vez, sendo necessário realizar 04pedidos separados.\n",
            "{cadeira_de_escritorio_nagano_102039705_preta} {indisponivel} {'compra_de_04_unidades'}\n",
            "avaliacao {\n",
            "    \"JUDGMENT 1\": 5,\n",
            "    \"JUDGMENT 2\": 5,\n",
            "    \"JUDGMENT 3\": 4,\n",
            "    \"JUDGMENT 4\": 4,\n",
            "    \"JUDGMENT 5\": \"O sujeito e o predicado estão corretos, mas o objeto poderia ser mais específico, indicando a quantidade de unidades e a necessidade de pedidos separados.\"\n",
            "}\n",
            "O produto Trio Capa Cilindro + Painel Borboleta Veste Fácil C/elástic não está disponível personalizado para primeiro encontro de mulher.\n",
            "{trio_capa_cilindro_painel_borboleta_veste_facil} {indisponivel} {'personalizado para primeiro encontro de mulher'}\n",
            "avaliacao {\n",
            "    \"JUDGMENT 1\": 5,\n",
            "    \"JUDGMENT 2\": 5,\n",
            "    \"JUDGMENT 3\": 4,\n",
            "    \"JUDGMENT 4\": 4,\n",
            "    \"JUDGMENT 5\": \"O sujeito e o predicado estão corretos, mas o objeto poderia ser mais específico, indicando a natureza da indisponibilidade.\"\n",
            "}\n",
            "O produto Kit 4pçs Calota Roda Fox Crossfox Scorro Ferraro Vaska Vk232 está disponível com a especificação \"ABS232\".\n",
            "{kit_4pcs_calota_roda_fox_crossfox_scorro_ferraro_vaska_vk232} {disponivel} {'especificacao \"ABS232\"'}\n",
            "avaliacao {\n",
            "    \"JUDGMENT 1\": 5,\n",
            "    \"JUDGMENT 2\": 5,\n",
            "    \"JUDGMENT 3\": 4,\n",
            "    \"JUDGMENT 4\": 4,\n",
            "    \"JUDGMENT 5\": \"O sujeito e o predicado estão corretos, mas o objeto não reflete completamente a especificação mencionada na frase original.\"\n",
            "}\n",
            "A Fonte Automotiva Carregador com voltímetro de 80amp não está disponível.\n",
            "{fonte_automotiva_carregador_com_voltimetro_de_80amp} {indisponivel} {}\n",
            "avaliacao {\n",
            "    \"JUDGMENT 1\": 5,\n",
            "    \"JUDGMENT 2\": 5,\n",
            "    \"JUDGMENT 3\": 1,\n",
            "    \"JUDGMENT 4\": 2,\n",
            "    \"JUDGMENT 5\": \"O sujeito e o predicado estão corretos, mas o objeto está vazio, o que não reflete a informação de que a fonte não está disponível.\"\n",
            "}\n",
            "O Listelo U Decorativo Aço Inox Espelhado - 10mmx10mmx2ml não está disponível nas combinações de 4 barras de 3m e 2 barras de 2m solicitadas.\n",
            "{listelo_u_decorativo_aco_inox_espelhado} {indisponivel} {'combinação 4 barras de 3m e 2 barras de 2m'}\n",
            "avaliacao {\n",
            "    \"JUDGMENT 1\": 5,\n",
            "    \"JUDGMENT 2\": 5,\n",
            "    \"JUDGMENT 3\": 4,\n",
            "    \"JUDGMENT 4\": 4,\n",
            "    \"JUDGMENT 5\": \"O sujeito e o predicado estão corretos, mas o objeto poderia ser mais específico, incluindo as medidas exatas solicitadas.\"\n",
            "}\n",
            "O produto Maçaneta Interna Cinza Suporte Gol Parati G2 G3 2 Portas Dir não está disponível para o lado do motorista, mas o vendedor forneceu um link para a mesma peça,porém para o lado esquerdo.\n",
            "{macaneta_interna_cinza_suporte_gol_parati_g2_g3_2_portas_dir} {indisponivel} {'lado do motorista'}\n",
            "avaliacao {\n",
            "    \"JUDGMENT 1\": 5,\n",
            "    \"JUDGMENT 2\": 5,\n",
            "    \"JUDGMENT 3\": 3,\n",
            "    \"JUDGMENT 4\": 4,\n",
            "    \"JUDGMENT 5\": \"O sujeito e o predicado estão corretos, mas o objeto não reflete completamente a informação da frase, que menciona a indisponibilidade para um lado específico e a disponibilidade para outro.\"\n",
            "}\n",
            "O Pillow Top Casal De Espuma Especial Soft Hr Ortopédico - Bf está disponível no tamanho king.\n",
            "{pillow_top_casal_de_espuma_especial_soft_hr_ortopedico} {disponivel} {'tamanho king'}\n",
            "{\n",
            "    \"JUDGMENT 1\": 5,\n",
            "    \"JUDGMENT 2\": 5,\n",
            "    \"JUDGMENT 3\": 5,\n",
            "    \"JUDGMENT 4\": 5,\n",
            "    \"JUDGMENT 5\": \"A tripla captura corretamente o sujeito, a relação e o objeto da frase original.\"\n",
            "}\n",
            "O produto Kit 2 Radio Walk Talk Comunicador 16 Ch 12km Baofeng 777s Ht não está disponível para venda de uma única unidade, pois vem em pares nas caixas.\n",
            "{kit_2_radio_walk_talk_comunicador_16_ch_12km_baofeng_777s_ht} {indisponivel} {'venda_de_unica_unidade'}\n",
            "avaliacao {\n",
            "    \"JUDGMENT 1\": 5,\n",
            "    \"JUDGMENT 2\": 5,\n",
            "    \"JUDGMENT 3\": 3,\n",
            "    \"JUDGMENT 4\": 3,\n",
            "    \"JUDGMENT 5\": \"O sujeito e o predicado estão corretos, mas o objeto não reflete completamente a informação da frase, que especifica a razão da indisponibilidade.\"\n",
            "}\n",
            "O Pulverizador Costal Bateria 20 L Gpm2000 Intech Machine está disponível para pronta entrega.\n",
            "{pulverizador_costal_bateria_20_l_gpm2000_intech_machine} {disponivel} {'pronta entrega'}\n",
            "avaliacao {\n",
            "    \"JUDGMENT 1\": 5,\n",
            "    \"JUDGMENT 2\": 5,\n",
            "    \"JUDGMENT 3\": 5,\n",
            "    \"JUDGMENT 4\": 5,\n",
            "    \"JUDGMENT 5\": \"Todos os elementos da tripla correspondem exatamente à frase original.\"\n",
            "}\n",
            "O Sobre Aro Abs Cromado Universal Aro 15 Para Rodas Ferro não está disponível na cor preta ou grafite, apenas na cor cromada.\n",
            "{sobre_aro_abs_cromado_universal} {indisponivel} {'cor preta ou grafite'}\n",
            "avaliacao {\n",
            "    \"JUDGMENT 1\": 5,\n",
            "    \"JUDGMENT 2\": 4,\n",
            "    \"JUDGMENT 3\": 1,\n",
            "    \"JUDGMENT 4\": 2,\n",
            "    \"JUDGMENT 5\": \"O sujeito está correto, mas a tripla omite a informação sobre as cores disponíveis e erra ao afirmar que a cor indisponível é a única.\"\n",
            "}\n",
            "O Espaguete Tubo Conduite Corrugado Anti Chamas 12,7mm não está disponível em rolo de 20 metros.\n",
            "{espaguete_tubo_conduite_corrugado_anti_chamas_12_7mm} {indisponivel} {'rolo de 20 metros'}\n",
            "avaliacao {\n",
            "    \"JUDGMENT 1\": 5,\n",
            "    \"JUDGMENT 2\": 5,\n",
            "    \"JUDGMENT 3\": 4,\n",
            "    \"JUDGMENT 4\": 4,\n",
            "    \"JUDGMENT 5\": \"O sujeito e o predicado estão corretos, mas o objeto não reflete completamente a frase original, que menciona especificamente o tamanho do rolo.\"\n",
            "}\n",
            "A pinça para microdermal piercing aço inoxidável não está disponível para trabalhar com 3mm.\n",
            "{pinca_para_microdermal_piercing_aco_inoxidavel} {indisponivel} {'tamanho 3mm'}\n",
            "avaliacao {\n",
            "    \"JUDGMENT 1\": 5,\n",
            "    \"JUDGMENT 2\": 5,\n",
            "    \"JUDGMENT 3\": 3,\n",
            "    \"JUDGMENT 4\": 4,\n",
            "    \"JUDGMENT 5\": \"O sujeito e o predicado estão corretos, mas o objeto não reflete completamente a negação da disponibilidade para um tamanho específico.\"\n",
            "}\n"
          ]
        }
      ]
    },
    {
      "cell_type": "code",
      "source": [
        "import pandas as pd\n",
        "import json\n",
        "import re\n",
        "\n",
        "def salvar_julgamentos_como_csv(lista_json, nome_arquivo):\n",
        "    \"\"\"\n",
        "    Converte uma lista de strings JSON em um DataFrame e salva como CSV.\n",
        "\n",
        "    Parâmetros:\n",
        "    - lista_json (list): Lista de strings no formato JSON.\n",
        "    - nome_arquivo (str): Nome do arquivo CSV de saída (com .csv no final).\n",
        "    \"\"\"\n",
        "    registros = []\n",
        "\n",
        "    for item in lista_json:\n",
        "        # Remove blocos de markdown como ```json e ```\n",
        "        item_limpo = re.sub(r\"```|json|avaliacao\", \"\", item, flags=re.IGNORECASE).strip()\n",
        "\n",
        "        try:\n",
        "            dados = json.loads(item_limpo)\n",
        "            registros.append(dados)\n",
        "        except json.JSONDecodeError as e:\n",
        "            print(f\"Erro ao decodificar o JSON: {e}\\nConteúdo problemático: {item_limpo}\\n\")\n",
        "            continue\n",
        "\n",
        "    # Cria o DataFrame (sem forçar colunas específicas, para evitar erro se alguma estiver faltando)\n",
        "    df = pd.DataFrame(registros)\n",
        "    display(df)\n",
        "    # Salva como CSV\n",
        "    df.to_csv(nome_arquivo, index=False)\n",
        "    print(f\"Arquivo salvo como: {nome_arquivo}\")\n",
        "\n",
        "\n",
        "salvar_julgamentos_como_csv(judgments, \"qwen7b_fs.csv\")"
      ],
      "metadata": {
        "colab": {
          "base_uri": "https://localhost:8080/",
          "height": 180
        },
        "id": "rIo4G1QLmK40",
        "outputId": "de38496a-8539-456f-e9ee-33d93738a055"
      },
      "execution_count": null,
      "outputs": [
        {
          "output_type": "error",
          "ename": "NameError",
          "evalue": "name 'judgments' is not defined",
          "traceback": [
            "\u001b[0;31m---------------------------------------------------------------------------\u001b[0m",
            "\u001b[0;31mNameError\u001b[0m                                 Traceback (most recent call last)",
            "\u001b[0;32m<ipython-input-36-4e053ac12478>\u001b[0m in \u001b[0;36m<cell line: 0>\u001b[0;34m()\u001b[0m\n\u001b[1;32m     32\u001b[0m \u001b[0;34m\u001b[0m\u001b[0m\n\u001b[1;32m     33\u001b[0m \u001b[0;34m\u001b[0m\u001b[0m\n\u001b[0;32m---> 34\u001b[0;31m \u001b[0msalvar_julgamentos_como_csv\u001b[0m\u001b[0;34m(\u001b[0m\u001b[0mjudgments\u001b[0m\u001b[0;34m,\u001b[0m \u001b[0;34m\"qwen7b_fs.csv\"\u001b[0m\u001b[0;34m)\u001b[0m\u001b[0;34m\u001b[0m\u001b[0;34m\u001b[0m\u001b[0m\n\u001b[0m",
            "\u001b[0;31mNameError\u001b[0m: name 'judgments' is not defined"
          ]
        }
      ]
    },
    {
      "cell_type": "markdown",
      "source": [
        "## Evaluation of Judgment"
      ],
      "metadata": {
        "id": "7mLD_-S1D1db"
      }
    },
    {
      "cell_type": "code",
      "source": [
        "def evaluation_of_judgment_prompt_zero_shot():\n",
        "  return '''\n",
        "    Você é um avaliador especializado em análise metalinguística de julgamentos semânticos. Sua função é avaliar a qualidade do julgamento feito sobre a qualidade de uma tripla RDF extraída de uma frase.\n",
        "\n",
        "    Você receberá:\n",
        "    1. Uma sentença.\n",
        "    2. Uma tripla RDF extraída dessa sentença.\n",
        "    3. Um julgamento sobre essa tripla, contendo:\n",
        "      - Quatro notas de 1 a 5 (escala de Likert), avaliando sujeito, predicado, objeto e fidelidade geral.\n",
        "      - Uma justificativa textual curta explicando as notas atribuídas.\n",
        "\n",
        "    Sua tarefa é analisar todos esses elementos e emitir **duas avaliações**, baseando-se exclusivamente nos dados apresentados:\n",
        "\n",
        "    AVALIAÇÃO 1 — CLAREZA DA JUSTIFICATIVA: Quão clara e compreensível está a justificativa fornecida para as notas dadas?\n",
        "    AVALIAÇÃO 2 — COERÊNCIA DAS NOTAS COM A JUSTIFICATIVA: As notas atribuídas parecem consistentes com a justificativa textual? Há alinhamento lógico?\n",
        "\n",
        "    Ambas as avaliações devem ser expressas como notas de 1 a 5 na escala de Likert, sendo:\n",
        "    - 1: Muito ruim\n",
        "    - 2: Ruim\n",
        "    - 3: Razoável\n",
        "    - 4: Boa\n",
        "    - 5: Excelente\n",
        "\n",
        "    Retorne apenas um objeto JSON no seguinte formato:\n",
        "\n",
        "    {\n",
        "      \"AVALIACAO 1\": <nota de 1 a 5>,\n",
        "      \"AVALIACAO 2\": <nota de 1 a 5>\n",
        "    }\n",
        "\n",
        "'''\n",
        "\n",
        "def build_prompt_evaluation(sentence, triple, j1, j2, j3, j4, j5):\n",
        "  prompt = evaluation_of_judgment_prompt_zero_shot()\n",
        "  prompt += \"----- ENTRADA ------\"\n",
        "  prompt += \"\\nSENTENÇA: \" + sentence\n",
        "  prompt += \"\\nTRIPLA: \" + triple\n",
        "  prompt += \"\\nJULGAMENTO 1, o sujeito foi corretamente extraido (nota de 1 a 5): \" + str(j1)\n",
        "  prompt += \"\\nJULGAMENTO 2, o predicado representa corretamente a relação expressa na frase (nota de 1 a 5): \" + str(j2)\n",
        "  prompt += \"\\nJULGAMENTO 3, o objeto reflete corretamente o alvo da relação (nota de 1 a 5): \" + str(j3)\n",
        "  prompt += \"\\nJULGAMENTO 4, a tripla representa com precisão a informação da frase (nota de 1 a 5): \" + str(j4)\n",
        "  prompt += \"\\nJULGAMENTO 5, justificativa da avaliação com uma frase curta: \" + str(j5)\n",
        "  prompt += \"\\n\\n ----- SAIDA -----\"\n",
        "  return prompt\n"
      ],
      "metadata": {
        "id": "TcPJM1eDp8ap"
      },
      "execution_count": null,
      "outputs": []
    },
    {
      "cell_type": "code",
      "source": [
        "arquivo = \"sabiazinho_fs.csv\"\n",
        "judgment_df = pd.read_csv(\"../output/\"+arquivo)\n",
        "display(judgment_df)\n",
        "\n",
        "def obter_respostas_llm(df, judgment_df, modelo):\n",
        "    respostas_brutas = []\n",
        "\n",
        "    for i, row in df.iterrows():\n",
        "        sentence = row['summarized sentence']\n",
        "        triple = row['triple']\n",
        "\n",
        "        julg = judgment_df.iloc[i]\n",
        "        j1 = julg['JUDGMENT 1']\n",
        "        j2 = julg['JUDGMENT 2']\n",
        "        j3 = julg['JUDGMENT 3']\n",
        "        j4 = julg['JUDGMENT 4']\n",
        "        j5 = julg['JUDGMENT 5']\n",
        "\n",
        "        resposta = together_query(build_prompt_evaluation(sentence, triple, j1, j2, j3, j4, j5), modelo)\n",
        "\n",
        "        respostas_brutas.append({\n",
        "            \"sentence\": sentence,\n",
        "            \"triple\": triple,\n",
        "            \"JUDGMENT 1\": j1,\n",
        "            \"JUDGMENT 2\": j2,\n",
        "            \"JUDGMENT 3\": j3,\n",
        "            \"JUDGMENT 4\": j4,\n",
        "            \"JUDGMENT 5\": j5,\n",
        "            \"resposta_bruta\": resposta\n",
        "        })\n",
        "\n",
        "        display(triple)\n",
        "        display(j1, j2, j3, j4)\n",
        "        display(resposta)\n",
        "\n",
        "    return respostas_brutas\n"
      ],
      "metadata": {
        "colab": {
          "base_uri": "https://localhost:8080/",
          "height": 424
        },
        "id": "cM5BlGJYMaoV",
        "outputId": "972333ba-991a-447c-c4a2-ce777ec77d40"
      },
      "execution_count": null,
      "outputs": [
        {
          "output_type": "display_data",
          "data": {
            "text/plain": [
              "     JUDGMENT 1  JUDGMENT 2  JUDGMENT 3  JUDGMENT 4  \\\n",
              "0             5           5           4           4   \n",
              "1             5           5           5           4   \n",
              "2             5           5           5           5   \n",
              "3             5           5           5           5   \n",
              "4             5           5           5           5   \n",
              "..          ...         ...         ...         ...   \n",
              "295           5           5           4           4   \n",
              "296           5           5           5           5   \n",
              "297           5           5           4           4   \n",
              "298           5           5           5           5   \n",
              "299           5           5           5           5   \n",
              "\n",
              "                                            JUDGMENT 5  \n",
              "0    O sujeito e o predicado estão corretos, mas o ...  \n",
              "1    A tripla captura a essência da frase, mas falt...  \n",
              "2    A tripla representa com precisão o sujeito, a ...  \n",
              "3    A tripla reflete com precisão o sujeito, a rel...  \n",
              "4    A tripla reflete perfeitamente o sujeito, a re...  \n",
              "..                                                 ...  \n",
              "295  O sujeito e o predicado estão corretos, mas o ...  \n",
              "296  A tripla reflete com precisão o sujeito, a rel...  \n",
              "297  O sujeito e o predicado estão corretos, mas o ...  \n",
              "298  A tripla reflete com precisão o sujeito, a rel...  \n",
              "299  A tripla reflete com precisão o sujeito, a rel...  \n",
              "\n",
              "[300 rows x 5 columns]"
            ],
            "text/html": [
              "\n",
              "  <div id=\"df-3497c177-ab84-4e9d-a912-7d458fc70b01\" class=\"colab-df-container\">\n",
              "    <div>\n",
              "<style scoped>\n",
              "    .dataframe tbody tr th:only-of-type {\n",
              "        vertical-align: middle;\n",
              "    }\n",
              "\n",
              "    .dataframe tbody tr th {\n",
              "        vertical-align: top;\n",
              "    }\n",
              "\n",
              "    .dataframe thead th {\n",
              "        text-align: right;\n",
              "    }\n",
              "</style>\n",
              "<table border=\"1\" class=\"dataframe\">\n",
              "  <thead>\n",
              "    <tr style=\"text-align: right;\">\n",
              "      <th></th>\n",
              "      <th>JUDGMENT 1</th>\n",
              "      <th>JUDGMENT 2</th>\n",
              "      <th>JUDGMENT 3</th>\n",
              "      <th>JUDGMENT 4</th>\n",
              "      <th>JUDGMENT 5</th>\n",
              "    </tr>\n",
              "  </thead>\n",
              "  <tbody>\n",
              "    <tr>\n",
              "      <th>0</th>\n",
              "      <td>5</td>\n",
              "      <td>5</td>\n",
              "      <td>4</td>\n",
              "      <td>4</td>\n",
              "      <td>O sujeito e o predicado estão corretos, mas o ...</td>\n",
              "    </tr>\n",
              "    <tr>\n",
              "      <th>1</th>\n",
              "      <td>5</td>\n",
              "      <td>5</td>\n",
              "      <td>5</td>\n",
              "      <td>4</td>\n",
              "      <td>A tripla captura a essência da frase, mas falt...</td>\n",
              "    </tr>\n",
              "    <tr>\n",
              "      <th>2</th>\n",
              "      <td>5</td>\n",
              "      <td>5</td>\n",
              "      <td>5</td>\n",
              "      <td>5</td>\n",
              "      <td>A tripla representa com precisão o sujeito, a ...</td>\n",
              "    </tr>\n",
              "    <tr>\n",
              "      <th>3</th>\n",
              "      <td>5</td>\n",
              "      <td>5</td>\n",
              "      <td>5</td>\n",
              "      <td>5</td>\n",
              "      <td>A tripla reflete com precisão o sujeito, a rel...</td>\n",
              "    </tr>\n",
              "    <tr>\n",
              "      <th>4</th>\n",
              "      <td>5</td>\n",
              "      <td>5</td>\n",
              "      <td>5</td>\n",
              "      <td>5</td>\n",
              "      <td>A tripla reflete perfeitamente o sujeito, a re...</td>\n",
              "    </tr>\n",
              "    <tr>\n",
              "      <th>...</th>\n",
              "      <td>...</td>\n",
              "      <td>...</td>\n",
              "      <td>...</td>\n",
              "      <td>...</td>\n",
              "      <td>...</td>\n",
              "    </tr>\n",
              "    <tr>\n",
              "      <th>295</th>\n",
              "      <td>5</td>\n",
              "      <td>5</td>\n",
              "      <td>4</td>\n",
              "      <td>4</td>\n",
              "      <td>O sujeito e o predicado estão corretos, mas o ...</td>\n",
              "    </tr>\n",
              "    <tr>\n",
              "      <th>296</th>\n",
              "      <td>5</td>\n",
              "      <td>5</td>\n",
              "      <td>5</td>\n",
              "      <td>5</td>\n",
              "      <td>A tripla reflete com precisão o sujeito, a rel...</td>\n",
              "    </tr>\n",
              "    <tr>\n",
              "      <th>297</th>\n",
              "      <td>5</td>\n",
              "      <td>5</td>\n",
              "      <td>4</td>\n",
              "      <td>4</td>\n",
              "      <td>O sujeito e o predicado estão corretos, mas o ...</td>\n",
              "    </tr>\n",
              "    <tr>\n",
              "      <th>298</th>\n",
              "      <td>5</td>\n",
              "      <td>5</td>\n",
              "      <td>5</td>\n",
              "      <td>5</td>\n",
              "      <td>A tripla reflete com precisão o sujeito, a rel...</td>\n",
              "    </tr>\n",
              "    <tr>\n",
              "      <th>299</th>\n",
              "      <td>5</td>\n",
              "      <td>5</td>\n",
              "      <td>5</td>\n",
              "      <td>5</td>\n",
              "      <td>A tripla reflete com precisão o sujeito, a rel...</td>\n",
              "    </tr>\n",
              "  </tbody>\n",
              "</table>\n",
              "<p>300 rows × 5 columns</p>\n",
              "</div>\n",
              "    <div class=\"colab-df-buttons\">\n",
              "\n",
              "  <div class=\"colab-df-container\">\n",
              "    <button class=\"colab-df-convert\" onclick=\"convertToInteractive('df-3497c177-ab84-4e9d-a912-7d458fc70b01')\"\n",
              "            title=\"Convert this dataframe to an interactive table.\"\n",
              "            style=\"display:none;\">\n",
              "\n",
              "  <svg xmlns=\"http://www.w3.org/2000/svg\" height=\"24px\" viewBox=\"0 -960 960 960\">\n",
              "    <path d=\"M120-120v-720h720v720H120Zm60-500h600v-160H180v160Zm220 220h160v-160H400v160Zm0 220h160v-160H400v160ZM180-400h160v-160H180v160Zm440 0h160v-160H620v160ZM180-180h160v-160H180v160Zm440 0h160v-160H620v160Z\"/>\n",
              "  </svg>\n",
              "    </button>\n",
              "\n",
              "  <style>\n",
              "    .colab-df-container {\n",
              "      display:flex;\n",
              "      gap: 12px;\n",
              "    }\n",
              "\n",
              "    .colab-df-convert {\n",
              "      background-color: #E8F0FE;\n",
              "      border: none;\n",
              "      border-radius: 50%;\n",
              "      cursor: pointer;\n",
              "      display: none;\n",
              "      fill: #1967D2;\n",
              "      height: 32px;\n",
              "      padding: 0 0 0 0;\n",
              "      width: 32px;\n",
              "    }\n",
              "\n",
              "    .colab-df-convert:hover {\n",
              "      background-color: #E2EBFA;\n",
              "      box-shadow: 0px 1px 2px rgba(60, 64, 67, 0.3), 0px 1px 3px 1px rgba(60, 64, 67, 0.15);\n",
              "      fill: #174EA6;\n",
              "    }\n",
              "\n",
              "    .colab-df-buttons div {\n",
              "      margin-bottom: 4px;\n",
              "    }\n",
              "\n",
              "    [theme=dark] .colab-df-convert {\n",
              "      background-color: #3B4455;\n",
              "      fill: #D2E3FC;\n",
              "    }\n",
              "\n",
              "    [theme=dark] .colab-df-convert:hover {\n",
              "      background-color: #434B5C;\n",
              "      box-shadow: 0px 1px 3px 1px rgba(0, 0, 0, 0.15);\n",
              "      filter: drop-shadow(0px 1px 2px rgba(0, 0, 0, 0.3));\n",
              "      fill: #FFFFFF;\n",
              "    }\n",
              "  </style>\n",
              "\n",
              "    <script>\n",
              "      const buttonEl =\n",
              "        document.querySelector('#df-3497c177-ab84-4e9d-a912-7d458fc70b01 button.colab-df-convert');\n",
              "      buttonEl.style.display =\n",
              "        google.colab.kernel.accessAllowed ? 'block' : 'none';\n",
              "\n",
              "      async function convertToInteractive(key) {\n",
              "        const element = document.querySelector('#df-3497c177-ab84-4e9d-a912-7d458fc70b01');\n",
              "        const dataTable =\n",
              "          await google.colab.kernel.invokeFunction('convertToInteractive',\n",
              "                                                    [key], {});\n",
              "        if (!dataTable) return;\n",
              "\n",
              "        const docLinkHtml = 'Like what you see? Visit the ' +\n",
              "          '<a target=\"_blank\" href=https://colab.research.google.com/notebooks/data_table.ipynb>data table notebook</a>'\n",
              "          + ' to learn more about interactive tables.';\n",
              "        element.innerHTML = '';\n",
              "        dataTable['output_type'] = 'display_data';\n",
              "        await google.colab.output.renderOutput(dataTable, element);\n",
              "        const docLink = document.createElement('div');\n",
              "        docLink.innerHTML = docLinkHtml;\n",
              "        element.appendChild(docLink);\n",
              "      }\n",
              "    </script>\n",
              "  </div>\n",
              "\n",
              "\n",
              "    <div id=\"df-740fe5a3-45ef-40e5-8b2c-945ace86106f\">\n",
              "      <button class=\"colab-df-quickchart\" onclick=\"quickchart('df-740fe5a3-45ef-40e5-8b2c-945ace86106f')\"\n",
              "                title=\"Suggest charts\"\n",
              "                style=\"display:none;\">\n",
              "\n",
              "<svg xmlns=\"http://www.w3.org/2000/svg\" height=\"24px\"viewBox=\"0 0 24 24\"\n",
              "     width=\"24px\">\n",
              "    <g>\n",
              "        <path d=\"M19 3H5c-1.1 0-2 .9-2 2v14c0 1.1.9 2 2 2h14c1.1 0 2-.9 2-2V5c0-1.1-.9-2-2-2zM9 17H7v-7h2v7zm4 0h-2V7h2v10zm4 0h-2v-4h2v4z\"/>\n",
              "    </g>\n",
              "</svg>\n",
              "      </button>\n",
              "\n",
              "<style>\n",
              "  .colab-df-quickchart {\n",
              "      --bg-color: #E8F0FE;\n",
              "      --fill-color: #1967D2;\n",
              "      --hover-bg-color: #E2EBFA;\n",
              "      --hover-fill-color: #174EA6;\n",
              "      --disabled-fill-color: #AAA;\n",
              "      --disabled-bg-color: #DDD;\n",
              "  }\n",
              "\n",
              "  [theme=dark] .colab-df-quickchart {\n",
              "      --bg-color: #3B4455;\n",
              "      --fill-color: #D2E3FC;\n",
              "      --hover-bg-color: #434B5C;\n",
              "      --hover-fill-color: #FFFFFF;\n",
              "      --disabled-bg-color: #3B4455;\n",
              "      --disabled-fill-color: #666;\n",
              "  }\n",
              "\n",
              "  .colab-df-quickchart {\n",
              "    background-color: var(--bg-color);\n",
              "    border: none;\n",
              "    border-radius: 50%;\n",
              "    cursor: pointer;\n",
              "    display: none;\n",
              "    fill: var(--fill-color);\n",
              "    height: 32px;\n",
              "    padding: 0;\n",
              "    width: 32px;\n",
              "  }\n",
              "\n",
              "  .colab-df-quickchart:hover {\n",
              "    background-color: var(--hover-bg-color);\n",
              "    box-shadow: 0 1px 2px rgba(60, 64, 67, 0.3), 0 1px 3px 1px rgba(60, 64, 67, 0.15);\n",
              "    fill: var(--button-hover-fill-color);\n",
              "  }\n",
              "\n",
              "  .colab-df-quickchart-complete:disabled,\n",
              "  .colab-df-quickchart-complete:disabled:hover {\n",
              "    background-color: var(--disabled-bg-color);\n",
              "    fill: var(--disabled-fill-color);\n",
              "    box-shadow: none;\n",
              "  }\n",
              "\n",
              "  .colab-df-spinner {\n",
              "    border: 2px solid var(--fill-color);\n",
              "    border-color: transparent;\n",
              "    border-bottom-color: var(--fill-color);\n",
              "    animation:\n",
              "      spin 1s steps(1) infinite;\n",
              "  }\n",
              "\n",
              "  @keyframes spin {\n",
              "    0% {\n",
              "      border-color: transparent;\n",
              "      border-bottom-color: var(--fill-color);\n",
              "      border-left-color: var(--fill-color);\n",
              "    }\n",
              "    20% {\n",
              "      border-color: transparent;\n",
              "      border-left-color: var(--fill-color);\n",
              "      border-top-color: var(--fill-color);\n",
              "    }\n",
              "    30% {\n",
              "      border-color: transparent;\n",
              "      border-left-color: var(--fill-color);\n",
              "      border-top-color: var(--fill-color);\n",
              "      border-right-color: var(--fill-color);\n",
              "    }\n",
              "    40% {\n",
              "      border-color: transparent;\n",
              "      border-right-color: var(--fill-color);\n",
              "      border-top-color: var(--fill-color);\n",
              "    }\n",
              "    60% {\n",
              "      border-color: transparent;\n",
              "      border-right-color: var(--fill-color);\n",
              "    }\n",
              "    80% {\n",
              "      border-color: transparent;\n",
              "      border-right-color: var(--fill-color);\n",
              "      border-bottom-color: var(--fill-color);\n",
              "    }\n",
              "    90% {\n",
              "      border-color: transparent;\n",
              "      border-bottom-color: var(--fill-color);\n",
              "    }\n",
              "  }\n",
              "</style>\n",
              "\n",
              "      <script>\n",
              "        async function quickchart(key) {\n",
              "          const quickchartButtonEl =\n",
              "            document.querySelector('#' + key + ' button');\n",
              "          quickchartButtonEl.disabled = true;  // To prevent multiple clicks.\n",
              "          quickchartButtonEl.classList.add('colab-df-spinner');\n",
              "          try {\n",
              "            const charts = await google.colab.kernel.invokeFunction(\n",
              "                'suggestCharts', [key], {});\n",
              "          } catch (error) {\n",
              "            console.error('Error during call to suggestCharts:', error);\n",
              "          }\n",
              "          quickchartButtonEl.classList.remove('colab-df-spinner');\n",
              "          quickchartButtonEl.classList.add('colab-df-quickchart-complete');\n",
              "        }\n",
              "        (() => {\n",
              "          let quickchartButtonEl =\n",
              "            document.querySelector('#df-740fe5a3-45ef-40e5-8b2c-945ace86106f button');\n",
              "          quickchartButtonEl.style.display =\n",
              "            google.colab.kernel.accessAllowed ? 'block' : 'none';\n",
              "        })();\n",
              "      </script>\n",
              "    </div>\n",
              "\n",
              "  <div id=\"id_bca5f3b0-d09c-4f70-b04d-826d557b5384\">\n",
              "    <style>\n",
              "      .colab-df-generate {\n",
              "        background-color: #E8F0FE;\n",
              "        border: none;\n",
              "        border-radius: 50%;\n",
              "        cursor: pointer;\n",
              "        display: none;\n",
              "        fill: #1967D2;\n",
              "        height: 32px;\n",
              "        padding: 0 0 0 0;\n",
              "        width: 32px;\n",
              "      }\n",
              "\n",
              "      .colab-df-generate:hover {\n",
              "        background-color: #E2EBFA;\n",
              "        box-shadow: 0px 1px 2px rgba(60, 64, 67, 0.3), 0px 1px 3px 1px rgba(60, 64, 67, 0.15);\n",
              "        fill: #174EA6;\n",
              "      }\n",
              "\n",
              "      [theme=dark] .colab-df-generate {\n",
              "        background-color: #3B4455;\n",
              "        fill: #D2E3FC;\n",
              "      }\n",
              "\n",
              "      [theme=dark] .colab-df-generate:hover {\n",
              "        background-color: #434B5C;\n",
              "        box-shadow: 0px 1px 3px 1px rgba(0, 0, 0, 0.15);\n",
              "        filter: drop-shadow(0px 1px 2px rgba(0, 0, 0, 0.3));\n",
              "        fill: #FFFFFF;\n",
              "      }\n",
              "    </style>\n",
              "    <button class=\"colab-df-generate\" onclick=\"generateWithVariable('judgment_df')\"\n",
              "            title=\"Generate code using this dataframe.\"\n",
              "            style=\"display:none;\">\n",
              "\n",
              "  <svg xmlns=\"http://www.w3.org/2000/svg\" height=\"24px\"viewBox=\"0 0 24 24\"\n",
              "       width=\"24px\">\n",
              "    <path d=\"M7,19H8.4L18.45,9,17,7.55,7,17.6ZM5,21V16.75L18.45,3.32a2,2,0,0,1,2.83,0l1.4,1.43a1.91,1.91,0,0,1,.58,1.4,1.91,1.91,0,0,1-.58,1.4L9.25,21ZM18.45,9,17,7.55Zm-12,3A5.31,5.31,0,0,0,4.9,8.1,5.31,5.31,0,0,0,1,6.5,5.31,5.31,0,0,0,4.9,4.9,5.31,5.31,0,0,0,6.5,1,5.31,5.31,0,0,0,8.1,4.9,5.31,5.31,0,0,0,12,6.5,5.46,5.46,0,0,0,6.5,12Z\"/>\n",
              "  </svg>\n",
              "    </button>\n",
              "    <script>\n",
              "      (() => {\n",
              "      const buttonEl =\n",
              "        document.querySelector('#id_bca5f3b0-d09c-4f70-b04d-826d557b5384 button.colab-df-generate');\n",
              "      buttonEl.style.display =\n",
              "        google.colab.kernel.accessAllowed ? 'block' : 'none';\n",
              "\n",
              "      buttonEl.onclick = () => {\n",
              "        google.colab.notebook.generateWithVariable('judgment_df');\n",
              "      }\n",
              "      })();\n",
              "    </script>\n",
              "  </div>\n",
              "\n",
              "    </div>\n",
              "  </div>\n"
            ],
            "application/vnd.google.colaboratory.intrinsic+json": {
              "type": "dataframe",
              "variable_name": "judgment_df",
              "summary": "{\n  \"name\": \"judgment_df\",\n  \"rows\": 300,\n  \"fields\": [\n    {\n      \"column\": \"JUDGMENT 1\",\n      \"properties\": {\n        \"dtype\": \"number\",\n        \"std\": 0,\n        \"min\": 4,\n        \"max\": 5,\n        \"num_unique_values\": 2,\n        \"samples\": [\n          4,\n          5\n        ],\n        \"semantic_type\": \"\",\n        \"description\": \"\"\n      }\n    },\n    {\n      \"column\": \"JUDGMENT 2\",\n      \"properties\": {\n        \"dtype\": \"number\",\n        \"std\": 0,\n        \"min\": 3,\n        \"max\": 5,\n        \"num_unique_values\": 3,\n        \"samples\": [\n          5,\n          4\n        ],\n        \"semantic_type\": \"\",\n        \"description\": \"\"\n      }\n    },\n    {\n      \"column\": \"JUDGMENT 3\",\n      \"properties\": {\n        \"dtype\": \"number\",\n        \"std\": 0,\n        \"min\": 3,\n        \"max\": 5,\n        \"num_unique_values\": 3,\n        \"samples\": [\n          4,\n          5\n        ],\n        \"semantic_type\": \"\",\n        \"description\": \"\"\n      }\n    },\n    {\n      \"column\": \"JUDGMENT 4\",\n      \"properties\": {\n        \"dtype\": \"number\",\n        \"std\": 0,\n        \"min\": 2,\n        \"max\": 5,\n        \"num_unique_values\": 4,\n        \"samples\": [\n          5,\n          2\n        ],\n        \"semantic_type\": \"\",\n        \"description\": \"\"\n      }\n    },\n    {\n      \"column\": \"JUDGMENT 5\",\n      \"properties\": {\n        \"dtype\": \"string\",\n        \"num_unique_values\": 155,\n        \"samples\": [\n          \"A tripla captura bem o sujeito e a rela\\u00e7\\u00e3o, mas falta especificar a parte da grade de dentro da bandeja.\",\n          \"A tripla captura bem o sujeito, a rela\\u00e7\\u00e3o e o objeto, mas falta mencionar a a\\u00e7\\u00e3o de sele\\u00e7\\u00e3o no momento da compra.\"\n        ],\n        \"semantic_type\": \"\",\n        \"description\": \"\"\n      }\n    }\n  ]\n}"
            }
          },
          "metadata": {}
        }
      ]
    },
    {
      "cell_type": "code",
      "source": [
        "import pandas as pd\n",
        "import json\n",
        "\n",
        "def processar_respostas_brutas(respostas_brutas):\n",
        "    registros = []\n",
        "\n",
        "    for i, item in enumerate(respostas_brutas):\n",
        "        try:\n",
        "            parsed = json.loads(item[\"resposta_bruta\"])\n",
        "            avaliacao_1 = parsed.get(\"AVALIACAO 1\", None)\n",
        "            avaliacao_2 = parsed.get(\"AVALIACAO 2\", None)\n",
        "        except Exception as e:\n",
        "            print(f\"[Erro na linha {i}] JSON inválido: {e}\")\n",
        "            avaliacao_1 = None\n",
        "            avaliacao_2 = None\n",
        "\n",
        "        registros.append({\n",
        "            \"sentence\": item[\"sentence\"],\n",
        "            \"triple\": item[\"triple\"],\n",
        "            \"JUDGMENT 1\": item[\"JUDGMENT 1\"],\n",
        "            \"JUDGMENT 2\": item[\"JUDGMENT 2\"],\n",
        "            \"JUDGMENT 3\": item[\"JUDGMENT 3\"],\n",
        "            \"JUDGMENT 4\": item[\"JUDGMENT 4\"],\n",
        "            \"JUDGMENT 5\": item[\"JUDGMENT 5\"],\n",
        "            \"resposta_bruta\": item[\"resposta_bruta\"],\n",
        "            \"AVALIACAO 1\": avaliacao_1,\n",
        "            \"AVALIACAO 2\": avaliacao_2\n",
        "        })\n",
        "\n",
        "    return pd.DataFrame(registros)\n"
      ],
      "metadata": {
        "id": "UGVG9G0eMeAi"
      },
      "execution_count": null,
      "outputs": []
    },
    {
      "cell_type": "code",
      "source": [
        "respostas = obter_respostas_llm(df, judgment_df, \"deepseek-ai/DeepSeek-V3\")\n",
        "\n",
        "df_avaliado = processar_respostas_brutas(respostas)"
      ],
      "metadata": {
        "colab": {
          "base_uri": "https://localhost:8080/",
          "height": 1000
        },
        "id": "k4wP3zGCNSOo",
        "outputId": "9b153f10-00fe-4c82-c359-efd125b5a7c0"
      },
      "execution_count": null,
      "outputs": [
        {
          "output_type": "display_data",
          "data": {
            "text/plain": [
              "'{central_multimidia_universal_mp5_espelhamento_android_ios} {compativel} {meriva_2004}'"
            ],
            "application/vnd.google.colaboratory.intrinsic+json": {
              "type": "string"
            }
          },
          "metadata": {}
        },
        {
          "output_type": "display_data",
          "data": {
            "text/plain": [
              "np.int64(5)"
            ]
          },
          "metadata": {}
        },
        {
          "output_type": "display_data",
          "data": {
            "text/plain": [
              "np.int64(5)"
            ]
          },
          "metadata": {}
        },
        {
          "output_type": "display_data",
          "data": {
            "text/plain": [
              "np.int64(4)"
            ]
          },
          "metadata": {}
        },
        {
          "output_type": "display_data",
          "data": {
            "text/plain": [
              "np.int64(4)"
            ]
          },
          "metadata": {}
        },
        {
          "output_type": "display_data",
          "data": {
            "text/plain": [
              "'{\\n  \"AVALIACAO 1\": 5,\\n  \"AVALIACAO 2\": 5\\n}'"
            ],
            "application/vnd.google.colaboratory.intrinsic+json": {
              "type": "string"
            }
          },
          "metadata": {}
        },
        {
          "output_type": "display_data",
          "data": {
            "text/plain": [
              "'{quadro_decorativo_grande_para_sala_quarto_leao_realista_juda} {incompativel} {vidro}'"
            ],
            "application/vnd.google.colaboratory.intrinsic+json": {
              "type": "string"
            }
          },
          "metadata": {}
        },
        {
          "output_type": "display_data",
          "data": {
            "text/plain": [
              "np.int64(5)"
            ]
          },
          "metadata": {}
        },
        {
          "output_type": "display_data",
          "data": {
            "text/plain": [
              "np.int64(5)"
            ]
          },
          "metadata": {}
        },
        {
          "output_type": "display_data",
          "data": {
            "text/plain": [
              "np.int64(5)"
            ]
          },
          "metadata": {}
        },
        {
          "output_type": "display_data",
          "data": {
            "text/plain": [
              "np.int64(4)"
            ]
          },
          "metadata": {}
        },
        {
          "output_type": "display_data",
          "data": {
            "text/plain": [
              "'{\\n  \"AVALIACAO 1\": 4,\\n  \"AVALIACAO 2\": 5\\n}'"
            ],
            "application/vnd.google.colaboratory.intrinsic+json": {
              "type": "string"
            }
          },
          "metadata": {}
        },
        {
          "output_type": "display_data",
          "data": {
            "text/plain": [
              "'{controle_ar_condicionado_universal_diversos_modelo_1000_em_1} {compativel} {ar_da_marca_consul}'"
            ],
            "application/vnd.google.colaboratory.intrinsic+json": {
              "type": "string"
            }
          },
          "metadata": {}
        },
        {
          "output_type": "display_data",
          "data": {
            "text/plain": [
              "np.int64(5)"
            ]
          },
          "metadata": {}
        },
        {
          "output_type": "display_data",
          "data": {
            "text/plain": [
              "np.int64(5)"
            ]
          },
          "metadata": {}
        },
        {
          "output_type": "display_data",
          "data": {
            "text/plain": [
              "np.int64(5)"
            ]
          },
          "metadata": {}
        },
        {
          "output_type": "display_data",
          "data": {
            "text/plain": [
              "np.int64(5)"
            ]
          },
          "metadata": {}
        },
        {
          "output_type": "display_data",
          "data": {
            "text/plain": [
              "'{\\n  \"AVALIACAO 1\": 5,\\n  \"AVALIACAO 2\": 5\\n}'"
            ],
            "application/vnd.google.colaboratory.intrinsic+json": {
              "type": "string"
            }
          },
          "metadata": {}
        },
        {
          "output_type": "display_data",
          "data": {
            "text/plain": [
              "'{polia_correia_alternador_idea_2005_2010_4429} {incompativel} {idea_1_4_elx_2008}'"
            ],
            "application/vnd.google.colaboratory.intrinsic+json": {
              "type": "string"
            }
          },
          "metadata": {}
        },
        {
          "output_type": "display_data",
          "data": {
            "text/plain": [
              "np.int64(5)"
            ]
          },
          "metadata": {}
        },
        {
          "output_type": "display_data",
          "data": {
            "text/plain": [
              "np.int64(5)"
            ]
          },
          "metadata": {}
        },
        {
          "output_type": "display_data",
          "data": {
            "text/plain": [
              "np.int64(5)"
            ]
          },
          "metadata": {}
        },
        {
          "output_type": "display_data",
          "data": {
            "text/plain": [
              "np.int64(5)"
            ]
          },
          "metadata": {}
        },
        {
          "output_type": "display_data",
          "data": {
            "text/plain": [
              "'{\\n  \"AVALIACAO 1\": 5,\\n  \"AVALIACAO 2\": 5\\n}'"
            ],
            "application/vnd.google.colaboratory.intrinsic+json": {
              "type": "string"
            }
          },
          "metadata": {}
        },
        {
          "output_type": "display_data",
          "data": {
            "text/plain": [
              "'{assoalho_fiat_uno_92_93_94_95_96_97_98_99_lado_direito} {compativel} {carro_2_portas}'"
            ],
            "application/vnd.google.colaboratory.intrinsic+json": {
              "type": "string"
            }
          },
          "metadata": {}
        },
        {
          "output_type": "display_data",
          "data": {
            "text/plain": [
              "np.int64(5)"
            ]
          },
          "metadata": {}
        },
        {
          "output_type": "display_data",
          "data": {
            "text/plain": [
              "np.int64(5)"
            ]
          },
          "metadata": {}
        },
        {
          "output_type": "display_data",
          "data": {
            "text/plain": [
              "np.int64(5)"
            ]
          },
          "metadata": {}
        },
        {
          "output_type": "display_data",
          "data": {
            "text/plain": [
              "np.int64(5)"
            ]
          },
          "metadata": {}
        },
        {
          "output_type": "display_data",
          "data": {
            "text/plain": [
              "'{\\n  \"AVALIACAO 1\": 5,\\n  \"AVALIACAO 2\": 5\\n}'"
            ],
            "application/vnd.google.colaboratory.intrinsic+json": {
              "type": "string"
            }
          },
          "metadata": {}
        },
        {
          "output_type": "display_data",
          "data": {
            "text/plain": [
              "'{kit_filtro_combustivel_oleo_ar_motor_peugeot_206_1_0_16v} {compativel} {peugeot_206_soleil_1_0_16v_2001}'"
            ],
            "application/vnd.google.colaboratory.intrinsic+json": {
              "type": "string"
            }
          },
          "metadata": {}
        },
        {
          "output_type": "display_data",
          "data": {
            "text/plain": [
              "np.int64(5)"
            ]
          },
          "metadata": {}
        },
        {
          "output_type": "display_data",
          "data": {
            "text/plain": [
              "np.int64(5)"
            ]
          },
          "metadata": {}
        },
        {
          "output_type": "display_data",
          "data": {
            "text/plain": [
              "np.int64(5)"
            ]
          },
          "metadata": {}
        },
        {
          "output_type": "display_data",
          "data": {
            "text/plain": [
              "np.int64(5)"
            ]
          },
          "metadata": {}
        },
        {
          "output_type": "display_data",
          "data": {
            "text/plain": [
              "'{\\n  \"AVALIACAO 1\": 5,\\n  \"AVALIACAO 2\": 5\\n}'"
            ],
            "application/vnd.google.colaboratory.intrinsic+json": {
              "type": "string"
            }
          },
          "metadata": {}
        },
        {
          "output_type": "display_data",
          "data": {
            "text/plain": [
              "'{controle_remoto_de_tv_led_h_buster_hbtv_32l05hd} {compativel} {tv_ibuster_lcd_hbtv32l05hd}'"
            ],
            "application/vnd.google.colaboratory.intrinsic+json": {
              "type": "string"
            }
          },
          "metadata": {}
        },
        {
          "output_type": "display_data",
          "data": {
            "text/plain": [
              "np.int64(5)"
            ]
          },
          "metadata": {}
        },
        {
          "output_type": "display_data",
          "data": {
            "text/plain": [
              "np.int64(5)"
            ]
          },
          "metadata": {}
        },
        {
          "output_type": "display_data",
          "data": {
            "text/plain": [
              "np.int64(5)"
            ]
          },
          "metadata": {}
        },
        {
          "output_type": "display_data",
          "data": {
            "text/plain": [
              "np.int64(5)"
            ]
          },
          "metadata": {}
        },
        {
          "output_type": "display_data",
          "data": {
            "text/plain": [
              "'{\\n  \"AVALIACAO 1\": 5,\\n  \"AVALIACAO 2\": 5\\n}'"
            ],
            "application/vnd.google.colaboratory.intrinsic+json": {
              "type": "string"
            }
          },
          "metadata": {}
        },
        {
          "output_type": "display_data",
          "data": {
            "text/plain": [
              "'{jogo_casquilho_fixo_std_fiat_punto_1_8_8v_2008_a_2016} {incompativel} {punto_1_6_2011_ettorq}'"
            ],
            "application/vnd.google.colaboratory.intrinsic+json": {
              "type": "string"
            }
          },
          "metadata": {}
        },
        {
          "output_type": "display_data",
          "data": {
            "text/plain": [
              "np.int64(5)"
            ]
          },
          "metadata": {}
        },
        {
          "output_type": "display_data",
          "data": {
            "text/plain": [
              "np.int64(5)"
            ]
          },
          "metadata": {}
        },
        {
          "output_type": "display_data",
          "data": {
            "text/plain": [
              "np.int64(5)"
            ]
          },
          "metadata": {}
        },
        {
          "output_type": "display_data",
          "data": {
            "text/plain": [
              "np.int64(5)"
            ]
          },
          "metadata": {}
        },
        {
          "output_type": "display_data",
          "data": {
            "text/plain": [
              "'{\\n  \"AVALIACAO 1\": 5,\\n  \"AVALIACAO 2\": 5\\n}'"
            ],
            "application/vnd.google.colaboratory.intrinsic+json": {
              "type": "string"
            }
          },
          "metadata": {}
        },
        {
          "output_type": "display_data",
          "data": {
            "text/plain": [
              "'{bobina_de_ignicao_original_ngk_u5029} {compativel} {corolla_gli_1_8_16v_automatico_2009}'"
            ],
            "application/vnd.google.colaboratory.intrinsic+json": {
              "type": "string"
            }
          },
          "metadata": {}
        },
        {
          "output_type": "display_data",
          "data": {
            "text/plain": [
              "np.int64(5)"
            ]
          },
          "metadata": {}
        },
        {
          "output_type": "display_data",
          "data": {
            "text/plain": [
              "np.int64(5)"
            ]
          },
          "metadata": {}
        },
        {
          "output_type": "display_data",
          "data": {
            "text/plain": [
              "np.int64(5)"
            ]
          },
          "metadata": {}
        },
        {
          "output_type": "display_data",
          "data": {
            "text/plain": [
              "np.int64(5)"
            ]
          },
          "metadata": {}
        },
        {
          "output_type": "display_data",
          "data": {
            "text/plain": [
              "'{\\n  \"AVALIACAO 1\": 5,\\n  \"AVALIACAO 2\": 5\\n}'"
            ],
            "application/vnd.google.colaboratory.intrinsic+json": {
              "type": "string"
            }
          },
          "metadata": {}
        },
        {
          "output_type": "display_data",
          "data": {
            "text/plain": [
              "'{radiador_peugeot_307} {compativel} {peugeot_307_1_6_16v_ano_2009}'"
            ],
            "application/vnd.google.colaboratory.intrinsic+json": {
              "type": "string"
            }
          },
          "metadata": {}
        },
        {
          "output_type": "display_data",
          "data": {
            "text/plain": [
              "np.int64(5)"
            ]
          },
          "metadata": {}
        },
        {
          "output_type": "display_data",
          "data": {
            "text/plain": [
              "np.int64(5)"
            ]
          },
          "metadata": {}
        },
        {
          "output_type": "display_data",
          "data": {
            "text/plain": [
              "np.int64(5)"
            ]
          },
          "metadata": {}
        },
        {
          "output_type": "display_data",
          "data": {
            "text/plain": [
              "np.int64(5)"
            ]
          },
          "metadata": {}
        },
        {
          "output_type": "display_data",
          "data": {
            "text/plain": [
              "'{\\n  \"AVALIACAO 1\": 5,\\n  \"AVALIACAO 2\": 5\\n}'"
            ],
            "application/vnd.google.colaboratory.intrinsic+json": {
              "type": "string"
            }
          },
          "metadata": {}
        },
        {
          "output_type": "display_data",
          "data": {
            "text/plain": [
              "'{bomba_hidraulica_s10_2_8_blazer} {incompativel} {microonibus_volare_a6}'"
            ],
            "application/vnd.google.colaboratory.intrinsic+json": {
              "type": "string"
            }
          },
          "metadata": {}
        },
        {
          "output_type": "display_data",
          "data": {
            "text/plain": [
              "np.int64(5)"
            ]
          },
          "metadata": {}
        },
        {
          "output_type": "display_data",
          "data": {
            "text/plain": [
              "np.int64(5)"
            ]
          },
          "metadata": {}
        },
        {
          "output_type": "display_data",
          "data": {
            "text/plain": [
              "np.int64(5)"
            ]
          },
          "metadata": {}
        },
        {
          "output_type": "display_data",
          "data": {
            "text/plain": [
              "np.int64(5)"
            ]
          },
          "metadata": {}
        },
        {
          "output_type": "display_data",
          "data": {
            "text/plain": [
              "'{\\n  \"AVALIACAO 1\": 5,\\n  \"AVALIACAO 2\": 5\\n}'"
            ],
            "application/vnd.google.colaboratory.intrinsic+json": {
              "type": "string"
            }
          },
          "metadata": {}
        },
        {
          "output_type": "display_data",
          "data": {
            "text/plain": [
              "'{kit_escapamento_abafador_silencioso_fiesta_sedan_1_6_09_14} {compativel} {fiesta_sedan_2010_1_6_8v}'"
            ],
            "application/vnd.google.colaboratory.intrinsic+json": {
              "type": "string"
            }
          },
          "metadata": {}
        },
        {
          "output_type": "display_data",
          "data": {
            "text/plain": [
              "np.int64(5)"
            ]
          },
          "metadata": {}
        },
        {
          "output_type": "display_data",
          "data": {
            "text/plain": [
              "np.int64(5)"
            ]
          },
          "metadata": {}
        },
        {
          "output_type": "display_data",
          "data": {
            "text/plain": [
              "np.int64(5)"
            ]
          },
          "metadata": {}
        },
        {
          "output_type": "display_data",
          "data": {
            "text/plain": [
              "np.int64(5)"
            ]
          },
          "metadata": {}
        },
        {
          "output_type": "display_data",
          "data": {
            "text/plain": [
              "'{\\n  \"AVALIAÇÃO 1\": 5,\\n  \"AVALIAÇÃO 2\": 5\\n}'"
            ],
            "application/vnd.google.colaboratory.intrinsic+json": {
              "type": "string"
            }
          },
          "metadata": {}
        },
        {
          "output_type": "display_data",
          "data": {
            "text/plain": [
              "'{kit_embreagem_gol_saveiro_voyage_passat_ap_1_6_luk} {incompativel} {voyage_1_0_2011_8v_flex}'"
            ],
            "application/vnd.google.colaboratory.intrinsic+json": {
              "type": "string"
            }
          },
          "metadata": {}
        },
        {
          "output_type": "display_data",
          "data": {
            "text/plain": [
              "np.int64(5)"
            ]
          },
          "metadata": {}
        },
        {
          "output_type": "display_data",
          "data": {
            "text/plain": [
              "np.int64(5)"
            ]
          },
          "metadata": {}
        },
        {
          "output_type": "display_data",
          "data": {
            "text/plain": [
              "np.int64(5)"
            ]
          },
          "metadata": {}
        },
        {
          "output_type": "display_data",
          "data": {
            "text/plain": [
              "np.int64(5)"
            ]
          },
          "metadata": {}
        },
        {
          "output_type": "display_data",
          "data": {
            "text/plain": [
              "'{\\n  \"AVALIAÇÃO 1\": 5,\\n  \"AVALIAÇÃO 2\": 5\\n}'"
            ],
            "application/vnd.google.colaboratory.intrinsic+json": {
              "type": "string"
            }
          },
          "metadata": {}
        },
        {
          "output_type": "display_data",
          "data": {
            "text/plain": [
              "'{radiador_megane_1_6_flex_manual_automático_ano_2005_a_2012} {compativel} {megane_espresso_flex_2009_manual_com_ar}'"
            ],
            "application/vnd.google.colaboratory.intrinsic+json": {
              "type": "string"
            }
          },
          "metadata": {}
        },
        {
          "output_type": "display_data",
          "data": {
            "text/plain": [
              "np.int64(5)"
            ]
          },
          "metadata": {}
        },
        {
          "output_type": "display_data",
          "data": {
            "text/plain": [
              "np.int64(5)"
            ]
          },
          "metadata": {}
        },
        {
          "output_type": "display_data",
          "data": {
            "text/plain": [
              "np.int64(5)"
            ]
          },
          "metadata": {}
        },
        {
          "output_type": "display_data",
          "data": {
            "text/plain": [
              "np.int64(5)"
            ]
          },
          "metadata": {}
        },
        {
          "output_type": "display_data",
          "data": {
            "text/plain": [
              "'{\\n  \"AVALIAÇÃO 1\": 5,\\n  \"AVALIAÇÃO 2\": 5\\n}'"
            ],
            "application/vnd.google.colaboratory.intrinsic+json": {
              "type": "string"
            }
          },
          "metadata": {}
        },
        {
          "output_type": "display_data",
          "data": {
            "text/plain": [
              "'{shampoo_automotivo_lava_auto_concentrado_v_floc_3l_vonixx} {compativel} {pintura_vitrificada}'"
            ],
            "application/vnd.google.colaboratory.intrinsic+json": {
              "type": "string"
            }
          },
          "metadata": {}
        },
        {
          "output_type": "display_data",
          "data": {
            "text/plain": [
              "np.int64(5)"
            ]
          },
          "metadata": {}
        },
        {
          "output_type": "display_data",
          "data": {
            "text/plain": [
              "np.int64(5)"
            ]
          },
          "metadata": {}
        },
        {
          "output_type": "display_data",
          "data": {
            "text/plain": [
              "np.int64(5)"
            ]
          },
          "metadata": {}
        },
        {
          "output_type": "display_data",
          "data": {
            "text/plain": [
              "np.int64(5)"
            ]
          },
          "metadata": {}
        },
        {
          "output_type": "display_data",
          "data": {
            "text/plain": [
              "'{\\n  \"AVALIACAO 1\": 5,\\n  \"AVALIACAO 2\": 5\\n}'"
            ],
            "application/vnd.google.colaboratory.intrinsic+json": {
              "type": "string"
            }
          },
          "metadata": {}
        },
        {
          "output_type": "display_data",
          "data": {
            "text/plain": [
              "'{cabo_adaptador_conversor_hdmi_para_vga_com_saida_p2_de_audio} {compativel} {notebooks_com_saida_hdmi_e_monitores_com_entrada_vga}'"
            ],
            "application/vnd.google.colaboratory.intrinsic+json": {
              "type": "string"
            }
          },
          "metadata": {}
        },
        {
          "output_type": "display_data",
          "data": {
            "text/plain": [
              "np.int64(5)"
            ]
          },
          "metadata": {}
        },
        {
          "output_type": "display_data",
          "data": {
            "text/plain": [
              "np.int64(5)"
            ]
          },
          "metadata": {}
        },
        {
          "output_type": "display_data",
          "data": {
            "text/plain": [
              "np.int64(5)"
            ]
          },
          "metadata": {}
        },
        {
          "output_type": "display_data",
          "data": {
            "text/plain": [
              "np.int64(5)"
            ]
          },
          "metadata": {}
        },
        {
          "output_type": "display_data",
          "data": {
            "text/plain": [
              "'{\\n  \"AVALIACAO 1\": 5,\\n  \"AVALIACAO 2\": 5\\n}'"
            ],
            "application/vnd.google.colaboratory.intrinsic+json": {
              "type": "string"
            }
          },
          "metadata": {}
        },
        {
          "output_type": "display_data",
          "data": {
            "text/plain": [
              "'{central_multimidia_universal_mp5_espelha_android_ios_chery} {compativel} {chery_tigo2}'"
            ],
            "application/vnd.google.colaboratory.intrinsic+json": {
              "type": "string"
            }
          },
          "metadata": {}
        },
        {
          "output_type": "display_data",
          "data": {
            "text/plain": [
              "np.int64(4)"
            ]
          },
          "metadata": {}
        },
        {
          "output_type": "display_data",
          "data": {
            "text/plain": [
              "np.int64(5)"
            ]
          },
          "metadata": {}
        },
        {
          "output_type": "display_data",
          "data": {
            "text/plain": [
              "np.int64(4)"
            ]
          },
          "metadata": {}
        },
        {
          "output_type": "display_data",
          "data": {
            "text/plain": [
              "np.int64(4)"
            ]
          },
          "metadata": {}
        },
        {
          "output_type": "display_data",
          "data": {
            "text/plain": [
              "'{\\n  \"AVALIAÇÃO 1\": 4,\\n  \"AVALIAÇÃO 2\": 5\\n}'"
            ],
            "application/vnd.google.colaboratory.intrinsic+json": {
              "type": "string"
            }
          },
          "metadata": {}
        },
        {
          "output_type": "display_data",
          "data": {
            "text/plain": [
              "'{kit_ultra_led_nano_22000_lumens_6500k} {compativel} {renault_duster_2018_2019}'"
            ],
            "application/vnd.google.colaboratory.intrinsic+json": {
              "type": "string"
            }
          },
          "metadata": {}
        },
        {
          "output_type": "display_data",
          "data": {
            "text/plain": [
              "np.int64(5)"
            ]
          },
          "metadata": {}
        },
        {
          "output_type": "display_data",
          "data": {
            "text/plain": [
              "np.int64(5)"
            ]
          },
          "metadata": {}
        },
        {
          "output_type": "display_data",
          "data": {
            "text/plain": [
              "np.int64(5)"
            ]
          },
          "metadata": {}
        },
        {
          "output_type": "display_data",
          "data": {
            "text/plain": [
              "np.int64(5)"
            ]
          },
          "metadata": {}
        },
        {
          "output_type": "display_data",
          "data": {
            "text/plain": [
              "'{\\n  \"AVALIAÇÃO 1\": 5,\\n  \"AVALIAÇÃO 2\": 5\\n}'"
            ],
            "application/vnd.google.colaboratory.intrinsic+json": {
              "type": "string"
            }
          },
          "metadata": {}
        },
        {
          "output_type": "display_data",
          "data": {
            "text/plain": [
              "'{controle_p_ar_condicionado_compativel_ar_philco_fm5_m_m2_m3} {incompativel} {ph12000fm2}'"
            ],
            "application/vnd.google.colaboratory.intrinsic+json": {
              "type": "string"
            }
          },
          "metadata": {}
        },
        {
          "output_type": "display_data",
          "data": {
            "text/plain": [
              "np.int64(5)"
            ]
          },
          "metadata": {}
        },
        {
          "output_type": "display_data",
          "data": {
            "text/plain": [
              "np.int64(5)"
            ]
          },
          "metadata": {}
        },
        {
          "output_type": "display_data",
          "data": {
            "text/plain": [
              "np.int64(5)"
            ]
          },
          "metadata": {}
        },
        {
          "output_type": "display_data",
          "data": {
            "text/plain": [
              "np.int64(5)"
            ]
          },
          "metadata": {}
        },
        {
          "output_type": "display_data",
          "data": {
            "text/plain": [
              "'{\\n  \"AVALIAÇÃO 1\": 5,\\n  \"AVALIAÇÃO 2\": 5\\n}'"
            ],
            "application/vnd.google.colaboratory.intrinsic+json": {
              "type": "string"
            }
          },
          "metadata": {}
        },
        {
          "output_type": "display_data",
          "data": {
            "text/plain": [
              "'{junta_homocinetica_chevrolet_onix_1_0_2013_a_2016_nakata} {compativel} {onix_joy_2018_1_0_manual}'"
            ],
            "application/vnd.google.colaboratory.intrinsic+json": {
              "type": "string"
            }
          },
          "metadata": {}
        },
        {
          "output_type": "display_data",
          "data": {
            "text/plain": [
              "np.int64(4)"
            ]
          },
          "metadata": {}
        },
        {
          "output_type": "display_data",
          "data": {
            "text/plain": [
              "np.int64(4)"
            ]
          },
          "metadata": {}
        },
        {
          "output_type": "display_data",
          "data": {
            "text/plain": [
              "np.int64(4)"
            ]
          },
          "metadata": {}
        },
        {
          "output_type": "display_data",
          "data": {
            "text/plain": [
              "np.int64(3)"
            ]
          },
          "metadata": {}
        },
        {
          "output_type": "display_data",
          "data": {
            "text/plain": [
              "'{\\n  \"AVALIAÇÃO 1\": 5,\\n  \"AVALIAÇÃO 2\": 5\\n}'"
            ],
            "application/vnd.google.colaboratory.intrinsic+json": {
              "type": "string"
            }
          },
          "metadata": {}
        },
        {
          "output_type": "display_data",
          "data": {
            "text/plain": [
              "'{luz_de_freio_black_light} {compativel} {veiculo_chassi_8AGBN69S0JR107627}'"
            ],
            "application/vnd.google.colaboratory.intrinsic+json": {
              "type": "string"
            }
          },
          "metadata": {}
        },
        {
          "output_type": "display_data",
          "data": {
            "text/plain": [
              "np.int64(5)"
            ]
          },
          "metadata": {}
        },
        {
          "output_type": "display_data",
          "data": {
            "text/plain": [
              "np.int64(5)"
            ]
          },
          "metadata": {}
        },
        {
          "output_type": "display_data",
          "data": {
            "text/plain": [
              "np.int64(5)"
            ]
          },
          "metadata": {}
        },
        {
          "output_type": "display_data",
          "data": {
            "text/plain": [
              "np.int64(5)"
            ]
          },
          "metadata": {}
        },
        {
          "output_type": "display_data",
          "data": {
            "text/plain": [
              "'{\\n  \"AVALIACAO 1\": 5,\\n  \"AVALIACAO 2\": 5\\n}'"
            ],
            "application/vnd.google.colaboratory.intrinsic+json": {
              "type": "string"
            }
          },
          "metadata": {}
        },
        {
          "output_type": "display_data",
          "data": {
            "text/plain": [
              "'{kit_4l_oleo_lubrificante_mineral_lubrax_essencial_sl_20w50} {compativel} {uno_sx_1_0_mille_2997}'"
            ],
            "application/vnd.google.colaboratory.intrinsic+json": {
              "type": "string"
            }
          },
          "metadata": {}
        },
        {
          "output_type": "display_data",
          "data": {
            "text/plain": [
              "np.int64(5)"
            ]
          },
          "metadata": {}
        },
        {
          "output_type": "display_data",
          "data": {
            "text/plain": [
              "np.int64(5)"
            ]
          },
          "metadata": {}
        },
        {
          "output_type": "display_data",
          "data": {
            "text/plain": [
              "np.int64(5)"
            ]
          },
          "metadata": {}
        },
        {
          "output_type": "display_data",
          "data": {
            "text/plain": [
              "np.int64(5)"
            ]
          },
          "metadata": {}
        },
        {
          "output_type": "display_data",
          "data": {
            "text/plain": [
              "'{\\n  \"AVALIAÇÃO 1\": 5,\\n  \"AVALIAÇÃO 2\": 5\\n}'"
            ],
            "application/vnd.google.colaboratory.intrinsic+json": {
              "type": "string"
            }
          },
          "metadata": {}
        },
        {
          "output_type": "display_data",
          "data": {
            "text/plain": [
              "'{cabo_selecao_original_argo_2017_2018_2019} {imcompativel} {argo_2018_1_3_start_chassi_9bd358a4hjyh48300}'"
            ],
            "application/vnd.google.colaboratory.intrinsic+json": {
              "type": "string"
            }
          },
          "metadata": {}
        },
        {
          "output_type": "display_data",
          "data": {
            "text/plain": [
              "np.int64(5)"
            ]
          },
          "metadata": {}
        },
        {
          "output_type": "display_data",
          "data": {
            "text/plain": [
              "np.int64(5)"
            ]
          },
          "metadata": {}
        },
        {
          "output_type": "display_data",
          "data": {
            "text/plain": [
              "np.int64(5)"
            ]
          },
          "metadata": {}
        },
        {
          "output_type": "display_data",
          "data": {
            "text/plain": [
              "np.int64(5)"
            ]
          },
          "metadata": {}
        },
        {
          "output_type": "display_data",
          "data": {
            "text/plain": [
              "'{\\n  \"AVALIACAO 1\": 5,\\n  \"AVALIACAO 2\": 5\\n}'"
            ],
            "application/vnd.google.colaboratory.intrinsic+json": {
              "type": "string"
            }
          },
          "metadata": {}
        },
        {
          "output_type": "display_data",
          "data": {
            "text/plain": [
              "'{pisca_cromado_titan_125_150_twister_cbx250_traseiro} {兼容_lado} {lado_esquerdo}'"
            ],
            "application/vnd.google.colaboratory.intrinsic+json": {
              "type": "string"
            }
          },
          "metadata": {}
        },
        {
          "output_type": "display_data",
          "data": {
            "text/plain": [
              "np.int64(5)"
            ]
          },
          "metadata": {}
        },
        {
          "output_type": "display_data",
          "data": {
            "text/plain": [
              "np.int64(4)"
            ]
          },
          "metadata": {}
        },
        {
          "output_type": "display_data",
          "data": {
            "text/plain": [
              "np.int64(5)"
            ]
          },
          "metadata": {}
        },
        {
          "output_type": "display_data",
          "data": {
            "text/plain": [
              "np.int64(4)"
            ]
          },
          "metadata": {}
        },
        {
          "output_type": "display_data",
          "data": {
            "text/plain": [
              "'{\\n  \"AVALIACAO 1\": 4,\\n  \"AVALIACAO 2\": 4\\n}'"
            ],
            "application/vnd.google.colaboratory.intrinsic+json": {
              "type": "string"
            }
          },
          "metadata": {}
        },
        {
          "output_type": "display_data",
          "data": {
            "text/plain": [
              "'{radiador_nissan_grand_livina_livina_2009_em_diante_manual} {compativel} {veiculo_de_chassi_94DJBYL10DJ251420}'"
            ],
            "application/vnd.google.colaboratory.intrinsic+json": {
              "type": "string"
            }
          },
          "metadata": {}
        },
        {
          "output_type": "display_data",
          "data": {
            "text/plain": [
              "np.int64(5)"
            ]
          },
          "metadata": {}
        },
        {
          "output_type": "display_data",
          "data": {
            "text/plain": [
              "np.int64(5)"
            ]
          },
          "metadata": {}
        },
        {
          "output_type": "display_data",
          "data": {
            "text/plain": [
              "np.int64(5)"
            ]
          },
          "metadata": {}
        },
        {
          "output_type": "display_data",
          "data": {
            "text/plain": [
              "np.int64(5)"
            ]
          },
          "metadata": {}
        },
        {
          "output_type": "display_data",
          "data": {
            "text/plain": [
              "'{\\n  \"AVALIACAO 1\": 5,\\n  \"AVALIACAO 2\": 5\\n}'"
            ],
            "application/vnd.google.colaboratory.intrinsic+json": {
              "type": "string"
            }
          },
          "metadata": {}
        },
        {
          "output_type": "display_data",
          "data": {
            "text/plain": [
              "'{kit_4_bicos_injetores_uno_1_0_fire_flex_marelli_original} {compativel} {fiat_uno_fire_2001_a_gasolina}'"
            ],
            "application/vnd.google.colaboratory.intrinsic+json": {
              "type": "string"
            }
          },
          "metadata": {}
        },
        {
          "output_type": "display_data",
          "data": {
            "text/plain": [
              "np.int64(5)"
            ]
          },
          "metadata": {}
        },
        {
          "output_type": "display_data",
          "data": {
            "text/plain": [
              "np.int64(5)"
            ]
          },
          "metadata": {}
        },
        {
          "output_type": "display_data",
          "data": {
            "text/plain": [
              "np.int64(5)"
            ]
          },
          "metadata": {}
        },
        {
          "output_type": "display_data",
          "data": {
            "text/plain": [
              "np.int64(5)"
            ]
          },
          "metadata": {}
        },
        {
          "output_type": "display_data",
          "data": {
            "text/plain": [
              "'{\\n  \"AVALIAÇÃO 1\": 5,\\n  \"AVALIAÇÃO 2\": 5\\n}'"
            ],
            "application/vnd.google.colaboratory.intrinsic+json": {
              "type": "string"
            }
          },
          "metadata": {}
        },
        {
          "output_type": "display_data",
          "data": {
            "text/plain": [
              "'{pneu_moto_maggion_aro_18_winner_90_90_18_57p_tt} {compativel} {start_160}'"
            ],
            "application/vnd.google.colaboratory.intrinsic+json": {
              "type": "string"
            }
          },
          "metadata": {}
        },
        {
          "output_type": "display_data",
          "data": {
            "text/plain": [
              "np.int64(5)"
            ]
          },
          "metadata": {}
        },
        {
          "output_type": "display_data",
          "data": {
            "text/plain": [
              "np.int64(5)"
            ]
          },
          "metadata": {}
        },
        {
          "output_type": "display_data",
          "data": {
            "text/plain": [
              "np.int64(5)"
            ]
          },
          "metadata": {}
        },
        {
          "output_type": "display_data",
          "data": {
            "text/plain": [
              "np.int64(5)"
            ]
          },
          "metadata": {}
        },
        {
          "output_type": "display_data",
          "data": {
            "text/plain": [
              "'{\\n  \"AVALIACAO 1\": 5,\\n  \"AVALIACAO 2\": 5\\n}'"
            ],
            "application/vnd.google.colaboratory.intrinsic+json": {
              "type": "string"
            }
          },
          "metadata": {}
        },
        {
          "output_type": "display_data",
          "data": {
            "text/plain": [
              "'{pneu_aro_16_235_70_r16_106t_aplus_all_terrain_a929} {compativel} {s10_advance_2006}'"
            ],
            "application/vnd.google.colaboratory.intrinsic+json": {
              "type": "string"
            }
          },
          "metadata": {}
        },
        {
          "output_type": "display_data",
          "data": {
            "text/plain": [
              "np.int64(5)"
            ]
          },
          "metadata": {}
        },
        {
          "output_type": "display_data",
          "data": {
            "text/plain": [
              "np.int64(5)"
            ]
          },
          "metadata": {}
        },
        {
          "output_type": "display_data",
          "data": {
            "text/plain": [
              "np.int64(5)"
            ]
          },
          "metadata": {}
        },
        {
          "output_type": "display_data",
          "data": {
            "text/plain": [
              "np.int64(5)"
            ]
          },
          "metadata": {}
        },
        {
          "output_type": "display_data",
          "data": {
            "text/plain": [
              "'{\\n  \"AVALIAÇÃO 1\": 5,\\n  \"AVALIAÇÃO 2\": 5\\n}'"
            ],
            "application/vnd.google.colaboratory.intrinsic+json": {
              "type": "string"
            }
          },
          "metadata": {}
        },
        {
          "output_type": "display_data",
          "data": {
            "text/plain": [
              "'{tubo_bengala_interno_fazer_250_2012_par_de_retentores} {compativel} {fazer_250_2008_2009}'"
            ],
            "application/vnd.google.colaboratory.intrinsic+json": {
              "type": "string"
            }
          },
          "metadata": {}
        },
        {
          "output_type": "display_data",
          "data": {
            "text/plain": [
              "np.int64(5)"
            ]
          },
          "metadata": {}
        },
        {
          "output_type": "display_data",
          "data": {
            "text/plain": [
              "np.int64(5)"
            ]
          },
          "metadata": {}
        },
        {
          "output_type": "display_data",
          "data": {
            "text/plain": [
              "np.int64(5)"
            ]
          },
          "metadata": {}
        },
        {
          "output_type": "display_data",
          "data": {
            "text/plain": [
              "np.int64(5)"
            ]
          },
          "metadata": {}
        },
        {
          "output_type": "display_data",
          "data": {
            "text/plain": [
              "'{\\n  \"AVALIACAO 1\": 5,\\n  \"AVALIACAO 2\": 5\\n}'"
            ],
            "application/vnd.google.colaboratory.intrinsic+json": {
              "type": "string"
            }
          },
          "metadata": {}
        },
        {
          "output_type": "display_data",
          "data": {
            "text/plain": [
              "'{radiador_kia_sportage_2_0_automatico} {compativel} {kia_sportage_2012_2013}'"
            ],
            "application/vnd.google.colaboratory.intrinsic+json": {
              "type": "string"
            }
          },
          "metadata": {}
        },
        {
          "output_type": "display_data",
          "data": {
            "text/plain": [
              "np.int64(5)"
            ]
          },
          "metadata": {}
        },
        {
          "output_type": "display_data",
          "data": {
            "text/plain": [
              "np.int64(5)"
            ]
          },
          "metadata": {}
        },
        {
          "output_type": "display_data",
          "data": {
            "text/plain": [
              "np.int64(5)"
            ]
          },
          "metadata": {}
        },
        {
          "output_type": "display_data",
          "data": {
            "text/plain": [
              "np.int64(5)"
            ]
          },
          "metadata": {}
        },
        {
          "output_type": "display_data",
          "data": {
            "text/plain": [
              "'{\\n  \"AVALIACAO 1\": 5,\\n  \"AVALIACAO 2\": 5\\n}'"
            ],
            "application/vnd.google.colaboratory.intrinsic+json": {
              "type": "string"
            }
          },
          "metadata": {}
        },
        {
          "output_type": "display_data",
          "data": {
            "text/plain": [
              "'{regulador_voltagem_gol_parati_logus_corsa_focus_ga040} {compativel} {modelo_ga040}'"
            ],
            "application/vnd.google.colaboratory.intrinsic+json": {
              "type": "string"
            }
          },
          "metadata": {}
        },
        {
          "output_type": "display_data",
          "data": {
            "text/plain": [
              "np.int64(5)"
            ]
          },
          "metadata": {}
        },
        {
          "output_type": "display_data",
          "data": {
            "text/plain": [
              "np.int64(5)"
            ]
          },
          "metadata": {}
        },
        {
          "output_type": "display_data",
          "data": {
            "text/plain": [
              "np.int64(5)"
            ]
          },
          "metadata": {}
        },
        {
          "output_type": "display_data",
          "data": {
            "text/plain": [
              "np.int64(5)"
            ]
          },
          "metadata": {}
        },
        {
          "output_type": "display_data",
          "data": {
            "text/plain": [
              "'{\\n  \"AVALIAÇÃO 1\": 5,\\n  \"AVALIAÇÃO 2\": 5\\n}'"
            ],
            "application/vnd.google.colaboratory.intrinsic+json": {
              "type": "string"
            }
          },
          "metadata": {}
        },
        {
          "output_type": "display_data",
          "data": {
            "text/plain": [
              "'{roldana} {incompativel} {twister}'"
            ],
            "application/vnd.google.colaboratory.intrinsic+json": {
              "type": "string"
            }
          },
          "metadata": {}
        },
        {
          "output_type": "display_data",
          "data": {
            "text/plain": [
              "np.int64(5)"
            ]
          },
          "metadata": {}
        },
        {
          "output_type": "display_data",
          "data": {
            "text/plain": [
              "np.int64(4)"
            ]
          },
          "metadata": {}
        },
        {
          "output_type": "display_data",
          "data": {
            "text/plain": [
              "np.int64(4)"
            ]
          },
          "metadata": {}
        },
        {
          "output_type": "display_data",
          "data": {
            "text/plain": [
              "np.int64(3)"
            ]
          },
          "metadata": {}
        },
        {
          "output_type": "display_data",
          "data": {
            "text/plain": [
              "'{\\n  \"AVALIACAO 1\": 4,\\n  \"AVALIACAO 2\": 5\\n}'"
            ],
            "application/vnd.google.colaboratory.intrinsic+json": {
              "type": "string"
            }
          },
          "metadata": {}
        },
        {
          "output_type": "display_data",
          "data": {
            "text/plain": [
              "'{manta_termica_dupla_face} {compativel} {area_200m²}'"
            ],
            "application/vnd.google.colaboratory.intrinsic+json": {
              "type": "string"
            }
          },
          "metadata": {}
        },
        {
          "output_type": "display_data",
          "data": {
            "text/plain": [
              "np.int64(5)"
            ]
          },
          "metadata": {}
        },
        {
          "output_type": "display_data",
          "data": {
            "text/plain": [
              "np.int64(5)"
            ]
          },
          "metadata": {}
        },
        {
          "output_type": "display_data",
          "data": {
            "text/plain": [
              "np.int64(4)"
            ]
          },
          "metadata": {}
        },
        {
          "output_type": "display_data",
          "data": {
            "text/plain": [
              "np.int64(4)"
            ]
          },
          "metadata": {}
        },
        {
          "output_type": "display_data",
          "data": {
            "text/plain": [
              "'{\\n  \"AVALIACAO 1\": 4,\\n  \"AVALIACAO 2\": 4\\n}'"
            ],
            "application/vnd.google.colaboratory.intrinsic+json": {
              "type": "string"
            }
          },
          "metadata": {}
        },
        {
          "output_type": "display_data",
          "data": {
            "text/plain": [
              "'{central_multimidia_universal_mp5_espelhamento_android_ios} {compativel} {nissan_march_2018}'"
            ],
            "application/vnd.google.colaboratory.intrinsic+json": {
              "type": "string"
            }
          },
          "metadata": {}
        },
        {
          "output_type": "display_data",
          "data": {
            "text/plain": [
              "np.int64(5)"
            ]
          },
          "metadata": {}
        },
        {
          "output_type": "display_data",
          "data": {
            "text/plain": [
              "np.int64(4)"
            ]
          },
          "metadata": {}
        },
        {
          "output_type": "display_data",
          "data": {
            "text/plain": [
              "np.int64(4)"
            ]
          },
          "metadata": {}
        },
        {
          "output_type": "display_data",
          "data": {
            "text/plain": [
              "np.int64(3)"
            ]
          },
          "metadata": {}
        },
        {
          "output_type": "display_data",
          "data": {
            "text/plain": [
              "'{\\n  \"AVALIACAO 1\": 4,\\n  \"AVALIACAO 2\": 4\\n}'"
            ],
            "application/vnd.google.colaboratory.intrinsic+json": {
              "type": "string"
            }
          },
          "metadata": {}
        },
        {
          "output_type": "display_data",
          "data": {
            "text/plain": [
              "'{alternador_bongo_k2700_97_04} {compativel} {besta_gs_3_0}'"
            ],
            "application/vnd.google.colaboratory.intrinsic+json": {
              "type": "string"
            }
          },
          "metadata": {}
        },
        {
          "output_type": "display_data",
          "data": {
            "text/plain": [
              "np.int64(5)"
            ]
          },
          "metadata": {}
        },
        {
          "output_type": "display_data",
          "data": {
            "text/plain": [
              "np.int64(5)"
            ]
          },
          "metadata": {}
        },
        {
          "output_type": "display_data",
          "data": {
            "text/plain": [
              "np.int64(5)"
            ]
          },
          "metadata": {}
        },
        {
          "output_type": "display_data",
          "data": {
            "text/plain": [
              "np.int64(4)"
            ]
          },
          "metadata": {}
        },
        {
          "output_type": "display_data",
          "data": {
            "text/plain": [
              "'{\\n  \"AVALIACAO 1\": 5,\\n  \"AVALIACAO 2\": 5\\n}'"
            ],
            "application/vnd.google.colaboratory.intrinsic+json": {
              "type": "string"
            }
          },
          "metadata": {}
        },
        {
          "output_type": "display_data",
          "data": {
            "text/plain": [
              "'{interruptor_inteligente_wi-fi_nova_digital_3_botoes_original} {compativel} {instalacao_em_rede_220}'"
            ],
            "application/vnd.google.colaboratory.intrinsic+json": {
              "type": "string"
            }
          },
          "metadata": {}
        },
        {
          "output_type": "display_data",
          "data": {
            "text/plain": [
              "np.int64(5)"
            ]
          },
          "metadata": {}
        },
        {
          "output_type": "display_data",
          "data": {
            "text/plain": [
              "np.int64(5)"
            ]
          },
          "metadata": {}
        },
        {
          "output_type": "display_data",
          "data": {
            "text/plain": [
              "np.int64(4)"
            ]
          },
          "metadata": {}
        },
        {
          "output_type": "display_data",
          "data": {
            "text/plain": [
              "np.int64(4)"
            ]
          },
          "metadata": {}
        },
        {
          "output_type": "display_data",
          "data": {
            "text/plain": [
              "'{\\n  \"AVALIACAO 1\": 5,\\n  \"AVALIACAO 2\": 5\\n}'"
            ],
            "application/vnd.google.colaboratory.intrinsic+json": {
              "type": "string"
            }
          },
          "metadata": {}
        },
        {
          "output_type": "display_data",
          "data": {
            "text/plain": [
              "'{kit_todas_correias_rolamentos_tensor_up_mpi_com_ar_orig_vw} {incompativel} {chassi_9bwag4120ft532577}'"
            ],
            "application/vnd.google.colaboratory.intrinsic+json": {
              "type": "string"
            }
          },
          "metadata": {}
        },
        {
          "output_type": "display_data",
          "data": {
            "text/plain": [
              "np.int64(5)"
            ]
          },
          "metadata": {}
        },
        {
          "output_type": "display_data",
          "data": {
            "text/plain": [
              "np.int64(5)"
            ]
          },
          "metadata": {}
        },
        {
          "output_type": "display_data",
          "data": {
            "text/plain": [
              "np.int64(5)"
            ]
          },
          "metadata": {}
        },
        {
          "output_type": "display_data",
          "data": {
            "text/plain": [
              "np.int64(5)"
            ]
          },
          "metadata": {}
        },
        {
          "output_type": "display_data",
          "data": {
            "text/plain": [
              "'{\\n  \"AVALIACAO 1\": 5,\\n  \"AVALIACAO 2\": 5\\n}'"
            ],
            "application/vnd.google.colaboratory.intrinsic+json": {
              "type": "string"
            }
          },
          "metadata": {}
        },
        {
          "output_type": "display_data",
          "data": {
            "text/plain": [
              "'{maquina_de_solda_mig_mag_inversora_migflex_160_bv_boxer} {compativel} {gas}'"
            ],
            "application/vnd.google.colaboratory.intrinsic+json": {
              "type": "string"
            }
          },
          "metadata": {}
        },
        {
          "output_type": "display_data",
          "data": {
            "text/plain": [
              "np.int64(5)"
            ]
          },
          "metadata": {}
        },
        {
          "output_type": "display_data",
          "data": {
            "text/plain": [
              "np.int64(5)"
            ]
          },
          "metadata": {}
        },
        {
          "output_type": "display_data",
          "data": {
            "text/plain": [
              "np.int64(5)"
            ]
          },
          "metadata": {}
        },
        {
          "output_type": "display_data",
          "data": {
            "text/plain": [
              "np.int64(5)"
            ]
          },
          "metadata": {}
        },
        {
          "output_type": "display_data",
          "data": {
            "text/plain": [
              "'{\\n  \"AVALIACAO 1\": 5,\\n  \"AVALIACAO 2\": 5\\n}'"
            ],
            "application/vnd.google.colaboratory.intrinsic+json": {
              "type": "string"
            }
          },
          "metadata": {}
        },
        {
          "output_type": "display_data",
          "data": {
            "text/plain": [
              "'{carburador_titan_125_2002_04_fan_125_2002_08_mod_original} {compativel_com_restricoes} {moto_max_sundown_125}'"
            ],
            "application/vnd.google.colaboratory.intrinsic+json": {
              "type": "string"
            }
          },
          "metadata": {}
        },
        {
          "output_type": "display_data",
          "data": {
            "text/plain": [
              "np.int64(4)"
            ]
          },
          "metadata": {}
        },
        {
          "output_type": "display_data",
          "data": {
            "text/plain": [
              "np.int64(4)"
            ]
          },
          "metadata": {}
        },
        {
          "output_type": "display_data",
          "data": {
            "text/plain": [
              "np.int64(4)"
            ]
          },
          "metadata": {}
        },
        {
          "output_type": "display_data",
          "data": {
            "text/plain": [
              "np.int64(3)"
            ]
          },
          "metadata": {}
        },
        {
          "output_type": "display_data",
          "data": {
            "text/plain": [
              "'{\\n  \"AVALIAÇÃO 1\": 4,\\n  \"AVALIAÇÃO 2\": 4\\n}'"
            ],
            "application/vnd.google.colaboratory.intrinsic+json": {
              "type": "string"
            }
          },
          "metadata": {}
        },
        {
          "output_type": "display_data",
          "data": {
            "text/plain": [
              "'{jogo_de_mini_piscas_setas_com_lampadas_cg_titan_fan_150_125} {compativel} {fan_ks_125_2011_2012}'"
            ],
            "application/vnd.google.colaboratory.intrinsic+json": {
              "type": "string"
            }
          },
          "metadata": {}
        },
        {
          "output_type": "display_data",
          "data": {
            "text/plain": [
              "np.int64(5)"
            ]
          },
          "metadata": {}
        },
        {
          "output_type": "display_data",
          "data": {
            "text/plain": [
              "np.int64(5)"
            ]
          },
          "metadata": {}
        },
        {
          "output_type": "display_data",
          "data": {
            "text/plain": [
              "np.int64(5)"
            ]
          },
          "metadata": {}
        },
        {
          "output_type": "display_data",
          "data": {
            "text/plain": [
              "np.int64(5)"
            ]
          },
          "metadata": {}
        },
        {
          "output_type": "display_data",
          "data": {
            "text/plain": [
              "'{\\n  \"AVALIACAO 1\": 5,\\n  \"AVALIACAO 2\": 5\\n}'"
            ],
            "application/vnd.google.colaboratory.intrinsic+json": {
              "type": "string"
            }
          },
          "metadata": {}
        },
        {
          "output_type": "display_data",
          "data": {
            "text/plain": [
              "'{par_amortecedor_traseiro_gol_g5_g6_g7_original_nakata_e_kit} {compativel} {gol_sport_line_2013}'"
            ],
            "application/vnd.google.colaboratory.intrinsic+json": {
              "type": "string"
            }
          },
          "metadata": {}
        },
        {
          "output_type": "display_data",
          "data": {
            "text/plain": [
              "np.int64(5)"
            ]
          },
          "metadata": {}
        },
        {
          "output_type": "display_data",
          "data": {
            "text/plain": [
              "np.int64(5)"
            ]
          },
          "metadata": {}
        },
        {
          "output_type": "display_data",
          "data": {
            "text/plain": [
              "np.int64(5)"
            ]
          },
          "metadata": {}
        },
        {
          "output_type": "display_data",
          "data": {
            "text/plain": [
              "np.int64(5)"
            ]
          },
          "metadata": {}
        },
        {
          "output_type": "display_data",
          "data": {
            "text/plain": [
              "'{\\n  \"AVALIAÇÃO 1\": 5,\\n  \"AVALIAÇÃO 2\": 5\\n}'"
            ],
            "application/vnd.google.colaboratory.intrinsic+json": {
              "type": "string"
            }
          },
          "metadata": {}
        },
        {
          "output_type": "display_data",
          "data": {
            "text/plain": [
              "'{lampadas_ultra_led_12000_lumens} {compativel} {ford_versailles_1994}'"
            ],
            "application/vnd.google.colaboratory.intrinsic+json": {
              "type": "string"
            }
          },
          "metadata": {}
        },
        {
          "output_type": "display_data",
          "data": {
            "text/plain": [
              "np.int64(5)"
            ]
          },
          "metadata": {}
        },
        {
          "output_type": "display_data",
          "data": {
            "text/plain": [
              "np.int64(5)"
            ]
          },
          "metadata": {}
        },
        {
          "output_type": "display_data",
          "data": {
            "text/plain": [
              "np.int64(5)"
            ]
          },
          "metadata": {}
        },
        {
          "output_type": "display_data",
          "data": {
            "text/plain": [
              "np.int64(5)"
            ]
          },
          "metadata": {}
        },
        {
          "output_type": "display_data",
          "data": {
            "text/plain": [
              "'{\\n  \"AVALIAÇÃO 1\": 5,\\n  \"AVALIAÇÃO 2\": 5\\n}'"
            ],
            "application/vnd.google.colaboratory.intrinsic+json": {
              "type": "string"
            }
          },
          "metadata": {}
        },
        {
          "output_type": "display_data",
          "data": {
            "text/plain": [
              "'{multimetro_digital_portatil_114_fluke} {nao_medir} {amperagem}'"
            ],
            "application/vnd.google.colaboratory.intrinsic+json": {
              "type": "string"
            }
          },
          "metadata": {}
        },
        {
          "output_type": "display_data",
          "data": {
            "text/plain": [
              "np.int64(5)"
            ]
          },
          "metadata": {}
        },
        {
          "output_type": "display_data",
          "data": {
            "text/plain": [
              "np.int64(5)"
            ]
          },
          "metadata": {}
        },
        {
          "output_type": "display_data",
          "data": {
            "text/plain": [
              "np.int64(5)"
            ]
          },
          "metadata": {}
        },
        {
          "output_type": "display_data",
          "data": {
            "text/plain": [
              "np.int64(5)"
            ]
          },
          "metadata": {}
        },
        {
          "output_type": "display_data",
          "data": {
            "text/plain": [
              "'{\\n  \"AVALIACAO 1\": 5,\\n  \"AVALIACAO 2\": 5\\n}'"
            ],
            "application/vnd.google.colaboratory.intrinsic+json": {
              "type": "string"
            }
          },
          "metadata": {}
        },
        {
          "output_type": "display_data",
          "data": {
            "text/plain": [
              "'{radiador_a3_2001_2002_2003_2004_2005_audi_motor_1.6_1.8_1.8t} {compativel} {audi_a3_1.8t_150cv_2002_manual}'"
            ],
            "application/vnd.google.colaboratory.intrinsic+json": {
              "type": "string"
            }
          },
          "metadata": {}
        },
        {
          "output_type": "display_data",
          "data": {
            "text/plain": [
              "np.int64(5)"
            ]
          },
          "metadata": {}
        },
        {
          "output_type": "display_data",
          "data": {
            "text/plain": [
              "np.int64(5)"
            ]
          },
          "metadata": {}
        },
        {
          "output_type": "display_data",
          "data": {
            "text/plain": [
              "np.int64(5)"
            ]
          },
          "metadata": {}
        },
        {
          "output_type": "display_data",
          "data": {
            "text/plain": [
              "np.int64(5)"
            ]
          },
          "metadata": {}
        },
        {
          "output_type": "display_data",
          "data": {
            "text/plain": [
              "'{\\n  \"AVALIACAO 1\": 5,\\n  \"AVALIACAO 2\": 5\\n}'"
            ],
            "application/vnd.google.colaboratory.intrinsic+json": {
              "type": "string"
            }
          },
          "metadata": {}
        },
        {
          "output_type": "display_data",
          "data": {
            "text/plain": [
              "'{kit_central_multimidia_fiat_2_din_mp5_bt_espelha_dvd} {incompativel} {peugeot_206}'"
            ],
            "application/vnd.google.colaboratory.intrinsic+json": {
              "type": "string"
            }
          },
          "metadata": {}
        },
        {
          "output_type": "display_data",
          "data": {
            "text/plain": [
              "np.int64(5)"
            ]
          },
          "metadata": {}
        },
        {
          "output_type": "display_data",
          "data": {
            "text/plain": [
              "np.int64(5)"
            ]
          },
          "metadata": {}
        },
        {
          "output_type": "display_data",
          "data": {
            "text/plain": [
              "np.int64(5)"
            ]
          },
          "metadata": {}
        },
        {
          "output_type": "display_data",
          "data": {
            "text/plain": [
              "np.int64(5)"
            ]
          },
          "metadata": {}
        },
        {
          "output_type": "display_data",
          "data": {
            "text/plain": [
              "'{\\n  \"AVALIACAO 1\": 5,\\n  \"AVALIACAO 2\": 5\\n}'"
            ],
            "application/vnd.google.colaboratory.intrinsic+json": {
              "type": "string"
            }
          },
          "metadata": {}
        },
        {
          "output_type": "display_data",
          "data": {
            "text/plain": [
              "'{protetor_carter_peito_de_aco} {compativel} {kadett_91_sl_a_gasolina}'"
            ],
            "application/vnd.google.colaboratory.intrinsic+json": {
              "type": "string"
            }
          },
          "metadata": {}
        },
        {
          "output_type": "display_data",
          "data": {
            "text/plain": [
              "np.int64(5)"
            ]
          },
          "metadata": {}
        },
        {
          "output_type": "display_data",
          "data": {
            "text/plain": [
              "np.int64(5)"
            ]
          },
          "metadata": {}
        },
        {
          "output_type": "display_data",
          "data": {
            "text/plain": [
              "np.int64(5)"
            ]
          },
          "metadata": {}
        },
        {
          "output_type": "display_data",
          "data": {
            "text/plain": [
              "np.int64(5)"
            ]
          },
          "metadata": {}
        },
        {
          "output_type": "display_data",
          "data": {
            "text/plain": [
              "'{\\n  \"AVALIACAO 1\": 5,\\n  \"AVALIACAO 2\": 5\\n}'"
            ],
            "application/vnd.google.colaboratory.intrinsic+json": {
              "type": "string"
            }
          },
          "metadata": {}
        },
        {
          "output_type": "display_data",
          "data": {
            "text/plain": [
              "'{par_farol} {incompativel} {saveiro_2002_geracao_3}'"
            ],
            "application/vnd.google.colaboratory.intrinsic+json": {
              "type": "string"
            }
          },
          "metadata": {}
        },
        {
          "output_type": "display_data",
          "data": {
            "text/plain": [
              "np.int64(5)"
            ]
          },
          "metadata": {}
        },
        {
          "output_type": "display_data",
          "data": {
            "text/plain": [
              "np.int64(5)"
            ]
          },
          "metadata": {}
        },
        {
          "output_type": "display_data",
          "data": {
            "text/plain": [
              "np.int64(4)"
            ]
          },
          "metadata": {}
        },
        {
          "output_type": "display_data",
          "data": {
            "text/plain": [
              "np.int64(4)"
            ]
          },
          "metadata": {}
        },
        {
          "output_type": "display_data",
          "data": {
            "text/plain": [
              "'{\\n  \"AVALIACAO 1\": 4,\\n  \"AVALIACAO 2\": 5\\n}'"
            ],
            "application/vnd.google.colaboratory.intrinsic+json": {
              "type": "string"
            }
          },
          "metadata": {}
        },
        {
          "output_type": "display_data",
          "data": {
            "text/plain": [
              "'{lanterna_traseira} {incompativel} {renault_clio_rl_2001}'"
            ],
            "application/vnd.google.colaboratory.intrinsic+json": {
              "type": "string"
            }
          },
          "metadata": {}
        },
        {
          "output_type": "display_data",
          "data": {
            "text/plain": [
              "np.int64(5)"
            ]
          },
          "metadata": {}
        },
        {
          "output_type": "display_data",
          "data": {
            "text/plain": [
              "np.int64(5)"
            ]
          },
          "metadata": {}
        },
        {
          "output_type": "display_data",
          "data": {
            "text/plain": [
              "np.int64(5)"
            ]
          },
          "metadata": {}
        },
        {
          "output_type": "display_data",
          "data": {
            "text/plain": [
              "np.int64(5)"
            ]
          },
          "metadata": {}
        },
        {
          "output_type": "display_data",
          "data": {
            "text/plain": [
              "'{\\n  \"AVALIACAO 1\": 5,\\n  \"AVALIACAO 2\": 5\\n}'"
            ],
            "application/vnd.google.colaboratory.intrinsic+json": {
              "type": "string"
            }
          },
          "metadata": {}
        },
        {
          "output_type": "display_data",
          "data": {
            "text/plain": [
              "'{modulo_taramps_ds800x2} {compativel} {alto_falantes_pioneer_400w_rms}'"
            ],
            "application/vnd.google.colaboratory.intrinsic+json": {
              "type": "string"
            }
          },
          "metadata": {}
        },
        {
          "output_type": "display_data",
          "data": {
            "text/plain": [
              "np.int64(5)"
            ]
          },
          "metadata": {}
        },
        {
          "output_type": "display_data",
          "data": {
            "text/plain": [
              "np.int64(5)"
            ]
          },
          "metadata": {}
        },
        {
          "output_type": "display_data",
          "data": {
            "text/plain": [
              "np.int64(5)"
            ]
          },
          "metadata": {}
        },
        {
          "output_type": "display_data",
          "data": {
            "text/plain": [
              "np.int64(5)"
            ]
          },
          "metadata": {}
        },
        {
          "output_type": "display_data",
          "data": {
            "text/plain": [
              "'{\\n  \"AVALIAÇÃO 1\": 5,\\n  \"AVALIAÇÃO 2\": 5\\n}'"
            ],
            "application/vnd.google.colaboratory.intrinsic+json": {
              "type": "string"
            }
          },
          "metadata": {}
        },
        {
          "output_type": "display_data",
          "data": {
            "text/plain": [
              "'{farol_yaris_2018_2019_20_cromado} {incompativel} {yaris_2020_2021}'"
            ],
            "application/vnd.google.colaboratory.intrinsic+json": {
              "type": "string"
            }
          },
          "metadata": {}
        },
        {
          "output_type": "display_data",
          "data": {
            "text/plain": [
              "np.int64(5)"
            ]
          },
          "metadata": {}
        },
        {
          "output_type": "display_data",
          "data": {
            "text/plain": [
              "np.int64(5)"
            ]
          },
          "metadata": {}
        },
        {
          "output_type": "display_data",
          "data": {
            "text/plain": [
              "np.int64(5)"
            ]
          },
          "metadata": {}
        },
        {
          "output_type": "display_data",
          "data": {
            "text/plain": [
              "np.int64(5)"
            ]
          },
          "metadata": {}
        },
        {
          "output_type": "display_data",
          "data": {
            "text/plain": [
              "'{\\n  \"AVALIACAO 1\": 5,\\n  \"AVALIACAO 2\": 5\\n}'"
            ],
            "application/vnd.google.colaboratory.intrinsic+json": {
              "type": "string"
            }
          },
          "metadata": {}
        },
        {
          "output_type": "display_data",
          "data": {
            "text/plain": [
              "'{tampa_de_plataforma_harley_insercoes_do_estribo_passageiro} {incompativel} {harley_deluxe_2012}'"
            ],
            "application/vnd.google.colaboratory.intrinsic+json": {
              "type": "string"
            }
          },
          "metadata": {}
        },
        {
          "output_type": "display_data",
          "data": {
            "text/plain": [
              "np.int64(5)"
            ]
          },
          "metadata": {}
        },
        {
          "output_type": "display_data",
          "data": {
            "text/plain": [
              "np.int64(5)"
            ]
          },
          "metadata": {}
        },
        {
          "output_type": "display_data",
          "data": {
            "text/plain": [
              "np.int64(5)"
            ]
          },
          "metadata": {}
        },
        {
          "output_type": "display_data",
          "data": {
            "text/plain": [
              "np.int64(5)"
            ]
          },
          "metadata": {}
        },
        {
          "output_type": "display_data",
          "data": {
            "text/plain": [
              "'{\\n  \"AVALIACAO 1\": 5,\\n  \"AVALIACAO 2\": 5\\n}'"
            ],
            "application/vnd.google.colaboratory.intrinsic+json": {
              "type": "string"
            }
          },
          "metadata": {}
        },
        {
          "output_type": "display_data",
          "data": {
            "text/plain": [
              "'{caixa_de_direcao} {compativel} {ford_ka_2004_direcao_mecanica_motor_1_0}'"
            ],
            "application/vnd.google.colaboratory.intrinsic+json": {
              "type": "string"
            }
          },
          "metadata": {}
        },
        {
          "output_type": "display_data",
          "data": {
            "text/plain": [
              "np.int64(5)"
            ]
          },
          "metadata": {}
        },
        {
          "output_type": "display_data",
          "data": {
            "text/plain": [
              "np.int64(5)"
            ]
          },
          "metadata": {}
        },
        {
          "output_type": "display_data",
          "data": {
            "text/plain": [
              "np.int64(5)"
            ]
          },
          "metadata": {}
        },
        {
          "output_type": "display_data",
          "data": {
            "text/plain": [
              "np.int64(5)"
            ]
          },
          "metadata": {}
        },
        {
          "output_type": "display_data",
          "data": {
            "text/plain": [
              "'{\\n  \"AVALIACAO 1\": 5,\\n  \"AVALIACAO 2\": 5\\n}'"
            ],
            "application/vnd.google.colaboratory.intrinsic+json": {
              "type": "string"
            }
          },
          "metadata": {}
        },
        {
          "output_type": "display_data",
          "data": {
            "text/plain": [
              "'{interface_de_desbloqueio_de_video_faaftech_ft_rc_uc4} {incompativel} {sportage_2018}'"
            ],
            "application/vnd.google.colaboratory.intrinsic+json": {
              "type": "string"
            }
          },
          "metadata": {}
        },
        {
          "output_type": "display_data",
          "data": {
            "text/plain": [
              "np.int64(5)"
            ]
          },
          "metadata": {}
        },
        {
          "output_type": "display_data",
          "data": {
            "text/plain": [
              "np.int64(5)"
            ]
          },
          "metadata": {}
        },
        {
          "output_type": "display_data",
          "data": {
            "text/plain": [
              "np.int64(5)"
            ]
          },
          "metadata": {}
        },
        {
          "output_type": "display_data",
          "data": {
            "text/plain": [
              "np.int64(5)"
            ]
          },
          "metadata": {}
        },
        {
          "output_type": "display_data",
          "data": {
            "text/plain": [
              "'{\\n  \"AVALIACAO 1\": 5,\\n  \"AVALIACAO 2\": 5\\n}'"
            ],
            "application/vnd.google.colaboratory.intrinsic+json": {
              "type": "string"
            }
          },
          "metadata": {}
        },
        {
          "output_type": "display_data",
          "data": {
            "text/plain": [
              "'{martelete_eletropneumático_dewalt_dch263b} {tem_motor} {brushless}'"
            ],
            "application/vnd.google.colaboratory.intrinsic+json": {
              "type": "string"
            }
          },
          "metadata": {}
        },
        {
          "output_type": "display_data",
          "data": {
            "text/plain": [
              "np.int64(5)"
            ]
          },
          "metadata": {}
        },
        {
          "output_type": "display_data",
          "data": {
            "text/plain": [
              "np.int64(5)"
            ]
          },
          "metadata": {}
        },
        {
          "output_type": "display_data",
          "data": {
            "text/plain": [
              "np.int64(5)"
            ]
          },
          "metadata": {}
        },
        {
          "output_type": "display_data",
          "data": {
            "text/plain": [
              "np.int64(5)"
            ]
          },
          "metadata": {}
        },
        {
          "output_type": "display_data",
          "data": {
            "text/plain": [
              "'{\\n  \"AVALIACAO 1\": 5,\\n  \"AVALIAÇÃO 2\": 5\\n}'"
            ],
            "application/vnd.google.colaboratory.intrinsic+json": {
              "type": "string"
            }
          },
          "metadata": {}
        },
        {
          "output_type": "display_data",
          "data": {
            "text/plain": [
              "'{kit_pedal_de_freio_fan_160} {compativel} {estart_160_2020}'"
            ],
            "application/vnd.google.colaboratory.intrinsic+json": {
              "type": "string"
            }
          },
          "metadata": {}
        },
        {
          "output_type": "display_data",
          "data": {
            "text/plain": [
              "np.int64(5)"
            ]
          },
          "metadata": {}
        },
        {
          "output_type": "display_data",
          "data": {
            "text/plain": [
              "np.int64(5)"
            ]
          },
          "metadata": {}
        },
        {
          "output_type": "display_data",
          "data": {
            "text/plain": [
              "np.int64(5)"
            ]
          },
          "metadata": {}
        },
        {
          "output_type": "display_data",
          "data": {
            "text/plain": [
              "np.int64(5)"
            ]
          },
          "metadata": {}
        },
        {
          "output_type": "display_data",
          "data": {
            "text/plain": [
              "'{\\n  \"AVALIAÇÃO 1 — CLAREZA DA JUSTIFICATIVA\": 5,\\n  \"AVALIAÇÃO 2 — COERÊNCIA DAS NOTAS COM A JUSTIFICATIVA\": 5\\n}'"
            ],
            "application/vnd.google.colaboratory.intrinsic+json": {
              "type": "string"
            }
          },
          "metadata": {}
        },
        {
          "output_type": "display_data",
          "data": {
            "text/plain": [
              "'{par_amortecedor_pop_110_velth_traseiro} {compativel} {pop_110i_2017_2018}'"
            ],
            "application/vnd.google.colaboratory.intrinsic+json": {
              "type": "string"
            }
          },
          "metadata": {}
        },
        {
          "output_type": "display_data",
          "data": {
            "text/plain": [
              "np.int64(5)"
            ]
          },
          "metadata": {}
        },
        {
          "output_type": "display_data",
          "data": {
            "text/plain": [
              "np.int64(5)"
            ]
          },
          "metadata": {}
        },
        {
          "output_type": "display_data",
          "data": {
            "text/plain": [
              "np.int64(5)"
            ]
          },
          "metadata": {}
        },
        {
          "output_type": "display_data",
          "data": {
            "text/plain": [
              "np.int64(5)"
            ]
          },
          "metadata": {}
        },
        {
          "output_type": "display_data",
          "data": {
            "text/plain": [
              "'{\\n  \"AVALIAÇÃO 1 — CLAREZA DA JUSTIFICATIVA\": 5,\\n  \"AVALIAÇÃO 2 — COERÊNCIA DAS NOTAS COM A JUSTIFICATIVA\": 5\\n}'"
            ],
            "application/vnd.google.colaboratory.intrinsic+json": {
              "type": "string"
            }
          },
          "metadata": {}
        },
        {
          "output_type": "display_data",
          "data": {
            "text/plain": [
              "'{par_palheta_limpador_parabrisa_bosch_aerotwin} {incompativel} {saveiro_g3_2002}'"
            ],
            "application/vnd.google.colaboratory.intrinsic+json": {
              "type": "string"
            }
          },
          "metadata": {}
        },
        {
          "output_type": "display_data",
          "data": {
            "text/plain": [
              "np.int64(5)"
            ]
          },
          "metadata": {}
        },
        {
          "output_type": "display_data",
          "data": {
            "text/plain": [
              "np.int64(5)"
            ]
          },
          "metadata": {}
        },
        {
          "output_type": "display_data",
          "data": {
            "text/plain": [
              "np.int64(5)"
            ]
          },
          "metadata": {}
        },
        {
          "output_type": "display_data",
          "data": {
            "text/plain": [
              "np.int64(5)"
            ]
          },
          "metadata": {}
        },
        {
          "output_type": "display_data",
          "data": {
            "text/plain": [
              "'{\\n  \"AVALIAÇÃO 1\": 5,\\n  \"AVALIAÇÃO 2\": 5\\n}'"
            ],
            "application/vnd.google.colaboratory.intrinsic+json": {
              "type": "string"
            }
          },
          "metadata": {}
        },
        {
          "output_type": "display_data",
          "data": {
            "text/plain": [
              "'{kit_cilindros_ignicao_mala_porta_fiesta_hatch_96_97_98_99_02} {compativel} {fiesta_2_portas}'"
            ],
            "application/vnd.google.colaboratory.intrinsic+json": {
              "type": "string"
            }
          },
          "metadata": {}
        },
        {
          "output_type": "display_data",
          "data": {
            "text/plain": [
              "np.int64(5)"
            ]
          },
          "metadata": {}
        },
        {
          "output_type": "display_data",
          "data": {
            "text/plain": [
              "np.int64(5)"
            ]
          },
          "metadata": {}
        },
        {
          "output_type": "display_data",
          "data": {
            "text/plain": [
              "np.int64(5)"
            ]
          },
          "metadata": {}
        },
        {
          "output_type": "display_data",
          "data": {
            "text/plain": [
              "np.int64(5)"
            ]
          },
          "metadata": {}
        },
        {
          "output_type": "display_data",
          "data": {
            "text/plain": [
              "'{\\n  \"AVALIACAO 1\": 5,\\n  \"AVALIACAO 2\": 5\\n}'"
            ],
            "application/vnd.google.colaboratory.intrinsic+json": {
              "type": "string"
            }
          },
          "metadata": {}
        },
        {
          "output_type": "display_data",
          "data": {
            "text/plain": [
              "'{apoio_de_braço_encosto_onix_e_prisma} {incompativel} {onix_2021}'"
            ],
            "application/vnd.google.colaboratory.intrinsic+json": {
              "type": "string"
            }
          },
          "metadata": {}
        },
        {
          "output_type": "display_data",
          "data": {
            "text/plain": [
              "np.int64(5)"
            ]
          },
          "metadata": {}
        },
        {
          "output_type": "display_data",
          "data": {
            "text/plain": [
              "np.int64(5)"
            ]
          },
          "metadata": {}
        },
        {
          "output_type": "display_data",
          "data": {
            "text/plain": [
              "np.int64(5)"
            ]
          },
          "metadata": {}
        },
        {
          "output_type": "display_data",
          "data": {
            "text/plain": [
              "np.int64(5)"
            ]
          },
          "metadata": {}
        },
        {
          "output_type": "display_data",
          "data": {
            "text/plain": [
              "'{\\n  \"AVALIAÇÃO 1\": 5,\\n  \"AVALIAÇÃO 2\": 5\\n}'"
            ],
            "application/vnd.google.colaboratory.intrinsic+json": {
              "type": "string"
            }
          },
          "metadata": {}
        },
        {
          "output_type": "display_data",
          "data": {
            "text/plain": [
              "'{amortecedor_monoshock_moto_nxr_bros_150} {incompativel} {bros_2002}'"
            ],
            "application/vnd.google.colaboratory.intrinsic+json": {
              "type": "string"
            }
          },
          "metadata": {}
        },
        {
          "output_type": "display_data",
          "data": {
            "text/plain": [
              "np.int64(5)"
            ]
          },
          "metadata": {}
        },
        {
          "output_type": "display_data",
          "data": {
            "text/plain": [
              "np.int64(5)"
            ]
          },
          "metadata": {}
        },
        {
          "output_type": "display_data",
          "data": {
            "text/plain": [
              "np.int64(5)"
            ]
          },
          "metadata": {}
        },
        {
          "output_type": "display_data",
          "data": {
            "text/plain": [
              "np.int64(4)"
            ]
          },
          "metadata": {}
        },
        {
          "output_type": "display_data",
          "data": {
            "text/plain": [
              "'{\\n  \"AVALIACAO 1\": 5,\\n  \"AVALIACAO 2\": 5\\n}'"
            ],
            "application/vnd.google.colaboratory.intrinsic+json": {
              "type": "string"
            }
          },
          "metadata": {}
        },
        {
          "output_type": "display_data",
          "data": {
            "text/plain": [
              "'{chave_interruptor_farol_cobalt_lt_12_17_gm_52098292} {incompativel} {veiculo_chassi_9bgjb69x0cb297632}'"
            ],
            "application/vnd.google.colaboratory.intrinsic+json": {
              "type": "string"
            }
          },
          "metadata": {}
        },
        {
          "output_type": "display_data",
          "data": {
            "text/plain": [
              "np.int64(5)"
            ]
          },
          "metadata": {}
        },
        {
          "output_type": "display_data",
          "data": {
            "text/plain": [
              "np.int64(5)"
            ]
          },
          "metadata": {}
        },
        {
          "output_type": "display_data",
          "data": {
            "text/plain": [
              "np.int64(5)"
            ]
          },
          "metadata": {}
        },
        {
          "output_type": "display_data",
          "data": {
            "text/plain": [
              "np.int64(5)"
            ]
          },
          "metadata": {}
        },
        {
          "output_type": "display_data",
          "data": {
            "text/plain": [
              "'{\\n  \"AVALIACAO 1\": 5,\\n  \"AVALIACAO 2\": 5\\n}'"
            ],
            "application/vnd.google.colaboratory.intrinsic+json": {
              "type": "string"
            }
          },
          "metadata": {}
        },
        {
          "output_type": "display_data",
          "data": {
            "text/plain": [
              "'{lona_plastica_encerado_9x5_azul_multiuso_ajax} {nao_e_impermeavel} {chuvas_fortes}'"
            ],
            "application/vnd.google.colaboratory.intrinsic+json": {
              "type": "string"
            }
          },
          "metadata": {}
        },
        {
          "output_type": "display_data",
          "data": {
            "text/plain": [
              "np.int64(5)"
            ]
          },
          "metadata": {}
        },
        {
          "output_type": "display_data",
          "data": {
            "text/plain": [
              "np.int64(4)"
            ]
          },
          "metadata": {}
        },
        {
          "output_type": "display_data",
          "data": {
            "text/plain": [
              "np.int64(4)"
            ]
          },
          "metadata": {}
        },
        {
          "output_type": "display_data",
          "data": {
            "text/plain": [
              "np.int64(4)"
            ]
          },
          "metadata": {}
        },
        {
          "output_type": "display_data",
          "data": {
            "text/plain": [
              "'{\\n  \"AVALIACAO 1\": 4,\\n  \"AVALIACAO 2\": 4\\n}'"
            ],
            "application/vnd.google.colaboratory.intrinsic+json": {
              "type": "string"
            }
          },
          "metadata": {}
        },
        {
          "output_type": "display_data",
          "data": {
            "text/plain": [
              "'{carburador_titan_125_2002_04_fan_125_2002_08} {pode_ser_adaptado} {moto_max_moto_sundown_125}'"
            ],
            "application/vnd.google.colaboratory.intrinsic+json": {
              "type": "string"
            }
          },
          "metadata": {}
        },
        {
          "output_type": "display_data",
          "data": {
            "text/plain": [
              "np.int64(4)"
            ]
          },
          "metadata": {}
        },
        {
          "output_type": "display_data",
          "data": {
            "text/plain": [
              "np.int64(4)"
            ]
          },
          "metadata": {}
        },
        {
          "output_type": "display_data",
          "data": {
            "text/plain": [
              "np.int64(4)"
            ]
          },
          "metadata": {}
        },
        {
          "output_type": "display_data",
          "data": {
            "text/plain": [
              "np.int64(3)"
            ]
          },
          "metadata": {}
        },
        {
          "output_type": "display_data",
          "data": {
            "text/plain": [
              "'{\\n  \"AVALIACAO 1\": 4,\\n  \"AVALIACAO 2\": 4\\n}'"
            ],
            "application/vnd.google.colaboratory.intrinsic+json": {
              "type": "string"
            }
          },
          "metadata": {}
        },
        {
          "output_type": "display_data",
          "data": {
            "text/plain": [
              "'{resina} {incompativel} {madeira}'"
            ],
            "application/vnd.google.colaboratory.intrinsic+json": {
              "type": "string"
            }
          },
          "metadata": {}
        },
        {
          "output_type": "display_data",
          "data": {
            "text/plain": [
              "np.int64(5)"
            ]
          },
          "metadata": {}
        },
        {
          "output_type": "display_data",
          "data": {
            "text/plain": [
              "np.int64(5)"
            ]
          },
          "metadata": {}
        },
        {
          "output_type": "display_data",
          "data": {
            "text/plain": [
              "np.int64(4)"
            ]
          },
          "metadata": {}
        },
        {
          "output_type": "display_data",
          "data": {
            "text/plain": [
              "np.int64(4)"
            ]
          },
          "metadata": {}
        },
        {
          "output_type": "display_data",
          "data": {
            "text/plain": [
              "'{\\n  \"AVALIAÇÃO 1\": 4,\\n  \"AVALIAÇÃO 2\": 4\\n}'"
            ],
            "application/vnd.google.colaboratory.intrinsic+json": {
              "type": "string"
            }
          },
          "metadata": {}
        },
        {
          "output_type": "display_data",
          "data": {
            "text/plain": [
              "'{kit_2_amortecedores_traseiros} {compativel} {voyage_2019}'"
            ],
            "application/vnd.google.colaboratory.intrinsic+json": {
              "type": "string"
            }
          },
          "metadata": {}
        },
        {
          "output_type": "display_data",
          "data": {
            "text/plain": [
              "np.int64(5)"
            ]
          },
          "metadata": {}
        },
        {
          "output_type": "display_data",
          "data": {
            "text/plain": [
              "np.int64(5)"
            ]
          },
          "metadata": {}
        },
        {
          "output_type": "display_data",
          "data": {
            "text/plain": [
              "np.int64(5)"
            ]
          },
          "metadata": {}
        },
        {
          "output_type": "display_data",
          "data": {
            "text/plain": [
              "np.int64(5)"
            ]
          },
          "metadata": {}
        },
        {
          "output_type": "display_data",
          "data": {
            "text/plain": [
              "'{\\n  \"AVALIACAO 1\": 5,\\n  \"AVALIACAO 2\": 5\\n}'"
            ],
            "application/vnd.google.colaboratory.intrinsic+json": {
              "type": "string"
            }
          },
          "metadata": {}
        },
        {
          "output_type": "display_data",
          "data": {
            "text/plain": [
              "'{kit_central_multimidia_2_din_mp5_espelha_dvd_bt_toyota} {compativel} {toyota_corolla_2007_2008}'"
            ],
            "application/vnd.google.colaboratory.intrinsic+json": {
              "type": "string"
            }
          },
          "metadata": {}
        },
        {
          "output_type": "display_data",
          "data": {
            "text/plain": [
              "np.int64(5)"
            ]
          },
          "metadata": {}
        },
        {
          "output_type": "display_data",
          "data": {
            "text/plain": [
              "np.int64(5)"
            ]
          },
          "metadata": {}
        },
        {
          "output_type": "display_data",
          "data": {
            "text/plain": [
              "np.int64(5)"
            ]
          },
          "metadata": {}
        },
        {
          "output_type": "display_data",
          "data": {
            "text/plain": [
              "np.int64(5)"
            ]
          },
          "metadata": {}
        },
        {
          "output_type": "display_data",
          "data": {
            "text/plain": [
              "'{\\n  \"AVALIAÇÃO 1\": 5,\\n  \"AVALIAÇÃO 2\": 5\\n}'"
            ],
            "application/vnd.google.colaboratory.intrinsic+json": {
              "type": "string"
            }
          },
          "metadata": {}
        },
        {
          "output_type": "display_data",
          "data": {
            "text/plain": [
              "'{capa_capinha_personalizada_com_nome_flor_cerejeira} {compativel} {samsung_j6}'"
            ],
            "application/vnd.google.colaboratory.intrinsic+json": {
              "type": "string"
            }
          },
          "metadata": {}
        },
        {
          "output_type": "display_data",
          "data": {
            "text/plain": [
              "np.int64(5)"
            ]
          },
          "metadata": {}
        },
        {
          "output_type": "display_data",
          "data": {
            "text/plain": [
              "np.int64(5)"
            ]
          },
          "metadata": {}
        },
        {
          "output_type": "display_data",
          "data": {
            "text/plain": [
              "np.int64(5)"
            ]
          },
          "metadata": {}
        },
        {
          "output_type": "display_data",
          "data": {
            "text/plain": [
              "np.int64(5)"
            ]
          },
          "metadata": {}
        },
        {
          "output_type": "display_data",
          "data": {
            "text/plain": [
              "'{\\n  \"AVALIAÇÃO 1\": 5,\\n  \"AVALIAÇÃO 2\": 5\\n}'"
            ],
            "application/vnd.google.colaboratory.intrinsic+json": {
              "type": "string"
            }
          },
          "metadata": {}
        },
        {
          "output_type": "display_data",
          "data": {
            "text/plain": [
              "'{par_de_amortecedor_dianteiro_duster_automatica_543026348r} {compativel} {duster_1_6_18_19_automatica_chassis_93yhsr3hskj655977}'"
            ],
            "application/vnd.google.colaboratory.intrinsic+json": {
              "type": "string"
            }
          },
          "metadata": {}
        },
        {
          "output_type": "display_data",
          "data": {
            "text/plain": [
              "np.int64(5)"
            ]
          },
          "metadata": {}
        },
        {
          "output_type": "display_data",
          "data": {
            "text/plain": [
              "np.int64(5)"
            ]
          },
          "metadata": {}
        },
        {
          "output_type": "display_data",
          "data": {
            "text/plain": [
              "np.int64(5)"
            ]
          },
          "metadata": {}
        },
        {
          "output_type": "display_data",
          "data": {
            "text/plain": [
              "np.int64(5)"
            ]
          },
          "metadata": {}
        },
        {
          "output_type": "display_data",
          "data": {
            "text/plain": [
              "'{\\n  \"AVALIAÇÃO 1\": 5,\\n  \"AVALIAÇÃO 2\": 5\\n}'"
            ],
            "application/vnd.google.colaboratory.intrinsic+json": {
              "type": "string"
            }
          },
          "metadata": {}
        },
        {
          "output_type": "display_data",
          "data": {
            "text/plain": [
              "'{volante_de_celta_2012_2013_esportivo_gm_comando_som_cubo} {compativel} {celta_life_2005_2006}'"
            ],
            "application/vnd.google.colaboratory.intrinsic+json": {
              "type": "string"
            }
          },
          "metadata": {}
        },
        {
          "output_type": "display_data",
          "data": {
            "text/plain": [
              "np.int64(4)"
            ]
          },
          "metadata": {}
        },
        {
          "output_type": "display_data",
          "data": {
            "text/plain": [
              "np.int64(4)"
            ]
          },
          "metadata": {}
        },
        {
          "output_type": "display_data",
          "data": {
            "text/plain": [
              "np.int64(4)"
            ]
          },
          "metadata": {}
        },
        {
          "output_type": "display_data",
          "data": {
            "text/plain": [
              "np.int64(3)"
            ]
          },
          "metadata": {}
        },
        {
          "output_type": "display_data",
          "data": {
            "text/plain": [
              "'{\\n  \"AVALIACAO 1\": 4,\\n  \"AVALIACAO 2\": 4\\n}'"
            ],
            "application/vnd.google.colaboratory.intrinsic+json": {
              "type": "string"
            }
          },
          "metadata": {}
        },
        {
          "output_type": "display_data",
          "data": {
            "text/plain": [
              "'{alternador_renault_231002299r_sandero_2010_2016} {compativel} {chassi_93ybsr8vkcj204375}'"
            ],
            "application/vnd.google.colaboratory.intrinsic+json": {
              "type": "string"
            }
          },
          "metadata": {}
        },
        {
          "output_type": "display_data",
          "data": {
            "text/plain": [
              "np.int64(5)"
            ]
          },
          "metadata": {}
        },
        {
          "output_type": "display_data",
          "data": {
            "text/plain": [
              "np.int64(5)"
            ]
          },
          "metadata": {}
        },
        {
          "output_type": "display_data",
          "data": {
            "text/plain": [
              "np.int64(5)"
            ]
          },
          "metadata": {}
        },
        {
          "output_type": "display_data",
          "data": {
            "text/plain": [
              "np.int64(5)"
            ]
          },
          "metadata": {}
        },
        {
          "output_type": "display_data",
          "data": {
            "text/plain": [
              "'{\\n  \"AVALIACAO 1\": 5,\\n  \"AVALIACAO 2\": 5\\n}'"
            ],
            "application/vnd.google.colaboratory.intrinsic+json": {
              "type": "string"
            }
          },
          "metadata": {}
        },
        {
          "output_type": "display_data",
          "data": {
            "text/plain": [
              "'{seladora_a_vacuo} {compativel} {sacos_lisos_sem_ranhuras_com_boca_ate_28cm}'"
            ],
            "application/vnd.google.colaboratory.intrinsic+json": {
              "type": "string"
            }
          },
          "metadata": {}
        },
        {
          "output_type": "display_data",
          "data": {
            "text/plain": [
              "np.int64(5)"
            ]
          },
          "metadata": {}
        },
        {
          "output_type": "display_data",
          "data": {
            "text/plain": [
              "np.int64(5)"
            ]
          },
          "metadata": {}
        },
        {
          "output_type": "display_data",
          "data": {
            "text/plain": [
              "np.int64(5)"
            ]
          },
          "metadata": {}
        },
        {
          "output_type": "display_data",
          "data": {
            "text/plain": [
              "np.int64(5)"
            ]
          },
          "metadata": {}
        },
        {
          "output_type": "display_data",
          "data": {
            "text/plain": [
              "'{\\n  \"AVALIACAO 1\": 5,\\n  \"AVALIACAO 2\": 5\\n}'"
            ],
            "application/vnd.google.colaboratory.intrinsic+json": {
              "type": "string"
            }
          },
          "metadata": {}
        },
        {
          "output_type": "display_data",
          "data": {
            "text/plain": [
              "'{moldura_farlo_de_milha_fiat_idea_lado_esquerdo} {incompativel} {chassis_00595556884}'"
            ],
            "application/vnd.google.colaboratory.intrinsic+json": {
              "type": "string"
            }
          },
          "metadata": {}
        },
        {
          "output_type": "display_data",
          "data": {
            "text/plain": [
              "np.int64(5)"
            ]
          },
          "metadata": {}
        },
        {
          "output_type": "display_data",
          "data": {
            "text/plain": [
              "np.int64(5)"
            ]
          },
          "metadata": {}
        },
        {
          "output_type": "display_data",
          "data": {
            "text/plain": [
              "np.int64(5)"
            ]
          },
          "metadata": {}
        },
        {
          "output_type": "display_data",
          "data": {
            "text/plain": [
              "np.int64(5)"
            ]
          },
          "metadata": {}
        },
        {
          "output_type": "display_data",
          "data": {
            "text/plain": [
              "'{\\n  \"AVALIACAO 1\": 5,\\n  \"AVALIACAO 2\": 5\\n}'"
            ],
            "application/vnd.google.colaboratory.intrinsic+json": {
              "type": "string"
            }
          },
          "metadata": {}
        },
        {
          "output_type": "display_data",
          "data": {
            "text/plain": [
              "'{junta_tampa_valvulas} {incompativel} {modelo_325i_2001}'"
            ],
            "application/vnd.google.colaboratory.intrinsic+json": {
              "type": "string"
            }
          },
          "metadata": {}
        },
        {
          "output_type": "display_data",
          "data": {
            "text/plain": [
              "np.int64(5)"
            ]
          },
          "metadata": {}
        },
        {
          "output_type": "display_data",
          "data": {
            "text/plain": [
              "np.int64(5)"
            ]
          },
          "metadata": {}
        },
        {
          "output_type": "display_data",
          "data": {
            "text/plain": [
              "np.int64(5)"
            ]
          },
          "metadata": {}
        },
        {
          "output_type": "display_data",
          "data": {
            "text/plain": [
              "np.int64(5)"
            ]
          },
          "metadata": {}
        },
        {
          "output_type": "display_data",
          "data": {
            "text/plain": [
              "'{\\n  \"AVALIACAO 1\": 5,\\n  \"AVALIACAO 2\": 5\\n}'"
            ],
            "application/vnd.google.colaboratory.intrinsic+json": {
              "type": "string"
            }
          },
          "metadata": {}
        },
        {
          "output_type": "display_data",
          "data": {
            "text/plain": [
              "'{correia_poly_v_alternador} {incompativel} {golf_1.8_de_95}'"
            ],
            "application/vnd.google.colaboratory.intrinsic+json": {
              "type": "string"
            }
          },
          "metadata": {}
        },
        {
          "output_type": "display_data",
          "data": {
            "text/plain": [
              "np.int64(5)"
            ]
          },
          "metadata": {}
        },
        {
          "output_type": "display_data",
          "data": {
            "text/plain": [
              "np.int64(5)"
            ]
          },
          "metadata": {}
        },
        {
          "output_type": "display_data",
          "data": {
            "text/plain": [
              "np.int64(4)"
            ]
          },
          "metadata": {}
        },
        {
          "output_type": "display_data",
          "data": {
            "text/plain": [
              "np.int64(4)"
            ]
          },
          "metadata": {}
        },
        {
          "output_type": "display_data",
          "data": {
            "text/plain": [
              "'{\\n  \"AVALIAÇÃO 1\": 5,\\n  \"AVALIAÇÃO 2\": 5\\n}'"
            ],
            "application/vnd.google.colaboratory.intrinsic+json": {
              "type": "string"
            }
          },
          "metadata": {}
        },
        {
          "output_type": "display_data",
          "data": {
            "text/plain": [
              "'{sensor_oxigenio_logan_2017_2021} {compativel} {flex_1_6_16v}'"
            ],
            "application/vnd.google.colaboratory.intrinsic+json": {
              "type": "string"
            }
          },
          "metadata": {}
        },
        {
          "output_type": "display_data",
          "data": {
            "text/plain": [
              "np.int64(5)"
            ]
          },
          "metadata": {}
        },
        {
          "output_type": "display_data",
          "data": {
            "text/plain": [
              "np.int64(5)"
            ]
          },
          "metadata": {}
        },
        {
          "output_type": "display_data",
          "data": {
            "text/plain": [
              "np.int64(5)"
            ]
          },
          "metadata": {}
        },
        {
          "output_type": "display_data",
          "data": {
            "text/plain": [
              "np.int64(5)"
            ]
          },
          "metadata": {}
        },
        {
          "output_type": "display_data",
          "data": {
            "text/plain": [
              "'{\\n  \"AVALIAÇÃO 1\": 5,\\n  \"AVALIAÇÃO 2\": 5\\n}'"
            ],
            "application/vnd.google.colaboratory.intrinsic+json": {
              "type": "string"
            }
          },
          "metadata": {}
        },
        {
          "output_type": "display_data",
          "data": {
            "text/plain": [
              "'{alavanca_marcha_seletora_cambio_case_521d_621d_821d_orig_zf} {incompativel} {maquina_new_holland_12d_2016}'"
            ],
            "application/vnd.google.colaboratory.intrinsic+json": {
              "type": "string"
            }
          },
          "metadata": {}
        },
        {
          "output_type": "display_data",
          "data": {
            "text/plain": [
              "np.int64(5)"
            ]
          },
          "metadata": {}
        },
        {
          "output_type": "display_data",
          "data": {
            "text/plain": [
              "np.int64(5)"
            ]
          },
          "metadata": {}
        },
        {
          "output_type": "display_data",
          "data": {
            "text/plain": [
              "np.int64(5)"
            ]
          },
          "metadata": {}
        },
        {
          "output_type": "display_data",
          "data": {
            "text/plain": [
              "np.int64(5)"
            ]
          },
          "metadata": {}
        },
        {
          "output_type": "display_data",
          "data": {
            "text/plain": [
              "'{\\n  \"AVALIACAO 1\": 5,\\n  \"AVALIACAO 2\": 5\\n}'"
            ],
            "application/vnd.google.colaboratory.intrinsic+json": {
              "type": "string"
            }
          },
          "metadata": {}
        },
        {
          "output_type": "display_data",
          "data": {
            "text/plain": [
              "'{kit_troca_oleo_camiao_dsg_jetta_tiguan_golf_original_vw} {compativel} {a3_2_0_tfsi_2016}'"
            ],
            "application/vnd.google.colaboratory.intrinsic+json": {
              "type": "string"
            }
          },
          "metadata": {}
        },
        {
          "output_type": "display_data",
          "data": {
            "text/plain": [
              "np.int64(5)"
            ]
          },
          "metadata": {}
        },
        {
          "output_type": "display_data",
          "data": {
            "text/plain": [
              "np.int64(5)"
            ]
          },
          "metadata": {}
        },
        {
          "output_type": "display_data",
          "data": {
            "text/plain": [
              "np.int64(5)"
            ]
          },
          "metadata": {}
        },
        {
          "output_type": "display_data",
          "data": {
            "text/plain": [
              "np.int64(5)"
            ]
          },
          "metadata": {}
        },
        {
          "output_type": "display_data",
          "data": {
            "text/plain": [
              "'{\\n  \"AVALIACAO 1\": 5,\\n  \"AVALIACAO 2\": 5\\n}'"
            ],
            "application/vnd.google.colaboratory.intrinsic+json": {
              "type": "string"
            }
          },
          "metadata": {}
        },
        {
          "output_type": "display_data",
          "data": {
            "text/plain": [
              "'{controle_ar_condicionado_universal_diversos_modelo_1000_em_1} {compativel} {ar_da_marca_consul}'"
            ],
            "application/vnd.google.colaboratory.intrinsic+json": {
              "type": "string"
            }
          },
          "metadata": {}
        },
        {
          "output_type": "display_data",
          "data": {
            "text/plain": [
              "np.int64(5)"
            ]
          },
          "metadata": {}
        },
        {
          "output_type": "display_data",
          "data": {
            "text/plain": [
              "np.int64(5)"
            ]
          },
          "metadata": {}
        },
        {
          "output_type": "display_data",
          "data": {
            "text/plain": [
              "np.int64(5)"
            ]
          },
          "metadata": {}
        },
        {
          "output_type": "display_data",
          "data": {
            "text/plain": [
              "np.int64(5)"
            ]
          },
          "metadata": {}
        },
        {
          "output_type": "display_data",
          "data": {
            "text/plain": [
              "'{\\n  \"AVALIACAO 1\": 5,\\n  \"AVALIACAO 2\": 5\\n}'"
            ],
            "application/vnd.google.colaboratory.intrinsic+json": {
              "type": "string"
            }
          },
          "metadata": {}
        },
        {
          "output_type": "display_data",
          "data": {
            "text/plain": [
              "'{chave_de_seta_gol_g3_2000_2001_2002_2003_kostal_original} {incompativel} {gol_2003_com_pisca_alerta_na_chave_de_seta}'"
            ],
            "application/vnd.google.colaboratory.intrinsic+json": {
              "type": "string"
            }
          },
          "metadata": {}
        },
        {
          "output_type": "display_data",
          "data": {
            "text/plain": [
              "np.int64(5)"
            ]
          },
          "metadata": {}
        },
        {
          "output_type": "display_data",
          "data": {
            "text/plain": [
              "np.int64(5)"
            ]
          },
          "metadata": {}
        },
        {
          "output_type": "display_data",
          "data": {
            "text/plain": [
              "np.int64(5)"
            ]
          },
          "metadata": {}
        },
        {
          "output_type": "display_data",
          "data": {
            "text/plain": [
              "np.int64(5)"
            ]
          },
          "metadata": {}
        },
        {
          "output_type": "display_data",
          "data": {
            "text/plain": [
              "'{\\n  \"AVALIAÇÃO 1\": 5,\\n  \"AVALIAÇÃO 2\": 5\\n}'"
            ],
            "application/vnd.google.colaboratory.intrinsic+json": {
              "type": "string"
            }
          },
          "metadata": {}
        },
        {
          "output_type": "display_data",
          "data": {
            "text/plain": [
              "'{kit_entrada_de_ar_renault_sandero} {compativel} {chassi_93y5srd64fj542490}'"
            ],
            "application/vnd.google.colaboratory.intrinsic+json": {
              "type": "string"
            }
          },
          "metadata": {}
        },
        {
          "output_type": "display_data",
          "data": {
            "text/plain": [
              "np.int64(5)"
            ]
          },
          "metadata": {}
        },
        {
          "output_type": "display_data",
          "data": {
            "text/plain": [
              "np.int64(5)"
            ]
          },
          "metadata": {}
        },
        {
          "output_type": "display_data",
          "data": {
            "text/plain": [
              "np.int64(5)"
            ]
          },
          "metadata": {}
        },
        {
          "output_type": "display_data",
          "data": {
            "text/plain": [
              "np.int64(5)"
            ]
          },
          "metadata": {}
        },
        {
          "output_type": "display_data",
          "data": {
            "text/plain": [
              "'{\\n  \"AVALIACAO 1\": 5,\\n  \"AVALIACAO 2\": 5\\n}'"
            ],
            "application/vnd.google.colaboratory.intrinsic+json": {
              "type": "string"
            }
          },
          "metadata": {}
        },
        {
          "output_type": "display_data",
          "data": {
            "text/plain": [
              "'{roldana} {imcompativel} {twister}'"
            ],
            "application/vnd.google.colaboratory.intrinsic+json": {
              "type": "string"
            }
          },
          "metadata": {}
        },
        {
          "output_type": "display_data",
          "data": {
            "text/plain": [
              "np.int64(4)"
            ]
          },
          "metadata": {}
        },
        {
          "output_type": "display_data",
          "data": {
            "text/plain": [
              "np.int64(3)"
            ]
          },
          "metadata": {}
        },
        {
          "output_type": "display_data",
          "data": {
            "text/plain": [
              "np.int64(3)"
            ]
          },
          "metadata": {}
        },
        {
          "output_type": "display_data",
          "data": {
            "text/plain": [
              "np.int64(3)"
            ]
          },
          "metadata": {}
        },
        {
          "output_type": "display_data",
          "data": {
            "text/plain": [
              "'{\\n  \"AVALIACAO 1\": 4,\\n  \"AVALIACAO 2\": 4\\n}'"
            ],
            "application/vnd.google.colaboratory.intrinsic+json": {
              "type": "string"
            }
          },
          "metadata": {}
        },
        {
          "output_type": "display_data",
          "data": {
            "text/plain": [
              "'{pneu_moto_maggion_aro_18_winner_90/90-18_57p_tt} {compativel} {moto_cg160_2017}'"
            ],
            "application/vnd.google.colaboratory.intrinsic+json": {
              "type": "string"
            }
          },
          "metadata": {}
        },
        {
          "output_type": "display_data",
          "data": {
            "text/plain": [
              "np.int64(4)"
            ]
          },
          "metadata": {}
        },
        {
          "output_type": "display_data",
          "data": {
            "text/plain": [
              "np.int64(4)"
            ]
          },
          "metadata": {}
        },
        {
          "output_type": "display_data",
          "data": {
            "text/plain": [
              "np.int64(3)"
            ]
          },
          "metadata": {}
        },
        {
          "output_type": "display_data",
          "data": {
            "text/plain": [
              "np.int64(3)"
            ]
          },
          "metadata": {}
        },
        {
          "output_type": "display_data",
          "data": {
            "text/plain": [
              "'{\\n  \"AVALIACAO 1\": 4,\\n  \"AVALIACAO 2\": 4\\n}'"
            ],
            "application/vnd.google.colaboratory.intrinsic+json": {
              "type": "string"
            }
          },
          "metadata": {}
        },
        {
          "output_type": "display_data",
          "data": {
            "text/plain": [
              "'{kit_ultra_led_nano_22000_lumens_6500k_farol_alto_baixo_milha} {compativel} {renault_duster_2018_2019}'"
            ],
            "application/vnd.google.colaboratory.intrinsic+json": {
              "type": "string"
            }
          },
          "metadata": {}
        },
        {
          "output_type": "display_data",
          "data": {
            "text/plain": [
              "np.int64(5)"
            ]
          },
          "metadata": {}
        },
        {
          "output_type": "display_data",
          "data": {
            "text/plain": [
              "np.int64(5)"
            ]
          },
          "metadata": {}
        },
        {
          "output_type": "display_data",
          "data": {
            "text/plain": [
              "np.int64(5)"
            ]
          },
          "metadata": {}
        },
        {
          "output_type": "display_data",
          "data": {
            "text/plain": [
              "np.int64(5)"
            ]
          },
          "metadata": {}
        },
        {
          "output_type": "display_data",
          "data": {
            "text/plain": [
              "'{\\n  \"AVALIACAO 1\": 5,\\n  \"AVALIACAO 2\": 5\\n}'"
            ],
            "application/vnd.google.colaboratory.intrinsic+json": {
              "type": "string"
            }
          },
          "metadata": {}
        },
        {
          "output_type": "display_data",
          "data": {
            "text/plain": [
              "'{kit_porca_da_roda_chery_face_original_caoa_chery_amur} {compativel} {chery.qq_2011_2012}'"
            ],
            "application/vnd.google.colaboratory.intrinsic+json": {
              "type": "string"
            }
          },
          "metadata": {}
        },
        {
          "output_type": "display_data",
          "data": {
            "text/plain": [
              "np.int64(5)"
            ]
          },
          "metadata": {}
        },
        {
          "output_type": "display_data",
          "data": {
            "text/plain": [
              "np.int64(5)"
            ]
          },
          "metadata": {}
        },
        {
          "output_type": "display_data",
          "data": {
            "text/plain": [
              "np.int64(5)"
            ]
          },
          "metadata": {}
        },
        {
          "output_type": "display_data",
          "data": {
            "text/plain": [
              "np.int64(5)"
            ]
          },
          "metadata": {}
        },
        {
          "output_type": "display_data",
          "data": {
            "text/plain": [
              "'{\\n  \"AVALIACAO 1\": 5,\\n  \"AVALIACAO 2\": 5\\n}'"
            ],
            "application/vnd.google.colaboratory.intrinsic+json": {
              "type": "string"
            }
          },
          "metadata": {}
        },
        {
          "output_type": "display_data",
          "data": {
            "text/plain": [
              "'{bicicleta_ergometrica_kikos_f7i_cor_preto} {compativel} {usuarios_ate_185m}'"
            ],
            "application/vnd.google.colaboratory.intrinsic+json": {
              "type": "string"
            }
          },
          "metadata": {}
        },
        {
          "output_type": "display_data",
          "data": {
            "text/plain": [
              "np.int64(5)"
            ]
          },
          "metadata": {}
        },
        {
          "output_type": "display_data",
          "data": {
            "text/plain": [
              "np.int64(4)"
            ]
          },
          "metadata": {}
        },
        {
          "output_type": "display_data",
          "data": {
            "text/plain": [
              "np.int64(4)"
            ]
          },
          "metadata": {}
        },
        {
          "output_type": "display_data",
          "data": {
            "text/plain": [
              "np.int64(4)"
            ]
          },
          "metadata": {}
        },
        {
          "output_type": "display_data",
          "data": {
            "text/plain": [
              "'{\\n  \"AVALIAÇÃO 1\": 5,\\n  \"AVALIAÇÃO 2\": 5\\n}'"
            ],
            "application/vnd.google.colaboratory.intrinsic+json": {
              "type": "string"
            }
          },
          "metadata": {}
        },
        {
          "output_type": "display_data",
          "data": {
            "text/plain": [
              "'{bateria_12v_9a_selada} {compativel} {bomba_costal_eletrica_12v_9a}'"
            ],
            "application/vnd.google.colaboratory.intrinsic+json": {
              "type": "string"
            }
          },
          "metadata": {}
        },
        {
          "output_type": "display_data",
          "data": {
            "text/plain": [
              "np.int64(5)"
            ]
          },
          "metadata": {}
        },
        {
          "output_type": "display_data",
          "data": {
            "text/plain": [
              "np.int64(5)"
            ]
          },
          "metadata": {}
        },
        {
          "output_type": "display_data",
          "data": {
            "text/plain": [
              "np.int64(4)"
            ]
          },
          "metadata": {}
        },
        {
          "output_type": "display_data",
          "data": {
            "text/plain": [
              "np.int64(4)"
            ]
          },
          "metadata": {}
        },
        {
          "output_type": "display_data",
          "data": {
            "text/plain": [
              "'{\\n  \"AVALIACAO 1\": 5,\\n  \"AVALIACAO 2\": 5\\n}'"
            ],
            "application/vnd.google.colaboratory.intrinsic+json": {
              "type": "string"
            }
          },
          "metadata": {}
        },
        {
          "output_type": "display_data",
          "data": {
            "text/plain": [
              "'{farol} {compativel} {polo_sedan_2004_modelo_2005}'"
            ],
            "application/vnd.google.colaboratory.intrinsic+json": {
              "type": "string"
            }
          },
          "metadata": {}
        },
        {
          "output_type": "display_data",
          "data": {
            "text/plain": [
              "np.int64(5)"
            ]
          },
          "metadata": {}
        },
        {
          "output_type": "display_data",
          "data": {
            "text/plain": [
              "np.int64(5)"
            ]
          },
          "metadata": {}
        },
        {
          "output_type": "display_data",
          "data": {
            "text/plain": [
              "np.int64(5)"
            ]
          },
          "metadata": {}
        },
        {
          "output_type": "display_data",
          "data": {
            "text/plain": [
              "np.int64(5)"
            ]
          },
          "metadata": {}
        },
        {
          "output_type": "display_data",
          "data": {
            "text/plain": [
              "'{\\n  \"AVALIAÇÃO 1\": 5,\\n  \"AVALIAÇÃO 2\": 5\\n}'"
            ],
            "application/vnd.google.colaboratory.intrinsic+json": {
              "type": "string"
            }
          },
          "metadata": {}
        },
        {
          "output_type": "display_data",
          "data": {
            "text/plain": [
              "'{farol_fazer_250_lampada_led_super_branca_2006_2007_2008_2009} {compativel_com_adaptacao} {bandit_1200cc_2006}'"
            ],
            "application/vnd.google.colaboratory.intrinsic+json": {
              "type": "string"
            }
          },
          "metadata": {}
        },
        {
          "output_type": "display_data",
          "data": {
            "text/plain": [
              "np.int64(5)"
            ]
          },
          "metadata": {}
        },
        {
          "output_type": "display_data",
          "data": {
            "text/plain": [
              "np.int64(4)"
            ]
          },
          "metadata": {}
        },
        {
          "output_type": "display_data",
          "data": {
            "text/plain": [
              "np.int64(4)"
            ]
          },
          "metadata": {}
        },
        {
          "output_type": "display_data",
          "data": {
            "text/plain": [
              "np.int64(4)"
            ]
          },
          "metadata": {}
        },
        {
          "output_type": "display_data",
          "data": {
            "text/plain": [
              "'{\\n  \"AVALIAÇÃO 1\": 5,\\n  \"AVALIAÇÃO 2\": 5\\n}'"
            ],
            "application/vnd.google.colaboratory.intrinsic+json": {
              "type": "string"
            }
          },
          "metadata": {}
        },
        {
          "output_type": "display_data",
          "data": {
            "text/plain": [
              "'{homocinetica_fixa_roda_ford_fusion_3_0_09_12} {compativel} {fusion_3_0_v6_2010}'"
            ],
            "application/vnd.google.colaboratory.intrinsic+json": {
              "type": "string"
            }
          },
          "metadata": {}
        },
        {
          "output_type": "display_data",
          "data": {
            "text/plain": [
              "np.int64(5)"
            ]
          },
          "metadata": {}
        },
        {
          "output_type": "display_data",
          "data": {
            "text/plain": [
              "np.int64(5)"
            ]
          },
          "metadata": {}
        },
        {
          "output_type": "display_data",
          "data": {
            "text/plain": [
              "np.int64(4)"
            ]
          },
          "metadata": {}
        },
        {
          "output_type": "display_data",
          "data": {
            "text/plain": [
              "np.int64(4)"
            ]
          },
          "metadata": {}
        },
        {
          "output_type": "display_data",
          "data": {
            "text/plain": [
              "'{\\n  \"AVALIACAO 1\": 5,\\n  \"AVALIACAO 2\": 5\\n}'"
            ],
            "application/vnd.google.colaboratory.intrinsic+json": {
              "type": "string"
            }
          },
          "metadata": {}
        },
        {
          "output_type": "display_data",
          "data": {
            "text/plain": [
              "'{jogo_anel_segmento_std_honda_civic_1_7} {compativel} {honda_civic_sedan_lx_115cv_transmissao_manual}'"
            ],
            "application/vnd.google.colaboratory.intrinsic+json": {
              "type": "string"
            }
          },
          "metadata": {}
        },
        {
          "output_type": "display_data",
          "data": {
            "text/plain": [
              "np.int64(5)"
            ]
          },
          "metadata": {}
        },
        {
          "output_type": "display_data",
          "data": {
            "text/plain": [
              "np.int64(5)"
            ]
          },
          "metadata": {}
        },
        {
          "output_type": "display_data",
          "data": {
            "text/plain": [
              "np.int64(5)"
            ]
          },
          "metadata": {}
        },
        {
          "output_type": "display_data",
          "data": {
            "text/plain": [
              "np.int64(5)"
            ]
          },
          "metadata": {}
        },
        {
          "output_type": "display_data",
          "data": {
            "text/plain": [
              "'{\\n  \"AVALIACAO 1\": 5,\\n  \"AVALIACAO 2\": 5\\n}'"
            ],
            "application/vnd.google.colaboratory.intrinsic+json": {
              "type": "string"
            }
          },
          "metadata": {}
        },
        {
          "output_type": "display_data",
          "data": {
            "text/plain": [
              "'{bomba_de_agua_hyundai_hb20_kia_picanto_1_0_12v_3_cilindros} {compativel} {hb20_1_0_12v_17}'"
            ],
            "application/vnd.google.colaboratory.intrinsic+json": {
              "type": "string"
            }
          },
          "metadata": {}
        },
        {
          "output_type": "display_data",
          "data": {
            "text/plain": [
              "np.int64(5)"
            ]
          },
          "metadata": {}
        },
        {
          "output_type": "display_data",
          "data": {
            "text/plain": [
              "np.int64(5)"
            ]
          },
          "metadata": {}
        },
        {
          "output_type": "display_data",
          "data": {
            "text/plain": [
              "np.int64(5)"
            ]
          },
          "metadata": {}
        },
        {
          "output_type": "display_data",
          "data": {
            "text/plain": [
              "np.int64(4)"
            ]
          },
          "metadata": {}
        },
        {
          "output_type": "display_data",
          "data": {
            "text/plain": [
              "'{\\n  \"AVALIAÇÃO 1\": 5,\\n  \"AVALIAÇÃO 2\": 5\\n}'"
            ],
            "application/vnd.google.colaboratory.intrinsic+json": {
              "type": "string"
            }
          },
          "metadata": {}
        },
        {
          "output_type": "display_data",
          "data": {
            "text/plain": [
              "'{cabo_adaptador_conversor_hdmi_para_vga_com_saida_p2_de_audio} {compativel} {notebook_com_saida_hdmi_e_monitor_com_entrada_vga}'"
            ],
            "application/vnd.google.colaboratory.intrinsic+json": {
              "type": "string"
            }
          },
          "metadata": {}
        },
        {
          "output_type": "display_data",
          "data": {
            "text/plain": [
              "np.int64(5)"
            ]
          },
          "metadata": {}
        },
        {
          "output_type": "display_data",
          "data": {
            "text/plain": [
              "np.int64(5)"
            ]
          },
          "metadata": {}
        },
        {
          "output_type": "display_data",
          "data": {
            "text/plain": [
              "np.int64(4)"
            ]
          },
          "metadata": {}
        },
        {
          "output_type": "display_data",
          "data": {
            "text/plain": [
              "np.int64(4)"
            ]
          },
          "metadata": {}
        },
        {
          "output_type": "display_data",
          "data": {
            "text/plain": [
              "'{\\n  \"AVALIAÇÃO 1\": 5,\\n  \"AVALIAÇÃO 2\": 5\\n}'"
            ],
            "application/vnd.google.colaboratory.intrinsic+json": {
              "type": "string"
            }
          },
          "metadata": {}
        },
        {
          "output_type": "display_data",
          "data": {
            "text/plain": [
              "'{capa_de_estepe_rigida_ecosport_2011_2012_cinza_berlin} {incompativel} {carros_com_furo_no_meio}'"
            ],
            "application/vnd.google.colaboratory.intrinsic+json": {
              "type": "string"
            }
          },
          "metadata": {}
        },
        {
          "output_type": "display_data",
          "data": {
            "text/plain": [
              "np.int64(5)"
            ]
          },
          "metadata": {}
        },
        {
          "output_type": "display_data",
          "data": {
            "text/plain": [
              "np.int64(5)"
            ]
          },
          "metadata": {}
        },
        {
          "output_type": "display_data",
          "data": {
            "text/plain": [
              "np.int64(5)"
            ]
          },
          "metadata": {}
        },
        {
          "output_type": "display_data",
          "data": {
            "text/plain": [
              "np.int64(5)"
            ]
          },
          "metadata": {}
        },
        {
          "output_type": "display_data",
          "data": {
            "text/plain": [
              "'{\\n  \"AVALIACAO 1\": 5,\\n  \"AVALIACAO 2\": 5\\n}'"
            ],
            "application/vnd.google.colaboratory.intrinsic+json": {
              "type": "string"
            }
          },
          "metadata": {}
        },
        {
          "output_type": "display_data",
          "data": {
            "text/plain": [
              "'{kit_de_tulipa_direita_e_trizeta_ford_focus_2_0_03_13} {incompativel} {ford_focus_1_6_sigma_16v_manual_2012}'"
            ],
            "application/vnd.google.colaboratory.intrinsic+json": {
              "type": "string"
            }
          },
          "metadata": {}
        },
        {
          "output_type": "display_data",
          "data": {
            "text/plain": [
              "np.int64(5)"
            ]
          },
          "metadata": {}
        },
        {
          "output_type": "display_data",
          "data": {
            "text/plain": [
              "np.int64(5)"
            ]
          },
          "metadata": {}
        },
        {
          "output_type": "display_data",
          "data": {
            "text/plain": [
              "np.int64(5)"
            ]
          },
          "metadata": {}
        },
        {
          "output_type": "display_data",
          "data": {
            "text/plain": [
              "np.int64(5)"
            ]
          },
          "metadata": {}
        },
        {
          "output_type": "display_data",
          "data": {
            "text/plain": [
              "'{\\n  \"AVALIACAO 1\": 5,\\n  \"AVALIACAO 2\": 5\\n}'"
            ],
            "application/vnd.google.colaboratory.intrinsic+json": {
              "type": "string"
            }
          },
          "metadata": {}
        },
        {
          "output_type": "display_data",
          "data": {
            "text/plain": [
              "'{interruptor_inteligente_wi-fi_nova_digital_3_botoes_original} {compativel} {interruptor_convencional}'"
            ],
            "application/vnd.google.colaboratory.intrinsic+json": {
              "type": "string"
            }
          },
          "metadata": {}
        },
        {
          "output_type": "display_data",
          "data": {
            "text/plain": [
              "np.int64(5)"
            ]
          },
          "metadata": {}
        },
        {
          "output_type": "display_data",
          "data": {
            "text/plain": [
              "np.int64(4)"
            ]
          },
          "metadata": {}
        },
        {
          "output_type": "display_data",
          "data": {
            "text/plain": [
              "np.int64(5)"
            ]
          },
          "metadata": {}
        },
        {
          "output_type": "display_data",
          "data": {
            "text/plain": [
              "np.int64(4)"
            ]
          },
          "metadata": {}
        },
        {
          "output_type": "display_data",
          "data": {
            "text/plain": [
              "'{\\n  \"AVALIACAO 1\": 4,\\n  \"AVALIACAO 2\": 3\\n}'"
            ],
            "application/vnd.google.colaboratory.intrinsic+json": {
              "type": "string"
            }
          },
          "metadata": {}
        },
        {
          "output_type": "display_data",
          "data": {
            "text/plain": [
              "'{kit_sensor_estacionamento_camara_re_espelho_retrovisor} {compativel} {siena}'"
            ],
            "application/vnd.google.colaboratory.intrinsic+json": {
              "type": "string"
            }
          },
          "metadata": {}
        },
        {
          "output_type": "display_data",
          "data": {
            "text/plain": [
              "np.int64(5)"
            ]
          },
          "metadata": {}
        },
        {
          "output_type": "display_data",
          "data": {
            "text/plain": [
              "np.int64(5)"
            ]
          },
          "metadata": {}
        },
        {
          "output_type": "display_data",
          "data": {
            "text/plain": [
              "np.int64(5)"
            ]
          },
          "metadata": {}
        },
        {
          "output_type": "display_data",
          "data": {
            "text/plain": [
              "np.int64(5)"
            ]
          },
          "metadata": {}
        },
        {
          "output_type": "display_data",
          "data": {
            "text/plain": [
              "'{\\n  \"AVALIACAO 1\": 5,\\n  \"AVALIACAO 2\": 5\\n}'"
            ],
            "application/vnd.google.colaboratory.intrinsic+json": {
              "type": "string"
            }
          },
          "metadata": {}
        },
        {
          "output_type": "display_data",
          "data": {
            "text/plain": [
              "'{comando_de_valvulas_gm_onix_prisma_1_0_8v_98500212} {compativel} {veiculo_chassi_9bgkr48g00gg130133}'"
            ],
            "application/vnd.google.colaboratory.intrinsic+json": {
              "type": "string"
            }
          },
          "metadata": {}
        },
        {
          "output_type": "display_data",
          "data": {
            "text/plain": [
              "np.int64(5)"
            ]
          },
          "metadata": {}
        },
        {
          "output_type": "display_data",
          "data": {
            "text/plain": [
              "np.int64(5)"
            ]
          },
          "metadata": {}
        },
        {
          "output_type": "display_data",
          "data": {
            "text/plain": [
              "np.int64(5)"
            ]
          },
          "metadata": {}
        },
        {
          "output_type": "display_data",
          "data": {
            "text/plain": [
              "np.int64(5)"
            ]
          },
          "metadata": {}
        },
        {
          "output_type": "display_data",
          "data": {
            "text/plain": [
              "'{\\n  \"AVALIAÇÃO 1\": 5,\\n  \"AVALIAÇÃO 2\": 5\\n}'"
            ],
            "application/vnd.google.colaboratory.intrinsic+json": {
              "type": "string"
            }
          },
          "metadata": {}
        },
        {
          "output_type": "display_data",
          "data": {
            "text/plain": [
              "'{carabina_de_pressao_b19_x_5_5mm_madeira_cbc} {incompativel} {kit_piston_elite_da_b19z}'"
            ],
            "application/vnd.google.colaboratory.intrinsic+json": {
              "type": "string"
            }
          },
          "metadata": {}
        },
        {
          "output_type": "display_data",
          "data": {
            "text/plain": [
              "np.int64(5)"
            ]
          },
          "metadata": {}
        },
        {
          "output_type": "display_data",
          "data": {
            "text/plain": [
              "np.int64(5)"
            ]
          },
          "metadata": {}
        },
        {
          "output_type": "display_data",
          "data": {
            "text/plain": [
              "np.int64(5)"
            ]
          },
          "metadata": {}
        },
        {
          "output_type": "display_data",
          "data": {
            "text/plain": [
              "np.int64(5)"
            ]
          },
          "metadata": {}
        },
        {
          "output_type": "display_data",
          "data": {
            "text/plain": [
              "'{\\n  \"AVALIACAO 1\": 5,\\n  \"AVALIACAO 2\": 5\\n}'"
            ],
            "application/vnd.google.colaboratory.intrinsic+json": {
              "type": "string"
            }
          },
          "metadata": {}
        },
        {
          "output_type": "display_data",
          "data": {
            "text/plain": [
              "'{fita_rotulador_dymo_rosa_12mm_d1_1933238} {compativel} {etiquetadora_dymo_colorpop}'"
            ],
            "application/vnd.google.colaboratory.intrinsic+json": {
              "type": "string"
            }
          },
          "metadata": {}
        },
        {
          "output_type": "display_data",
          "data": {
            "text/plain": [
              "np.int64(5)"
            ]
          },
          "metadata": {}
        },
        {
          "output_type": "display_data",
          "data": {
            "text/plain": [
              "np.int64(5)"
            ]
          },
          "metadata": {}
        },
        {
          "output_type": "display_data",
          "data": {
            "text/plain": [
              "np.int64(5)"
            ]
          },
          "metadata": {}
        },
        {
          "output_type": "display_data",
          "data": {
            "text/plain": [
              "np.int64(5)"
            ]
          },
          "metadata": {}
        },
        {
          "output_type": "display_data",
          "data": {
            "text/plain": [
              "'{\\n  \"AVALIACAO 1\": 5,\\n  \"AVALIACAO 2\": 5\\n}'"
            ],
            "application/vnd.google.colaboratory.intrinsic+json": {
              "type": "string"
            }
          },
          "metadata": {}
        },
        {
          "output_type": "display_data",
          "data": {
            "text/plain": [
              "'{palheta_limpador_para_brisa_bosch_dianteiras_traseira} {imcompativel} {pajero_gls_full_3_2_td_2008_2009}'"
            ],
            "application/vnd.google.colaboratory.intrinsic+json": {
              "type": "string"
            }
          },
          "metadata": {}
        },
        {
          "output_type": "display_data",
          "data": {
            "text/plain": [
              "np.int64(5)"
            ]
          },
          "metadata": {}
        },
        {
          "output_type": "display_data",
          "data": {
            "text/plain": [
              "np.int64(5)"
            ]
          },
          "metadata": {}
        },
        {
          "output_type": "display_data",
          "data": {
            "text/plain": [
              "np.int64(5)"
            ]
          },
          "metadata": {}
        },
        {
          "output_type": "display_data",
          "data": {
            "text/plain": [
              "np.int64(5)"
            ]
          },
          "metadata": {}
        },
        {
          "output_type": "display_data",
          "data": {
            "text/plain": [
              "'{\\n  \"AVALIACAO 1\": 5,\\n  \"AVALIACAO 2\": 5\\n}'"
            ],
            "application/vnd.google.colaboratory.intrinsic+json": {
              "type": "string"
            }
          },
          "metadata": {}
        },
        {
          "output_type": "display_data",
          "data": {
            "text/plain": [
              "\"{pneu_general_tire_altimax_one} {especificacao} {'fabricacao Brasil'}\""
            ],
            "application/vnd.google.colaboratory.intrinsic+json": {
              "type": "string"
            }
          },
          "metadata": {}
        },
        {
          "output_type": "display_data",
          "data": {
            "text/plain": [
              "np.int64(5)"
            ]
          },
          "metadata": {}
        },
        {
          "output_type": "display_data",
          "data": {
            "text/plain": [
              "np.int64(4)"
            ]
          },
          "metadata": {}
        },
        {
          "output_type": "display_data",
          "data": {
            "text/plain": [
              "np.int64(5)"
            ]
          },
          "metadata": {}
        },
        {
          "output_type": "display_data",
          "data": {
            "text/plain": [
              "np.int64(4)"
            ]
          },
          "metadata": {}
        },
        {
          "output_type": "display_data",
          "data": {
            "text/plain": [
              "'{\\n  \"AVALIACAO 1\": 5,\\n  \"AVALIACAO 2\": 5\\n}'"
            ],
            "application/vnd.google.colaboratory.intrinsic+json": {
              "type": "string"
            }
          },
          "metadata": {}
        },
        {
          "output_type": "display_data",
          "data": {
            "text/plain": [
              "\"{guidao_oxxy_alto_31mm} {especificacao} {'comprimento 820mm'}\""
            ],
            "application/vnd.google.colaboratory.intrinsic+json": {
              "type": "string"
            }
          },
          "metadata": {}
        },
        {
          "output_type": "display_data",
          "data": {
            "text/plain": [
              "np.int64(5)"
            ]
          },
          "metadata": {}
        },
        {
          "output_type": "display_data",
          "data": {
            "text/plain": [
              "np.int64(5)"
            ]
          },
          "metadata": {}
        },
        {
          "output_type": "display_data",
          "data": {
            "text/plain": [
              "np.int64(4)"
            ]
          },
          "metadata": {}
        },
        {
          "output_type": "display_data",
          "data": {
            "text/plain": [
              "np.int64(4)"
            ]
          },
          "metadata": {}
        },
        {
          "output_type": "display_data",
          "data": {
            "text/plain": [
              "'{\\n  \"AVALIAÇÃO 1\": 5,\\n  \"AVALIAÇÃO 2\": 5\\n}'"
            ],
            "application/vnd.google.colaboratory.intrinsic+json": {
              "type": "string"
            }
          },
          "metadata": {}
        },
        {
          "output_type": "display_data",
          "data": {
            "text/plain": [
              "\"{kit_4_cameras_intelbras_visao_noturna_30m} {especificacao} {'lente 2,8mm e protecao IP67'}\""
            ],
            "application/vnd.google.colaboratory.intrinsic+json": {
              "type": "string"
            }
          },
          "metadata": {}
        },
        {
          "output_type": "display_data",
          "data": {
            "text/plain": [
              "np.int64(5)"
            ]
          },
          "metadata": {}
        },
        {
          "output_type": "display_data",
          "data": {
            "text/plain": [
              "np.int64(5)"
            ]
          },
          "metadata": {}
        },
        {
          "output_type": "display_data",
          "data": {
            "text/plain": [
              "np.int64(5)"
            ]
          },
          "metadata": {}
        },
        {
          "output_type": "display_data",
          "data": {
            "text/plain": [
              "np.int64(5)"
            ]
          },
          "metadata": {}
        },
        {
          "output_type": "display_data",
          "data": {
            "text/plain": [
              "'{\\n  \"AVALIACAO 1\": 5,\\n  \"AVALIACAO 2\": 5\\n}'"
            ],
            "application/vnd.google.colaboratory.intrinsic+json": {
              "type": "string"
            }
          },
          "metadata": {}
        },
        {
          "output_type": "display_data",
          "data": {
            "text/plain": [
              "\"{plastico_adesivo_papel_de_parede_cimento_queimado} {especificacao} {'quantidade necessaria 2 rolos para 3x2.70m'}\""
            ],
            "application/vnd.google.colaboratory.intrinsic+json": {
              "type": "string"
            }
          },
          "metadata": {}
        },
        {
          "output_type": "display_data",
          "data": {
            "text/plain": [
              "np.int64(4)"
            ]
          },
          "metadata": {}
        },
        {
          "output_type": "display_data",
          "data": {
            "text/plain": [
              "np.int64(5)"
            ]
          },
          "metadata": {}
        },
        {
          "output_type": "display_data",
          "data": {
            "text/plain": [
              "np.int64(5)"
            ]
          },
          "metadata": {}
        },
        {
          "output_type": "display_data",
          "data": {
            "text/plain": [
              "np.int64(4)"
            ]
          },
          "metadata": {}
        },
        {
          "output_type": "display_data",
          "data": {
            "text/plain": [
              "'{\\n  \"AVALIACAO 1\": 4,\\n  \"AVALIACAO 2\": 5\\n}'"
            ],
            "application/vnd.google.colaboratory.intrinsic+json": {
              "type": "string"
            }
          },
          "metadata": {}
        },
        {
          "output_type": "display_data",
          "data": {
            "text/plain": [
              "\"{pneu_moto_maggion_aro_21_viper} {especificacao} {'estado novo'}\""
            ],
            "application/vnd.google.colaboratory.intrinsic+json": {
              "type": "string"
            }
          },
          "metadata": {}
        },
        {
          "output_type": "display_data",
          "data": {
            "text/plain": [
              "np.int64(5)"
            ]
          },
          "metadata": {}
        },
        {
          "output_type": "display_data",
          "data": {
            "text/plain": [
              "np.int64(4)"
            ]
          },
          "metadata": {}
        },
        {
          "output_type": "display_data",
          "data": {
            "text/plain": [
              "np.int64(5)"
            ]
          },
          "metadata": {}
        },
        {
          "output_type": "display_data",
          "data": {
            "text/plain": [
              "np.int64(4)"
            ]
          },
          "metadata": {}
        },
        {
          "output_type": "display_data",
          "data": {
            "text/plain": [
              "'{\\n  \"AVALIACAO 1\": 5,\\n  \"AVALIACAO 2\": 5\\n}'"
            ],
            "application/vnd.google.colaboratory.intrinsic+json": {
              "type": "string"
            }
          },
          "metadata": {}
        },
        {
          "output_type": "display_data",
          "data": {
            "text/plain": [
              "\"{retentor_volante_motor_hyundai_hb20} {especificacao} {'tipo original'}\""
            ],
            "application/vnd.google.colaboratory.intrinsic+json": {
              "type": "string"
            }
          },
          "metadata": {}
        },
        {
          "output_type": "display_data",
          "data": {
            "text/plain": [
              "np.int64(4)"
            ]
          },
          "metadata": {}
        },
        {
          "output_type": "display_data",
          "data": {
            "text/plain": [
              "np.int64(4)"
            ]
          },
          "metadata": {}
        },
        {
          "output_type": "display_data",
          "data": {
            "text/plain": [
              "np.int64(4)"
            ]
          },
          "metadata": {}
        },
        {
          "output_type": "display_data",
          "data": {
            "text/plain": [
              "np.int64(4)"
            ]
          },
          "metadata": {}
        },
        {
          "output_type": "display_data",
          "data": {
            "text/plain": [
              "'{\\n  \"AVALIAÇÃO 1 — CLAREZA DA JUSTIFICATIVA\": 4,\\n  \"AVALIAÇÃO 2 — COERÊNCIA DAS NOTAS COM A JUSTIFICATIVA\": 4\\n}'"
            ],
            "application/vnd.google.colaboratory.intrinsic+json": {
              "type": "string"
            }
          },
          "metadata": {}
        },
        {
          "output_type": "display_data",
          "data": {
            "text/plain": [
              "\"{colar_prateado_pingente_signos_zodiaco_s4842} {especificacao} {'comprimento da corrente 47cm'}\""
            ],
            "application/vnd.google.colaboratory.intrinsic+json": {
              "type": "string"
            }
          },
          "metadata": {}
        },
        {
          "output_type": "display_data",
          "data": {
            "text/plain": [
              "np.int64(5)"
            ]
          },
          "metadata": {}
        },
        {
          "output_type": "display_data",
          "data": {
            "text/plain": [
              "np.int64(5)"
            ]
          },
          "metadata": {}
        },
        {
          "output_type": "display_data",
          "data": {
            "text/plain": [
              "np.int64(5)"
            ]
          },
          "metadata": {}
        },
        {
          "output_type": "display_data",
          "data": {
            "text/plain": [
              "np.int64(5)"
            ]
          },
          "metadata": {}
        },
        {
          "output_type": "display_data",
          "data": {
            "text/plain": [
              "'{\\n  \"AVALIACAO 1\": 5,\\n  \"AVALIACAO 2\": 5\\n}'"
            ],
            "application/vnd.google.colaboratory.intrinsic+json": {
              "type": "string"
            }
          },
          "metadata": {}
        },
        {
          "output_type": "display_data",
          "data": {
            "text/plain": [
              "\"{fechadura_porta_dianteira_esquerda_fiat_palio_siena_51879178} {especificacao} {'veiculos com 4 portas'}\""
            ],
            "application/vnd.google.colaboratory.intrinsic+json": {
              "type": "string"
            }
          },
          "metadata": {}
        },
        {
          "output_type": "display_data",
          "data": {
            "text/plain": [
              "np.int64(5)"
            ]
          },
          "metadata": {}
        },
        {
          "output_type": "display_data",
          "data": {
            "text/plain": [
              "np.int64(5)"
            ]
          },
          "metadata": {}
        },
        {
          "output_type": "display_data",
          "data": {
            "text/plain": [
              "np.int64(5)"
            ]
          },
          "metadata": {}
        },
        {
          "output_type": "display_data",
          "data": {
            "text/plain": [
              "np.int64(5)"
            ]
          },
          "metadata": {}
        },
        {
          "output_type": "display_data",
          "data": {
            "text/plain": [
              "'{\\n  \"AVALIACAO 1\": 5,\\n  \"AVALIACAO 2\": 5\\n}'"
            ],
            "application/vnd.google.colaboratory.intrinsic+json": {
              "type": "string"
            }
          },
          "metadata": {}
        },
        {
          "output_type": "display_data",
          "data": {
            "text/plain": [
              "\"{jogo_4_pneus_itaro_it203} {especificacao} {'tipo pneus novos e originais'}\""
            ],
            "application/vnd.google.colaboratory.intrinsic+json": {
              "type": "string"
            }
          },
          "metadata": {}
        },
        {
          "output_type": "display_data",
          "data": {
            "text/plain": [
              "np.int64(5)"
            ]
          },
          "metadata": {}
        },
        {
          "output_type": "display_data",
          "data": {
            "text/plain": [
              "np.int64(5)"
            ]
          },
          "metadata": {}
        },
        {
          "output_type": "display_data",
          "data": {
            "text/plain": [
              "np.int64(5)"
            ]
          },
          "metadata": {}
        },
        {
          "output_type": "display_data",
          "data": {
            "text/plain": [
              "np.int64(4)"
            ]
          },
          "metadata": {}
        },
        {
          "output_type": "display_data",
          "data": {
            "text/plain": [
              "'{\\n  \"AVALIAÇÃO 1\": 4,\\n  \"AVALIAÇÃO 2\": 5\\n}'"
            ],
            "application/vnd.google.colaboratory.intrinsic+json": {
              "type": "string"
            }
          },
          "metadata": {}
        },
        {
          "output_type": "display_data",
          "data": {
            "text/plain": [
              "\"{galocha_feminina_grendene_0345} {especificacao} {'tamanho 35/36'}\""
            ],
            "application/vnd.google.colaboratory.intrinsic+json": {
              "type": "string"
            }
          },
          "metadata": {}
        },
        {
          "output_type": "display_data",
          "data": {
            "text/plain": [
              "np.int64(5)"
            ]
          },
          "metadata": {}
        },
        {
          "output_type": "display_data",
          "data": {
            "text/plain": [
              "np.int64(5)"
            ]
          },
          "metadata": {}
        },
        {
          "output_type": "display_data",
          "data": {
            "text/plain": [
              "np.int64(4)"
            ]
          },
          "metadata": {}
        },
        {
          "output_type": "display_data",
          "data": {
            "text/plain": [
              "np.int64(4)"
            ]
          },
          "metadata": {}
        },
        {
          "output_type": "display_data",
          "data": {
            "text/plain": [
              "'{\\n  \"AVALIAÇÃO 1\": 5,\\n  \"AVALIAÇÃO 2\": 5\\n}'"
            ],
            "application/vnd.google.colaboratory.intrinsic+json": {
              "type": "string"
            }
          },
          "metadata": {}
        },
        {
          "output_type": "display_data",
          "data": {
            "text/plain": [
              "\"{frete_para_itupeva_sp} {especificacao} {'valor_r$440,00'}\""
            ],
            "application/vnd.google.colaboratory.intrinsic+json": {
              "type": "string"
            }
          },
          "metadata": {}
        },
        {
          "output_type": "display_data",
          "data": {
            "text/plain": [
              "np.int64(5)"
            ]
          },
          "metadata": {}
        },
        {
          "output_type": "display_data",
          "data": {
            "text/plain": [
              "np.int64(5)"
            ]
          },
          "metadata": {}
        },
        {
          "output_type": "display_data",
          "data": {
            "text/plain": [
              "np.int64(5)"
            ]
          },
          "metadata": {}
        },
        {
          "output_type": "display_data",
          "data": {
            "text/plain": [
              "np.int64(5)"
            ]
          },
          "metadata": {}
        },
        {
          "output_type": "display_data",
          "data": {
            "text/plain": [
              "'{\\n  \"AVALIAÇÃO 1\": 5,\\n  \"AVALIAÇÃO 2\": 5\\n}'"
            ],
            "application/vnd.google.colaboratory.intrinsic+json": {
              "type": "string"
            }
          },
          "metadata": {}
        },
        {
          "output_type": "display_data",
          "data": {
            "text/plain": [
              "\"{revestimento_porta_ford_ka} {especificacao} {'cor cinza'}\""
            ],
            "application/vnd.google.colaboratory.intrinsic+json": {
              "type": "string"
            }
          },
          "metadata": {}
        },
        {
          "output_type": "display_data",
          "data": {
            "text/plain": [
              "np.int64(5)"
            ]
          },
          "metadata": {}
        },
        {
          "output_type": "display_data",
          "data": {
            "text/plain": [
              "np.int64(4)"
            ]
          },
          "metadata": {}
        },
        {
          "output_type": "display_data",
          "data": {
            "text/plain": [
              "np.int64(4)"
            ]
          },
          "metadata": {}
        },
        {
          "output_type": "display_data",
          "data": {
            "text/plain": [
              "np.int64(4)"
            ]
          },
          "metadata": {}
        },
        {
          "output_type": "display_data",
          "data": {
            "text/plain": [
              "'{\\n  \"AVALIAÇÃO 1 — CLAREZA DA JUSTIFICATIVA\": 4,\\n  \"AVALIAÇÃO 2 — COERÊNCIA DAS NOTAS COM A JUSTIFICATIVA\": 4\\n}'"
            ],
            "application/vnd.google.colaboratory.intrinsic+json": {
              "type": "string"
            }
          },
          "metadata": {}
        },
        {
          "output_type": "display_data",
          "data": {
            "text/plain": [
              "\"{panela_de_pressao_eletrica_4_litros} {especificacao} {'cozinha arroz e feijao'}\""
            ],
            "application/vnd.google.colaboratory.intrinsic+json": {
              "type": "string"
            }
          },
          "metadata": {}
        },
        {
          "output_type": "display_data",
          "data": {
            "text/plain": [
              "np.int64(5)"
            ]
          },
          "metadata": {}
        },
        {
          "output_type": "display_data",
          "data": {
            "text/plain": [
              "np.int64(4)"
            ]
          },
          "metadata": {}
        },
        {
          "output_type": "display_data",
          "data": {
            "text/plain": [
              "np.int64(5)"
            ]
          },
          "metadata": {}
        },
        {
          "output_type": "display_data",
          "data": {
            "text/plain": [
              "np.int64(4)"
            ]
          },
          "metadata": {}
        },
        {
          "output_type": "display_data",
          "data": {
            "text/plain": [
              "'{\\n  \"AVALIAÇÃO 1 — CLAREZA DA JUSTIFICATIVA\": 5,\\n  \"AVALIAÇÃO 2 — COERÊNCIA DAS NOTAS COM A JUSTIFICATIVA\": 5\\n}'"
            ],
            "application/vnd.google.colaboratory.intrinsic+json": {
              "type": "string"
            }
          },
          "metadata": {}
        },
        {
          "output_type": "display_data",
          "data": {
            "text/plain": [
              "\"{motor_partida_12v_bosch_0001115114} {especificacao} {'referencia_bendz 1.006.209.864'}\""
            ],
            "application/vnd.google.colaboratory.intrinsic+json": {
              "type": "string"
            }
          },
          "metadata": {}
        },
        {
          "output_type": "display_data",
          "data": {
            "text/plain": [
              "np.int64(5)"
            ]
          },
          "metadata": {}
        },
        {
          "output_type": "display_data",
          "data": {
            "text/plain": [
              "np.int64(5)"
            ]
          },
          "metadata": {}
        },
        {
          "output_type": "display_data",
          "data": {
            "text/plain": [
              "np.int64(5)"
            ]
          },
          "metadata": {}
        },
        {
          "output_type": "display_data",
          "data": {
            "text/plain": [
              "np.int64(5)"
            ]
          },
          "metadata": {}
        },
        {
          "output_type": "display_data",
          "data": {
            "text/plain": [
              "'{\\n  \"AVALIACAO 1\": 5,\\n  \"AVALIACAO 2\": 5\\n}'"
            ],
            "application/vnd.google.colaboratory.intrinsic+json": {
              "type": "string"
            }
          },
          "metadata": {}
        },
        {
          "output_type": "display_data",
          "data": {
            "text/plain": [
              "\"{servo_freio_hidrovacuo_santana} {especificacao} {'estado nova'}\""
            ],
            "application/vnd.google.colaboratory.intrinsic+json": {
              "type": "string"
            }
          },
          "metadata": {}
        },
        {
          "output_type": "display_data",
          "data": {
            "text/plain": [
              "np.int64(5)"
            ]
          },
          "metadata": {}
        },
        {
          "output_type": "display_data",
          "data": {
            "text/plain": [
              "np.int64(4)"
            ]
          },
          "metadata": {}
        },
        {
          "output_type": "display_data",
          "data": {
            "text/plain": [
              "np.int64(5)"
            ]
          },
          "metadata": {}
        },
        {
          "output_type": "display_data",
          "data": {
            "text/plain": [
              "np.int64(4)"
            ]
          },
          "metadata": {}
        },
        {
          "output_type": "display_data",
          "data": {
            "text/plain": [
              "'{\\n  \"AVALIACAO 1\": 4,\\n  \"AVALIACAO 2\": 5\\n}'"
            ],
            "application/vnd.google.colaboratory.intrinsic+json": {
              "type": "string"
            }
          },
          "metadata": {}
        },
        {
          "output_type": "display_data",
          "data": {
            "text/plain": [
              "\"{kit_rolamento_batente_coxim_amortecedor_dianteiro_fox_1_0} {especificacao} {'material plástico'}\""
            ],
            "application/vnd.google.colaboratory.intrinsic+json": {
              "type": "string"
            }
          },
          "metadata": {}
        },
        {
          "output_type": "display_data",
          "data": {
            "text/plain": [
              "np.int64(5)"
            ]
          },
          "metadata": {}
        },
        {
          "output_type": "display_data",
          "data": {
            "text/plain": [
              "np.int64(5)"
            ]
          },
          "metadata": {}
        },
        {
          "output_type": "display_data",
          "data": {
            "text/plain": [
              "np.int64(5)"
            ]
          },
          "metadata": {}
        },
        {
          "output_type": "display_data",
          "data": {
            "text/plain": [
              "np.int64(5)"
            ]
          },
          "metadata": {}
        },
        {
          "output_type": "display_data",
          "data": {
            "text/plain": [
              "'{\\n  \"AVALIAÇÃO 1\": 5,\\n  \"AVALIAÇÃO 2\": 5\\n}'"
            ],
            "application/vnd.google.colaboratory.intrinsic+json": {
              "type": "string"
            }
          },
          "metadata": {}
        },
        {
          "output_type": "display_data",
          "data": {
            "text/plain": [
              "\"{junta_cabecote_toyota_land_cruiser_3_0_prado_5p_04_09} {especificacao} {'espessura 0.95mm'}\""
            ],
            "application/vnd.google.colaboratory.intrinsic+json": {
              "type": "string"
            }
          },
          "metadata": {}
        },
        {
          "output_type": "display_data",
          "data": {
            "text/plain": [
              "np.int64(5)"
            ]
          },
          "metadata": {}
        },
        {
          "output_type": "display_data",
          "data": {
            "text/plain": [
              "np.int64(5)"
            ]
          },
          "metadata": {}
        },
        {
          "output_type": "display_data",
          "data": {
            "text/plain": [
              "np.int64(5)"
            ]
          },
          "metadata": {}
        },
        {
          "output_type": "display_data",
          "data": {
            "text/plain": [
              "np.int64(5)"
            ]
          },
          "metadata": {}
        },
        {
          "output_type": "display_data",
          "data": {
            "text/plain": [
              "'{\\n  \"AVALIACAO 1\": 5,\\n  \"AVALIACAO 2\": 5\\n}'"
            ],
            "application/vnd.google.colaboratory.intrinsic+json": {
              "type": "string"
            }
          },
          "metadata": {}
        },
        {
          "output_type": "display_data",
          "data": {
            "text/plain": [
              "\"{tela_display_xiaomi_redmi_note_8} {especificacao} {'estado nova_e_original'}\""
            ],
            "application/vnd.google.colaboratory.intrinsic+json": {
              "type": "string"
            }
          },
          "metadata": {}
        },
        {
          "output_type": "display_data",
          "data": {
            "text/plain": [
              "np.int64(5)"
            ]
          },
          "metadata": {}
        },
        {
          "output_type": "display_data",
          "data": {
            "text/plain": [
              "np.int64(5)"
            ]
          },
          "metadata": {}
        },
        {
          "output_type": "display_data",
          "data": {
            "text/plain": [
              "np.int64(5)"
            ]
          },
          "metadata": {}
        },
        {
          "output_type": "display_data",
          "data": {
            "text/plain": [
              "np.int64(4)"
            ]
          },
          "metadata": {}
        },
        {
          "output_type": "display_data",
          "data": {
            "text/plain": [
              "'{\\n  \"AVALIAÇÃO 1 — CLAREZA DA JUSTIFICATIVA\": 5,\\n  \"AVALIAÇÃO 2 — COERÊNCIA DAS NOTAS COM A JUSTIFICATIVA\": 4\\n}'"
            ],
            "application/vnd.google.colaboratory.intrinsic+json": {
              "type": "string"
            }
          },
          "metadata": {}
        },
        {
          "output_type": "display_data",
          "data": {
            "text/plain": [
              "\"{jogo_raio_bros_160_inox} {especificacao} {'material_inox'}\""
            ],
            "application/vnd.google.colaboratory.intrinsic+json": {
              "type": "string"
            }
          },
          "metadata": {}
        },
        {
          "output_type": "display_data",
          "data": {
            "text/plain": [
              "np.int64(5)"
            ]
          },
          "metadata": {}
        },
        {
          "output_type": "display_data",
          "data": {
            "text/plain": [
              "np.int64(5)"
            ]
          },
          "metadata": {}
        },
        {
          "output_type": "display_data",
          "data": {
            "text/plain": [
              "np.int64(5)"
            ]
          },
          "metadata": {}
        },
        {
          "output_type": "display_data",
          "data": {
            "text/plain": [
              "np.int64(5)"
            ]
          },
          "metadata": {}
        },
        {
          "output_type": "display_data",
          "data": {
            "text/plain": [
              "'{\\n  \"AVALIACAO 1\": 5,\\n  \"AVALIACAO 2\": 5\\n}'"
            ],
            "application/vnd.google.colaboratory.intrinsic+json": {
              "type": "string"
            }
          },
          "metadata": {}
        },
        {
          "output_type": "display_data",
          "data": {
            "text/plain": [
              "\"{cabeceira_cama_box_queen_valencia_1_6} {especificacao} {'cor corinho branco e diversas cores e tecidos'}\""
            ],
            "application/vnd.google.colaboratory.intrinsic+json": {
              "type": "string"
            }
          },
          "metadata": {}
        },
        {
          "output_type": "display_data",
          "data": {
            "text/plain": [
              "np.int64(5)"
            ]
          },
          "metadata": {}
        },
        {
          "output_type": "display_data",
          "data": {
            "text/plain": [
              "np.int64(4)"
            ]
          },
          "metadata": {}
        },
        {
          "output_type": "display_data",
          "data": {
            "text/plain": [
              "np.int64(4)"
            ]
          },
          "metadata": {}
        },
        {
          "output_type": "display_data",
          "data": {
            "text/plain": [
              "np.int64(4)"
            ]
          },
          "metadata": {}
        },
        {
          "output_type": "display_data",
          "data": {
            "text/plain": [
              "'{\\n  \"AVALIACAO 1\": 4,\\n  \"AVALIACAO 2\": 5\\n}'"
            ],
            "application/vnd.google.colaboratory.intrinsic+json": {
              "type": "string"
            }
          },
          "metadata": {}
        },
        {
          "output_type": "display_data",
          "data": {
            "text/plain": [
              "\"{mini_bicicleta_cicloergometro_dobravel} {especificacao} {'tem cronometro digital'}\""
            ],
            "application/vnd.google.colaboratory.intrinsic+json": {
              "type": "string"
            }
          },
          "metadata": {}
        },
        {
          "output_type": "display_data",
          "data": {
            "text/plain": [
              "np.int64(5)"
            ]
          },
          "metadata": {}
        },
        {
          "output_type": "display_data",
          "data": {
            "text/plain": [
              "np.int64(5)"
            ]
          },
          "metadata": {}
        },
        {
          "output_type": "display_data",
          "data": {
            "text/plain": [
              "np.int64(5)"
            ]
          },
          "metadata": {}
        },
        {
          "output_type": "display_data",
          "data": {
            "text/plain": [
              "np.int64(5)"
            ]
          },
          "metadata": {}
        },
        {
          "output_type": "display_data",
          "data": {
            "text/plain": [
              "'{\\n  \"AVALIAÇÃO 1\": 5,\\n  \"AVALIAÇÃO 2\": 5\\n}'"
            ],
            "application/vnd.google.colaboratory.intrinsic+json": {
              "type": "string"
            }
          },
          "metadata": {}
        },
        {
          "output_type": "display_data",
          "data": {
            "text/plain": [
              "\"{reparo_placa_principal_memoria_philco_ph29e63d} {especificacao} {'versao_id_por_serial'}\""
            ],
            "application/vnd.google.colaboratory.intrinsic+json": {
              "type": "string"
            }
          },
          "metadata": {}
        },
        {
          "output_type": "display_data",
          "data": {
            "text/plain": [
              "np.int64(5)"
            ]
          },
          "metadata": {}
        },
        {
          "output_type": "display_data",
          "data": {
            "text/plain": [
              "np.int64(5)"
            ]
          },
          "metadata": {}
        },
        {
          "output_type": "display_data",
          "data": {
            "text/plain": [
              "np.int64(5)"
            ]
          },
          "metadata": {}
        },
        {
          "output_type": "display_data",
          "data": {
            "text/plain": [
              "np.int64(4)"
            ]
          },
          "metadata": {}
        },
        {
          "output_type": "display_data",
          "data": {
            "text/plain": [
              "'{\\n  \"AVALIACAO 1\": 4,\\n  \"AVALIACAO 2\": 5\\n}'"
            ],
            "application/vnd.google.colaboratory.intrinsic+json": {
              "type": "string"
            }
          },
          "metadata": {}
        },
        {
          "output_type": "display_data",
          "data": {
            "text/plain": [
              "\"{cama_casal_queen_com_cabeceira_e_mesa_de_apoio_dg} {especificacao} {'largura 2m28cm'}\""
            ],
            "application/vnd.google.colaboratory.intrinsic+json": {
              "type": "string"
            }
          },
          "metadata": {}
        },
        {
          "output_type": "display_data",
          "data": {
            "text/plain": [
              "np.int64(5)"
            ]
          },
          "metadata": {}
        },
        {
          "output_type": "display_data",
          "data": {
            "text/plain": [
              "np.int64(5)"
            ]
          },
          "metadata": {}
        },
        {
          "output_type": "display_data",
          "data": {
            "text/plain": [
              "np.int64(5)"
            ]
          },
          "metadata": {}
        },
        {
          "output_type": "display_data",
          "data": {
            "text/plain": [
              "np.int64(5)"
            ]
          },
          "metadata": {}
        },
        {
          "output_type": "display_data",
          "data": {
            "text/plain": [
              "'{\\n  \"AVALIACAO 1\": 5,\\n  \"AVALIACAO 2\": 5\\n}'"
            ],
            "application/vnd.google.colaboratory.intrinsic+json": {
              "type": "string"
            }
          },
          "metadata": {}
        },
        {
          "output_type": "display_data",
          "data": {
            "text/plain": [
              "\"{kit_3_coxim_da_centrifuga_suggar_giromax} {especificacao} {'compativel com centrifuga sofia 15kg'}\""
            ],
            "application/vnd.google.colaboratory.intrinsic+json": {
              "type": "string"
            }
          },
          "metadata": {}
        },
        {
          "output_type": "display_data",
          "data": {
            "text/plain": [
              "np.int64(5)"
            ]
          },
          "metadata": {}
        },
        {
          "output_type": "display_data",
          "data": {
            "text/plain": [
              "np.int64(5)"
            ]
          },
          "metadata": {}
        },
        {
          "output_type": "display_data",
          "data": {
            "text/plain": [
              "np.int64(5)"
            ]
          },
          "metadata": {}
        },
        {
          "output_type": "display_data",
          "data": {
            "text/plain": [
              "np.int64(5)"
            ]
          },
          "metadata": {}
        },
        {
          "output_type": "display_data",
          "data": {
            "text/plain": [
              "'{\\n  \"AVALIACAO 1\": 5,\\n  \"AVALIACAO 2\": 5\\n}'"
            ],
            "application/vnd.google.colaboratory.intrinsic+json": {
              "type": "string"
            }
          },
          "metadata": {}
        },
        {
          "output_type": "display_data",
          "data": {
            "text/plain": [
              "\"{polia_correia_alternador_idea_2005_2010_4429} {especificacao} {'material ferro'}\""
            ],
            "application/vnd.google.colaboratory.intrinsic+json": {
              "type": "string"
            }
          },
          "metadata": {}
        },
        {
          "output_type": "display_data",
          "data": {
            "text/plain": [
              "np.int64(5)"
            ]
          },
          "metadata": {}
        },
        {
          "output_type": "display_data",
          "data": {
            "text/plain": [
              "np.int64(5)"
            ]
          },
          "metadata": {}
        },
        {
          "output_type": "display_data",
          "data": {
            "text/plain": [
              "np.int64(5)"
            ]
          },
          "metadata": {}
        },
        {
          "output_type": "display_data",
          "data": {
            "text/plain": [
              "np.int64(5)"
            ]
          },
          "metadata": {}
        },
        {
          "output_type": "display_data",
          "data": {
            "text/plain": [
              "'{\\n  \"AVALIACAO 1\": 5,\\n  \"AVALIACAO 2\": 5\\n}'"
            ],
            "application/vnd.google.colaboratory.intrinsic+json": {
              "type": "string"
            }
          },
          "metadata": {}
        },
        {
          "output_type": "display_data",
          "data": {
            "text/plain": [
              "\"{roçadeira_profissional_gasolina_2_tempos_52cc_tbc52x_toyama} {especificacao} {'diferenca guidom'}\""
            ],
            "application/vnd.google.colaboratory.intrinsic+json": {
              "type": "string"
            }
          },
          "metadata": {}
        },
        {
          "output_type": "display_data",
          "data": {
            "text/plain": [
              "np.int64(5)"
            ]
          },
          "metadata": {}
        },
        {
          "output_type": "display_data",
          "data": {
            "text/plain": [
              "np.int64(4)"
            ]
          },
          "metadata": {}
        },
        {
          "output_type": "display_data",
          "data": {
            "text/plain": [
              "np.int64(4)"
            ]
          },
          "metadata": {}
        },
        {
          "output_type": "display_data",
          "data": {
            "text/plain": [
              "np.int64(4)"
            ]
          },
          "metadata": {}
        },
        {
          "output_type": "display_data",
          "data": {
            "text/plain": [
              "'{\\n  \"AVALIACAO 1\": 4,\\n  \"AVALIACAO 2\": 5\\n}'"
            ],
            "application/vnd.google.colaboratory.intrinsic+json": {
              "type": "string"
            }
          },
          "metadata": {}
        },
        {
          "output_type": "display_data",
          "data": {
            "text/plain": [
              "\"{relogio_magnum_masculino_couro_marrom} {especificacao} {'cor da pulseira marrom escuro'}\""
            ],
            "application/vnd.google.colaboratory.intrinsic+json": {
              "type": "string"
            }
          },
          "metadata": {}
        },
        {
          "output_type": "display_data",
          "data": {
            "text/plain": [
              "np.int64(5)"
            ]
          },
          "metadata": {}
        },
        {
          "output_type": "display_data",
          "data": {
            "text/plain": [
              "np.int64(5)"
            ]
          },
          "metadata": {}
        },
        {
          "output_type": "display_data",
          "data": {
            "text/plain": [
              "np.int64(5)"
            ]
          },
          "metadata": {}
        },
        {
          "output_type": "display_data",
          "data": {
            "text/plain": [
              "np.int64(4)"
            ]
          },
          "metadata": {}
        },
        {
          "output_type": "display_data",
          "data": {
            "text/plain": [
              "'{\\n  \"AVALIACAO 1\": 5,\\n  \"AVALIACAO 2\": 5\\n}'"
            ],
            "application/vnd.google.colaboratory.intrinsic+json": {
              "type": "string"
            }
          },
          "metadata": {}
        },
        {
          "output_type": "display_data",
          "data": {
            "text/plain": [
              "\"{tampa_porta_malas_gol_g4_2006_a_2014} {especificacao} {'modo_de_instalacao encaixe sem corda'}\""
            ],
            "application/vnd.google.colaboratory.intrinsic+json": {
              "type": "string"
            }
          },
          "metadata": {}
        },
        {
          "output_type": "display_data",
          "data": {
            "text/plain": [
              "np.int64(5)"
            ]
          },
          "metadata": {}
        },
        {
          "output_type": "display_data",
          "data": {
            "text/plain": [
              "np.int64(5)"
            ]
          },
          "metadata": {}
        },
        {
          "output_type": "display_data",
          "data": {
            "text/plain": [
              "np.int64(5)"
            ]
          },
          "metadata": {}
        },
        {
          "output_type": "display_data",
          "data": {
            "text/plain": [
              "np.int64(4)"
            ]
          },
          "metadata": {}
        },
        {
          "output_type": "display_data",
          "data": {
            "text/plain": [
              "'{\\n  \"AVALIACAO 1\": 4,\\n  \"AVALIACAO 2\": 5\\n}'"
            ],
            "application/vnd.google.colaboratory.intrinsic+json": {
              "type": "string"
            }
          },
          "metadata": {}
        },
        {
          "output_type": "display_data",
          "data": {
            "text/plain": [
              "\"{calca_moletom_infantil_juvenil_skinny_jogger_slim_forrada} {especificacao} {'comprimento 90cm'}\""
            ],
            "application/vnd.google.colaboratory.intrinsic+json": {
              "type": "string"
            }
          },
          "metadata": {}
        },
        {
          "output_type": "display_data",
          "data": {
            "text/plain": [
              "np.int64(5)"
            ]
          },
          "metadata": {}
        },
        {
          "output_type": "display_data",
          "data": {
            "text/plain": [
              "np.int64(5)"
            ]
          },
          "metadata": {}
        },
        {
          "output_type": "display_data",
          "data": {
            "text/plain": [
              "np.int64(4)"
            ]
          },
          "metadata": {}
        },
        {
          "output_type": "display_data",
          "data": {
            "text/plain": [
              "np.int64(4)"
            ]
          },
          "metadata": {}
        },
        {
          "output_type": "display_data",
          "data": {
            "text/plain": [
              "'{\\n  \"AVALIAÇÃO 1\": 5,\\n  \"AVALIAÇÃO 2\": 5\\n}'"
            ],
            "application/vnd.google.colaboratory.intrinsic+json": {
              "type": "string"
            }
          },
          "metadata": {}
        },
        {
          "output_type": "display_data",
          "data": {
            "text/plain": [
              "\"{condensador_ar_condicionado_volkswagen_up_cross_tsi_15_18} {especificacao} {'origem original'}\""
            ],
            "application/vnd.google.colaboratory.intrinsic+json": {
              "type": "string"
            }
          },
          "metadata": {}
        },
        {
          "output_type": "display_data",
          "data": {
            "text/plain": [
              "np.int64(5)"
            ]
          },
          "metadata": {}
        },
        {
          "output_type": "display_data",
          "data": {
            "text/plain": [
              "np.int64(4)"
            ]
          },
          "metadata": {}
        },
        {
          "output_type": "display_data",
          "data": {
            "text/plain": [
              "np.int64(3)"
            ]
          },
          "metadata": {}
        },
        {
          "output_type": "display_data",
          "data": {
            "text/plain": [
              "np.int64(4)"
            ]
          },
          "metadata": {}
        },
        {
          "output_type": "display_data",
          "data": {
            "text/plain": [
              "'{\\n  \"AVALIACAO 1\": 4,\\n  \"AVALIACAO 2\": 4\\n}'"
            ],
            "application/vnd.google.colaboratory.intrinsic+json": {
              "type": "string"
            }
          },
          "metadata": {}
        },
        {
          "output_type": "display_data",
          "data": {
            "text/plain": [
              "\"{kit_3_camera_de_seguranca_wifi_ip_smart_lampada_e27_com_ir} {especificacao} {'rastreamento_automatico'}\""
            ],
            "application/vnd.google.colaboratory.intrinsic+json": {
              "type": "string"
            }
          },
          "metadata": {}
        },
        {
          "output_type": "display_data",
          "data": {
            "text/plain": [
              "np.int64(5)"
            ]
          },
          "metadata": {}
        },
        {
          "output_type": "display_data",
          "data": {
            "text/plain": [
              "np.int64(5)"
            ]
          },
          "metadata": {}
        },
        {
          "output_type": "display_data",
          "data": {
            "text/plain": [
              "np.int64(5)"
            ]
          },
          "metadata": {}
        },
        {
          "output_type": "display_data",
          "data": {
            "text/plain": [
              "np.int64(4)"
            ]
          },
          "metadata": {}
        },
        {
          "output_type": "display_data",
          "data": {
            "text/plain": [
              "'{\\n  \"AVALIAÇÃO 1 — CLAREZA DA JUSTIFICATIVA\": 4,\\n  \"AVALIAÇÃO 2 — COERÊNCIA DAS NOTAS COM A JUSTIFICATIVA\": 4\\n}'"
            ],
            "application/vnd.google.colaboratory.intrinsic+json": {
              "type": "string"
            }
          },
          "metadata": {}
        },
        {
          "output_type": "display_data",
          "data": {
            "text/plain": [
              "\"{parachoque_dianteiro_palio_economy_2013_2014_2015} {especificacao} {'nao_eh_peca_original_mas_eh_novo_e_identico'}\""
            ],
            "application/vnd.google.colaboratory.intrinsic+json": {
              "type": "string"
            }
          },
          "metadata": {}
        },
        {
          "output_type": "display_data",
          "data": {
            "text/plain": [
              "np.int64(5)"
            ]
          },
          "metadata": {}
        },
        {
          "output_type": "display_data",
          "data": {
            "text/plain": [
              "np.int64(4)"
            ]
          },
          "metadata": {}
        },
        {
          "output_type": "display_data",
          "data": {
            "text/plain": [
              "np.int64(4)"
            ]
          },
          "metadata": {}
        },
        {
          "output_type": "display_data",
          "data": {
            "text/plain": [
              "np.int64(3)"
            ]
          },
          "metadata": {}
        },
        {
          "output_type": "display_data",
          "data": {
            "text/plain": [
              "'{\\n  \"AVALIACAO 1\": 4,\\n  \"AVALIACAO 2\": 4\\n}'"
            ],
            "application/vnd.google.colaboratory.intrinsic+json": {
              "type": "string"
            }
          },
          "metadata": {}
        },
        {
          "output_type": "display_data",
          "data": {
            "text/plain": [
              "\"{ventilador_de_teto_ventisol_fenix} {especificacao} {'controle_luz_apenas_pelo_controle_remoto'}\""
            ],
            "application/vnd.google.colaboratory.intrinsic+json": {
              "type": "string"
            }
          },
          "metadata": {}
        },
        {
          "output_type": "display_data",
          "data": {
            "text/plain": [
              "np.int64(5)"
            ]
          },
          "metadata": {}
        },
        {
          "output_type": "display_data",
          "data": {
            "text/plain": [
              "np.int64(5)"
            ]
          },
          "metadata": {}
        },
        {
          "output_type": "display_data",
          "data": {
            "text/plain": [
              "np.int64(5)"
            ]
          },
          "metadata": {}
        },
        {
          "output_type": "display_data",
          "data": {
            "text/plain": [
              "np.int64(4)"
            ]
          },
          "metadata": {}
        },
        {
          "output_type": "display_data",
          "data": {
            "text/plain": [
              "'{\\n  \"AVALIAÇÃO 1\": 5,\\n  \"AVALIAÇÃO 2\": 4\\n}'"
            ],
            "application/vnd.google.colaboratory.intrinsic+json": {
              "type": "string"
            }
          },
          "metadata": {}
        },
        {
          "output_type": "display_data",
          "data": {
            "text/plain": [
              "\"{bota_adventure_couro_via_livre_arizona_original_lancamento} {especificacao} {'não impermeavel'}\""
            ],
            "application/vnd.google.colaboratory.intrinsic+json": {
              "type": "string"
            }
          },
          "metadata": {}
        },
        {
          "output_type": "display_data",
          "data": {
            "text/plain": [
              "np.int64(5)"
            ]
          },
          "metadata": {}
        },
        {
          "output_type": "display_data",
          "data": {
            "text/plain": [
              "np.int64(5)"
            ]
          },
          "metadata": {}
        },
        {
          "output_type": "display_data",
          "data": {
            "text/plain": [
              "np.int64(5)"
            ]
          },
          "metadata": {}
        },
        {
          "output_type": "display_data",
          "data": {
            "text/plain": [
              "np.int64(5)"
            ]
          },
          "metadata": {}
        },
        {
          "output_type": "display_data",
          "data": {
            "text/plain": [
              "'{\\n  \"AVALIACAO 1\": 5,\\n  \"AVALIACAO 2\": 5\\n}'"
            ],
            "application/vnd.google.colaboratory.intrinsic+json": {
              "type": "string"
            }
          },
          "metadata": {}
        },
        {
          "output_type": "display_data",
          "data": {
            "text/plain": [
              "\"{rack_tv_65_com_pes_retro_e_2_portas_paris_multimoveis} {especificacao} {'passagem para fios atrás dos nichos'}\""
            ],
            "application/vnd.google.colaboratory.intrinsic+json": {
              "type": "string"
            }
          },
          "metadata": {}
        },
        {
          "output_type": "display_data",
          "data": {
            "text/plain": [
              "np.int64(5)"
            ]
          },
          "metadata": {}
        },
        {
          "output_type": "display_data",
          "data": {
            "text/plain": [
              "np.int64(5)"
            ]
          },
          "metadata": {}
        },
        {
          "output_type": "display_data",
          "data": {
            "text/plain": [
              "np.int64(5)"
            ]
          },
          "metadata": {}
        },
        {
          "output_type": "display_data",
          "data": {
            "text/plain": [
              "np.int64(5)"
            ]
          },
          "metadata": {}
        },
        {
          "output_type": "display_data",
          "data": {
            "text/plain": [
              "'{\\n  \"AVALIACAO 1\": 5,\\n  \"AVALIACAO 2\": 5\\n}'"
            ],
            "application/vnd.google.colaboratory.intrinsic+json": {
              "type": "string"
            }
          },
          "metadata": {}
        },
        {
          "output_type": "display_data",
          "data": {
            "text/plain": [
              "\"{jogo_raio_bros_160_inox} {especificacao} {'material aco inox'}\""
            ],
            "application/vnd.google.colaboratory.intrinsic+json": {
              "type": "string"
            }
          },
          "metadata": {}
        },
        {
          "output_type": "display_data",
          "data": {
            "text/plain": [
              "np.int64(5)"
            ]
          },
          "metadata": {}
        },
        {
          "output_type": "display_data",
          "data": {
            "text/plain": [
              "np.int64(4)"
            ]
          },
          "metadata": {}
        },
        {
          "output_type": "display_data",
          "data": {
            "text/plain": [
              "np.int64(5)"
            ]
          },
          "metadata": {}
        },
        {
          "output_type": "display_data",
          "data": {
            "text/plain": [
              "np.int64(4)"
            ]
          },
          "metadata": {}
        },
        {
          "output_type": "display_data",
          "data": {
            "text/plain": [
              "'{\\n  \"AVALIACAO 1\": 5,\\n  \"AVALIACAO 2\": 5\\n}'"
            ],
            "application/vnd.google.colaboratory.intrinsic+json": {
              "type": "string"
            }
          },
          "metadata": {}
        },
        {
          "output_type": "display_data",
          "data": {
            "text/plain": [
              "\"{fone_de_ouvido_booglee_wireless_bluetooth_inpods_12_branco} {especificacao} {'quantidade um par'}\""
            ],
            "application/vnd.google.colaboratory.intrinsic+json": {
              "type": "string"
            }
          },
          "metadata": {}
        },
        {
          "output_type": "display_data",
          "data": {
            "text/plain": [
              "np.int64(5)"
            ]
          },
          "metadata": {}
        },
        {
          "output_type": "display_data",
          "data": {
            "text/plain": [
              "np.int64(4)"
            ]
          },
          "metadata": {}
        },
        {
          "output_type": "display_data",
          "data": {
            "text/plain": [
              "np.int64(5)"
            ]
          },
          "metadata": {}
        },
        {
          "output_type": "display_data",
          "data": {
            "text/plain": [
              "np.int64(4)"
            ]
          },
          "metadata": {}
        },
        {
          "output_type": "display_data",
          "data": {
            "text/plain": [
              "'{\\n  \"AVALIACAO 1\": 4,\\n  \"AVALIACAO 2\": 5\\n}'"
            ],
            "application/vnd.google.colaboratory.intrinsic+json": {
              "type": "string"
            }
          },
          "metadata": {}
        },
        {
          "output_type": "display_data",
          "data": {
            "text/plain": [
              "\"{cabo_de_aco_galvanizado_30m_1/4_6x19} {especificacao} {'resistente a linha de pipa chilena'}\""
            ],
            "application/vnd.google.colaboratory.intrinsic+json": {
              "type": "string"
            }
          },
          "metadata": {}
        },
        {
          "output_type": "display_data",
          "data": {
            "text/plain": [
              "np.int64(5)"
            ]
          },
          "metadata": {}
        },
        {
          "output_type": "display_data",
          "data": {
            "text/plain": [
              "np.int64(4)"
            ]
          },
          "metadata": {}
        },
        {
          "output_type": "display_data",
          "data": {
            "text/plain": [
              "np.int64(5)"
            ]
          },
          "metadata": {}
        },
        {
          "output_type": "display_data",
          "data": {
            "text/plain": [
              "np.int64(4)"
            ]
          },
          "metadata": {}
        },
        {
          "output_type": "display_data",
          "data": {
            "text/plain": [
              "'{\\n  \"AVALIACAO 1\": 4,\\n  \"AVALIACAO 2\": 5\\n}'"
            ],
            "application/vnd.google.colaboratory.intrinsic+json": {
              "type": "string"
            }
          },
          "metadata": {}
        },
        {
          "output_type": "display_data",
          "data": {
            "text/plain": [
              "\"{radio_automotivo_mp3_player_bluetooth} {especificacao} {'conecta por RCA'}\""
            ],
            "application/vnd.google.colaboratory.intrinsic+json": {
              "type": "string"
            }
          },
          "metadata": {}
        },
        {
          "output_type": "display_data",
          "data": {
            "text/plain": [
              "np.int64(4)"
            ]
          },
          "metadata": {}
        },
        {
          "output_type": "display_data",
          "data": {
            "text/plain": [
              "np.int64(4)"
            ]
          },
          "metadata": {}
        },
        {
          "output_type": "display_data",
          "data": {
            "text/plain": [
              "np.int64(3)"
            ]
          },
          "metadata": {}
        },
        {
          "output_type": "display_data",
          "data": {
            "text/plain": [
              "np.int64(3)"
            ]
          },
          "metadata": {}
        },
        {
          "output_type": "display_data",
          "data": {
            "text/plain": [
              "'{\\n  \"AVALIACAO 1\": 4,\\n  \"AVALIACAO 2\": 4\\n}'"
            ],
            "application/vnd.google.colaboratory.intrinsic+json": {
              "type": "string"
            }
          },
          "metadata": {}
        },
        {
          "output_type": "display_data",
          "data": {
            "text/plain": [
              "\"{carburador_mangueiras_filtro_vela_roçadeira_toyama_rt43} {especificacao} {'medida_entre_furos 31 mm'}\""
            ],
            "application/vnd.google.colaboratory.intrinsic+json": {
              "type": "string"
            }
          },
          "metadata": {}
        },
        {
          "output_type": "display_data",
          "data": {
            "text/plain": [
              "np.int64(5)"
            ]
          },
          "metadata": {}
        },
        {
          "output_type": "display_data",
          "data": {
            "text/plain": [
              "np.int64(5)"
            ]
          },
          "metadata": {}
        },
        {
          "output_type": "display_data",
          "data": {
            "text/plain": [
              "np.int64(5)"
            ]
          },
          "metadata": {}
        },
        {
          "output_type": "display_data",
          "data": {
            "text/plain": [
              "np.int64(5)"
            ]
          },
          "metadata": {}
        },
        {
          "output_type": "display_data",
          "data": {
            "text/plain": [
              "'{\\n  \"AVALIACAO 1\": 5,\\n  \"AVALIACAO 2\": 5\\n}'"
            ],
            "application/vnd.google.colaboratory.intrinsic+json": {
              "type": "string"
            }
          },
          "metadata": {}
        },
        {
          "output_type": "display_data",
          "data": {
            "text/plain": [
              "\"{rolamento_do_balanceiro_cbx250_xr250} {especificacao} {'tipo original'}\""
            ],
            "application/vnd.google.colaboratory.intrinsic+json": {
              "type": "string"
            }
          },
          "metadata": {}
        },
        {
          "output_type": "display_data",
          "data": {
            "text/plain": [
              "np.int64(5)"
            ]
          },
          "metadata": {}
        },
        {
          "output_type": "display_data",
          "data": {
            "text/plain": [
              "np.int64(5)"
            ]
          },
          "metadata": {}
        },
        {
          "output_type": "display_data",
          "data": {
            "text/plain": [
              "np.int64(5)"
            ]
          },
          "metadata": {}
        },
        {
          "output_type": "display_data",
          "data": {
            "text/plain": [
              "np.int64(5)"
            ]
          },
          "metadata": {}
        },
        {
          "output_type": "display_data",
          "data": {
            "text/plain": [
              "'{\\n  \"AVALIAÇÃO 1\": 5,\\n  \"AVALIAÇÃO 2\": 5\\n}'"
            ],
            "application/vnd.google.colaboratory.intrinsic+json": {
              "type": "string"
            }
          },
          "metadata": {}
        },
        {
          "output_type": "display_data",
          "data": {
            "text/plain": [
              "\"{central_multimidia_citroen_c3_2008} {especificacao} {'toque otimo'}\""
            ],
            "application/vnd.google.colaboratory.intrinsic+json": {
              "type": "string"
            }
          },
          "metadata": {}
        },
        {
          "output_type": "display_data",
          "data": {
            "text/plain": [
              "np.int64(5)"
            ]
          },
          "metadata": {}
        },
        {
          "output_type": "display_data",
          "data": {
            "text/plain": [
              "np.int64(5)"
            ]
          },
          "metadata": {}
        },
        {
          "output_type": "display_data",
          "data": {
            "text/plain": [
              "np.int64(5)"
            ]
          },
          "metadata": {}
        },
        {
          "output_type": "display_data",
          "data": {
            "text/plain": [
              "np.int64(5)"
            ]
          },
          "metadata": {}
        },
        {
          "output_type": "display_data",
          "data": {
            "text/plain": [
              "'{\\n  \"AVALIAÇÃO 1 — CLAREZA DA JUSTIFICATIVA\": 5,\\n  \"AVALIAÇÃO 2 — COERÊNCIA DAS NOTAS COM A JUSTIFICATIVA\": 5\\n}'"
            ],
            "application/vnd.google.colaboratory.intrinsic+json": {
              "type": "string"
            }
          },
          "metadata": {}
        },
        {
          "output_type": "display_data",
          "data": {
            "text/plain": [
              "\"{mangueira_de_respiro} {especificacao} {'versao fina, aplicavel para Corsa 1.0 1.6 16v de 1996 a 2002'}\""
            ],
            "application/vnd.google.colaboratory.intrinsic+json": {
              "type": "string"
            }
          },
          "metadata": {}
        },
        {
          "output_type": "display_data",
          "data": {
            "text/plain": [
              "np.int64(5)"
            ]
          },
          "metadata": {}
        },
        {
          "output_type": "display_data",
          "data": {
            "text/plain": [
              "np.int64(5)"
            ]
          },
          "metadata": {}
        },
        {
          "output_type": "display_data",
          "data": {
            "text/plain": [
              "np.int64(5)"
            ]
          },
          "metadata": {}
        },
        {
          "output_type": "display_data",
          "data": {
            "text/plain": [
              "np.int64(5)"
            ]
          },
          "metadata": {}
        },
        {
          "output_type": "display_data",
          "data": {
            "text/plain": [
              "'{\\n  \"AVALIACAO 1\": 5,\\n  \"AVALIACAO 2\": 5\\n}'"
            ],
            "application/vnd.google.colaboratory.intrinsic+json": {
              "type": "string"
            }
          },
          "metadata": {}
        },
        {
          "output_type": "display_data",
          "data": {
            "text/plain": [
              "\"{gabinete_banheiro_pia_cuba_balcao_armario_80cm} {especificacao} {'não oferecido sem cuba ou com cuba sem entrada de torneira'}\""
            ],
            "application/vnd.google.colaboratory.intrinsic+json": {
              "type": "string"
            }
          },
          "metadata": {}
        },
        {
          "output_type": "display_data",
          "data": {
            "text/plain": [
              "np.int64(5)"
            ]
          },
          "metadata": {}
        },
        {
          "output_type": "display_data",
          "data": {
            "text/plain": [
              "np.int64(5)"
            ]
          },
          "metadata": {}
        },
        {
          "output_type": "display_data",
          "data": {
            "text/plain": [
              "np.int64(5)"
            ]
          },
          "metadata": {}
        },
        {
          "output_type": "display_data",
          "data": {
            "text/plain": [
              "np.int64(4)"
            ]
          },
          "metadata": {}
        },
        {
          "output_type": "display_data",
          "data": {
            "text/plain": [
              "'{\\n  \"AVALIACAO 1\": 4,\\n  \"AVALIACAO 2\": 3\\n}'"
            ],
            "application/vnd.google.colaboratory.intrinsic+json": {
              "type": "string"
            }
          },
          "metadata": {}
        },
        {
          "output_type": "display_data",
          "data": {
            "text/plain": [
              "\"{maquina_pintura_airless_profissional} {especificacao} {'compatibilidade_tinta_late_x_acrilica_esmalte_verniz_selador'}\""
            ],
            "application/vnd.google.colaboratory.intrinsic+json": {
              "type": "string"
            }
          },
          "metadata": {}
        },
        {
          "output_type": "display_data",
          "data": {
            "text/plain": [
              "np.int64(5)"
            ]
          },
          "metadata": {}
        },
        {
          "output_type": "display_data",
          "data": {
            "text/plain": [
              "np.int64(5)"
            ]
          },
          "metadata": {}
        },
        {
          "output_type": "display_data",
          "data": {
            "text/plain": [
              "np.int64(4)"
            ]
          },
          "metadata": {}
        },
        {
          "output_type": "display_data",
          "data": {
            "text/plain": [
              "np.int64(4)"
            ]
          },
          "metadata": {}
        },
        {
          "output_type": "display_data",
          "data": {
            "text/plain": [
              "'{\\n  \"AVALIACAO 1\": 4,\\n  \"AVALIACAO 2\": 5\\n}'"
            ],
            "application/vnd.google.colaboratory.intrinsic+json": {
              "type": "string"
            }
          },
          "metadata": {}
        },
        {
          "output_type": "display_data",
          "data": {
            "text/plain": [
              "\"{conjunto_3_estantes_para_livros_baixas_industrial_aço} {especificacao} {'suporte_até_8kg'}\""
            ],
            "application/vnd.google.colaboratory.intrinsic+json": {
              "type": "string"
            }
          },
          "metadata": {}
        },
        {
          "output_type": "display_data",
          "data": {
            "text/plain": [
              "np.int64(5)"
            ]
          },
          "metadata": {}
        },
        {
          "output_type": "display_data",
          "data": {
            "text/plain": [
              "np.int64(5)"
            ]
          },
          "metadata": {}
        },
        {
          "output_type": "display_data",
          "data": {
            "text/plain": [
              "np.int64(5)"
            ]
          },
          "metadata": {}
        },
        {
          "output_type": "display_data",
          "data": {
            "text/plain": [
              "np.int64(5)"
            ]
          },
          "metadata": {}
        },
        {
          "output_type": "display_data",
          "data": {
            "text/plain": [
              "'{\\n  \"AVALIAÇÃO 1\": 5,\\n  \"AVALIAÇÃO 2\": 5\\n}'"
            ],
            "application/vnd.google.colaboratory.intrinsic+json": {
              "type": "string"
            }
          },
          "metadata": {}
        },
        {
          "output_type": "display_data",
          "data": {
            "text/plain": [
              "\"{10x_pre_hormonal_testo_gh} {especificacao} {'recomendacao_de_uso_3_capsulas_por_dia'}\""
            ],
            "application/vnd.google.colaboratory.intrinsic+json": {
              "type": "string"
            }
          },
          "metadata": {}
        },
        {
          "output_type": "display_data",
          "data": {
            "text/plain": [
              "np.int64(5)"
            ]
          },
          "metadata": {}
        },
        {
          "output_type": "display_data",
          "data": {
            "text/plain": [
              "np.int64(5)"
            ]
          },
          "metadata": {}
        },
        {
          "output_type": "display_data",
          "data": {
            "text/plain": [
              "np.int64(5)"
            ]
          },
          "metadata": {}
        },
        {
          "output_type": "display_data",
          "data": {
            "text/plain": [
              "np.int64(4)"
            ]
          },
          "metadata": {}
        },
        {
          "output_type": "display_data",
          "data": {
            "text/plain": [
              "'{\\n  \"AVALIACAO 1\": 5,\\n  \"AVALIACAO 2\": 5\\n}'"
            ],
            "application/vnd.google.colaboratory.intrinsic+json": {
              "type": "string"
            }
          },
          "metadata": {}
        },
        {
          "output_type": "display_data",
          "data": {
            "text/plain": [
              "\"{parafusadeira_furadeira_12v_bivolt_pfe_12ev} {especificacao} {'origem china'}\""
            ],
            "application/vnd.google.colaboratory.intrinsic+json": {
              "type": "string"
            }
          },
          "metadata": {}
        },
        {
          "output_type": "display_data",
          "data": {
            "text/plain": [
              "np.int64(5)"
            ]
          },
          "metadata": {}
        },
        {
          "output_type": "display_data",
          "data": {
            "text/plain": [
              "np.int64(4)"
            ]
          },
          "metadata": {}
        },
        {
          "output_type": "display_data",
          "data": {
            "text/plain": [
              "np.int64(5)"
            ]
          },
          "metadata": {}
        },
        {
          "output_type": "display_data",
          "data": {
            "text/plain": [
              "np.int64(4)"
            ]
          },
          "metadata": {}
        },
        {
          "output_type": "display_data",
          "data": {
            "text/plain": [
              "'{\\n  \"AVALIACAO 1\": 5,\\n  \"AVALIACAO 2\": 5\\n}'"
            ],
            "application/vnd.google.colaboratory.intrinsic+json": {
              "type": "string"
            }
          },
          "metadata": {}
        },
        {
          "output_type": "display_data",
          "data": {
            "text/plain": [
              "\"{cortador_de_grama_eletrico_1200w} {especificacao} {'voltagem 220v e tamanho do gramado 600 metros'}\""
            ],
            "application/vnd.google.colaboratory.intrinsic+json": {
              "type": "string"
            }
          },
          "metadata": {}
        },
        {
          "output_type": "display_data",
          "data": {
            "text/plain": [
              "np.int64(4)"
            ]
          },
          "metadata": {}
        },
        {
          "output_type": "display_data",
          "data": {
            "text/plain": [
              "np.int64(4)"
            ]
          },
          "metadata": {}
        },
        {
          "output_type": "display_data",
          "data": {
            "text/plain": [
              "np.int64(3)"
            ]
          },
          "metadata": {}
        },
        {
          "output_type": "display_data",
          "data": {
            "text/plain": [
              "np.int64(3)"
            ]
          },
          "metadata": {}
        },
        {
          "output_type": "display_data",
          "data": {
            "text/plain": [
              "'{\\n  \"AVALIAÇÃO 1\": 4,\\n  \"AVALIAÇÃO 2\": 4\\n}'"
            ],
            "application/vnd.google.colaboratory.intrinsic+json": {
              "type": "string"
            }
          },
          "metadata": {}
        },
        {
          "output_type": "display_data",
          "data": {
            "text/plain": [
              "\"{lanterna_traseira_cg_titan_fan_125_2000_2008} {especificacao} {'usa_so_lampada_led'}\""
            ],
            "application/vnd.google.colaboratory.intrinsic+json": {
              "type": "string"
            }
          },
          "metadata": {}
        },
        {
          "output_type": "display_data",
          "data": {
            "text/plain": [
              "np.int64(5)"
            ]
          },
          "metadata": {}
        },
        {
          "output_type": "display_data",
          "data": {
            "text/plain": [
              "np.int64(5)"
            ]
          },
          "metadata": {}
        },
        {
          "output_type": "display_data",
          "data": {
            "text/plain": [
              "np.int64(5)"
            ]
          },
          "metadata": {}
        },
        {
          "output_type": "display_data",
          "data": {
            "text/plain": [
              "np.int64(4)"
            ]
          },
          "metadata": {}
        },
        {
          "output_type": "display_data",
          "data": {
            "text/plain": [
              "'{\\n  \"AVALIACAO 1\": 4,\\n  \"AVALIACAO 2\": 5\\n}'"
            ],
            "application/vnd.google.colaboratory.intrinsic+json": {
              "type": "string"
            }
          },
          "metadata": {}
        },
        {
          "output_type": "display_data",
          "data": {
            "text/plain": [
              "\"{estante_industrial_baixa_3_prateleiras_crome_freijo_preto} {especificacao} {'altura entre prateleiras 33cm'}\""
            ],
            "application/vnd.google.colaboratory.intrinsic+json": {
              "type": "string"
            }
          },
          "metadata": {}
        },
        {
          "output_type": "display_data",
          "data": {
            "text/plain": [
              "np.int64(5)"
            ]
          },
          "metadata": {}
        },
        {
          "output_type": "display_data",
          "data": {
            "text/plain": [
              "np.int64(5)"
            ]
          },
          "metadata": {}
        },
        {
          "output_type": "display_data",
          "data": {
            "text/plain": [
              "np.int64(5)"
            ]
          },
          "metadata": {}
        },
        {
          "output_type": "display_data",
          "data": {
            "text/plain": [
              "np.int64(5)"
            ]
          },
          "metadata": {}
        },
        {
          "output_type": "display_data",
          "data": {
            "text/plain": [
              "'{\\n  \"AVALIACAO 1\": 5,\\n  \"AVALIACAO 2\": 5\\n}'"
            ],
            "application/vnd.google.colaboratory.intrinsic+json": {
              "type": "string"
            }
          },
          "metadata": {}
        },
        {
          "output_type": "display_data",
          "data": {
            "text/plain": [
              "\"{ralo_grelha_linear_10x100} {especificacao} {'valor por metro linear 59,70'}\""
            ],
            "application/vnd.google.colaboratory.intrinsic+json": {
              "type": "string"
            }
          },
          "metadata": {}
        },
        {
          "output_type": "display_data",
          "data": {
            "text/plain": [
              "np.int64(4)"
            ]
          },
          "metadata": {}
        },
        {
          "output_type": "display_data",
          "data": {
            "text/plain": [
              "np.int64(4)"
            ]
          },
          "metadata": {}
        },
        {
          "output_type": "display_data",
          "data": {
            "text/plain": [
              "np.int64(4)"
            ]
          },
          "metadata": {}
        },
        {
          "output_type": "display_data",
          "data": {
            "text/plain": [
              "np.int64(3)"
            ]
          },
          "metadata": {}
        },
        {
          "output_type": "display_data",
          "data": {
            "text/plain": [
              "'{\\n  \"AVALIAÇÃO 1 — CLAREZA DA JUSTIFICATIVA\": 4,\\n  \"AVALIAÇÃO 2 — COERÊNCIA DAS NOTAS COM A JUSTIFICATIVA\": 4\\n}'"
            ],
            "application/vnd.google.colaboratory.intrinsic+json": {
              "type": "string"
            }
          },
          "metadata": {}
        },
        {
          "output_type": "display_data",
          "data": {
            "text/plain": [
              "\"{jogo_parafuso_de_cabecote_doblo_1_8_8v_2004_a_2010_taranto} {especificacao} {'numero_de_prisioneiros 2'}\""
            ],
            "application/vnd.google.colaboratory.intrinsic+json": {
              "type": "string"
            }
          },
          "metadata": {}
        },
        {
          "output_type": "display_data",
          "data": {
            "text/plain": [
              "np.int64(5)"
            ]
          },
          "metadata": {}
        },
        {
          "output_type": "display_data",
          "data": {
            "text/plain": [
              "np.int64(5)"
            ]
          },
          "metadata": {}
        },
        {
          "output_type": "display_data",
          "data": {
            "text/plain": [
              "np.int64(5)"
            ]
          },
          "metadata": {}
        },
        {
          "output_type": "display_data",
          "data": {
            "text/plain": [
              "np.int64(5)"
            ]
          },
          "metadata": {}
        },
        {
          "output_type": "display_data",
          "data": {
            "text/plain": [
              "'{\\n  \"AVALIACAO 1\": 5,\\n  \"AVALIACAO 2\": 5\\n}'"
            ],
            "application/vnd.google.colaboratory.intrinsic+json": {
              "type": "string"
            }
          },
          "metadata": {}
        },
        {
          "output_type": "display_data",
          "data": {
            "text/plain": [
              "\"{kit_5_total_quartz_ineo_first_0w30_sn} {especificacao} {'mesmas_especificacoes'}\""
            ],
            "application/vnd.google.colaboratory.intrinsic+json": {
              "type": "string"
            }
          },
          "metadata": {}
        },
        {
          "output_type": "display_data",
          "data": {
            "text/plain": [
              "np.int64(5)"
            ]
          },
          "metadata": {}
        },
        {
          "output_type": "display_data",
          "data": {
            "text/plain": [
              "np.int64(5)"
            ]
          },
          "metadata": {}
        },
        {
          "output_type": "display_data",
          "data": {
            "text/plain": [
              "np.int64(5)"
            ]
          },
          "metadata": {}
        },
        {
          "output_type": "display_data",
          "data": {
            "text/plain": [
              "np.int64(4)"
            ]
          },
          "metadata": {}
        },
        {
          "output_type": "display_data",
          "data": {
            "text/plain": [
              "'{\\n  \"AVALIAÇÃO 1\": 4,\\n  \"AVALIAÇÃO 2\": 5\\n}'"
            ],
            "application/vnd.google.colaboratory.intrinsic+json": {
              "type": "string"
            }
          },
          "metadata": {}
        },
        {
          "output_type": "display_data",
          "data": {
            "text/plain": [
              "\"{radio_relogio_alarme_duplo_sonoro} {especificacao} {'fonte_de_alimentacao_pilhas'}\""
            ],
            "application/vnd.google.colaboratory.intrinsic+json": {
              "type": "string"
            }
          },
          "metadata": {}
        },
        {
          "output_type": "display_data",
          "data": {
            "text/plain": [
              "np.int64(5)"
            ]
          },
          "metadata": {}
        },
        {
          "output_type": "display_data",
          "data": {
            "text/plain": [
              "np.int64(5)"
            ]
          },
          "metadata": {}
        },
        {
          "output_type": "display_data",
          "data": {
            "text/plain": [
              "np.int64(5)"
            ]
          },
          "metadata": {}
        },
        {
          "output_type": "display_data",
          "data": {
            "text/plain": [
              "np.int64(4)"
            ]
          },
          "metadata": {}
        },
        {
          "output_type": "display_data",
          "data": {
            "text/plain": [
              "'{\\n  \"AVALIACAO 1\": 5,\\n  \"AVALIACAO 2\": 5\\n}'"
            ],
            "application/vnd.google.colaboratory.intrinsic+json": {
              "type": "string"
            }
          },
          "metadata": {}
        },
        {
          "output_type": "display_data",
          "data": {
            "text/plain": [
              "\"{farol_ford_fusion_2013_2014_2015} {especificacao} {'estado novo e identico ao original'}\""
            ],
            "application/vnd.google.colaboratory.intrinsic+json": {
              "type": "string"
            }
          },
          "metadata": {}
        },
        {
          "output_type": "display_data",
          "data": {
            "text/plain": [
              "np.int64(5)"
            ]
          },
          "metadata": {}
        },
        {
          "output_type": "display_data",
          "data": {
            "text/plain": [
              "np.int64(5)"
            ]
          },
          "metadata": {}
        },
        {
          "output_type": "display_data",
          "data": {
            "text/plain": [
              "np.int64(5)"
            ]
          },
          "metadata": {}
        },
        {
          "output_type": "display_data",
          "data": {
            "text/plain": [
              "np.int64(5)"
            ]
          },
          "metadata": {}
        },
        {
          "output_type": "display_data",
          "data": {
            "text/plain": [
              "'{\\n  \"AVALIACAO 1\": 5,\\n  \"AVALIACAO 2\": 5\\n}'"
            ],
            "application/vnd.google.colaboratory.intrinsic+json": {
              "type": "string"
            }
          },
          "metadata": {}
        },
        {
          "output_type": "display_data",
          "data": {
            "text/plain": [
              "\"{puff_multiuso_3_em_1_casal_jacquard_preto} {especificacao} {'parte_inferior_em_tecido'}\""
            ],
            "application/vnd.google.colaboratory.intrinsic+json": {
              "type": "string"
            }
          },
          "metadata": {}
        },
        {
          "output_type": "display_data",
          "data": {
            "text/plain": [
              "np.int64(5)"
            ]
          },
          "metadata": {}
        },
        {
          "output_type": "display_data",
          "data": {
            "text/plain": [
              "np.int64(4)"
            ]
          },
          "metadata": {}
        },
        {
          "output_type": "display_data",
          "data": {
            "text/plain": [
              "np.int64(4)"
            ]
          },
          "metadata": {}
        },
        {
          "output_type": "display_data",
          "data": {
            "text/plain": [
              "np.int64(4)"
            ]
          },
          "metadata": {}
        },
        {
          "output_type": "display_data",
          "data": {
            "text/plain": [
              "'{\\n  \"AVALIACAO 1\": 4,\\n  \"AVALIACAO 2\": 4\\n}'"
            ],
            "application/vnd.google.colaboratory.intrinsic+json": {
              "type": "string"
            }
          },
          "metadata": {}
        },
        {
          "output_type": "display_data",
          "data": {
            "text/plain": [
              "\"{guarda_sol_gigante_2_4m} {especificacao} {'não parafusa no piso, usa base'}\""
            ],
            "application/vnd.google.colaboratory.intrinsic+json": {
              "type": "string"
            }
          },
          "metadata": {}
        },
        {
          "output_type": "display_data",
          "data": {
            "text/plain": [
              "np.int64(5)"
            ]
          },
          "metadata": {}
        },
        {
          "output_type": "display_data",
          "data": {
            "text/plain": [
              "np.int64(4)"
            ]
          },
          "metadata": {}
        },
        {
          "output_type": "display_data",
          "data": {
            "text/plain": [
              "np.int64(5)"
            ]
          },
          "metadata": {}
        },
        {
          "output_type": "display_data",
          "data": {
            "text/plain": [
              "np.int64(4)"
            ]
          },
          "metadata": {}
        },
        {
          "output_type": "display_data",
          "data": {
            "text/plain": [
              "'{\\n  \"AVALIACAO 1\": 4,\\n  \"AVALIACAO 2\": 4\\n}'"
            ],
            "application/vnd.google.colaboratory.intrinsic+json": {
              "type": "string"
            }
          },
          "metadata": {}
        },
        {
          "output_type": "display_data",
          "data": {
            "text/plain": [
              "\"{tampa_traseira_de_vidro_xiaoml_11t_5g} {especificacao} {'marca original'}\""
            ],
            "application/vnd.google.colaboratory.intrinsic+json": {
              "type": "string"
            }
          },
          "metadata": {}
        },
        {
          "output_type": "display_data",
          "data": {
            "text/plain": [
              "np.int64(5)"
            ]
          },
          "metadata": {}
        },
        {
          "output_type": "display_data",
          "data": {
            "text/plain": [
              "np.int64(4)"
            ]
          },
          "metadata": {}
        },
        {
          "output_type": "display_data",
          "data": {
            "text/plain": [
              "np.int64(5)"
            ]
          },
          "metadata": {}
        },
        {
          "output_type": "display_data",
          "data": {
            "text/plain": [
              "np.int64(4)"
            ]
          },
          "metadata": {}
        },
        {
          "output_type": "display_data",
          "data": {
            "text/plain": [
              "'{\\n  \"AVALIACAO 1\": 5,\\n  \"AVALIACAO 2\": 5\\n}'"
            ],
            "application/vnd.google.colaboratory.intrinsic+json": {
              "type": "string"
            }
          },
          "metadata": {}
        },
        {
          "output_type": "display_data",
          "data": {
            "text/plain": [
              "\"{lanterna_palio_attractive} {especificacao} {'modelo 2012 2013 2014 2015 2016 2017'}\""
            ],
            "application/vnd.google.colaboratory.intrinsic+json": {
              "type": "string"
            }
          },
          "metadata": {}
        },
        {
          "output_type": "display_data",
          "data": {
            "text/plain": [
              "np.int64(5)"
            ]
          },
          "metadata": {}
        },
        {
          "output_type": "display_data",
          "data": {
            "text/plain": [
              "np.int64(5)"
            ]
          },
          "metadata": {}
        },
        {
          "output_type": "display_data",
          "data": {
            "text/plain": [
              "np.int64(5)"
            ]
          },
          "metadata": {}
        },
        {
          "output_type": "display_data",
          "data": {
            "text/plain": [
              "np.int64(4)"
            ]
          },
          "metadata": {}
        },
        {
          "output_type": "display_data",
          "data": {
            "text/plain": [
              "'{\\n  \"AVALIAÇÃO 1 — CLAREZA DA JUSTIFICATIVA\": 5,\\n  \"AVALIAÇÃO 2 — COERÊNCIA DAS NOTAS COM A JUSTIFICATIVA\": 4\\n}'"
            ],
            "application/vnd.google.colaboratory.intrinsic+json": {
              "type": "string"
            }
          },
          "metadata": {}
        },
        {
          "output_type": "display_data",
          "data": {
            "text/plain": [
              "\"{fone_com_isolamento_acustico_bluetooth_5_0_mp3_micro_sd_fm} {especificacao} {'suporta microsd de até 128gb'}\""
            ],
            "application/vnd.google.colaboratory.intrinsic+json": {
              "type": "string"
            }
          },
          "metadata": {}
        },
        {
          "output_type": "display_data",
          "data": {
            "text/plain": [
              "np.int64(5)"
            ]
          },
          "metadata": {}
        },
        {
          "output_type": "display_data",
          "data": {
            "text/plain": [
              "np.int64(5)"
            ]
          },
          "metadata": {}
        },
        {
          "output_type": "display_data",
          "data": {
            "text/plain": [
              "np.int64(5)"
            ]
          },
          "metadata": {}
        },
        {
          "output_type": "display_data",
          "data": {
            "text/plain": [
              "np.int64(5)"
            ]
          },
          "metadata": {}
        },
        {
          "output_type": "display_data",
          "data": {
            "text/plain": [
              "'{\\n  \"AVALIACAO 1\": 5,\\n  \"AVALIACAO 2\": 5\\n}'"
            ],
            "application/vnd.google.colaboratory.intrinsic+json": {
              "type": "string"
            }
          },
          "metadata": {}
        },
        {
          "output_type": "display_data",
          "data": {
            "text/plain": [
              "\"{eixo_cardan_roçadeira_stihl_fs290_importada} {especificacao} {'compatibilidade não compatível com guidões bipartidos'}\""
            ],
            "application/vnd.google.colaboratory.intrinsic+json": {
              "type": "string"
            }
          },
          "metadata": {}
        },
        {
          "output_type": "display_data",
          "data": {
            "text/plain": [
              "np.int64(5)"
            ]
          },
          "metadata": {}
        },
        {
          "output_type": "display_data",
          "data": {
            "text/plain": [
              "np.int64(5)"
            ]
          },
          "metadata": {}
        },
        {
          "output_type": "display_data",
          "data": {
            "text/plain": [
              "np.int64(5)"
            ]
          },
          "metadata": {}
        },
        {
          "output_type": "display_data",
          "data": {
            "text/plain": [
              "np.int64(4)"
            ]
          },
          "metadata": {}
        },
        {
          "output_type": "display_data",
          "data": {
            "text/plain": [
              "'{\\n  \"AVALIACAO 1\": 4,\\n  \"AVALIACAO 2\": 5\\n}'"
            ],
            "application/vnd.google.colaboratory.intrinsic+json": {
              "type": "string"
            }
          },
          "metadata": {}
        },
        {
          "output_type": "display_data",
          "data": {
            "text/plain": [
              "\"{fritadeira_airfryer_painel_digital_4l_1500w_127v} {especificacao} {'material alumínio com revestimento antiaderente'}\""
            ],
            "application/vnd.google.colaboratory.intrinsic+json": {
              "type": "string"
            }
          },
          "metadata": {}
        },
        {
          "output_type": "display_data",
          "data": {
            "text/plain": [
              "np.int64(5)"
            ]
          },
          "metadata": {}
        },
        {
          "output_type": "display_data",
          "data": {
            "text/plain": [
              "np.int64(5)"
            ]
          },
          "metadata": {}
        },
        {
          "output_type": "display_data",
          "data": {
            "text/plain": [
              "np.int64(5)"
            ]
          },
          "metadata": {}
        },
        {
          "output_type": "display_data",
          "data": {
            "text/plain": [
              "np.int64(4)"
            ]
          },
          "metadata": {}
        },
        {
          "output_type": "display_data",
          "data": {
            "text/plain": [
              "'{\\n  \"AVALIACAO 1\": 5,\\n  \"AVALIACAO 2\": 5\\n}'"
            ],
            "application/vnd.google.colaboratory.intrinsic+json": {
              "type": "string"
            }
          },
          "metadata": {}
        },
        {
          "output_type": "display_data",
          "data": {
            "text/plain": [
              "\"{cabecote_original_gm_completo_fiat_doblo} {especificacao} {'peças de GM, Sabó e Metal Leve'}\""
            ],
            "application/vnd.google.colaboratory.intrinsic+json": {
              "type": "string"
            }
          },
          "metadata": {}
        },
        {
          "output_type": "display_data",
          "data": {
            "text/plain": [
              "np.int64(5)"
            ]
          },
          "metadata": {}
        },
        {
          "output_type": "display_data",
          "data": {
            "text/plain": [
              "np.int64(5)"
            ]
          },
          "metadata": {}
        },
        {
          "output_type": "display_data",
          "data": {
            "text/plain": [
              "np.int64(5)"
            ]
          },
          "metadata": {}
        },
        {
          "output_type": "display_data",
          "data": {
            "text/plain": [
              "np.int64(4)"
            ]
          },
          "metadata": {}
        },
        {
          "output_type": "display_data",
          "data": {
            "text/plain": [
              "'{\\n  \"AVALIACAO 1\": 4,\\n  \"AVALIACAO 2\": 4\\n}'"
            ],
            "application/vnd.google.colaboratory.intrinsic+json": {
              "type": "string"
            }
          },
          "metadata": {}
        },
        {
          "output_type": "display_data",
          "data": {
            "text/plain": [
              "\"{caixa_de_som_multifuncional_wireless} {especificacao} {'funcionalidade radio FM e AM'}\""
            ],
            "application/vnd.google.colaboratory.intrinsic+json": {
              "type": "string"
            }
          },
          "metadata": {}
        },
        {
          "output_type": "display_data",
          "data": {
            "text/plain": [
              "np.int64(5)"
            ]
          },
          "metadata": {}
        },
        {
          "output_type": "display_data",
          "data": {
            "text/plain": [
              "np.int64(5)"
            ]
          },
          "metadata": {}
        },
        {
          "output_type": "display_data",
          "data": {
            "text/plain": [
              "np.int64(5)"
            ]
          },
          "metadata": {}
        },
        {
          "output_type": "display_data",
          "data": {
            "text/plain": [
              "np.int64(5)"
            ]
          },
          "metadata": {}
        },
        {
          "output_type": "display_data",
          "data": {
            "text/plain": [
              "'{\\n  \"AVALIACAO 1\": 5,\\n  \"AVALIACAO 2\": 5\\n}'"
            ],
            "application/vnd.google.colaboratory.intrinsic+json": {
              "type": "string"
            }
          },
          "metadata": {}
        },
        {
          "output_type": "display_data",
          "data": {
            "text/plain": [
              "\"{mangueira_de_gas} {especificacao} {'nao_cortar'}\""
            ],
            "application/vnd.google.colaboratory.intrinsic+json": {
              "type": "string"
            }
          },
          "metadata": {}
        },
        {
          "output_type": "display_data",
          "data": {
            "text/plain": [
              "np.int64(5)"
            ]
          },
          "metadata": {}
        },
        {
          "output_type": "display_data",
          "data": {
            "text/plain": [
              "np.int64(5)"
            ]
          },
          "metadata": {}
        },
        {
          "output_type": "display_data",
          "data": {
            "text/plain": [
              "np.int64(5)"
            ]
          },
          "metadata": {}
        },
        {
          "output_type": "display_data",
          "data": {
            "text/plain": [
              "np.int64(5)"
            ]
          },
          "metadata": {}
        },
        {
          "output_type": "display_data",
          "data": {
            "text/plain": [
              "'{\\n  \"AVALIACAO 1\": 5,\\n  \"AVALIACAO 2\": 5\\n}'"
            ],
            "application/vnd.google.colaboratory.intrinsic+json": {
              "type": "string"
            }
          },
          "metadata": {}
        },
        {
          "output_type": "display_data",
          "data": {
            "text/plain": [
              "\"{interruptor_cebolinha_oleo_original_fox_gol_g5_g6} {especificacao} {'original_vw'}\""
            ],
            "application/vnd.google.colaboratory.intrinsic+json": {
              "type": "string"
            }
          },
          "metadata": {}
        },
        {
          "output_type": "display_data",
          "data": {
            "text/plain": [
              "np.int64(5)"
            ]
          },
          "metadata": {}
        },
        {
          "output_type": "display_data",
          "data": {
            "text/plain": [
              "np.int64(5)"
            ]
          },
          "metadata": {}
        },
        {
          "output_type": "display_data",
          "data": {
            "text/plain": [
              "np.int64(5)"
            ]
          },
          "metadata": {}
        },
        {
          "output_type": "display_data",
          "data": {
            "text/plain": [
              "np.int64(5)"
            ]
          },
          "metadata": {}
        },
        {
          "output_type": "display_data",
          "data": {
            "text/plain": [
              "'{\\n  \"AVALIACAO 1\": 5,\\n  \"AVALIACAO 2\": 5\\n}'"
            ],
            "application/vnd.google.colaboratory.intrinsic+json": {
              "type": "string"
            }
          },
          "metadata": {}
        },
        {
          "output_type": "display_data",
          "data": {
            "text/plain": [
              "\"{caixa_de_som_multifuncional_wireless} {especificacao} {'possui_radio_fm_e_am'}\""
            ],
            "application/vnd.google.colaboratory.intrinsic+json": {
              "type": "string"
            }
          },
          "metadata": {}
        },
        {
          "output_type": "display_data",
          "data": {
            "text/plain": [
              "np.int64(5)"
            ]
          },
          "metadata": {}
        },
        {
          "output_type": "display_data",
          "data": {
            "text/plain": [
              "np.int64(5)"
            ]
          },
          "metadata": {}
        },
        {
          "output_type": "display_data",
          "data": {
            "text/plain": [
              "np.int64(5)"
            ]
          },
          "metadata": {}
        },
        {
          "output_type": "display_data",
          "data": {
            "text/plain": [
              "np.int64(5)"
            ]
          },
          "metadata": {}
        },
        {
          "output_type": "display_data",
          "data": {
            "text/plain": [
              "'{\\n  \"AVALIACAO 1\": 5,\\n  \"AVALIACAO 2\": 5\\n}'"
            ],
            "application/vnd.google.colaboratory.intrinsic+json": {
              "type": "string"
            }
          },
          "metadata": {}
        },
        {
          "output_type": "display_data",
          "data": {
            "text/plain": [
              "\"{celular_telefone_idosos_nokia_105} {especificacao} {'sem camera'}\""
            ],
            "application/vnd.google.colaboratory.intrinsic+json": {
              "type": "string"
            }
          },
          "metadata": {}
        },
        {
          "output_type": "display_data",
          "data": {
            "text/plain": [
              "np.int64(5)"
            ]
          },
          "metadata": {}
        },
        {
          "output_type": "display_data",
          "data": {
            "text/plain": [
              "np.int64(5)"
            ]
          },
          "metadata": {}
        },
        {
          "output_type": "display_data",
          "data": {
            "text/plain": [
              "np.int64(5)"
            ]
          },
          "metadata": {}
        },
        {
          "output_type": "display_data",
          "data": {
            "text/plain": [
              "np.int64(5)"
            ]
          },
          "metadata": {}
        },
        {
          "output_type": "display_data",
          "data": {
            "text/plain": [
              "'{\\n  \"AVALIACAO 1\": 5,\\n  \"AVALIACAO 2\": 5\\n}'"
            ],
            "application/vnd.google.colaboratory.intrinsic+json": {
              "type": "string"
            }
          },
          "metadata": {}
        },
        {
          "output_type": "display_data",
          "data": {
            "text/plain": [
              "\"{kit_festa_moana_baby} {especificacao} {'tema carnaval'}\""
            ],
            "application/vnd.google.colaboratory.intrinsic+json": {
              "type": "string"
            }
          },
          "metadata": {}
        },
        {
          "output_type": "display_data",
          "data": {
            "text/plain": [
              "np.int64(5)"
            ]
          },
          "metadata": {}
        },
        {
          "output_type": "display_data",
          "data": {
            "text/plain": [
              "np.int64(5)"
            ]
          },
          "metadata": {}
        },
        {
          "output_type": "display_data",
          "data": {
            "text/plain": [
              "np.int64(5)"
            ]
          },
          "metadata": {}
        },
        {
          "output_type": "display_data",
          "data": {
            "text/plain": [
              "np.int64(5)"
            ]
          },
          "metadata": {}
        },
        {
          "output_type": "display_data",
          "data": {
            "text/plain": [
              "'{\\n  \"AVALIACAO 1\": 5,\\n  \"AVALIACAO 2\": 5\\n}'"
            ],
            "application/vnd.google.colaboratory.intrinsic+json": {
              "type": "string"
            }
          },
          "metadata": {}
        },
        {
          "output_type": "display_data",
          "data": {
            "text/plain": [
              "\"{jogo_junta_completo_captiva_malibu_2_4_16v_ecotec} {especificacao} {'composicao kit completo para injeção indireta'}\""
            ],
            "application/vnd.google.colaboratory.intrinsic+json": {
              "type": "string"
            }
          },
          "metadata": {}
        },
        {
          "output_type": "display_data",
          "data": {
            "text/plain": [
              "np.int64(5)"
            ]
          },
          "metadata": {}
        },
        {
          "output_type": "display_data",
          "data": {
            "text/plain": [
              "np.int64(5)"
            ]
          },
          "metadata": {}
        },
        {
          "output_type": "display_data",
          "data": {
            "text/plain": [
              "np.int64(5)"
            ]
          },
          "metadata": {}
        },
        {
          "output_type": "display_data",
          "data": {
            "text/plain": [
              "np.int64(4)"
            ]
          },
          "metadata": {}
        },
        {
          "output_type": "display_data",
          "data": {
            "text/plain": [
              "'{\\n  \"AVALIACAO 1\": 5,\\n  \"AVALIACAO 2\": 5\\n}'"
            ],
            "application/vnd.google.colaboratory.intrinsic+json": {
              "type": "string"
            }
          },
          "metadata": {}
        },
        {
          "output_type": "display_data",
          "data": {
            "text/plain": [
              "\"{papel_parede_aadesivo_3d_tipo_gesso_luxo} {especificacao} {'quantidade_recomendada 5 unidades'}\""
            ],
            "application/vnd.google.colaboratory.intrinsic+json": {
              "type": "string"
            }
          },
          "metadata": {}
        },
        {
          "output_type": "display_data",
          "data": {
            "text/plain": [
              "np.int64(5)"
            ]
          },
          "metadata": {}
        },
        {
          "output_type": "display_data",
          "data": {
            "text/plain": [
              "np.int64(4)"
            ]
          },
          "metadata": {}
        },
        {
          "output_type": "display_data",
          "data": {
            "text/plain": [
              "np.int64(5)"
            ]
          },
          "metadata": {}
        },
        {
          "output_type": "display_data",
          "data": {
            "text/plain": [
              "np.int64(4)"
            ]
          },
          "metadata": {}
        },
        {
          "output_type": "display_data",
          "data": {
            "text/plain": [
              "'{\\n  \"AVALIACAO 1\": 5,\\n  \"AVALIACAO 2\": 5\\n}'"
            ],
            "application/vnd.google.colaboratory.intrinsic+json": {
              "type": "string"
            }
          },
          "metadata": {}
        },
        {
          "output_type": "display_data",
          "data": {
            "text/plain": [
              "\"{kit_100_anel_arruela_aluminio} {especificacao} {'medida_interna 14mm'}\""
            ],
            "application/vnd.google.colaboratory.intrinsic+json": {
              "type": "string"
            }
          },
          "metadata": {}
        },
        {
          "output_type": "display_data",
          "data": {
            "text/plain": [
              "np.int64(5)"
            ]
          },
          "metadata": {}
        },
        {
          "output_type": "display_data",
          "data": {
            "text/plain": [
              "np.int64(5)"
            ]
          },
          "metadata": {}
        },
        {
          "output_type": "display_data",
          "data": {
            "text/plain": [
              "np.int64(5)"
            ]
          },
          "metadata": {}
        },
        {
          "output_type": "display_data",
          "data": {
            "text/plain": [
              "np.int64(5)"
            ]
          },
          "metadata": {}
        },
        {
          "output_type": "display_data",
          "data": {
            "text/plain": [
              "'{\\n  \"AVALIACAO 1\": 5,\\n  \"AVALIACAO 2\": 5\\n}'"
            ],
            "application/vnd.google.colaboratory.intrinsic+json": {
              "type": "string"
            }
          },
          "metadata": {}
        },
        {
          "output_type": "display_data",
          "data": {
            "text/plain": [
              "\"{radiador_agua_parati_g2_g3_g4} {especificacao} {'modelo_compativel G4'}\""
            ],
            "application/vnd.google.colaboratory.intrinsic+json": {
              "type": "string"
            }
          },
          "metadata": {}
        },
        {
          "output_type": "display_data",
          "data": {
            "text/plain": [
              "np.int64(5)"
            ]
          },
          "metadata": {}
        },
        {
          "output_type": "display_data",
          "data": {
            "text/plain": [
              "np.int64(5)"
            ]
          },
          "metadata": {}
        },
        {
          "output_type": "display_data",
          "data": {
            "text/plain": [
              "np.int64(5)"
            ]
          },
          "metadata": {}
        },
        {
          "output_type": "display_data",
          "data": {
            "text/plain": [
              "np.int64(5)"
            ]
          },
          "metadata": {}
        },
        {
          "output_type": "display_data",
          "data": {
            "text/plain": [
              "'{\\n  \"AVALIACAO 1\": 5,\\n  \"AVALIACAO 2\": 5\\n}'"
            ],
            "application/vnd.google.colaboratory.intrinsic+json": {
              "type": "string"
            }
          },
          "metadata": {}
        },
        {
          "output_type": "display_data",
          "data": {
            "text/plain": [
              "\"{balcao_para_forno_e_micro_ondas_trevalla_1_porta_c_fruteira} {especificacao} {'medidas 37cm x 40cm x 62cm e compatibilidade micro-ondas 34cm x 28cm x 51cm'}\""
            ],
            "application/vnd.google.colaboratory.intrinsic+json": {
              "type": "string"
            }
          },
          "metadata": {}
        },
        {
          "output_type": "display_data",
          "data": {
            "text/plain": [
              "np.int64(5)"
            ]
          },
          "metadata": {}
        },
        {
          "output_type": "display_data",
          "data": {
            "text/plain": [
              "np.int64(4)"
            ]
          },
          "metadata": {}
        },
        {
          "output_type": "display_data",
          "data": {
            "text/plain": [
              "np.int64(4)"
            ]
          },
          "metadata": {}
        },
        {
          "output_type": "display_data",
          "data": {
            "text/plain": [
              "np.int64(4)"
            ]
          },
          "metadata": {}
        },
        {
          "output_type": "display_data",
          "data": {
            "text/plain": [
              "'{\\n  \"AVALIAÇÃO 1 — CLAREZA DA JUSTIFICATIVA\": 4,\\n  \"AVALIAÇÃO 2 — COERÊNCIA DAS NOTAS COM A JUSTIFICATIVA\": 4\\n}'"
            ],
            "application/vnd.google.colaboratory.intrinsic+json": {
              "type": "string"
            }
          },
          "metadata": {}
        },
        {
          "output_type": "display_data",
          "data": {
            "text/plain": [
              "\"{mesa_escrivaninha_compace_kume150} {especificacao} {'estabilidade firme ao escrever e digitar'}\""
            ],
            "application/vnd.google.colaboratory.intrinsic+json": {
              "type": "string"
            }
          },
          "metadata": {}
        },
        {
          "output_type": "display_data",
          "data": {
            "text/plain": [
              "np.int64(5)"
            ]
          },
          "metadata": {}
        },
        {
          "output_type": "display_data",
          "data": {
            "text/plain": [
              "np.int64(4)"
            ]
          },
          "metadata": {}
        },
        {
          "output_type": "display_data",
          "data": {
            "text/plain": [
              "np.int64(4)"
            ]
          },
          "metadata": {}
        },
        {
          "output_type": "display_data",
          "data": {
            "text/plain": [
              "np.int64(3)"
            ]
          },
          "metadata": {}
        },
        {
          "output_type": "display_data",
          "data": {
            "text/plain": [
              "'{\\n  \"AVALIACAO 1\": 4,\\n  \"AVALIACAO 2\": 4\\n}'"
            ],
            "application/vnd.google.colaboratory.intrinsic+json": {
              "type": "string"
            }
          },
          "metadata": {}
        },
        {
          "output_type": "display_data",
          "data": {
            "text/plain": [
              "\"{pneu_moto_maggion_aro_21_viper} {especificacao} {'estado novo'}\""
            ],
            "application/vnd.google.colaboratory.intrinsic+json": {
              "type": "string"
            }
          },
          "metadata": {}
        },
        {
          "output_type": "display_data",
          "data": {
            "text/plain": [
              "np.int64(5)"
            ]
          },
          "metadata": {}
        },
        {
          "output_type": "display_data",
          "data": {
            "text/plain": [
              "np.int64(4)"
            ]
          },
          "metadata": {}
        },
        {
          "output_type": "display_data",
          "data": {
            "text/plain": [
              "np.int64(5)"
            ]
          },
          "metadata": {}
        },
        {
          "output_type": "display_data",
          "data": {
            "text/plain": [
              "np.int64(4)"
            ]
          },
          "metadata": {}
        },
        {
          "output_type": "display_data",
          "data": {
            "text/plain": [
              "'{\\n  \"AVALIACAO 1\": 5,\\n  \"AVALIACAO 2\": 5\\n}'"
            ],
            "application/vnd.google.colaboratory.intrinsic+json": {
              "type": "string"
            }
          },
          "metadata": {}
        },
        {
          "output_type": "display_data",
          "data": {
            "text/plain": [
              "\"{filtro_de_linha_regua_de_6_tomadas_tripolares} {especificacao} {'certificacao Ability'}\""
            ],
            "application/vnd.google.colaboratory.intrinsic+json": {
              "type": "string"
            }
          },
          "metadata": {}
        },
        {
          "output_type": "display_data",
          "data": {
            "text/plain": [
              "np.int64(5)"
            ]
          },
          "metadata": {}
        },
        {
          "output_type": "display_data",
          "data": {
            "text/plain": [
              "np.int64(4)"
            ]
          },
          "metadata": {}
        },
        {
          "output_type": "display_data",
          "data": {
            "text/plain": [
              "np.int64(5)"
            ]
          },
          "metadata": {}
        },
        {
          "output_type": "display_data",
          "data": {
            "text/plain": [
              "np.int64(4)"
            ]
          },
          "metadata": {}
        },
        {
          "output_type": "display_data",
          "data": {
            "text/plain": [
              "'{\\n  \"AVALIACAO 1\": 4,\\n  \"AVALIACAO 2\": 5\\n}'"
            ],
            "application/vnd.google.colaboratory.intrinsic+json": {
              "type": "string"
            }
          },
          "metadata": {}
        },
        {
          "output_type": "display_data",
          "data": {
            "text/plain": [
              "\"{aplique_cabelo_humano_natural_liso_na_tela} {especificacao} {'comprimento 40 a 45cm'}\""
            ],
            "application/vnd.google.colaboratory.intrinsic+json": {
              "type": "string"
            }
          },
          "metadata": {}
        },
        {
          "output_type": "display_data",
          "data": {
            "text/plain": [
              "np.int64(5)"
            ]
          },
          "metadata": {}
        },
        {
          "output_type": "display_data",
          "data": {
            "text/plain": [
              "np.int64(5)"
            ]
          },
          "metadata": {}
        },
        {
          "output_type": "display_data",
          "data": {
            "text/plain": [
              "np.int64(5)"
            ]
          },
          "metadata": {}
        },
        {
          "output_type": "display_data",
          "data": {
            "text/plain": [
              "np.int64(5)"
            ]
          },
          "metadata": {}
        },
        {
          "output_type": "display_data",
          "data": {
            "text/plain": [
              "'{\\n  \"AVALIACAO 1\": 5,\\n  \"AVALIACAO 2\": 5\\n}'"
            ],
            "application/vnd.google.colaboratory.intrinsic+json": {
              "type": "string"
            }
          },
          "metadata": {}
        },
        {
          "output_type": "display_data",
          "data": {
            "text/plain": [
              "\"{violao_infantil_iniciante_acustico} {especificacao} {'tamanho 08x32x89 cm'}\""
            ],
            "application/vnd.google.colaboratory.intrinsic+json": {
              "type": "string"
            }
          },
          "metadata": {}
        },
        {
          "output_type": "display_data",
          "data": {
            "text/plain": [
              "np.int64(4)"
            ]
          },
          "metadata": {}
        },
        {
          "output_type": "display_data",
          "data": {
            "text/plain": [
              "np.int64(4)"
            ]
          },
          "metadata": {}
        },
        {
          "output_type": "display_data",
          "data": {
            "text/plain": [
              "np.int64(4)"
            ]
          },
          "metadata": {}
        },
        {
          "output_type": "display_data",
          "data": {
            "text/plain": [
              "np.int64(3)"
            ]
          },
          "metadata": {}
        },
        {
          "output_type": "display_data",
          "data": {
            "text/plain": [
              "'{\\n  \"AVALIAÇÃO 1\": 4,\\n  \"AVALIAÇÃO 2\": 4\\n}'"
            ],
            "application/vnd.google.colaboratory.intrinsic+json": {
              "type": "string"
            }
          },
          "metadata": {}
        },
        {
          "output_type": "display_data",
          "data": {
            "text/plain": [
              "\"{kit_3_camera_de_seguranca_wifi_ip_smart_lampada_e27_com_ir} {especificacao} {'rastreamento_automatico'}\""
            ],
            "application/vnd.google.colaboratory.intrinsic+json": {
              "type": "string"
            }
          },
          "metadata": {}
        },
        {
          "output_type": "display_data",
          "data": {
            "text/plain": [
              "np.int64(5)"
            ]
          },
          "metadata": {}
        },
        {
          "output_type": "display_data",
          "data": {
            "text/plain": [
              "np.int64(5)"
            ]
          },
          "metadata": {}
        },
        {
          "output_type": "display_data",
          "data": {
            "text/plain": [
              "np.int64(5)"
            ]
          },
          "metadata": {}
        },
        {
          "output_type": "display_data",
          "data": {
            "text/plain": [
              "np.int64(4)"
            ]
          },
          "metadata": {}
        },
        {
          "output_type": "display_data",
          "data": {
            "text/plain": [
              "'{\\n  \"AVALIACAO 1\": 4,\\n  \"AVALIACAO 2\": 4\\n}'"
            ],
            "application/vnd.google.colaboratory.intrinsic+json": {
              "type": "string"
            }
          },
          "metadata": {}
        },
        {
          "output_type": "display_data",
          "data": {
            "text/plain": [
              "\"{filtro_para_piscina_ate_19000l} {especificacao} {'saída 50mm'}\""
            ],
            "application/vnd.google.colaboratory.intrinsic+json": {
              "type": "string"
            }
          },
          "metadata": {}
        },
        {
          "output_type": "display_data",
          "data": {
            "text/plain": [
              "np.int64(5)"
            ]
          },
          "metadata": {}
        },
        {
          "output_type": "display_data",
          "data": {
            "text/plain": [
              "np.int64(5)"
            ]
          },
          "metadata": {}
        },
        {
          "output_type": "display_data",
          "data": {
            "text/plain": [
              "np.int64(5)"
            ]
          },
          "metadata": {}
        },
        {
          "output_type": "display_data",
          "data": {
            "text/plain": [
              "np.int64(5)"
            ]
          },
          "metadata": {}
        },
        {
          "output_type": "display_data",
          "data": {
            "text/plain": [
              "'{\\n  \"AVALIACAO 1\": 5,\\n  \"AVALIACAO 2\": 5\\n}'"
            ],
            "application/vnd.google.colaboratory.intrinsic+json": {
              "type": "string"
            }
          },
          "metadata": {}
        },
        {
          "output_type": "display_data",
          "data": {
            "text/plain": [
              "\"{guarda-sol_gigante_1_8m} {especificacao} {'suporta até 110kg'}\""
            ],
            "application/vnd.google.colaboratory.intrinsic+json": {
              "type": "string"
            }
          },
          "metadata": {}
        },
        {
          "output_type": "display_data",
          "data": {
            "text/plain": [
              "np.int64(5)"
            ]
          },
          "metadata": {}
        },
        {
          "output_type": "display_data",
          "data": {
            "text/plain": [
              "np.int64(5)"
            ]
          },
          "metadata": {}
        },
        {
          "output_type": "display_data",
          "data": {
            "text/plain": [
              "np.int64(5)"
            ]
          },
          "metadata": {}
        },
        {
          "output_type": "display_data",
          "data": {
            "text/plain": [
              "np.int64(5)"
            ]
          },
          "metadata": {}
        },
        {
          "output_type": "display_data",
          "data": {
            "text/plain": [
              "'{\\n  \"AVALIACAO 1\": 5,\\n  \"AVALIACAO 2\": 5\\n}'"
            ],
            "application/vnd.google.colaboratory.intrinsic+json": {
              "type": "string"
            }
          },
          "metadata": {}
        },
        {
          "output_type": "display_data",
          "data": {
            "text/plain": [
              "\"{notebook_asus_e510mabr702} {especificacao} {'processador Intel Celeron Dual Core N4020'}\""
            ],
            "application/vnd.google.colaboratory.intrinsic+json": {
              "type": "string"
            }
          },
          "metadata": {}
        },
        {
          "output_type": "display_data",
          "data": {
            "text/plain": [
              "np.int64(5)"
            ]
          },
          "metadata": {}
        },
        {
          "output_type": "display_data",
          "data": {
            "text/plain": [
              "np.int64(5)"
            ]
          },
          "metadata": {}
        },
        {
          "output_type": "display_data",
          "data": {
            "text/plain": [
              "np.int64(5)"
            ]
          },
          "metadata": {}
        },
        {
          "output_type": "display_data",
          "data": {
            "text/plain": [
              "np.int64(5)"
            ]
          },
          "metadata": {}
        },
        {
          "output_type": "display_data",
          "data": {
            "text/plain": [
              "'{\\n  \"AVALIACAO 1\": 5,\\n  \"AVALIACAO 2\": 5\\n}'"
            ],
            "application/vnd.google.colaboratory.intrinsic+json": {
              "type": "string"
            }
          },
          "metadata": {}
        },
        {
          "output_type": "display_data",
          "data": {
            "text/plain": [
              "\"{plastico_adesivo_rolo_10_metros} {especificacao} {'cor bege puxado para palha'}\""
            ],
            "application/vnd.google.colaboratory.intrinsic+json": {
              "type": "string"
            }
          },
          "metadata": {}
        },
        {
          "output_type": "display_data",
          "data": {
            "text/plain": [
              "np.int64(5)"
            ]
          },
          "metadata": {}
        },
        {
          "output_type": "display_data",
          "data": {
            "text/plain": [
              "np.int64(5)"
            ]
          },
          "metadata": {}
        },
        {
          "output_type": "display_data",
          "data": {
            "text/plain": [
              "np.int64(5)"
            ]
          },
          "metadata": {}
        },
        {
          "output_type": "display_data",
          "data": {
            "text/plain": [
              "np.int64(5)"
            ]
          },
          "metadata": {}
        },
        {
          "output_type": "display_data",
          "data": {
            "text/plain": [
              "'{\\n  \"AVALIACAO 1\": 5,\\n  \"AVALIACAO 2\": 5\\n}'"
            ],
            "application/vnd.google.colaboratory.intrinsic+json": {
              "type": "string"
            }
          },
          "metadata": {}
        },
        {
          "output_type": "display_data",
          "data": {
            "text/plain": [
              "\"{botas_seguancia_calcao_pra_trabalho_epi_c_a} {especificacao} {'tamanho normal'}\""
            ],
            "application/vnd.google.colaboratory.intrinsic+json": {
              "type": "string"
            }
          },
          "metadata": {}
        },
        {
          "output_type": "display_data",
          "data": {
            "text/plain": [
              "np.int64(4)"
            ]
          },
          "metadata": {}
        },
        {
          "output_type": "display_data",
          "data": {
            "text/plain": [
              "np.int64(4)"
            ]
          },
          "metadata": {}
        },
        {
          "output_type": "display_data",
          "data": {
            "text/plain": [
              "np.int64(3)"
            ]
          },
          "metadata": {}
        },
        {
          "output_type": "display_data",
          "data": {
            "text/plain": [
              "np.int64(3)"
            ]
          },
          "metadata": {}
        },
        {
          "output_type": "display_data",
          "data": {
            "text/plain": [
              "'{\\n  \"AVALIACAO 1\": 4,\\n  \"AVALIACAO 2\": 4\\n}'"
            ],
            "application/vnd.google.colaboratory.intrinsic+json": {
              "type": "string"
            }
          },
          "metadata": {}
        },
        {
          "output_type": "display_data",
          "data": {
            "text/plain": [
              "\"{par_farol_milha_vectra_94_95} {especificacao} {'vendido_por_par'}\""
            ],
            "application/vnd.google.colaboratory.intrinsic+json": {
              "type": "string"
            }
          },
          "metadata": {}
        },
        {
          "output_type": "display_data",
          "data": {
            "text/plain": [
              "np.int64(5)"
            ]
          },
          "metadata": {}
        },
        {
          "output_type": "display_data",
          "data": {
            "text/plain": [
              "np.int64(4)"
            ]
          },
          "metadata": {}
        },
        {
          "output_type": "display_data",
          "data": {
            "text/plain": [
              "np.int64(5)"
            ]
          },
          "metadata": {}
        },
        {
          "output_type": "display_data",
          "data": {
            "text/plain": [
              "np.int64(4)"
            ]
          },
          "metadata": {}
        },
        {
          "output_type": "display_data",
          "data": {
            "text/plain": [
              "'{\\n  \"AVALIACAO 1\": 5,\\n  \"AVALIACAO 2\": 5\\n}'"
            ],
            "application/vnd.google.colaboratory.intrinsic+json": {
              "type": "string"
            }
          },
          "metadata": {}
        },
        {
          "output_type": "display_data",
          "data": {
            "text/plain": [
              "\"{cama_box} {especificacao} {'altura 12cm e 22cm'}\""
            ],
            "application/vnd.google.colaboratory.intrinsic+json": {
              "type": "string"
            }
          },
          "metadata": {}
        },
        {
          "output_type": "display_data",
          "data": {
            "text/plain": [
              "np.int64(4)"
            ]
          },
          "metadata": {}
        },
        {
          "output_type": "display_data",
          "data": {
            "text/plain": [
              "np.int64(3)"
            ]
          },
          "metadata": {}
        },
        {
          "output_type": "display_data",
          "data": {
            "text/plain": [
              "np.int64(3)"
            ]
          },
          "metadata": {}
        },
        {
          "output_type": "display_data",
          "data": {
            "text/plain": [
              "np.int64(3)"
            ]
          },
          "metadata": {}
        },
        {
          "output_type": "display_data",
          "data": {
            "text/plain": [
              "'{\\n  \"AVALIACAO 1\": 4,\\n  \"AVALIACAO 2\": 4\\n}'"
            ],
            "application/vnd.google.colaboratory.intrinsic+json": {
              "type": "string"
            }
          },
          "metadata": {}
        },
        {
          "output_type": "display_data",
          "data": {
            "text/plain": [
              "\"{colchao_solteiro_ortopedico_firme_espuma_d33} {especificacao} {'tipo ortopedico'}\""
            ],
            "application/vnd.google.colaboratory.intrinsic+json": {
              "type": "string"
            }
          },
          "metadata": {}
        },
        {
          "output_type": "display_data",
          "data": {
            "text/plain": [
              "np.int64(5)"
            ]
          },
          "metadata": {}
        },
        {
          "output_type": "display_data",
          "data": {
            "text/plain": [
              "np.int64(4)"
            ]
          },
          "metadata": {}
        },
        {
          "output_type": "display_data",
          "data": {
            "text/plain": [
              "np.int64(5)"
            ]
          },
          "metadata": {}
        },
        {
          "output_type": "display_data",
          "data": {
            "text/plain": [
              "np.int64(4)"
            ]
          },
          "metadata": {}
        },
        {
          "output_type": "display_data",
          "data": {
            "text/plain": [
              "'{\\n  \"AVALIAÇÃO 1 — CLAREZA DA JUSTIFICATIVA\": 5,\\n  \"AVALIAÇÃO 2 — COERÊNCIA DAS NOTAS COM A JUSTIFICATIVA\": 5\\n}'"
            ],
            "application/vnd.google.colaboratory.intrinsic+json": {
              "type": "string"
            }
          },
          "metadata": {}
        },
        {
          "output_type": "display_data",
          "data": {
            "text/plain": [
              "\"{retentor_dianteiro_ford_corcel_1} {especificacao} {'compativel com eixo da polia da ventoinha e alternador'}\""
            ],
            "application/vnd.google.colaboratory.intrinsic+json": {
              "type": "string"
            }
          },
          "metadata": {}
        },
        {
          "output_type": "display_data",
          "data": {
            "text/plain": [
              "np.int64(5)"
            ]
          },
          "metadata": {}
        },
        {
          "output_type": "display_data",
          "data": {
            "text/plain": [
              "np.int64(5)"
            ]
          },
          "metadata": {}
        },
        {
          "output_type": "display_data",
          "data": {
            "text/plain": [
              "np.int64(5)"
            ]
          },
          "metadata": {}
        },
        {
          "output_type": "display_data",
          "data": {
            "text/plain": [
              "np.int64(4)"
            ]
          },
          "metadata": {}
        },
        {
          "output_type": "display_data",
          "data": {
            "text/plain": [
              "'{\\n  \"AVALIAÇÃO 1 — CLAREZA DA JUSTIFICATIVA\": 4,\\n  \"AVALIAÇÃO 2 — COERÊNCIA DAS NOTAS COM A JUSTIFICATIVA\": 5\\n}'"
            ],
            "application/vnd.google.colaboratory.intrinsic+json": {
              "type": "string"
            }
          },
          "metadata": {}
        },
        {
          "output_type": "display_data",
          "data": {
            "text/plain": [
              "\"{ventilador_de_teto_ventisol_fenix} {especificacao} {'operacao silenciosa'}\""
            ],
            "application/vnd.google.colaboratory.intrinsic+json": {
              "type": "string"
            }
          },
          "metadata": {}
        },
        {
          "output_type": "display_data",
          "data": {
            "text/plain": [
              "np.int64(5)"
            ]
          },
          "metadata": {}
        },
        {
          "output_type": "display_data",
          "data": {
            "text/plain": [
              "np.int64(5)"
            ]
          },
          "metadata": {}
        },
        {
          "output_type": "display_data",
          "data": {
            "text/plain": [
              "np.int64(5)"
            ]
          },
          "metadata": {}
        },
        {
          "output_type": "display_data",
          "data": {
            "text/plain": [
              "np.int64(4)"
            ]
          },
          "metadata": {}
        },
        {
          "output_type": "display_data",
          "data": {
            "text/plain": [
              "'{\\n  \"AVALIAÇÃO 1 — CLAREZA DA JUSTIFICATIVA\": 5,\\n  \"AVALIAÇÃO 2 — COERÊNCIA DAS NOTAS COM A JUSTIFICATIVA\": 5\\n}'"
            ],
            "application/vnd.google.colaboratory.intrinsic+json": {
              "type": "string"
            }
          },
          "metadata": {}
        },
        {
          "output_type": "display_data",
          "data": {
            "text/plain": [
              "\"{puff_bahamas_decoracao_luxo} {especificacao} {'cor palha clara ou cappuccino'}\""
            ],
            "application/vnd.google.colaboratory.intrinsic+json": {
              "type": "string"
            }
          },
          "metadata": {}
        },
        {
          "output_type": "display_data",
          "data": {
            "text/plain": [
              "np.int64(5)"
            ]
          },
          "metadata": {}
        },
        {
          "output_type": "display_data",
          "data": {
            "text/plain": [
              "np.int64(5)"
            ]
          },
          "metadata": {}
        },
        {
          "output_type": "display_data",
          "data": {
            "text/plain": [
              "np.int64(4)"
            ]
          },
          "metadata": {}
        },
        {
          "output_type": "display_data",
          "data": {
            "text/plain": [
              "np.int64(4)"
            ]
          },
          "metadata": {}
        },
        {
          "output_type": "display_data",
          "data": {
            "text/plain": [
              "'{\\n  \"AVALIACAO 1\": 4,\\n  \"AVALIACAO 2\": 5\\n}'"
            ],
            "application/vnd.google.colaboratory.intrinsic+json": {
              "type": "string"
            }
          },
          "metadata": {}
        },
        {
          "output_type": "display_data",
          "data": {
            "text/plain": [
              "\"{servo_freio_hidrovacuo_santana} {especificacao} {'condicao nova'}\""
            ],
            "application/vnd.google.colaboratory.intrinsic+json": {
              "type": "string"
            }
          },
          "metadata": {}
        },
        {
          "output_type": "display_data",
          "data": {
            "text/plain": [
              "np.int64(5)"
            ]
          },
          "metadata": {}
        },
        {
          "output_type": "display_data",
          "data": {
            "text/plain": [
              "np.int64(4)"
            ]
          },
          "metadata": {}
        },
        {
          "output_type": "display_data",
          "data": {
            "text/plain": [
              "np.int64(5)"
            ]
          },
          "metadata": {}
        },
        {
          "output_type": "display_data",
          "data": {
            "text/plain": [
              "np.int64(4)"
            ]
          },
          "metadata": {}
        },
        {
          "output_type": "display_data",
          "data": {
            "text/plain": [
              "'{\\n  \"AVALIAÇÃO 1 — CLAREZA DA JUSTIFICATIVA\": 5,\\n  \"AVALIAÇÃO 2 — COERÊNCIA DAS NOTAS COM A JUSTIFICATIVA\": 5\\n}'"
            ],
            "application/vnd.google.colaboratory.intrinsic+json": {
              "type": "string"
            }
          },
          "metadata": {}
        },
        {
          "output_type": "display_data",
          "data": {
            "text/plain": [
              "\"{sensor_map_gol_parati_saveiro_polo_mi_036906051} {especificacao} {'estado produto novo'}\""
            ],
            "application/vnd.google.colaboratory.intrinsic+json": {
              "type": "string"
            }
          },
          "metadata": {}
        },
        {
          "output_type": "display_data",
          "data": {
            "text/plain": [
              "np.int64(5)"
            ]
          },
          "metadata": {}
        },
        {
          "output_type": "display_data",
          "data": {
            "text/plain": [
              "np.int64(4)"
            ]
          },
          "metadata": {}
        },
        {
          "output_type": "display_data",
          "data": {
            "text/plain": [
              "np.int64(5)"
            ]
          },
          "metadata": {}
        },
        {
          "output_type": "display_data",
          "data": {
            "text/plain": [
              "np.int64(4)"
            ]
          },
          "metadata": {}
        },
        {
          "output_type": "display_data",
          "data": {
            "text/plain": [
              "'{\\n  \"AVALIACAO 1\": 4,\\n  \"AVALIACAO 2\": 5\\n}'"
            ],
            "application/vnd.google.colaboratory.intrinsic+json": {
              "type": "string"
            }
          },
          "metadata": {}
        },
        {
          "output_type": "display_data",
          "data": {
            "text/plain": [
              "\"{carnauba_blend_black_liquida_vonixx_v-floc_luva_microfibra} {especificacao} {'não permite troca do blend'}\""
            ],
            "application/vnd.google.colaboratory.intrinsic+json": {
              "type": "string"
            }
          },
          "metadata": {}
        },
        {
          "output_type": "display_data",
          "data": {
            "text/plain": [
              "np.int64(4)"
            ]
          },
          "metadata": {}
        },
        {
          "output_type": "display_data",
          "data": {
            "text/plain": [
              "np.int64(4)"
            ]
          },
          "metadata": {}
        },
        {
          "output_type": "display_data",
          "data": {
            "text/plain": [
              "np.int64(3)"
            ]
          },
          "metadata": {}
        },
        {
          "output_type": "display_data",
          "data": {
            "text/plain": [
              "np.int64(3)"
            ]
          },
          "metadata": {}
        },
        {
          "output_type": "display_data",
          "data": {
            "text/plain": [
              "'{\\n  \"AVALIAÇÃO 1\": 4,\\n  \"AVALIAÇÃO 2\": 4\\n}'"
            ],
            "application/vnd.google.colaboratory.intrinsic+json": {
              "type": "string"
            }
          },
          "metadata": {}
        },
        {
          "output_type": "display_data",
          "data": {
            "text/plain": [
              "\"{cabecote_original_gm_completo_fiat_doblo} {especificacao} {'marca GM'}\""
            ],
            "application/vnd.google.colaboratory.intrinsic+json": {
              "type": "string"
            }
          },
          "metadata": {}
        },
        {
          "output_type": "display_data",
          "data": {
            "text/plain": [
              "np.int64(5)"
            ]
          },
          "metadata": {}
        },
        {
          "output_type": "display_data",
          "data": {
            "text/plain": [
              "np.int64(5)"
            ]
          },
          "metadata": {}
        },
        {
          "output_type": "display_data",
          "data": {
            "text/plain": [
              "np.int64(5)"
            ]
          },
          "metadata": {}
        },
        {
          "output_type": "display_data",
          "data": {
            "text/plain": [
              "np.int64(5)"
            ]
          },
          "metadata": {}
        },
        {
          "output_type": "display_data",
          "data": {
            "text/plain": [
              "'{\\n  \"AVALIAÇÃO 1\": 5,\\n  \"AVALIAÇÃO 2\": 5\\n}'"
            ],
            "application/vnd.google.colaboratory.intrinsic+json": {
              "type": "string"
            }
          },
          "metadata": {}
        },
        {
          "output_type": "display_data",
          "data": {
            "text/plain": [
              "\"{farol_ford_fusion_2013_2014_2015} {especificacao} {'estado novo e identico ao original'}\""
            ],
            "application/vnd.google.colaboratory.intrinsic+json": {
              "type": "string"
            }
          },
          "metadata": {}
        },
        {
          "output_type": "display_data",
          "data": {
            "text/plain": [
              "np.int64(5)"
            ]
          },
          "metadata": {}
        },
        {
          "output_type": "display_data",
          "data": {
            "text/plain": [
              "np.int64(5)"
            ]
          },
          "metadata": {}
        },
        {
          "output_type": "display_data",
          "data": {
            "text/plain": [
              "np.int64(5)"
            ]
          },
          "metadata": {}
        },
        {
          "output_type": "display_data",
          "data": {
            "text/plain": [
              "np.int64(5)"
            ]
          },
          "metadata": {}
        },
        {
          "output_type": "display_data",
          "data": {
            "text/plain": [
              "'{\\n  \"AVALIACAO 1\": 5,\\n  \"AVALIACAO 2\": 5\\n}'"
            ],
            "application/vnd.google.colaboratory.intrinsic+json": {
              "type": "string"
            }
          },
          "metadata": {}
        },
        {
          "output_type": "display_data",
          "data": {
            "text/plain": [
              "\"{aparelho} {especificacao} {'funciona_com_spotify_ou_waze_via_bluetooth'}\""
            ],
            "application/vnd.google.colaboratory.intrinsic+json": {
              "type": "string"
            }
          },
          "metadata": {}
        },
        {
          "output_type": "display_data",
          "data": {
            "text/plain": [
              "np.int64(5)"
            ]
          },
          "metadata": {}
        },
        {
          "output_type": "display_data",
          "data": {
            "text/plain": [
              "np.int64(4)"
            ]
          },
          "metadata": {}
        },
        {
          "output_type": "display_data",
          "data": {
            "text/plain": [
              "np.int64(4)"
            ]
          },
          "metadata": {}
        },
        {
          "output_type": "display_data",
          "data": {
            "text/plain": [
              "np.int64(3)"
            ]
          },
          "metadata": {}
        },
        {
          "output_type": "display_data",
          "data": {
            "text/plain": [
              "'{\\n  \"AVALIACAO 1\": 4,\\n  \"AVALIACAO 2\": 5\\n}'"
            ],
            "application/vnd.google.colaboratory.intrinsic+json": {
              "type": "string"
            }
          },
          "metadata": {}
        },
        {
          "output_type": "display_data",
          "data": {
            "text/plain": [
              "\"{bico_injetor_ranger_4_0_v6} {especificacao} {'marca HD'}\""
            ],
            "application/vnd.google.colaboratory.intrinsic+json": {
              "type": "string"
            }
          },
          "metadata": {}
        },
        {
          "output_type": "display_data",
          "data": {
            "text/plain": [
              "np.int64(5)"
            ]
          },
          "metadata": {}
        },
        {
          "output_type": "display_data",
          "data": {
            "text/plain": [
              "np.int64(4)"
            ]
          },
          "metadata": {}
        },
        {
          "output_type": "display_data",
          "data": {
            "text/plain": [
              "np.int64(5)"
            ]
          },
          "metadata": {}
        },
        {
          "output_type": "display_data",
          "data": {
            "text/plain": [
              "np.int64(4)"
            ]
          },
          "metadata": {}
        },
        {
          "output_type": "display_data",
          "data": {
            "text/plain": [
              "'{\\n  \"AVALIACAO 1\": 5,\\n  \"AVALIACAO 2\": 5\\n}'"
            ],
            "application/vnd.google.colaboratory.intrinsic+json": {
              "type": "string"
            }
          },
          "metadata": {}
        },
        {
          "output_type": "display_data",
          "data": {
            "text/plain": [
              "\"{manta_asfaltica_auto_adesiva_terracota} {especificacao} {'quantidade 6 rolos e inclui primer 18lt'}\""
            ],
            "application/vnd.google.colaboratory.intrinsic+json": {
              "type": "string"
            }
          },
          "metadata": {}
        },
        {
          "output_type": "display_data",
          "data": {
            "text/plain": [
              "np.int64(5)"
            ]
          },
          "metadata": {}
        },
        {
          "output_type": "display_data",
          "data": {
            "text/plain": [
              "np.int64(5)"
            ]
          },
          "metadata": {}
        },
        {
          "output_type": "display_data",
          "data": {
            "text/plain": [
              "np.int64(5)"
            ]
          },
          "metadata": {}
        },
        {
          "output_type": "display_data",
          "data": {
            "text/plain": [
              "np.int64(4)"
            ]
          },
          "metadata": {}
        },
        {
          "output_type": "display_data",
          "data": {
            "text/plain": [
              "'{\\n  \"AVALIACAO 1\": 4,\\n  \"AVALIACAO 2\": 5\\n}'"
            ],
            "application/vnd.google.colaboratory.intrinsic+json": {
              "type": "string"
            }
          },
          "metadata": {}
        },
        {
          "output_type": "display_data",
          "data": {
            "text/plain": [
              "\"{quadro_para_sala_tela_canvas_moldura_cores_abstrata} {indisponivel} {'caixa de vidro no tamanho 60x90'}\""
            ],
            "application/vnd.google.colaboratory.intrinsic+json": {
              "type": "string"
            }
          },
          "metadata": {}
        },
        {
          "output_type": "display_data",
          "data": {
            "text/plain": [
              "np.int64(5)"
            ]
          },
          "metadata": {}
        },
        {
          "output_type": "display_data",
          "data": {
            "text/plain": [
              "np.int64(5)"
            ]
          },
          "metadata": {}
        },
        {
          "output_type": "display_data",
          "data": {
            "text/plain": [
              "np.int64(5)"
            ]
          },
          "metadata": {}
        },
        {
          "output_type": "display_data",
          "data": {
            "text/plain": [
              "np.int64(5)"
            ]
          },
          "metadata": {}
        },
        {
          "output_type": "display_data",
          "data": {
            "text/plain": [
              "'{\\n  \"AVALIACAO 1\": 5,\\n  \"AVALIACAO 2\": 5\\n}'"
            ],
            "application/vnd.google.colaboratory.intrinsic+json": {
              "type": "string"
            }
          },
          "metadata": {}
        },
        {
          "output_type": "display_data",
          "data": {
            "text/plain": [
              "'{parafusos_do_disco_de_freio_dianteiro_para_nxr_125_150_canela} {disponivel} {}'"
            ],
            "application/vnd.google.colaboratory.intrinsic+json": {
              "type": "string"
            }
          },
          "metadata": {}
        },
        {
          "output_type": "display_data",
          "data": {
            "text/plain": [
              "np.int64(5)"
            ]
          },
          "metadata": {}
        },
        {
          "output_type": "display_data",
          "data": {
            "text/plain": [
              "np.int64(5)"
            ]
          },
          "metadata": {}
        },
        {
          "output_type": "display_data",
          "data": {
            "text/plain": [
              "np.int64(3)"
            ]
          },
          "metadata": {}
        },
        {
          "output_type": "display_data",
          "data": {
            "text/plain": [
              "np.int64(4)"
            ]
          },
          "metadata": {}
        },
        {
          "output_type": "display_data",
          "data": {
            "text/plain": [
              "'{\\n  \"AVALIACAO 1\": 4,\\n  \"AVALIACAO 2\": 4\\n}'"
            ],
            "application/vnd.google.colaboratory.intrinsic+json": {
              "type": "string"
            }
          },
          "metadata": {}
        },
        {
          "output_type": "display_data",
          "data": {
            "text/plain": [
              "\"{par_palheta_limpador_parabrisa_bosch_aerotwin} {indisponivel} {'palheta traseira'}\""
            ],
            "application/vnd.google.colaboratory.intrinsic+json": {
              "type": "string"
            }
          },
          "metadata": {}
        },
        {
          "output_type": "display_data",
          "data": {
            "text/plain": [
              "np.int64(5)"
            ]
          },
          "metadata": {}
        },
        {
          "output_type": "display_data",
          "data": {
            "text/plain": [
              "np.int64(4)"
            ]
          },
          "metadata": {}
        },
        {
          "output_type": "display_data",
          "data": {
            "text/plain": [
              "np.int64(4)"
            ]
          },
          "metadata": {}
        },
        {
          "output_type": "display_data",
          "data": {
            "text/plain": [
              "np.int64(4)"
            ]
          },
          "metadata": {}
        },
        {
          "output_type": "display_data",
          "data": {
            "text/plain": [
              "'{\\n  \"AVALIACAO 1\": 4,\\n  \"AVALIACAO 2\": 3\\n}'"
            ],
            "application/vnd.google.colaboratory.intrinsic+json": {
              "type": "string"
            }
          },
          "metadata": {}
        },
        {
          "output_type": "display_data",
          "data": {
            "text/plain": [
              "\"{wind_banner_dupla_face_3mts_completo} {indisponivel} {'base branca'}\""
            ],
            "application/vnd.google.colaboratory.intrinsic+json": {
              "type": "string"
            }
          },
          "metadata": {}
        },
        {
          "output_type": "display_data",
          "data": {
            "text/plain": [
              "np.int64(5)"
            ]
          },
          "metadata": {}
        },
        {
          "output_type": "display_data",
          "data": {
            "text/plain": [
              "np.int64(4)"
            ]
          },
          "metadata": {}
        },
        {
          "output_type": "display_data",
          "data": {
            "text/plain": [
              "np.int64(4)"
            ]
          },
          "metadata": {}
        },
        {
          "output_type": "display_data",
          "data": {
            "text/plain": [
              "np.int64(3)"
            ]
          },
          "metadata": {}
        },
        {
          "output_type": "display_data",
          "data": {
            "text/plain": [
              "'{\\n  \"AVALIACAO 1\": 4,\\n  \"AVALIACAO 2\": 4\\n}'"
            ],
            "application/vnd.google.colaboratory.intrinsic+json": {
              "type": "string"
            }
          },
          "metadata": {}
        },
        {
          "output_type": "display_data",
          "data": {
            "text/plain": [
              "\"{4_pcs_grampo_de_fixacao_tipo_c_sargento} {indisponivel} {'polegada solicitada'}\""
            ],
            "application/vnd.google.colaboratory.intrinsic+json": {
              "type": "string"
            }
          },
          "metadata": {}
        },
        {
          "output_type": "display_data",
          "data": {
            "text/plain": [
              "np.int64(4)"
            ]
          },
          "metadata": {}
        },
        {
          "output_type": "display_data",
          "data": {
            "text/plain": [
              "np.int64(3)"
            ]
          },
          "metadata": {}
        },
        {
          "output_type": "display_data",
          "data": {
            "text/plain": [
              "np.int64(3)"
            ]
          },
          "metadata": {}
        },
        {
          "output_type": "display_data",
          "data": {
            "text/plain": [
              "np.int64(3)"
            ]
          },
          "metadata": {}
        },
        {
          "output_type": "display_data",
          "data": {
            "text/plain": [
              "'{\\n  \"AVALIACAO 1\": 4,\\n  \"AVALIACAO 2\": 4\\n}'"
            ],
            "application/vnd.google.colaboratory.intrinsic+json": {
              "type": "string"
            }
          },
          "metadata": {}
        },
        {
          "output_type": "display_data",
          "data": {
            "text/plain": [
              "\"{jogo_raio_titan_fan_125_150_start_160_tambor_inox} {disponivel} {'duas rodas'}\""
            ],
            "application/vnd.google.colaboratory.intrinsic+json": {
              "type": "string"
            }
          },
          "metadata": {}
        },
        {
          "output_type": "display_data",
          "data": {
            "text/plain": [
              "np.int64(5)"
            ]
          },
          "metadata": {}
        },
        {
          "output_type": "display_data",
          "data": {
            "text/plain": [
              "np.int64(5)"
            ]
          },
          "metadata": {}
        },
        {
          "output_type": "display_data",
          "data": {
            "text/plain": [
              "np.int64(5)"
            ]
          },
          "metadata": {}
        },
        {
          "output_type": "display_data",
          "data": {
            "text/plain": [
              "np.int64(5)"
            ]
          },
          "metadata": {}
        },
        {
          "output_type": "display_data",
          "data": {
            "text/plain": [
              "'{\\n  \"AVALIACAO 1\": 5,\\n  \"AVALIACAO 2\": 5\\n}'"
            ],
            "application/vnd.google.colaboratory.intrinsic+json": {
              "type": "string"
            }
          },
          "metadata": {}
        },
        {
          "output_type": "display_data",
          "data": {
            "text/plain": [
              "\"{torneira_de_banheiro_lavabo_luxo_metal_preta} {disponivel} {'quantidade 4 unidades'}\""
            ],
            "application/vnd.google.colaboratory.intrinsic+json": {
              "type": "string"
            }
          },
          "metadata": {}
        },
        {
          "output_type": "display_data",
          "data": {
            "text/plain": [
              "np.int64(5)"
            ]
          },
          "metadata": {}
        },
        {
          "output_type": "display_data",
          "data": {
            "text/plain": [
              "np.int64(5)"
            ]
          },
          "metadata": {}
        },
        {
          "output_type": "display_data",
          "data": {
            "text/plain": [
              "np.int64(5)"
            ]
          },
          "metadata": {}
        },
        {
          "output_type": "display_data",
          "data": {
            "text/plain": [
              "np.int64(5)"
            ]
          },
          "metadata": {}
        },
        {
          "output_type": "display_data",
          "data": {
            "text/plain": [
              "'{\\n  \"AVALIACAO 1\": 5,\\n  \"AVALIACAO 2\": 5\\n}'"
            ],
            "application/vnd.google.colaboratory.intrinsic+json": {
              "type": "string"
            }
          },
          "metadata": {}
        },
        {
          "output_type": "display_data",
          "data": {
            "text/plain": [
              "\"{produto} {indisponivel} {'cor verde em quantidade de 10 unidades'}\""
            ],
            "application/vnd.google.colaboratory.intrinsic+json": {
              "type": "string"
            }
          },
          "metadata": {}
        },
        {
          "output_type": "display_data",
          "data": {
            "text/plain": [
              "np.int64(5)"
            ]
          },
          "metadata": {}
        },
        {
          "output_type": "display_data",
          "data": {
            "text/plain": [
              "np.int64(5)"
            ]
          },
          "metadata": {}
        },
        {
          "output_type": "display_data",
          "data": {
            "text/plain": [
              "np.int64(5)"
            ]
          },
          "metadata": {}
        },
        {
          "output_type": "display_data",
          "data": {
            "text/plain": [
              "np.int64(4)"
            ]
          },
          "metadata": {}
        },
        {
          "output_type": "display_data",
          "data": {
            "text/plain": [
              "'{\\n  \"AVALIACAO 1\": 4,\\n  \"AVALIACAO 2\": 5\\n}'"
            ],
            "application/vnd.google.colaboratory.intrinsic+json": {
              "type": "string"
            }
          },
          "metadata": {}
        },
        {
          "output_type": "display_data",
          "data": {
            "text/plain": [
              "\"{lona_separada_para_tenda_gazebo} {disponivel} {'tenda_gazebo_3x3_semi_profissional'}\""
            ],
            "application/vnd.google.colaboratory.intrinsic+json": {
              "type": "string"
            }
          },
          "metadata": {}
        },
        {
          "output_type": "display_data",
          "data": {
            "text/plain": [
              "np.int64(4)"
            ]
          },
          "metadata": {}
        },
        {
          "output_type": "display_data",
          "data": {
            "text/plain": [
              "np.int64(5)"
            ]
          },
          "metadata": {}
        },
        {
          "output_type": "display_data",
          "data": {
            "text/plain": [
              "np.int64(4)"
            ]
          },
          "metadata": {}
        },
        {
          "output_type": "display_data",
          "data": {
            "text/plain": [
              "np.int64(4)"
            ]
          },
          "metadata": {}
        },
        {
          "output_type": "display_data",
          "data": {
            "text/plain": [
              "'{\\n  \"AVALIAÇÃO 1\": 4,\\n  \"AVALIAÇÃO 2\": 5\\n}'"
            ],
            "application/vnd.google.colaboratory.intrinsic+json": {
              "type": "string"
            }
          },
          "metadata": {}
        },
        {
          "output_type": "display_data",
          "data": {
            "text/plain": [
              "\"{roçadeira_4x1_profissional_gasolina_nakasaki_japan_60cc_3hp} {disponivel} {'tubo inteiro e cardan'}\""
            ],
            "application/vnd.google.colaboratory.intrinsic+json": {
              "type": "string"
            }
          },
          "metadata": {}
        },
        {
          "output_type": "display_data",
          "data": {
            "text/plain": [
              "np.int64(5)"
            ]
          },
          "metadata": {}
        },
        {
          "output_type": "display_data",
          "data": {
            "text/plain": [
              "np.int64(5)"
            ]
          },
          "metadata": {}
        },
        {
          "output_type": "display_data",
          "data": {
            "text/plain": [
              "np.int64(5)"
            ]
          },
          "metadata": {}
        },
        {
          "output_type": "display_data",
          "data": {
            "text/plain": [
              "np.int64(5)"
            ]
          },
          "metadata": {}
        },
        {
          "output_type": "display_data",
          "data": {
            "text/plain": [
              "'{\\n  \"AVALIACAO 1\": 5,\\n  \"AVALIACAO 2\": 5\\n}'"
            ],
            "application/vnd.google.colaboratory.intrinsic+json": {
              "type": "string"
            }
          },
          "metadata": {}
        },
        {
          "output_type": "display_data",
          "data": {
            "text/plain": [
              "\"{apoio_de_braço_encosto_onix_e_prisma} {indisponivel} {'modelo 2021'}\""
            ],
            "application/vnd.google.colaboratory.intrinsic+json": {
              "type": "string"
            }
          },
          "metadata": {}
        },
        {
          "output_type": "display_data",
          "data": {
            "text/plain": [
              "np.int64(5)"
            ]
          },
          "metadata": {}
        },
        {
          "output_type": "display_data",
          "data": {
            "text/plain": [
              "np.int64(4)"
            ]
          },
          "metadata": {}
        },
        {
          "output_type": "display_data",
          "data": {
            "text/plain": [
              "np.int64(4)"
            ]
          },
          "metadata": {}
        },
        {
          "output_type": "display_data",
          "data": {
            "text/plain": [
              "np.int64(3)"
            ]
          },
          "metadata": {}
        },
        {
          "output_type": "display_data",
          "data": {
            "text/plain": [
              "'{\\n  \"AVALIAÇÃO 1 — CLAREZA DA JUSTIFICATIVA\": 5,\\n  \"AVALIAÇÃO 2 — COERÊNCIA DAS NOTAS COM A JUSTIFICATIVA\": 4\\n}'"
            ],
            "application/vnd.google.colaboratory.intrinsic+json": {
              "type": "string"
            }
          },
          "metadata": {}
        },
        {
          "output_type": "display_data",
          "data": {
            "text/plain": [
              "\"{jogo_tapetes_mitsubishi_asx_2013_2014_borracha_05_pcs} {disponivel} {'pronta entrega'}\""
            ],
            "application/vnd.google.colaboratory.intrinsic+json": {
              "type": "string"
            }
          },
          "metadata": {}
        },
        {
          "output_type": "display_data",
          "data": {
            "text/plain": [
              "np.int64(5)"
            ]
          },
          "metadata": {}
        },
        {
          "output_type": "display_data",
          "data": {
            "text/plain": [
              "np.int64(5)"
            ]
          },
          "metadata": {}
        },
        {
          "output_type": "display_data",
          "data": {
            "text/plain": [
              "np.int64(5)"
            ]
          },
          "metadata": {}
        },
        {
          "output_type": "display_data",
          "data": {
            "text/plain": [
              "np.int64(5)"
            ]
          },
          "metadata": {}
        },
        {
          "output_type": "display_data",
          "data": {
            "text/plain": [
              "'{\\n  \"AVALIACAO 1\": 5,\\n  \"AVALIACAO 2\": 5\\n}'"
            ],
            "application/vnd.google.colaboratory.intrinsic+json": {
              "type": "string"
            }
          },
          "metadata": {}
        },
        {
          "output_type": "display_data",
          "data": {
            "text/plain": [
              "\"{kit_quadros_decorativos_sala_arvore_da_vida_entardecer_sol} {disponivel} {'tamanhos maiores'}\""
            ],
            "application/vnd.google.colaboratory.intrinsic+json": {
              "type": "string"
            }
          },
          "metadata": {}
        },
        {
          "output_type": "display_data",
          "data": {
            "text/plain": [
              "np.int64(5)"
            ]
          },
          "metadata": {}
        },
        {
          "output_type": "display_data",
          "data": {
            "text/plain": [
              "np.int64(5)"
            ]
          },
          "metadata": {}
        },
        {
          "output_type": "display_data",
          "data": {
            "text/plain": [
              "np.int64(5)"
            ]
          },
          "metadata": {}
        },
        {
          "output_type": "display_data",
          "data": {
            "text/plain": [
              "np.int64(4)"
            ]
          },
          "metadata": {}
        },
        {
          "output_type": "display_data",
          "data": {
            "text/plain": [
              "'{\\n  \"AVALIAÇÃO 1 — CLAREZA DA JUSTIFICATIVA\": 5,\\n  \"AVALIAÇÃO 2 — COERÊNCIA DAS NOTAS COM A JUSTIFICATIVA\": 4\\n}'"
            ],
            "application/vnd.google.colaboratory.intrinsic+json": {
              "type": "string"
            }
          },
          "metadata": {}
        },
        {
          "output_type": "display_data",
          "data": {
            "text/plain": [
              "\"{colchao_solteiro_espuma_d28_a_vacuo_ortopedica} {indisponivel} {'tamanho 90x190'}\""
            ],
            "application/vnd.google.colaboratory.intrinsic+json": {
              "type": "string"
            }
          },
          "metadata": {}
        },
        {
          "output_type": "display_data",
          "data": {
            "text/plain": [
              "np.int64(5)"
            ]
          },
          "metadata": {}
        },
        {
          "output_type": "display_data",
          "data": {
            "text/plain": [
              "np.int64(4)"
            ]
          },
          "metadata": {}
        },
        {
          "output_type": "display_data",
          "data": {
            "text/plain": [
              "np.int64(4)"
            ]
          },
          "metadata": {}
        },
        {
          "output_type": "display_data",
          "data": {
            "text/plain": [
              "np.int64(3)"
            ]
          },
          "metadata": {}
        },
        {
          "output_type": "display_data",
          "data": {
            "text/plain": [
              "'{\\n  \"AVALIACAO 1\": 4,\\n  \"AVALIACAO 2\": 4\\n}'"
            ],
            "application/vnd.google.colaboratory.intrinsic+json": {
              "type": "string"
            }
          },
          "metadata": {}
        },
        {
          "output_type": "display_data",
          "data": {
            "text/plain": [
              "'{kit_relacao_coroa_pinhao_e_corrente_cb_300_kmc_pro} {indisponivel} {no_momento}'"
            ],
            "application/vnd.google.colaboratory.intrinsic+json": {
              "type": "string"
            }
          },
          "metadata": {}
        },
        {
          "output_type": "display_data",
          "data": {
            "text/plain": [
              "np.int64(5)"
            ]
          },
          "metadata": {}
        },
        {
          "output_type": "display_data",
          "data": {
            "text/plain": [
              "np.int64(5)"
            ]
          },
          "metadata": {}
        },
        {
          "output_type": "display_data",
          "data": {
            "text/plain": [
              "np.int64(5)"
            ]
          },
          "metadata": {}
        },
        {
          "output_type": "display_data",
          "data": {
            "text/plain": [
              "np.int64(5)"
            ]
          },
          "metadata": {}
        },
        {
          "output_type": "display_data",
          "data": {
            "text/plain": [
              "'{\\n  \"AVALIACAO 1\": 5,\\n  \"AVALIACAO 2\": 5\\n}'"
            ],
            "application/vnd.google.colaboratory.intrinsic+json": {
              "type": "string"
            }
          },
          "metadata": {}
        },
        {
          "output_type": "display_data",
          "data": {
            "text/plain": [
              "\"{protecao_quina_4_portas_borracha_preto_corolla_2020_2021} {indisponivel} {'borracha da porta do carona'}\""
            ],
            "application/vnd.google.colaboratory.intrinsic+json": {
              "type": "string"
            }
          },
          "metadata": {}
        },
        {
          "output_type": "display_data",
          "data": {
            "text/plain": [
              "np.int64(5)"
            ]
          },
          "metadata": {}
        },
        {
          "output_type": "display_data",
          "data": {
            "text/plain": [
              "np.int64(5)"
            ]
          },
          "metadata": {}
        },
        {
          "output_type": "display_data",
          "data": {
            "text/plain": [
              "np.int64(5)"
            ]
          },
          "metadata": {}
        },
        {
          "output_type": "display_data",
          "data": {
            "text/plain": [
              "np.int64(5)"
            ]
          },
          "metadata": {}
        },
        {
          "output_type": "display_data",
          "data": {
            "text/plain": [
              "'{\\n  \"AVALIACAO 1\": 5,\\n  \"AVALIACAO 2\": 5\\n}'"
            ],
            "application/vnd.google.colaboratory.intrinsic+json": {
              "type": "string"
            }
          },
          "metadata": {}
        },
        {
          "output_type": "display_data",
          "data": {
            "text/plain": [
              "'{kit_par_2_amortecedor_dianteiro_original_nakata} {indisponivel} {no_momento}'"
            ],
            "application/vnd.google.colaboratory.intrinsic+json": {
              "type": "string"
            }
          },
          "metadata": {}
        },
        {
          "output_type": "display_data",
          "data": {
            "text/plain": [
              "np.int64(5)"
            ]
          },
          "metadata": {}
        },
        {
          "output_type": "display_data",
          "data": {
            "text/plain": [
              "np.int64(5)"
            ]
          },
          "metadata": {}
        },
        {
          "output_type": "display_data",
          "data": {
            "text/plain": [
              "np.int64(5)"
            ]
          },
          "metadata": {}
        },
        {
          "output_type": "display_data",
          "data": {
            "text/plain": [
              "np.int64(5)"
            ]
          },
          "metadata": {}
        },
        {
          "output_type": "display_data",
          "data": {
            "text/plain": [
              "'{\\n  \"AVALIACAO 1\": 5,\\n  \"AVALIACAO 2\": 5\\n}'"
            ],
            "application/vnd.google.colaboratory.intrinsic+json": {
              "type": "string"
            }
          },
          "metadata": {}
        },
        {
          "output_type": "display_data",
          "data": {
            "text/plain": [
              "\"{par_lente_farol_hb20_hyundai} {indisponivel} {'modelo 2023'}\""
            ],
            "application/vnd.google.colaboratory.intrinsic+json": {
              "type": "string"
            }
          },
          "metadata": {}
        },
        {
          "output_type": "display_data",
          "data": {
            "text/plain": [
              "np.int64(5)"
            ]
          },
          "metadata": {}
        },
        {
          "output_type": "display_data",
          "data": {
            "text/plain": [
              "np.int64(5)"
            ]
          },
          "metadata": {}
        },
        {
          "output_type": "display_data",
          "data": {
            "text/plain": [
              "np.int64(5)"
            ]
          },
          "metadata": {}
        },
        {
          "output_type": "display_data",
          "data": {
            "text/plain": [
              "np.int64(5)"
            ]
          },
          "metadata": {}
        },
        {
          "output_type": "display_data",
          "data": {
            "text/plain": [
              "'{\\n  \"AVALIAÇÃO 1\": 5,\\n  \"AVALIAÇÃO 2\": 5\\n}'"
            ],
            "application/vnd.google.colaboratory.intrinsic+json": {
              "type": "string"
            }
          },
          "metadata": {}
        },
        {
          "output_type": "display_data",
          "data": {
            "text/plain": [
              "'{coxin_de_cambio_para_c4_1_6_hatch_competition_13_14} {disponivel} {}'"
            ],
            "application/vnd.google.colaboratory.intrinsic+json": {
              "type": "string"
            }
          },
          "metadata": {}
        },
        {
          "output_type": "display_data",
          "data": {
            "text/plain": [
              "np.int64(5)"
            ]
          },
          "metadata": {}
        },
        {
          "output_type": "display_data",
          "data": {
            "text/plain": [
              "np.int64(5)"
            ]
          },
          "metadata": {}
        },
        {
          "output_type": "display_data",
          "data": {
            "text/plain": [
              "np.int64(3)"
            ]
          },
          "metadata": {}
        },
        {
          "output_type": "display_data",
          "data": {
            "text/plain": [
              "np.int64(4)"
            ]
          },
          "metadata": {}
        },
        {
          "output_type": "display_data",
          "data": {
            "text/plain": [
              "'{\\n  \"AVALIACAO 1\": 4,\\n  \"AVALIACAO 2\": 5\\n}'"
            ],
            "application/vnd.google.colaboratory.intrinsic+json": {
              "type": "string"
            }
          },
          "metadata": {}
        },
        {
          "output_type": "display_data",
          "data": {
            "text/plain": [
              "\"{caixa_cambio_transmissao_bs09_towner_jr_effa_hafei} {indisponivel} {'modelo effa n900'}\""
            ],
            "application/vnd.google.colaboratory.intrinsic+json": {
              "type": "string"
            }
          },
          "metadata": {}
        },
        {
          "output_type": "display_data",
          "data": {
            "text/plain": [
              "np.int64(5)"
            ]
          },
          "metadata": {}
        },
        {
          "output_type": "display_data",
          "data": {
            "text/plain": [
              "np.int64(5)"
            ]
          },
          "metadata": {}
        },
        {
          "output_type": "display_data",
          "data": {
            "text/plain": [
              "np.int64(5)"
            ]
          },
          "metadata": {}
        },
        {
          "output_type": "display_data",
          "data": {
            "text/plain": [
              "np.int64(5)"
            ]
          },
          "metadata": {}
        },
        {
          "output_type": "display_data",
          "data": {
            "text/plain": [
              "'{\\n  \"AVALIACAO 1\": 5,\\n  \"AVALIACAO 2\": 5\\n}'"
            ],
            "application/vnd.google.colaboratory.intrinsic+json": {
              "type": "string"
            }
          },
          "metadata": {}
        },
        {
          "output_type": "display_data",
          "data": {
            "text/plain": [
              "\"{gabinete_para_banheiro_com_rodizios_80cm_2_gavetas} {indisponivel} {'cor preta'}\""
            ],
            "application/vnd.google.colaboratory.intrinsic+json": {
              "type": "string"
            }
          },
          "metadata": {}
        },
        {
          "output_type": "display_data",
          "data": {
            "text/plain": [
              "np.int64(4)"
            ]
          },
          "metadata": {}
        },
        {
          "output_type": "display_data",
          "data": {
            "text/plain": [
              "np.int64(3)"
            ]
          },
          "metadata": {}
        },
        {
          "output_type": "display_data",
          "data": {
            "text/plain": [
              "np.int64(3)"
            ]
          },
          "metadata": {}
        },
        {
          "output_type": "display_data",
          "data": {
            "text/plain": [
              "np.int64(2)"
            ]
          },
          "metadata": {}
        },
        {
          "output_type": "display_data",
          "data": {
            "text/plain": [
              "'{\\n  \"AVALIACAO 1\": 4,\\n  \"AVALIACAO 2\": 5\\n}'"
            ],
            "application/vnd.google.colaboratory.intrinsic+json": {
              "type": "string"
            }
          },
          "metadata": {}
        },
        {
          "output_type": "display_data",
          "data": {
            "text/plain": [
              "\"{manta_asfaltica_auto_adesiva_aluminizada_90cm_x_10m} {disponivel} {'entrega pronta'}\""
            ],
            "application/vnd.google.colaboratory.intrinsic+json": {
              "type": "string"
            }
          },
          "metadata": {}
        },
        {
          "output_type": "display_data",
          "data": {
            "text/plain": [
              "np.int64(5)"
            ]
          },
          "metadata": {}
        },
        {
          "output_type": "display_data",
          "data": {
            "text/plain": [
              "np.int64(5)"
            ]
          },
          "metadata": {}
        },
        {
          "output_type": "display_data",
          "data": {
            "text/plain": [
              "np.int64(5)"
            ]
          },
          "metadata": {}
        },
        {
          "output_type": "display_data",
          "data": {
            "text/plain": [
              "np.int64(5)"
            ]
          },
          "metadata": {}
        },
        {
          "output_type": "display_data",
          "data": {
            "text/plain": [
              "'{\\n  \"AVALIACAO 1\": 5,\\n  \"AVALIACAO 2\": 5\\n}'"
            ],
            "application/vnd.google.colaboratory.intrinsic+json": {
              "type": "string"
            }
          },
          "metadata": {}
        },
        {
          "output_type": "display_data",
          "data": {
            "text/plain": [
              "\"{volante_multimidia_interface_jfa_vw_gol_golf_g2_comando_som} {indisponivel} {'comandos sem volante'}\""
            ],
            "application/vnd.google.colaboratory.intrinsic+json": {
              "type": "string"
            }
          },
          "metadata": {}
        },
        {
          "output_type": "display_data",
          "data": {
            "text/plain": [
              "np.int64(5)"
            ]
          },
          "metadata": {}
        },
        {
          "output_type": "display_data",
          "data": {
            "text/plain": [
              "np.int64(4)"
            ]
          },
          "metadata": {}
        },
        {
          "output_type": "display_data",
          "data": {
            "text/plain": [
              "np.int64(5)"
            ]
          },
          "metadata": {}
        },
        {
          "output_type": "display_data",
          "data": {
            "text/plain": [
              "np.int64(4)"
            ]
          },
          "metadata": {}
        },
        {
          "output_type": "display_data",
          "data": {
            "text/plain": [
              "'{\\n  \"AVALIACAO 1\": 5,\\n  \"AVALIACAO 2\": 4\\n}'"
            ],
            "application/vnd.google.colaboratory.intrinsic+json": {
              "type": "string"
            }
          },
          "metadata": {}
        },
        {
          "output_type": "display_data",
          "data": {
            "text/plain": [
              "'{kit_correia_dentada_para_ford_focus} {indisponivel} {}'"
            ],
            "application/vnd.google.colaboratory.intrinsic+json": {
              "type": "string"
            }
          },
          "metadata": {}
        },
        {
          "output_type": "display_data",
          "data": {
            "text/plain": [
              "np.int64(5)"
            ]
          },
          "metadata": {}
        },
        {
          "output_type": "display_data",
          "data": {
            "text/plain": [
              "np.int64(5)"
            ]
          },
          "metadata": {}
        },
        {
          "output_type": "display_data",
          "data": {
            "text/plain": [
              "np.int64(4)"
            ]
          },
          "metadata": {}
        },
        {
          "output_type": "display_data",
          "data": {
            "text/plain": [
              "np.int64(4)"
            ]
          },
          "metadata": {}
        },
        {
          "output_type": "display_data",
          "data": {
            "text/plain": [
              "'{\\n  \"AVALIACAO 1\": 4,\\n  \"AVALIACAO 2\": 5\\n}'"
            ],
            "application/vnd.google.colaboratory.intrinsic+json": {
              "type": "string"
            }
          },
          "metadata": {}
        },
        {
          "output_type": "display_data",
          "data": {
            "text/plain": [
              "'{macaneta_interna_lado_motorista} {disponivel} {https://produto.mercadolivre.com.br/MLB-823775496-macaneta-interna-cinza-suporte-gol-parati-g2-g3-2-portas-esq-}'"
            ],
            "application/vnd.google.colaboratory.intrinsic+json": {
              "type": "string"
            }
          },
          "metadata": {}
        },
        {
          "output_type": "display_data",
          "data": {
            "text/plain": [
              "np.int64(5)"
            ]
          },
          "metadata": {}
        },
        {
          "output_type": "display_data",
          "data": {
            "text/plain": [
              "np.int64(5)"
            ]
          },
          "metadata": {}
        },
        {
          "output_type": "display_data",
          "data": {
            "text/plain": [
              "np.int64(5)"
            ]
          },
          "metadata": {}
        },
        {
          "output_type": "display_data",
          "data": {
            "text/plain": [
              "np.int64(4)"
            ]
          },
          "metadata": {}
        },
        {
          "output_type": "display_data",
          "data": {
            "text/plain": [
              "'{\\n  \"AVALIACAO 1\": 5,\\n  \"AVALIACAO 2\": 4\\n}'"
            ],
            "application/vnd.google.colaboratory.intrinsic+json": {
              "type": "string"
            }
          },
          "metadata": {}
        },
        {
          "output_type": "display_data",
          "data": {
            "text/plain": [
              "\"{armario_de_cozinha_completa_branco_promocao_juliete} {indisponivel} {'cor preta'}\""
            ],
            "application/vnd.google.colaboratory.intrinsic+json": {
              "type": "string"
            }
          },
          "metadata": {}
        },
        {
          "output_type": "display_data",
          "data": {
            "text/plain": [
              "np.int64(5)"
            ]
          },
          "metadata": {}
        },
        {
          "output_type": "display_data",
          "data": {
            "text/plain": [
              "np.int64(5)"
            ]
          },
          "metadata": {}
        },
        {
          "output_type": "display_data",
          "data": {
            "text/plain": [
              "np.int64(5)"
            ]
          },
          "metadata": {}
        },
        {
          "output_type": "display_data",
          "data": {
            "text/plain": [
              "np.int64(5)"
            ]
          },
          "metadata": {}
        },
        {
          "output_type": "display_data",
          "data": {
            "text/plain": [
              "'{\\n  \"AVALIACAO 1\": 5,\\n  \"AVALIACAO 2\": 5\\n}'"
            ],
            "application/vnd.google.colaboratory.intrinsic+json": {
              "type": "string"
            }
          },
          "metadata": {}
        },
        {
          "output_type": "display_data",
          "data": {
            "text/plain": [
              "\"{colchao_solteiro_espuma_d45_extra_firme_ortopedico} {disponivel} {'tamanho 78cm por 1.88cm'}\""
            ],
            "application/vnd.google.colaboratory.intrinsic+json": {
              "type": "string"
            }
          },
          "metadata": {}
        },
        {
          "output_type": "display_data",
          "data": {
            "text/plain": [
              "np.int64(5)"
            ]
          },
          "metadata": {}
        },
        {
          "output_type": "display_data",
          "data": {
            "text/plain": [
              "np.int64(5)"
            ]
          },
          "metadata": {}
        },
        {
          "output_type": "display_data",
          "data": {
            "text/plain": [
              "np.int64(5)"
            ]
          },
          "metadata": {}
        },
        {
          "output_type": "display_data",
          "data": {
            "text/plain": [
              "np.int64(5)"
            ]
          },
          "metadata": {}
        },
        {
          "output_type": "display_data",
          "data": {
            "text/plain": [
              "'{\\n  \"AVALIACAO 1\": 5,\\n  \"AVALIACAO 2\": 5\\n}'"
            ],
            "application/vnd.google.colaboratory.intrinsic+json": {
              "type": "string"
            }
          },
          "metadata": {}
        },
        {
          "output_type": "display_data",
          "data": {
            "text/plain": [
              "\"{kit_selo_bloco_motor_fiat_uno_palio} {indisponivel} {'material aluminio'}\""
            ],
            "application/vnd.google.colaboratory.intrinsic+json": {
              "type": "string"
            }
          },
          "metadata": {}
        },
        {
          "output_type": "display_data",
          "data": {
            "text/plain": [
              "np.int64(5)"
            ]
          },
          "metadata": {}
        },
        {
          "output_type": "display_data",
          "data": {
            "text/plain": [
              "np.int64(5)"
            ]
          },
          "metadata": {}
        },
        {
          "output_type": "display_data",
          "data": {
            "text/plain": [
              "np.int64(5)"
            ]
          },
          "metadata": {}
        },
        {
          "output_type": "display_data",
          "data": {
            "text/plain": [
              "np.int64(5)"
            ]
          },
          "metadata": {}
        },
        {
          "output_type": "display_data",
          "data": {
            "text/plain": [
              "'{\\n  \"AVALIACAO 1\": 5,\\n  \"AVALIACAO 2\": 5\\n}'"
            ],
            "application/vnd.google.colaboratory.intrinsic+json": {
              "type": "string"
            }
          },
          "metadata": {}
        },
        {
          "output_type": "display_data",
          "data": {
            "text/plain": [
              "\"{kit_10_painel_plafon_led_18w_embutir_quadrado_luminaria} {disponivel} {'quantidade 15 unidades'}\""
            ],
            "application/vnd.google.colaboratory.intrinsic+json": {
              "type": "string"
            }
          },
          "metadata": {}
        },
        {
          "output_type": "display_data",
          "data": {
            "text/plain": [
              "np.int64(5)"
            ]
          },
          "metadata": {}
        },
        {
          "output_type": "display_data",
          "data": {
            "text/plain": [
              "np.int64(5)"
            ]
          },
          "metadata": {}
        },
        {
          "output_type": "display_data",
          "data": {
            "text/plain": [
              "np.int64(5)"
            ]
          },
          "metadata": {}
        },
        {
          "output_type": "display_data",
          "data": {
            "text/plain": [
              "np.int64(5)"
            ]
          },
          "metadata": {}
        },
        {
          "output_type": "display_data",
          "data": {
            "text/plain": [
              "'{\\n  \"AVALIACAO 1\": 5,\\n  \"AVALIACAO 2\": 5\\n}'"
            ],
            "application/vnd.google.colaboratory.intrinsic+json": {
              "type": "string"
            }
          },
          "metadata": {}
        },
        {
          "output_type": "display_data",
          "data": {
            "text/plain": [
              "\"{conjunto_assoalho_fusca} {disponivel} {'modelo Fusca 77'}\""
            ],
            "application/vnd.google.colaboratory.intrinsic+json": {
              "type": "string"
            }
          },
          "metadata": {}
        },
        {
          "output_type": "display_data",
          "data": {
            "text/plain": [
              "np.int64(5)"
            ]
          },
          "metadata": {}
        },
        {
          "output_type": "display_data",
          "data": {
            "text/plain": [
              "np.int64(5)"
            ]
          },
          "metadata": {}
        },
        {
          "output_type": "display_data",
          "data": {
            "text/plain": [
              "np.int64(5)"
            ]
          },
          "metadata": {}
        },
        {
          "output_type": "display_data",
          "data": {
            "text/plain": [
              "np.int64(5)"
            ]
          },
          "metadata": {}
        },
        {
          "output_type": "display_data",
          "data": {
            "text/plain": [
              "'{\\n  \"AVALIACAO 1\": 5,\\n  \"AVALIACAO 2\": 5\\n}'"
            ],
            "application/vnd.google.colaboratory.intrinsic+json": {
              "type": "string"
            }
          },
          "metadata": {}
        },
        {
          "output_type": "display_data",
          "data": {
            "text/plain": [
              "\"{lanterna_civic_2012_2013_2014_2015_16_canto} {disponivel} {'lado direito'}\""
            ],
            "application/vnd.google.colaboratory.intrinsic+json": {
              "type": "string"
            }
          },
          "metadata": {}
        },
        {
          "output_type": "display_data",
          "data": {
            "text/plain": [
              "np.int64(5)"
            ]
          },
          "metadata": {}
        },
        {
          "output_type": "display_data",
          "data": {
            "text/plain": [
              "np.int64(5)"
            ]
          },
          "metadata": {}
        },
        {
          "output_type": "display_data",
          "data": {
            "text/plain": [
              "np.int64(5)"
            ]
          },
          "metadata": {}
        },
        {
          "output_type": "display_data",
          "data": {
            "text/plain": [
              "np.int64(5)"
            ]
          },
          "metadata": {}
        },
        {
          "output_type": "display_data",
          "data": {
            "text/plain": [
              "'{\\n  \"AVALIAÇÃO 1 — CLAREZA DA JUSTIFICATIVA\": 5,\\n  \"AVALIAÇÃO 2 — COERÊNCIA DAS NOTAS COM A JUSTIFICATIVA\": 5\\n}'"
            ],
            "application/vnd.google.colaboratory.intrinsic+json": {
              "type": "string"
            }
          },
          "metadata": {}
        },
        {
          "output_type": "display_data",
          "data": {
            "text/plain": [
              "\"{volante_multifuncional_fiat_siena} {indisponivel} {'com volante sem controle'}\""
            ],
            "application/vnd.google.colaboratory.intrinsic+json": {
              "type": "string"
            }
          },
          "metadata": {}
        },
        {
          "output_type": "display_data",
          "data": {
            "text/plain": [
              "np.int64(4)"
            ]
          },
          "metadata": {}
        },
        {
          "output_type": "display_data",
          "data": {
            "text/plain": [
              "np.int64(4)"
            ]
          },
          "metadata": {}
        },
        {
          "output_type": "display_data",
          "data": {
            "text/plain": [
              "np.int64(4)"
            ]
          },
          "metadata": {}
        },
        {
          "output_type": "display_data",
          "data": {
            "text/plain": [
              "np.int64(3)"
            ]
          },
          "metadata": {}
        },
        {
          "output_type": "display_data",
          "data": {
            "text/plain": [
              "'{\\n  \"AVALIACAO 1\": 4,\\n  \"AVALIACAO 2\": 4\\n}'"
            ],
            "application/vnd.google.colaboratory.intrinsic+json": {
              "type": "string"
            }
          },
          "metadata": {}
        },
        {
          "output_type": "display_data",
          "data": {
            "text/plain": [
              "'{painel_festa_retangular_balada_neon_casadinho_tecido} {disponivel} {modelo_anv_2553}'"
            ],
            "application/vnd.google.colaboratory.intrinsic+json": {
              "type": "string"
            }
          },
          "metadata": {}
        },
        {
          "output_type": "display_data",
          "data": {
            "text/plain": [
              "np.int64(5)"
            ]
          },
          "metadata": {}
        },
        {
          "output_type": "display_data",
          "data": {
            "text/plain": [
              "np.int64(5)"
            ]
          },
          "metadata": {}
        },
        {
          "output_type": "display_data",
          "data": {
            "text/plain": [
              "np.int64(5)"
            ]
          },
          "metadata": {}
        },
        {
          "output_type": "display_data",
          "data": {
            "text/plain": [
              "np.int64(5)"
            ]
          },
          "metadata": {}
        },
        {
          "output_type": "display_data",
          "data": {
            "text/plain": [
              "'{\\n  \"AVALIACAO 1\": 5,\\n  \"AVALIACAO 2\": 5\\n}'"
            ],
            "application/vnd.google.colaboratory.intrinsic+json": {
              "type": "string"
            }
          },
          "metadata": {}
        },
        {
          "output_type": "display_data",
          "data": {
            "text/plain": [
              "\"{jogo_junta_motor_vw_ap_1_6_1_8_gol_voyage_santana} {indisponivel} {'sem junta do cabecote'}\""
            ],
            "application/vnd.google.colaboratory.intrinsic+json": {
              "type": "string"
            }
          },
          "metadata": {}
        },
        {
          "output_type": "display_data",
          "data": {
            "text/plain": [
              "np.int64(5)"
            ]
          },
          "metadata": {}
        },
        {
          "output_type": "display_data",
          "data": {
            "text/plain": [
              "np.int64(5)"
            ]
          },
          "metadata": {}
        },
        {
          "output_type": "display_data",
          "data": {
            "text/plain": [
              "np.int64(5)"
            ]
          },
          "metadata": {}
        },
        {
          "output_type": "display_data",
          "data": {
            "text/plain": [
              "np.int64(5)"
            ]
          },
          "metadata": {}
        },
        {
          "output_type": "display_data",
          "data": {
            "text/plain": [
              "'{\\n  \"AVALIACAO 1\": 5,\\n  \"AVALIACAO 2\": 5\\n}'"
            ],
            "application/vnd.google.colaboratory.intrinsic+json": {
              "type": "string"
            }
          },
          "metadata": {}
        },
        {
          "output_type": "display_data",
          "data": {
            "text/plain": [
              "\"{armario_aereo_150cm_3_portas_argelia} {indisponivel} {'medida 1,40'}\""
            ],
            "application/vnd.google.colaboratory.intrinsic+json": {
              "type": "string"
            }
          },
          "metadata": {}
        },
        {
          "output_type": "display_data",
          "data": {
            "text/plain": [
              "np.int64(5)"
            ]
          },
          "metadata": {}
        },
        {
          "output_type": "display_data",
          "data": {
            "text/plain": [
              "np.int64(5)"
            ]
          },
          "metadata": {}
        },
        {
          "output_type": "display_data",
          "data": {
            "text/plain": [
              "np.int64(5)"
            ]
          },
          "metadata": {}
        },
        {
          "output_type": "display_data",
          "data": {
            "text/plain": [
              "np.int64(5)"
            ]
          },
          "metadata": {}
        },
        {
          "output_type": "display_data",
          "data": {
            "text/plain": [
              "'{\\n  \"AVALIACAO 1\": 5,\\n  \"AVALIACAO 2\": 5\\n}'"
            ],
            "application/vnd.google.colaboratory.intrinsic+json": {
              "type": "string"
            }
          },
          "metadata": {}
        },
        {
          "output_type": "display_data",
          "data": {
            "text/plain": [
              "\"{transformador_1500va_1000w_220v_pra_110v_bivolt_fiolux} {disponivel} {'entrega imediata'}\""
            ],
            "application/vnd.google.colaboratory.intrinsic+json": {
              "type": "string"
            }
          },
          "metadata": {}
        },
        {
          "output_type": "display_data",
          "data": {
            "text/plain": [
              "np.int64(5)"
            ]
          },
          "metadata": {}
        },
        {
          "output_type": "display_data",
          "data": {
            "text/plain": [
              "np.int64(5)"
            ]
          },
          "metadata": {}
        },
        {
          "output_type": "display_data",
          "data": {
            "text/plain": [
              "np.int64(5)"
            ]
          },
          "metadata": {}
        },
        {
          "output_type": "display_data",
          "data": {
            "text/plain": [
              "np.int64(5)"
            ]
          },
          "metadata": {}
        },
        {
          "output_type": "display_data",
          "data": {
            "text/plain": [
              "'{\\n  \"AVALIACAO 1\": 5,\\n  \"AVALIACAO 2\": 5\\n}'"
            ],
            "application/vnd.google.colaboratory.intrinsic+json": {
              "type": "string"
            }
          },
          "metadata": {}
        },
        {
          "output_type": "display_data",
          "data": {
            "text/plain": [
              "'{caixa_de_roda_fusca_71_72_73_74_75_76} {disponivel} {lado_do_motorista}'"
            ],
            "application/vnd.google.colaboratory.intrinsic+json": {
              "type": "string"
            }
          },
          "metadata": {}
        },
        {
          "output_type": "display_data",
          "data": {
            "text/plain": [
              "np.int64(5)"
            ]
          },
          "metadata": {}
        },
        {
          "output_type": "display_data",
          "data": {
            "text/plain": [
              "np.int64(4)"
            ]
          },
          "metadata": {}
        },
        {
          "output_type": "display_data",
          "data": {
            "text/plain": [
              "np.int64(4)"
            ]
          },
          "metadata": {}
        },
        {
          "output_type": "display_data",
          "data": {
            "text/plain": [
              "np.int64(4)"
            ]
          },
          "metadata": {}
        },
        {
          "output_type": "display_data",
          "data": {
            "text/plain": [
              "'{\\n  \"AVALIAÇÃO 1\": 4,\\n  \"AVALIAÇÃO 2\": 4\\n}'"
            ],
            "application/vnd.google.colaboratory.intrinsic+json": {
              "type": "string"
            }
          },
          "metadata": {}
        },
        {
          "output_type": "display_data",
          "data": {
            "text/plain": [
              "\"{guarda_sol_gigante} {disponivel} {'varias cores'}\""
            ],
            "application/vnd.google.colaboratory.intrinsic+json": {
              "type": "string"
            }
          },
          "metadata": {}
        },
        {
          "output_type": "display_data",
          "data": {
            "text/plain": [
              "np.int64(5)"
            ]
          },
          "metadata": {}
        },
        {
          "output_type": "display_data",
          "data": {
            "text/plain": [
              "np.int64(4)"
            ]
          },
          "metadata": {}
        },
        {
          "output_type": "display_data",
          "data": {
            "text/plain": [
              "np.int64(4)"
            ]
          },
          "metadata": {}
        },
        {
          "output_type": "display_data",
          "data": {
            "text/plain": [
              "np.int64(4)"
            ]
          },
          "metadata": {}
        },
        {
          "output_type": "display_data",
          "data": {
            "text/plain": [
              "'{\\n  \"AVALIACAO 1\": 4,\\n  \"AVALIACAO 2\": 4\\n}'"
            ],
            "application/vnd.google.colaboratory.intrinsic+json": {
              "type": "string"
            }
          },
          "metadata": {}
        },
        {
          "output_type": "display_data",
          "data": {
            "text/plain": [
              "\"{cachepot_em_cimento_25x15cm_rosa_mart_12329} {indisponivel} {'suporte'}\""
            ],
            "application/vnd.google.colaboratory.intrinsic+json": {
              "type": "string"
            }
          },
          "metadata": {}
        },
        {
          "output_type": "display_data",
          "data": {
            "text/plain": [
              "np.int64(5)"
            ]
          },
          "metadata": {}
        },
        {
          "output_type": "display_data",
          "data": {
            "text/plain": [
              "np.int64(5)"
            ]
          },
          "metadata": {}
        },
        {
          "output_type": "display_data",
          "data": {
            "text/plain": [
              "np.int64(5)"
            ]
          },
          "metadata": {}
        },
        {
          "output_type": "display_data",
          "data": {
            "text/plain": [
              "np.int64(4)"
            ]
          },
          "metadata": {}
        },
        {
          "output_type": "display_data",
          "data": {
            "text/plain": [
              "'{\\n  \"AVALIACAO 1\": 5,\\n  \"AVALIACAO 2\": 5\\n}'"
            ],
            "application/vnd.google.colaboratory.intrinsic+json": {
              "type": "string"
            }
          },
          "metadata": {}
        },
        {
          "output_type": "display_data",
          "data": {
            "text/plain": [
              "'{capo_hilux_2012_2013_2014_com_furo_intercooler} {disponivel} {pronta_entrega}'"
            ],
            "application/vnd.google.colaboratory.intrinsic+json": {
              "type": "string"
            }
          },
          "metadata": {}
        },
        {
          "output_type": "display_data",
          "data": {
            "text/plain": [
              "np.int64(5)"
            ]
          },
          "metadata": {}
        },
        {
          "output_type": "display_data",
          "data": {
            "text/plain": [
              "np.int64(5)"
            ]
          },
          "metadata": {}
        },
        {
          "output_type": "display_data",
          "data": {
            "text/plain": [
              "np.int64(5)"
            ]
          },
          "metadata": {}
        },
        {
          "output_type": "display_data",
          "data": {
            "text/plain": [
              "np.int64(5)"
            ]
          },
          "metadata": {}
        },
        {
          "output_type": "display_data",
          "data": {
            "text/plain": [
              "'{\\n  \"AVALIACAO 1\": 5,\\n  \"AVALIACAO 2\": 5\\n}'"
            ],
            "application/vnd.google.colaboratory.intrinsic+json": {
              "type": "string"
            }
          },
          "metadata": {}
        },
        {
          "output_type": "display_data",
          "data": {
            "text/plain": [
              "\"{armario_aereo_160cm_4_portas_nevada} {disponivel} {'cor preto com marron'}\""
            ],
            "application/vnd.google.colaboratory.intrinsic+json": {
              "type": "string"
            }
          },
          "metadata": {}
        },
        {
          "output_type": "display_data",
          "data": {
            "text/plain": [
              "np.int64(5)"
            ]
          },
          "metadata": {}
        },
        {
          "output_type": "display_data",
          "data": {
            "text/plain": [
              "np.int64(5)"
            ]
          },
          "metadata": {}
        },
        {
          "output_type": "display_data",
          "data": {
            "text/plain": [
              "np.int64(5)"
            ]
          },
          "metadata": {}
        },
        {
          "output_type": "display_data",
          "data": {
            "text/plain": [
              "np.int64(4)"
            ]
          },
          "metadata": {}
        },
        {
          "output_type": "display_data",
          "data": {
            "text/plain": [
              "'{\\n  \"AVALIACAO 1\": 4,\\n  \"AVALIACAO 2\": 4\\n}'"
            ],
            "application/vnd.google.colaboratory.intrinsic+json": {
              "type": "string"
            }
          },
          "metadata": {}
        },
        {
          "output_type": "display_data",
          "data": {
            "text/plain": [
              "\"{sensor_velocidade_ds_omega_suprema_4_1_1996} {indisponivel} {'coroa e pinhao do sensor de velocidade'}\""
            ],
            "application/vnd.google.colaboratory.intrinsic+json": {
              "type": "string"
            }
          },
          "metadata": {}
        },
        {
          "output_type": "display_data",
          "data": {
            "text/plain": [
              "np.int64(5)"
            ]
          },
          "metadata": {}
        },
        {
          "output_type": "display_data",
          "data": {
            "text/plain": [
              "np.int64(5)"
            ]
          },
          "metadata": {}
        },
        {
          "output_type": "display_data",
          "data": {
            "text/plain": [
              "np.int64(5)"
            ]
          },
          "metadata": {}
        },
        {
          "output_type": "display_data",
          "data": {
            "text/plain": [
              "np.int64(4)"
            ]
          },
          "metadata": {}
        },
        {
          "output_type": "display_data",
          "data": {
            "text/plain": [
              "'{\\n  \"AVALIACAO 1\": 5,\\n  \"AVALIACAO 2\": 5\\n}'"
            ],
            "application/vnd.google.colaboratory.intrinsic+json": {
              "type": "string"
            }
          },
          "metadata": {}
        },
        {
          "output_type": "display_data",
          "data": {
            "text/plain": [
              "\"{reparo_parcial_carburador_solex_simples_30_pci_vw_fusca_1500} {indisponivel} {'kit do carburador 32 PCI do Fusca'}\""
            ],
            "application/vnd.google.colaboratory.intrinsic+json": {
              "type": "string"
            }
          },
          "metadata": {}
        },
        {
          "output_type": "display_data",
          "data": {
            "text/plain": [
              "np.int64(5)"
            ]
          },
          "metadata": {}
        },
        {
          "output_type": "display_data",
          "data": {
            "text/plain": [
              "np.int64(5)"
            ]
          },
          "metadata": {}
        },
        {
          "output_type": "display_data",
          "data": {
            "text/plain": [
              "np.int64(5)"
            ]
          },
          "metadata": {}
        },
        {
          "output_type": "display_data",
          "data": {
            "text/plain": [
              "np.int64(4)"
            ]
          },
          "metadata": {}
        },
        {
          "output_type": "display_data",
          "data": {
            "text/plain": [
              "'{\\n  \"AVALIACAO 1\": 4,\\n  \"AVALIACAO 2\": 4\\n}'"
            ],
            "application/vnd.google.colaboratory.intrinsic+json": {
              "type": "string"
            }
          },
          "metadata": {}
        },
        {
          "output_type": "display_data",
          "data": {
            "text/plain": [
              "\"{kit_paineis_romano_e_redondo_e_capas_fundo_do_mar} {indisponivel} {'capas de painel romano no tema leo o caminhão'}\""
            ],
            "application/vnd.google.colaboratory.intrinsic+json": {
              "type": "string"
            }
          },
          "metadata": {}
        },
        {
          "output_type": "display_data",
          "data": {
            "text/plain": [
              "np.int64(4)"
            ]
          },
          "metadata": {}
        },
        {
          "output_type": "display_data",
          "data": {
            "text/plain": [
              "np.int64(4)"
            ]
          },
          "metadata": {}
        },
        {
          "output_type": "display_data",
          "data": {
            "text/plain": [
              "np.int64(4)"
            ]
          },
          "metadata": {}
        },
        {
          "output_type": "display_data",
          "data": {
            "text/plain": [
              "np.int64(3)"
            ]
          },
          "metadata": {}
        },
        {
          "output_type": "display_data",
          "data": {
            "text/plain": [
              "'{\\n  \"AVALIACAO 1\": 4,\\n  \"AVALIACAO 2\": 4\\n}'"
            ],
            "application/vnd.google.colaboratory.intrinsic+json": {
              "type": "string"
            }
          },
          "metadata": {}
        },
        {
          "output_type": "display_data",
          "data": {
            "text/plain": [
              "\"{jogo_de_tacas_de_cerveja_320_ml_6_pcs} {indisponivel} {'taça com desenho da Stella com 8 unidades'}\""
            ],
            "application/vnd.google.colaboratory.intrinsic+json": {
              "type": "string"
            }
          },
          "metadata": {}
        },
        {
          "output_type": "display_data",
          "data": {
            "text/plain": [
              "np.int64(4)"
            ]
          },
          "metadata": {}
        },
        {
          "output_type": "display_data",
          "data": {
            "text/plain": [
              "np.int64(4)"
            ]
          },
          "metadata": {}
        },
        {
          "output_type": "display_data",
          "data": {
            "text/plain": [
              "np.int64(3)"
            ]
          },
          "metadata": {}
        },
        {
          "output_type": "display_data",
          "data": {
            "text/plain": [
              "np.int64(3)"
            ]
          },
          "metadata": {}
        },
        {
          "output_type": "display_data",
          "data": {
            "text/plain": [
              "'{\\n  \"AVALIACAO 1\": 4,\\n  \"AVALIACAO 2\": 4\\n}'"
            ],
            "application/vnd.google.colaboratory.intrinsic+json": {
              "type": "string"
            }
          },
          "metadata": {}
        },
        {
          "output_type": "display_data",
          "data": {
            "text/plain": [
              "\"{kit_10_tulipa_de_chopp_degrade_personalizada} {indisponivel} {'cor preta'}\""
            ],
            "application/vnd.google.colaboratory.intrinsic+json": {
              "type": "string"
            }
          },
          "metadata": {}
        },
        {
          "output_type": "display_data",
          "data": {
            "text/plain": [
              "np.int64(5)"
            ]
          },
          "metadata": {}
        },
        {
          "output_type": "display_data",
          "data": {
            "text/plain": [
              "np.int64(5)"
            ]
          },
          "metadata": {}
        },
        {
          "output_type": "display_data",
          "data": {
            "text/plain": [
              "np.int64(5)"
            ]
          },
          "metadata": {}
        },
        {
          "output_type": "display_data",
          "data": {
            "text/plain": [
              "np.int64(5)"
            ]
          },
          "metadata": {}
        },
        {
          "output_type": "display_data",
          "data": {
            "text/plain": [
              "'{\\n  \"AVALIAÇÃO 1\": 5,\\n  \"AVALIAÇÃO 2\": 5\\n}'"
            ],
            "application/vnd.google.colaboratory.intrinsic+json": {
              "type": "string"
            }
          },
          "metadata": {}
        },
        {
          "output_type": "display_data",
          "data": {
            "text/plain": [
              "'{kit_rolamento_retentor_da_226} {indisponivel} {}'"
            ],
            "application/vnd.google.colaboratory.intrinsic+json": {
              "type": "string"
            }
          },
          "metadata": {}
        },
        {
          "output_type": "display_data",
          "data": {
            "text/plain": [
              "np.int64(5)"
            ]
          },
          "metadata": {}
        },
        {
          "output_type": "display_data",
          "data": {
            "text/plain": [
              "np.int64(5)"
            ]
          },
          "metadata": {}
        },
        {
          "output_type": "display_data",
          "data": {
            "text/plain": [
              "np.int64(4)"
            ]
          },
          "metadata": {}
        },
        {
          "output_type": "display_data",
          "data": {
            "text/plain": [
              "np.int64(4)"
            ]
          },
          "metadata": {}
        },
        {
          "output_type": "display_data",
          "data": {
            "text/plain": [
              "'{\\n  \"AVALIACAO 1\": 5,\\n  \"AVALIACAO 2\": 5\\n}'"
            ],
            "application/vnd.google.colaboratory.intrinsic+json": {
              "type": "string"
            }
          },
          "metadata": {}
        },
        {
          "output_type": "display_data",
          "data": {
            "text/plain": [
              "'{acionador_do_tensor_da_corrente_da_cbr_929} {indisponivel} {}'"
            ],
            "application/vnd.google.colaboratory.intrinsic+json": {
              "type": "string"
            }
          },
          "metadata": {}
        },
        {
          "output_type": "display_data",
          "data": {
            "text/plain": [
              "np.int64(5)"
            ]
          },
          "metadata": {}
        },
        {
          "output_type": "display_data",
          "data": {
            "text/plain": [
              "np.int64(5)"
            ]
          },
          "metadata": {}
        },
        {
          "output_type": "display_data",
          "data": {
            "text/plain": [
              "np.int64(4)"
            ]
          },
          "metadata": {}
        },
        {
          "output_type": "display_data",
          "data": {
            "text/plain": [
              "np.int64(4)"
            ]
          },
          "metadata": {}
        },
        {
          "output_type": "display_data",
          "data": {
            "text/plain": [
              "'{\\n  \"AVALIACAO 1\": 5,\\n  \"AVALIACAO 2\": 5\\n}'"
            ],
            "application/vnd.google.colaboratory.intrinsic+json": {
              "type": "string"
            }
          },
          "metadata": {}
        },
        {
          "output_type": "display_data",
          "data": {
            "text/plain": [
              "\"{kit_3_bermudas_masculinas_de_sarja_colorida_com_lycra_shorts} {indisponivel} {'tamanho 44 na cor preta'}\""
            ],
            "application/vnd.google.colaboratory.intrinsic+json": {
              "type": "string"
            }
          },
          "metadata": {}
        },
        {
          "output_type": "display_data",
          "data": {
            "text/plain": [
              "np.int64(5)"
            ]
          },
          "metadata": {}
        },
        {
          "output_type": "display_data",
          "data": {
            "text/plain": [
              "np.int64(5)"
            ]
          },
          "metadata": {}
        },
        {
          "output_type": "display_data",
          "data": {
            "text/plain": [
              "np.int64(5)"
            ]
          },
          "metadata": {}
        },
        {
          "output_type": "display_data",
          "data": {
            "text/plain": [
              "np.int64(5)"
            ]
          },
          "metadata": {}
        },
        {
          "output_type": "display_data",
          "data": {
            "text/plain": [
              "'{\\n  \"AVALIACAO 1\": 5,\\n  \"AVALIACAO 2\": 5\\n}'"
            ],
            "application/vnd.google.colaboratory.intrinsic+json": {
              "type": "string"
            }
          },
          "metadata": {}
        },
        {
          "output_type": "display_data",
          "data": {
            "text/plain": [
              "\"{jogo_tapete_hr_v} {indisponivel} {'modelo HR-V 2022/23'}\""
            ],
            "application/vnd.google.colaboratory.intrinsic+json": {
              "type": "string"
            }
          },
          "metadata": {}
        },
        {
          "output_type": "display_data",
          "data": {
            "text/plain": [
              "np.int64(5)"
            ]
          },
          "metadata": {}
        },
        {
          "output_type": "display_data",
          "data": {
            "text/plain": [
              "np.int64(5)"
            ]
          },
          "metadata": {}
        },
        {
          "output_type": "display_data",
          "data": {
            "text/plain": [
              "np.int64(5)"
            ]
          },
          "metadata": {}
        },
        {
          "output_type": "display_data",
          "data": {
            "text/plain": [
              "np.int64(5)"
            ]
          },
          "metadata": {}
        },
        {
          "output_type": "display_data",
          "data": {
            "text/plain": [
              "'{\\n  \"AVALIACAO 1\": 5,\\n  \"AVALIACAO 2\": 5\\n}'"
            ],
            "application/vnd.google.colaboratory.intrinsic+json": {
              "type": "string"
            }
          },
          "metadata": {}
        },
        {
          "output_type": "display_data",
          "data": {
            "text/plain": [
              "\"{escapamento_racing_3_trioval_cg_125_fan_2009_a_2015_gemoto} {disponivel} {'cor preto'}\""
            ],
            "application/vnd.google.colaboratory.intrinsic+json": {
              "type": "string"
            }
          },
          "metadata": {}
        },
        {
          "output_type": "display_data",
          "data": {
            "text/plain": [
              "np.int64(5)"
            ]
          },
          "metadata": {}
        },
        {
          "output_type": "display_data",
          "data": {
            "text/plain": [
              "np.int64(5)"
            ]
          },
          "metadata": {}
        },
        {
          "output_type": "display_data",
          "data": {
            "text/plain": [
              "np.int64(5)"
            ]
          },
          "metadata": {}
        },
        {
          "output_type": "display_data",
          "data": {
            "text/plain": [
              "np.int64(5)"
            ]
          },
          "metadata": {}
        },
        {
          "output_type": "display_data",
          "data": {
            "text/plain": [
              "'{\\n  \"AVALIACAO 1\": 5,\\n  \"AVALIACAO 2\": 5\\n}'"
            ],
            "application/vnd.google.colaboratory.intrinsic+json": {
              "type": "string"
            }
          },
          "metadata": {}
        },
        {
          "output_type": "display_data",
          "data": {
            "text/plain": [
              "\"{quadro_abstrato_vidro_caixa_alta_tons_azul_e_palha_70x50cm} {indisponivel} {'outras opcoes'}\""
            ],
            "application/vnd.google.colaboratory.intrinsic+json": {
              "type": "string"
            }
          },
          "metadata": {}
        },
        {
          "output_type": "display_data",
          "data": {
            "text/plain": [
              "np.int64(5)"
            ]
          },
          "metadata": {}
        },
        {
          "output_type": "display_data",
          "data": {
            "text/plain": [
              "np.int64(5)"
            ]
          },
          "metadata": {}
        },
        {
          "output_type": "display_data",
          "data": {
            "text/plain": [
              "np.int64(5)"
            ]
          },
          "metadata": {}
        },
        {
          "output_type": "display_data",
          "data": {
            "text/plain": [
              "np.int64(5)"
            ]
          },
          "metadata": {}
        },
        {
          "output_type": "display_data",
          "data": {
            "text/plain": [
              "'{\\n  \"AVALIACAO 1\": 5,\\n  \"AVALIACAO 2\": 5\\n}'"
            ],
            "application/vnd.google.colaboratory.intrinsic+json": {
              "type": "string"
            }
          },
          "metadata": {}
        },
        {
          "output_type": "display_data",
          "data": {
            "text/plain": [
              "\"{canela_de_bengala_nxr_150_bros_lado_direito_freio_tambor} {indisponivel} {'lado direito da Bros 2010'}\""
            ],
            "application/vnd.google.colaboratory.intrinsic+json": {
              "type": "string"
            }
          },
          "metadata": {}
        },
        {
          "output_type": "display_data",
          "data": {
            "text/plain": [
              "np.int64(5)"
            ]
          },
          "metadata": {}
        },
        {
          "output_type": "display_data",
          "data": {
            "text/plain": [
              "np.int64(5)"
            ]
          },
          "metadata": {}
        },
        {
          "output_type": "display_data",
          "data": {
            "text/plain": [
              "np.int64(5)"
            ]
          },
          "metadata": {}
        },
        {
          "output_type": "display_data",
          "data": {
            "text/plain": [
              "np.int64(5)"
            ]
          },
          "metadata": {}
        },
        {
          "output_type": "display_data",
          "data": {
            "text/plain": [
              "'{\\n  \"AVALIAÇÃO 1\": 5,\\n  \"AVALIAÇÃO 2\": 5\\n}'"
            ],
            "application/vnd.google.colaboratory.intrinsic+json": {
              "type": "string"
            }
          },
          "metadata": {}
        },
        {
          "output_type": "display_data",
          "data": {
            "text/plain": [
              "\"{jogo_pistao_e_anies_0_50_focus_1_6_zetec_rocam} {indisponivel} {'anuncio'}\""
            ],
            "application/vnd.google.colaboratory.intrinsic+json": {
              "type": "string"
            }
          },
          "metadata": {}
        },
        {
          "output_type": "display_data",
          "data": {
            "text/plain": [
              "np.int64(4)"
            ]
          },
          "metadata": {}
        },
        {
          "output_type": "display_data",
          "data": {
            "text/plain": [
              "np.int64(4)"
            ]
          },
          "metadata": {}
        },
        {
          "output_type": "display_data",
          "data": {
            "text/plain": [
              "np.int64(3)"
            ]
          },
          "metadata": {}
        },
        {
          "output_type": "display_data",
          "data": {
            "text/plain": [
              "np.int64(3)"
            ]
          },
          "metadata": {}
        },
        {
          "output_type": "display_data",
          "data": {
            "text/plain": [
              "'{\\n  \"AVALIACAO 1\": 4,\\n  \"AVALIACAO 2\": 4\\n}'"
            ],
            "application/vnd.google.colaboratory.intrinsic+json": {
              "type": "string"
            }
          },
          "metadata": {}
        },
        {
          "output_type": "display_data",
          "data": {
            "text/plain": [
              "'{pneu_traseiro_borilli_110/100-18} {disponivel} {null}'"
            ],
            "application/vnd.google.colaboratory.intrinsic+json": {
              "type": "string"
            }
          },
          "metadata": {}
        },
        {
          "output_type": "display_data",
          "data": {
            "text/plain": [
              "np.int64(5)"
            ]
          },
          "metadata": {}
        },
        {
          "output_type": "display_data",
          "data": {
            "text/plain": [
              "np.int64(5)"
            ]
          },
          "metadata": {}
        },
        {
          "output_type": "display_data",
          "data": {
            "text/plain": [
              "np.int64(3)"
            ]
          },
          "metadata": {}
        },
        {
          "output_type": "display_data",
          "data": {
            "text/plain": [
              "np.int64(4)"
            ]
          },
          "metadata": {}
        },
        {
          "output_type": "display_data",
          "data": {
            "text/plain": [
              "'{\\n  \"AVALIACAO 1\": 4,\\n  \"AVALIACAO 2\": 5\\n}'"
            ],
            "application/vnd.google.colaboratory.intrinsic+json": {
              "type": "string"
            }
          },
          "metadata": {}
        },
        {
          "output_type": "display_data",
          "data": {
            "text/plain": [
              "\"{jogo_tapete_hr_v} {indisponivel} {'modelo HR-V 2022/23'}\""
            ],
            "application/vnd.google.colaboratory.intrinsic+json": {
              "type": "string"
            }
          },
          "metadata": {}
        },
        {
          "output_type": "display_data",
          "data": {
            "text/plain": [
              "np.int64(5)"
            ]
          },
          "metadata": {}
        },
        {
          "output_type": "display_data",
          "data": {
            "text/plain": [
              "np.int64(5)"
            ]
          },
          "metadata": {}
        },
        {
          "output_type": "display_data",
          "data": {
            "text/plain": [
              "np.int64(5)"
            ]
          },
          "metadata": {}
        },
        {
          "output_type": "display_data",
          "data": {
            "text/plain": [
              "np.int64(5)"
            ]
          },
          "metadata": {}
        },
        {
          "output_type": "display_data",
          "data": {
            "text/plain": [
              "'{\\n  \"AVALIACAO 1\": 5,\\n  \"AVALIACAO 2\": 5\\n}'"
            ],
            "application/vnd.google.colaboratory.intrinsic+json": {
              "type": "string"
            }
          },
          "metadata": {}
        },
        {
          "output_type": "display_data",
          "data": {
            "text/plain": [
              "'{espigao_em_aco_inox_304} {indisponivel} {}'"
            ],
            "application/vnd.google.colaboratory.intrinsic+json": {
              "type": "string"
            }
          },
          "metadata": {}
        },
        {
          "output_type": "display_data",
          "data": {
            "text/plain": [
              "np.int64(5)"
            ]
          },
          "metadata": {}
        },
        {
          "output_type": "display_data",
          "data": {
            "text/plain": [
              "np.int64(5)"
            ]
          },
          "metadata": {}
        },
        {
          "output_type": "display_data",
          "data": {
            "text/plain": [
              "np.int64(3)"
            ]
          },
          "metadata": {}
        },
        {
          "output_type": "display_data",
          "data": {
            "text/plain": [
              "np.int64(4)"
            ]
          },
          "metadata": {}
        },
        {
          "output_type": "display_data",
          "data": {
            "text/plain": [
              "'{\\n  \"AVALIACAO 1\": 5,\\n  \"AVALIACAO 2\": 5\\n}'"
            ],
            "application/vnd.google.colaboratory.intrinsic+json": {
              "type": "string"
            }
          },
          "metadata": {}
        },
        {
          "output_type": "display_data",
          "data": {
            "text/plain": [
              "\"{vestido_longo_multiuso_multiformas_madrinha_casamento} {indisponivel} {'tamanho M na cor Azul Serenit'}\""
            ],
            "application/vnd.google.colaboratory.intrinsic+json": {
              "type": "string"
            }
          },
          "metadata": {}
        },
        {
          "output_type": "display_data",
          "data": {
            "text/plain": [
              "np.int64(5)"
            ]
          },
          "metadata": {}
        },
        {
          "output_type": "display_data",
          "data": {
            "text/plain": [
              "np.int64(4)"
            ]
          },
          "metadata": {}
        },
        {
          "output_type": "display_data",
          "data": {
            "text/plain": [
              "np.int64(5)"
            ]
          },
          "metadata": {}
        },
        {
          "output_type": "display_data",
          "data": {
            "text/plain": [
              "np.int64(4)"
            ]
          },
          "metadata": {}
        },
        {
          "output_type": "display_data",
          "data": {
            "text/plain": [
              "'{\\n  \"AVALIACAO 1\": 4,\\n  \"AVALIACAO 2\": 5\\n}'"
            ],
            "application/vnd.google.colaboratory.intrinsic+json": {
              "type": "string"
            }
          },
          "metadata": {}
        },
        {
          "output_type": "display_data",
          "data": {
            "text/plain": [
              "\"{paleta_traseira_audi_q3_bosch} {disponivel} {'anuncio unico com dianteiras'}\""
            ],
            "application/vnd.google.colaboratory.intrinsic+json": {
              "type": "string"
            }
          },
          "metadata": {}
        },
        {
          "output_type": "display_data",
          "data": {
            "text/plain": [
              "np.int64(5)"
            ]
          },
          "metadata": {}
        },
        {
          "output_type": "display_data",
          "data": {
            "text/plain": [
              "np.int64(5)"
            ]
          },
          "metadata": {}
        },
        {
          "output_type": "display_data",
          "data": {
            "text/plain": [
              "np.int64(4)"
            ]
          },
          "metadata": {}
        },
        {
          "output_type": "display_data",
          "data": {
            "text/plain": [
              "np.int64(4)"
            ]
          },
          "metadata": {}
        },
        {
          "output_type": "display_data",
          "data": {
            "text/plain": [
              "'{\\n  \"AVALIACAO 1\": 4,\\n  \"AVALIACAO 2\": 5\\n}'"
            ],
            "application/vnd.google.colaboratory.intrinsic+json": {
              "type": "string"
            }
          },
          "metadata": {}
        },
        {
          "output_type": "display_data",
          "data": {
            "text/plain": [
              "'{fechadura_electronica_dianteira_esquerda} {disponivel} {}'"
            ],
            "application/vnd.google.colaboratory.intrinsic+json": {
              "type": "string"
            }
          },
          "metadata": {}
        },
        {
          "output_type": "display_data",
          "data": {
            "text/plain": [
              "np.int64(5)"
            ]
          },
          "metadata": {}
        },
        {
          "output_type": "display_data",
          "data": {
            "text/plain": [
              "np.int64(5)"
            ]
          },
          "metadata": {}
        },
        {
          "output_type": "display_data",
          "data": {
            "text/plain": [
              "np.int64(4)"
            ]
          },
          "metadata": {}
        },
        {
          "output_type": "display_data",
          "data": {
            "text/plain": [
              "np.int64(4)"
            ]
          },
          "metadata": {}
        },
        {
          "output_type": "display_data",
          "data": {
            "text/plain": [
              "'{\\n  \"AVALIACAO 1\": 5,\\n  \"AVALIACAO 2\": 5\\n}'"
            ],
            "application/vnd.google.colaboratory.intrinsic+json": {
              "type": "string"
            }
          },
          "metadata": {}
        },
        {
          "output_type": "display_data",
          "data": {
            "text/plain": [
              "'{borboleta_plastica_inferior_cabo_dobravel_trapp_original} {indisponivel} {}'"
            ],
            "application/vnd.google.colaboratory.intrinsic+json": {
              "type": "string"
            }
          },
          "metadata": {}
        },
        {
          "output_type": "display_data",
          "data": {
            "text/plain": [
              "np.int64(5)"
            ]
          },
          "metadata": {}
        },
        {
          "output_type": "display_data",
          "data": {
            "text/plain": [
              "np.int64(5)"
            ]
          },
          "metadata": {}
        },
        {
          "output_type": "display_data",
          "data": {
            "text/plain": [
              "np.int64(4)"
            ]
          },
          "metadata": {}
        },
        {
          "output_type": "display_data",
          "data": {
            "text/plain": [
              "np.int64(4)"
            ]
          },
          "metadata": {}
        },
        {
          "output_type": "display_data",
          "data": {
            "text/plain": [
              "'{\\n  \"AVALIACAO 1\": 4,\\n  \"AVALIACAO 2\": 4\\n}'"
            ],
            "application/vnd.google.colaboratory.intrinsic+json": {
              "type": "string"
            }
          },
          "metadata": {}
        },
        {
          "output_type": "display_data",
          "data": {
            "text/plain": [
              "\"{kit_escap_tubos_abafador_silencioso_gol_g5} {disponivel} {'compra individual da peça de cima'}\""
            ],
            "application/vnd.google.colaboratory.intrinsic+json": {
              "type": "string"
            }
          },
          "metadata": {}
        },
        {
          "output_type": "display_data",
          "data": {
            "text/plain": [
              "np.int64(5)"
            ]
          },
          "metadata": {}
        },
        {
          "output_type": "display_data",
          "data": {
            "text/plain": [
              "np.int64(4)"
            ]
          },
          "metadata": {}
        },
        {
          "output_type": "display_data",
          "data": {
            "text/plain": [
              "np.int64(4)"
            ]
          },
          "metadata": {}
        },
        {
          "output_type": "display_data",
          "data": {
            "text/plain": [
              "np.int64(4)"
            ]
          },
          "metadata": {}
        },
        {
          "output_type": "display_data",
          "data": {
            "text/plain": [
              "'{\\n  \"AVALIACAO 1\": 4,\\n  \"AVALIACAO 2\": 5\\n}'"
            ],
            "application/vnd.google.colaboratory.intrinsic+json": {
              "type": "string"
            }
          },
          "metadata": {}
        },
        {
          "output_type": "display_data",
          "data": {
            "text/plain": [
              "\"{kit_relação_transmissão_honda_cg_125_fan} {indisponivel} {'lâmpada h4 para fan 125 2018'}\""
            ],
            "application/vnd.google.colaboratory.intrinsic+json": {
              "type": "string"
            }
          },
          "metadata": {}
        },
        {
          "output_type": "display_data",
          "data": {
            "text/plain": [
              "np.int64(5)"
            ]
          },
          "metadata": {}
        },
        {
          "output_type": "display_data",
          "data": {
            "text/plain": [
              "np.int64(5)"
            ]
          },
          "metadata": {}
        },
        {
          "output_type": "display_data",
          "data": {
            "text/plain": [
              "np.int64(5)"
            ]
          },
          "metadata": {}
        },
        {
          "output_type": "display_data",
          "data": {
            "text/plain": [
              "np.int64(5)"
            ]
          },
          "metadata": {}
        },
        {
          "output_type": "display_data",
          "data": {
            "text/plain": [
              "'{\\n  \"AVALIACAO 1\": 5,\\n  \"AVALIACAO 2\": 5\\n}'"
            ],
            "application/vnd.google.colaboratory.intrinsic+json": {
              "type": "string"
            }
          },
          "metadata": {}
        },
        {
          "output_type": "display_data",
          "data": {
            "text/plain": [
              "\"{rolamento_agulha_serra_tico_tico_skil_4395_2600913040} {indisponivel} {'serra da Starrett de 5/8 por 3/8'}\""
            ],
            "application/vnd.google.colaboratory.intrinsic+json": {
              "type": "string"
            }
          },
          "metadata": {}
        },
        {
          "output_type": "display_data",
          "data": {
            "text/plain": [
              "np.int64(5)"
            ]
          },
          "metadata": {}
        },
        {
          "output_type": "display_data",
          "data": {
            "text/plain": [
              "np.int64(5)"
            ]
          },
          "metadata": {}
        },
        {
          "output_type": "display_data",
          "data": {
            "text/plain": [
              "np.int64(5)"
            ]
          },
          "metadata": {}
        },
        {
          "output_type": "display_data",
          "data": {
            "text/plain": [
              "np.int64(5)"
            ]
          },
          "metadata": {}
        },
        {
          "output_type": "display_data",
          "data": {
            "text/plain": [
              "'{\\n  \"AVALIAÇÃO 1\": 5,\\n  \"AVALIAÇÃO 2\": 5\\n}'"
            ],
            "application/vnd.google.colaboratory.intrinsic+json": {
              "type": "string"
            }
          },
          "metadata": {}
        },
        {
          "output_type": "display_data",
          "data": {
            "text/plain": [
              "\"{bicicleta_ergometrica_spinning_com_roda_de_inercia} {indisponivel} {'roda de inercia de 15kg'}\""
            ],
            "application/vnd.google.colaboratory.intrinsic+json": {
              "type": "string"
            }
          },
          "metadata": {}
        },
        {
          "output_type": "display_data",
          "data": {
            "text/plain": [
              "np.int64(5)"
            ]
          },
          "metadata": {}
        },
        {
          "output_type": "display_data",
          "data": {
            "text/plain": [
              "np.int64(4)"
            ]
          },
          "metadata": {}
        },
        {
          "output_type": "display_data",
          "data": {
            "text/plain": [
              "np.int64(5)"
            ]
          },
          "metadata": {}
        },
        {
          "output_type": "display_data",
          "data": {
            "text/plain": [
              "np.int64(4)"
            ]
          },
          "metadata": {}
        },
        {
          "output_type": "display_data",
          "data": {
            "text/plain": [
              "'{\\n  \"AVALIAÇÃO 1\": 4,\\n  \"AVALIAÇÃO 2\": 4\\n}'"
            ],
            "application/vnd.google.colaboratory.intrinsic+json": {
              "type": "string"
            }
          },
          "metadata": {}
        },
        {
          "output_type": "display_data",
          "data": {
            "text/plain": [
              "\"{articulacao_coluna_direcao_hidraulica_fiesta_97_2007} {indisponivel} {'modelo Courier 08 mecanica'}\""
            ],
            "application/vnd.google.colaboratory.intrinsic+json": {
              "type": "string"
            }
          },
          "metadata": {}
        },
        {
          "output_type": "display_data",
          "data": {
            "text/plain": [
              "np.int64(5)"
            ]
          },
          "metadata": {}
        },
        {
          "output_type": "display_data",
          "data": {
            "text/plain": [
              "np.int64(5)"
            ]
          },
          "metadata": {}
        },
        {
          "output_type": "display_data",
          "data": {
            "text/plain": [
              "np.int64(5)"
            ]
          },
          "metadata": {}
        },
        {
          "output_type": "display_data",
          "data": {
            "text/plain": [
              "np.int64(4)"
            ]
          },
          "metadata": {}
        },
        {
          "output_type": "display_data",
          "data": {
            "text/plain": [
              "'{\\n  \"AVALIAÇÃO 1 — CLAREZA DA JUSTIFICATIVA\": 4,\\n  \"AVALIAÇÃO 2 — COERÊNCIA DAS NOTAS COM A JUSTIFICATIVA\": 4\\n}'"
            ],
            "application/vnd.google.colaboratory.intrinsic+json": {
              "type": "string"
            }
          },
          "metadata": {}
        },
        {
          "output_type": "display_data",
          "data": {
            "text/plain": [
              "'{barra_axial_e_bieleta_301m} {indisponivel} {no_momento}'"
            ],
            "application/vnd.google.colaboratory.intrinsic+json": {
              "type": "string"
            }
          },
          "metadata": {}
        },
        {
          "output_type": "display_data",
          "data": {
            "text/plain": [
              "np.int64(5)"
            ]
          },
          "metadata": {}
        },
        {
          "output_type": "display_data",
          "data": {
            "text/plain": [
              "np.int64(5)"
            ]
          },
          "metadata": {}
        },
        {
          "output_type": "display_data",
          "data": {
            "text/plain": [
              "np.int64(5)"
            ]
          },
          "metadata": {}
        },
        {
          "output_type": "display_data",
          "data": {
            "text/plain": [
              "np.int64(5)"
            ]
          },
          "metadata": {}
        },
        {
          "output_type": "display_data",
          "data": {
            "text/plain": [
              "'{\\n  \"AVALIAÇÃO 1 — CLAREZA DA JUSTIFICATIVA\": 5,\\n  \"AVALIAÇÃO 2 — COERÊNCIA DAS NOTAS COM A JUSTIFICATIVA\": 5\\n}'"
            ],
            "application/vnd.google.colaboratory.intrinsic+json": {
              "type": "string"
            }
          },
          "metadata": {}
        },
        {
          "output_type": "display_data",
          "data": {
            "text/plain": [
              "\"{capota_maritima_saveito_c_santo_antonio_s_estep_99_g2_treck} {disponivel} {'frete para Sao Carlos, CEP 13568-110, R$ 95,00, 7 a 10 dias'}\""
            ],
            "application/vnd.google.colaboratory.intrinsic+json": {
              "type": "string"
            }
          },
          "metadata": {}
        },
        {
          "output_type": "display_data",
          "data": {
            "text/plain": [
              "np.int64(5)"
            ]
          },
          "metadata": {}
        },
        {
          "output_type": "display_data",
          "data": {
            "text/plain": [
              "np.int64(4)"
            ]
          },
          "metadata": {}
        },
        {
          "output_type": "display_data",
          "data": {
            "text/plain": [
              "np.int64(4)"
            ]
          },
          "metadata": {}
        },
        {
          "output_type": "display_data",
          "data": {
            "text/plain": [
              "np.int64(4)"
            ]
          },
          "metadata": {}
        },
        {
          "output_type": "display_data",
          "data": {
            "text/plain": [
              "'{\\n  \"AVALIAÇÃO 1\": 4,\\n  \"AVALIAÇÃO 2\": 4\\n}'"
            ],
            "application/vnd.google.colaboratory.intrinsic+json": {
              "type": "string"
            }
          },
          "metadata": {}
        },
        {
          "output_type": "display_data",
          "data": {
            "text/plain": [
              "\"{kit_spr_manchester_city_infantil_azul} {recomendado} {'idade 6 anos'}\""
            ],
            "application/vnd.google.colaboratory.intrinsic+json": {
              "type": "string"
            }
          },
          "metadata": {}
        },
        {
          "output_type": "display_data",
          "data": {
            "text/plain": [
              "np.int64(5)"
            ]
          },
          "metadata": {}
        },
        {
          "output_type": "display_data",
          "data": {
            "text/plain": [
              "np.int64(5)"
            ]
          },
          "metadata": {}
        },
        {
          "output_type": "display_data",
          "data": {
            "text/plain": [
              "np.int64(5)"
            ]
          },
          "metadata": {}
        },
        {
          "output_type": "display_data",
          "data": {
            "text/plain": [
              "np.int64(5)"
            ]
          },
          "metadata": {}
        },
        {
          "output_type": "display_data",
          "data": {
            "text/plain": [
              "'{\\n  \"AVALIACAO 1\": 5,\\n  \"AVALIACAO 2\": 5\\n}'"
            ],
            "application/vnd.google.colaboratory.intrinsic+json": {
              "type": "string"
            }
          },
          "metadata": {}
        },
        {
          "output_type": "display_data",
          "data": {
            "text/plain": [
              "\"{balcao_armario_cozinha_gabinete_pia_150cm} {disponivel} {'cor preto'}\""
            ],
            "application/vnd.google.colaboratory.intrinsic+json": {
              "type": "string"
            }
          },
          "metadata": {}
        },
        {
          "output_type": "display_data",
          "data": {
            "text/plain": [
              "np.int64(5)"
            ]
          },
          "metadata": {}
        },
        {
          "output_type": "display_data",
          "data": {
            "text/plain": [
              "np.int64(5)"
            ]
          },
          "metadata": {}
        },
        {
          "output_type": "display_data",
          "data": {
            "text/plain": [
              "np.int64(5)"
            ]
          },
          "metadata": {}
        },
        {
          "output_type": "display_data",
          "data": {
            "text/plain": [
              "np.int64(5)"
            ]
          },
          "metadata": {}
        },
        {
          "output_type": "display_data",
          "data": {
            "text/plain": [
              "'{\\n  \"AVALIAÇÃO 1\": 5,\\n  \"AVALIAÇÃO 2\": 5\\n}'"
            ],
            "application/vnd.google.colaboratory.intrinsic+json": {
              "type": "string"
            }
          },
          "metadata": {}
        },
        {
          "output_type": "display_data",
          "data": {
            "text/plain": [
              "\"{cadeira_gamer_royale_preto} {disponivel} {'pronta entrega'}\""
            ],
            "application/vnd.google.colaboratory.intrinsic+json": {
              "type": "string"
            }
          },
          "metadata": {}
        },
        {
          "output_type": "display_data",
          "data": {
            "text/plain": [
              "np.int64(5)"
            ]
          },
          "metadata": {}
        },
        {
          "output_type": "display_data",
          "data": {
            "text/plain": [
              "np.int64(5)"
            ]
          },
          "metadata": {}
        },
        {
          "output_type": "display_data",
          "data": {
            "text/plain": [
              "np.int64(5)"
            ]
          },
          "metadata": {}
        },
        {
          "output_type": "display_data",
          "data": {
            "text/plain": [
              "np.int64(5)"
            ]
          },
          "metadata": {}
        },
        {
          "output_type": "display_data",
          "data": {
            "text/plain": [
              "'{\\n  \"AVALIACAO 1\": 5,\\n  \"AVALIACAO 2\": 5\\n}'"
            ],
            "application/vnd.google.colaboratory.intrinsic+json": {
              "type": "string"
            }
          },
          "metadata": {}
        },
        {
          "output_type": "display_data",
          "data": {
            "text/plain": [
              "\"{torneira_banheiro_cascata_baixa_monocomando_cromada} {disponivel} {'altura mais cumprida'}\""
            ],
            "application/vnd.google.colaboratory.intrinsic+json": {
              "type": "string"
            }
          },
          "metadata": {}
        },
        {
          "output_type": "display_data",
          "data": {
            "text/plain": [
              "np.int64(4)"
            ]
          },
          "metadata": {}
        },
        {
          "output_type": "display_data",
          "data": {
            "text/plain": [
              "np.int64(4)"
            ]
          },
          "metadata": {}
        },
        {
          "output_type": "display_data",
          "data": {
            "text/plain": [
              "np.int64(3)"
            ]
          },
          "metadata": {}
        },
        {
          "output_type": "display_data",
          "data": {
            "text/plain": [
              "np.int64(3)"
            ]
          },
          "metadata": {}
        },
        {
          "output_type": "display_data",
          "data": {
            "text/plain": [
              "'{\\n  \"AVALIAÇÃO 1\": 4,\\n  \"AVALIAÇÃO 2\": 4\\n}'"
            ],
            "application/vnd.google.colaboratory.intrinsic+json": {
              "type": "string"
            }
          },
          "metadata": {}
        },
        {
          "output_type": "display_data",
          "data": {
            "text/plain": [
              "\"{lanterna_traseira_corsa_classic_2011_a_2016_canto} {disponivel} {'lados direito e esquerdo'}\""
            ],
            "application/vnd.google.colaboratory.intrinsic+json": {
              "type": "string"
            }
          },
          "metadata": {}
        },
        {
          "output_type": "display_data",
          "data": {
            "text/plain": [
              "np.int64(5)"
            ]
          },
          "metadata": {}
        },
        {
          "output_type": "display_data",
          "data": {
            "text/plain": [
              "np.int64(5)"
            ]
          },
          "metadata": {}
        },
        {
          "output_type": "display_data",
          "data": {
            "text/plain": [
              "np.int64(5)"
            ]
          },
          "metadata": {}
        },
        {
          "output_type": "display_data",
          "data": {
            "text/plain": [
              "np.int64(5)"
            ]
          },
          "metadata": {}
        },
        {
          "output_type": "display_data",
          "data": {
            "text/plain": [
              "'{\\n  \"AVALIACAO 1\": 5,\\n  \"AVALIACAO 2\": 5\\n}'"
            ],
            "application/vnd.google.colaboratory.intrinsic+json": {
              "type": "string"
            }
          },
          "metadata": {}
        },
        {
          "output_type": "display_data",
          "data": {
            "text/plain": [
              "\"{ultra_led_code_com_cooler} {disponivel} {'conectores HB3, HB4 e H1'}\""
            ],
            "application/vnd.google.colaboratory.intrinsic+json": {
              "type": "string"
            }
          },
          "metadata": {}
        },
        {
          "output_type": "display_data",
          "data": {
            "text/plain": [
              "np.int64(5)"
            ]
          },
          "metadata": {}
        },
        {
          "output_type": "display_data",
          "data": {
            "text/plain": [
              "np.int64(5)"
            ]
          },
          "metadata": {}
        },
        {
          "output_type": "display_data",
          "data": {
            "text/plain": [
              "np.int64(5)"
            ]
          },
          "metadata": {}
        },
        {
          "output_type": "display_data",
          "data": {
            "text/plain": [
              "np.int64(4)"
            ]
          },
          "metadata": {}
        },
        {
          "output_type": "display_data",
          "data": {
            "text/plain": [
              "'{\\n  \"AVALIACAO 1\": 5,\\n  \"AVALIACAO 2\": 5\\n}'"
            ],
            "application/vnd.google.colaboratory.intrinsic+json": {
              "type": "string"
            }
          },
          "metadata": {}
        },
        {
          "output_type": "display_data",
          "data": {
            "text/plain": [
              "\"{kit_selo_bloco_motor_fiat_uno_palio_36_2_mm} {indisponivel} {'material aluminio'}\""
            ],
            "application/vnd.google.colaboratory.intrinsic+json": {
              "type": "string"
            }
          },
          "metadata": {}
        },
        {
          "output_type": "display_data",
          "data": {
            "text/plain": [
              "np.int64(5)"
            ]
          },
          "metadata": {}
        },
        {
          "output_type": "display_data",
          "data": {
            "text/plain": [
              "np.int64(5)"
            ]
          },
          "metadata": {}
        },
        {
          "output_type": "display_data",
          "data": {
            "text/plain": [
              "np.int64(5)"
            ]
          },
          "metadata": {}
        },
        {
          "output_type": "display_data",
          "data": {
            "text/plain": [
              "np.int64(5)"
            ]
          },
          "metadata": {}
        },
        {
          "output_type": "display_data",
          "data": {
            "text/plain": [
              "'{\\n  \"AVALIACAO 1\": 5,\\n  \"AVALIACAO 2\": 5\\n}'"
            ],
            "application/vnd.google.colaboratory.intrinsic+json": {
              "type": "string"
            }
          },
          "metadata": {}
        },
        {
          "output_type": "display_data",
          "data": {
            "text/plain": [
              "\"{cilindro_aumento_de_cilindrada_kmp_cg_125_2009_bros_p_220cc} {indisponivel} {'modelo Bros 125 de 2005'}\""
            ],
            "application/vnd.google.colaboratory.intrinsic+json": {
              "type": "string"
            }
          },
          "metadata": {}
        },
        {
          "output_type": "display_data",
          "data": {
            "text/plain": [
              "np.int64(5)"
            ]
          },
          "metadata": {}
        },
        {
          "output_type": "display_data",
          "data": {
            "text/plain": [
              "np.int64(5)"
            ]
          },
          "metadata": {}
        },
        {
          "output_type": "display_data",
          "data": {
            "text/plain": [
              "np.int64(5)"
            ]
          },
          "metadata": {}
        },
        {
          "output_type": "display_data",
          "data": {
            "text/plain": [
              "np.int64(5)"
            ]
          },
          "metadata": {}
        },
        {
          "output_type": "display_data",
          "data": {
            "text/plain": [
              "'{\\n  \"AVALIACAO 1\": 5,\\n  \"AVALIACAO 2\": 5\\n}'"
            ],
            "application/vnd.google.colaboratory.intrinsic+json": {
              "type": "string"
            }
          },
          "metadata": {}
        },
        {
          "output_type": "display_data",
          "data": {
            "text/plain": [
              "\"{kit_quadros_decorativos_sala_arvore_da_vida_entardecer_sol} {disponivel} {'tamanho maior'}\""
            ],
            "application/vnd.google.colaboratory.intrinsic+json": {
              "type": "string"
            }
          },
          "metadata": {}
        },
        {
          "output_type": "display_data",
          "data": {
            "text/plain": [
              "np.int64(5)"
            ]
          },
          "metadata": {}
        },
        {
          "output_type": "display_data",
          "data": {
            "text/plain": [
              "np.int64(4)"
            ]
          },
          "metadata": {}
        },
        {
          "output_type": "display_data",
          "data": {
            "text/plain": [
              "np.int64(4)"
            ]
          },
          "metadata": {}
        },
        {
          "output_type": "display_data",
          "data": {
            "text/plain": [
              "np.int64(4)"
            ]
          },
          "metadata": {}
        },
        {
          "output_type": "display_data",
          "data": {
            "text/plain": [
              "'{\\n  \"AVALIAÇÃO 1 — CLAREZA DA JUSTIFICATIVA\": 4,\\n  \"AVALIAÇÃO 2 — COERÊNCIA DAS NOTAS COM A JUSTIFICATIVA\": 4\\n}'"
            ],
            "application/vnd.google.colaboratory.intrinsic+json": {
              "type": "string"
            }
          },
          "metadata": {}
        },
        {
          "output_type": "display_data",
          "data": {
            "text/plain": [
              "'{par_molas_suspensao_dianteira_e_traseira_para_fiat_punto_1_6_2011} {indisponivel} {null}'"
            ],
            "application/vnd.google.colaboratory.intrinsic+json": {
              "type": "string"
            }
          },
          "metadata": {}
        },
        {
          "output_type": "display_data",
          "data": {
            "text/plain": [
              "np.int64(5)"
            ]
          },
          "metadata": {}
        },
        {
          "output_type": "display_data",
          "data": {
            "text/plain": [
              "np.int64(5)"
            ]
          },
          "metadata": {}
        },
        {
          "output_type": "display_data",
          "data": {
            "text/plain": [
              "np.int64(4)"
            ]
          },
          "metadata": {}
        },
        {
          "output_type": "display_data",
          "data": {
            "text/plain": [
              "np.int64(4)"
            ]
          },
          "metadata": {}
        },
        {
          "output_type": "display_data",
          "data": {
            "text/plain": [
              "'{\\n  \"AVALIACAO 1\": 4,\\n  \"AVALIACAO 2\": 4\\n}'"
            ],
            "application/vnd.google.colaboratory.intrinsic+json": {
              "type": "string"
            }
          },
          "metadata": {}
        },
        {
          "output_type": "display_data",
          "data": {
            "text/plain": [
              "\"{calca_jogger_sarja_colorida_jeans_masculina_plus_size_g1g2g3} {disponivel} {'cor preta nas variacoes G1 e G2'}\""
            ],
            "application/vnd.google.colaboratory.intrinsic+json": {
              "type": "string"
            }
          },
          "metadata": {}
        },
        {
          "output_type": "display_data",
          "data": {
            "text/plain": [
              "np.int64(5)"
            ]
          },
          "metadata": {}
        },
        {
          "output_type": "display_data",
          "data": {
            "text/plain": [
              "np.int64(5)"
            ]
          },
          "metadata": {}
        },
        {
          "output_type": "display_data",
          "data": {
            "text/plain": [
              "np.int64(5)"
            ]
          },
          "metadata": {}
        },
        {
          "output_type": "display_data",
          "data": {
            "text/plain": [
              "np.int64(4)"
            ]
          },
          "metadata": {}
        },
        {
          "output_type": "display_data",
          "data": {
            "text/plain": [
              "'{\\n  \"AVALIAÇÃO 1\": 5,\\n  \"AVALIAÇÃO 2\": 5\\n}'"
            ],
            "application/vnd.google.colaboratory.intrinsic+json": {
              "type": "string"
            }
          },
          "metadata": {}
        },
        {
          "output_type": "display_data",
          "data": {
            "text/plain": [
              "\"{bau_para_moto_80_litros} {indisponivel} {'modelo XRE300 2023'}\""
            ],
            "application/vnd.google.colaboratory.intrinsic+json": {
              "type": "string"
            }
          },
          "metadata": {}
        },
        {
          "output_type": "display_data",
          "data": {
            "text/plain": [
              "np.int64(5)"
            ]
          },
          "metadata": {}
        },
        {
          "output_type": "display_data",
          "data": {
            "text/plain": [
              "np.int64(5)"
            ]
          },
          "metadata": {}
        },
        {
          "output_type": "display_data",
          "data": {
            "text/plain": [
              "np.int64(5)"
            ]
          },
          "metadata": {}
        },
        {
          "output_type": "display_data",
          "data": {
            "text/plain": [
              "np.int64(5)"
            ]
          },
          "metadata": {}
        },
        {
          "output_type": "display_data",
          "data": {
            "text/plain": [
              "'{\\n  \"AVALIACAO 1\": 5,\\n  \"AVALIACAO 2\": 5\\n}'"
            ],
            "application/vnd.google.colaboratory.intrinsic+json": {
              "type": "string"
            }
          },
          "metadata": {}
        },
        {
          "output_type": "display_data",
          "data": {
            "text/plain": [
              "\"{kit_2_radio_walk_talk_comunicador_16_ch_12km_baofeng_777s_ht} {indisponivel} {'venda de uma unidade'}\""
            ],
            "application/vnd.google.colaboratory.intrinsic+json": {
              "type": "string"
            }
          },
          "metadata": {}
        },
        {
          "output_type": "display_data",
          "data": {
            "text/plain": [
              "np.int64(5)"
            ]
          },
          "metadata": {}
        },
        {
          "output_type": "display_data",
          "data": {
            "text/plain": [
              "np.int64(4)"
            ]
          },
          "metadata": {}
        },
        {
          "output_type": "display_data",
          "data": {
            "text/plain": [
              "np.int64(4)"
            ]
          },
          "metadata": {}
        },
        {
          "output_type": "display_data",
          "data": {
            "text/plain": [
              "np.int64(4)"
            ]
          },
          "metadata": {}
        },
        {
          "output_type": "display_data",
          "data": {
            "text/plain": [
              "'{\\n  \"AVALIACAO 1\": 4,\\n  \"AVALIACAO 2\": 4\\n}'"
            ],
            "application/vnd.google.colaboratory.intrinsic+json": {
              "type": "string"
            }
          },
          "metadata": {}
        },
        {
          "output_type": "display_data",
          "data": {
            "text/plain": [
              "\"{bau_maleiro_teto_jetbag_thule_spin} {disponivel} {'longarinas originais do veiculo'}\""
            ],
            "application/vnd.google.colaboratory.intrinsic+json": {
              "type": "string"
            }
          },
          "metadata": {}
        },
        {
          "output_type": "display_data",
          "data": {
            "text/plain": [
              "np.int64(5)"
            ]
          },
          "metadata": {}
        },
        {
          "output_type": "display_data",
          "data": {
            "text/plain": [
              "np.int64(5)"
            ]
          },
          "metadata": {}
        },
        {
          "output_type": "display_data",
          "data": {
            "text/plain": [
              "np.int64(5)"
            ]
          },
          "metadata": {}
        },
        {
          "output_type": "display_data",
          "data": {
            "text/plain": [
              "np.int64(5)"
            ]
          },
          "metadata": {}
        },
        {
          "output_type": "display_data",
          "data": {
            "text/plain": [
              "'{\\n  \"AVALIACAO 1\": 5,\\n  \"AVALIACAO 2\": 5\\n}'"
            ],
            "application/vnd.google.colaboratory.intrinsic+json": {
              "type": "string"
            }
          },
          "metadata": {}
        },
        {
          "output_type": "display_data",
          "data": {
            "text/plain": [
              "\"{lanterna_traseira_marea_sedan} {indisponivel} {'lado esquerdo'}\""
            ],
            "application/vnd.google.colaboratory.intrinsic+json": {
              "type": "string"
            }
          },
          "metadata": {}
        },
        {
          "output_type": "display_data",
          "data": {
            "text/plain": [
              "np.int64(5)"
            ]
          },
          "metadata": {}
        },
        {
          "output_type": "display_data",
          "data": {
            "text/plain": [
              "np.int64(5)"
            ]
          },
          "metadata": {}
        },
        {
          "output_type": "display_data",
          "data": {
            "text/plain": [
              "np.int64(5)"
            ]
          },
          "metadata": {}
        },
        {
          "output_type": "display_data",
          "data": {
            "text/plain": [
              "np.int64(5)"
            ]
          },
          "metadata": {}
        },
        {
          "output_type": "display_data",
          "data": {
            "text/plain": [
              "'{\\n  \"AVALIACAO 1\": 5,\\n  \"AVALIACAO 2\": 5\\n}'"
            ],
            "application/vnd.google.colaboratory.intrinsic+json": {
              "type": "string"
            }
          },
          "metadata": {}
        },
        {
          "output_type": "display_data",
          "data": {
            "text/plain": [
              "'{cuba_cozinha_pia_aco_inox_quadrada_acessorios_terena_prata} {disponivel} {}'"
            ],
            "application/vnd.google.colaboratory.intrinsic+json": {
              "type": "string"
            }
          },
          "metadata": {}
        },
        {
          "output_type": "display_data",
          "data": {
            "text/plain": [
              "np.int64(5)"
            ]
          },
          "metadata": {}
        },
        {
          "output_type": "display_data",
          "data": {
            "text/plain": [
              "np.int64(5)"
            ]
          },
          "metadata": {}
        },
        {
          "output_type": "display_data",
          "data": {
            "text/plain": [
              "np.int64(4)"
            ]
          },
          "metadata": {}
        },
        {
          "output_type": "display_data",
          "data": {
            "text/plain": [
              "np.int64(4)"
            ]
          },
          "metadata": {}
        },
        {
          "output_type": "display_data",
          "data": {
            "text/plain": [
              "'{\\n  \"AVALIACAO 1\": 4,\\n  \"AVALIACAO 2\": 4\\n}'"
            ],
            "application/vnd.google.colaboratory.intrinsic+json": {
              "type": "string"
            }
          },
          "metadata": {}
        },
        {
          "output_type": "display_data",
          "data": {
            "text/plain": [
              "\"{tinta_cinza_massey_fergunson_metallico_36l_brasilux} {indisponivel} {'no splay'}\""
            ],
            "application/vnd.google.colaboratory.intrinsic+json": {
              "type": "string"
            }
          },
          "metadata": {}
        },
        {
          "output_type": "display_data",
          "data": {
            "text/plain": [
              "np.int64(5)"
            ]
          },
          "metadata": {}
        },
        {
          "output_type": "display_data",
          "data": {
            "text/plain": [
              "np.int64(5)"
            ]
          },
          "metadata": {}
        },
        {
          "output_type": "display_data",
          "data": {
            "text/plain": [
              "np.int64(5)"
            ]
          },
          "metadata": {}
        },
        {
          "output_type": "display_data",
          "data": {
            "text/plain": [
              "np.int64(5)"
            ]
          },
          "metadata": {}
        },
        {
          "output_type": "display_data",
          "data": {
            "text/plain": [
              "'{\\n  \"AVALIACAO 1\": 5,\\n  \"AVALIACAO 2\": 5\\n}'"
            ],
            "application/vnd.google.colaboratory.intrinsic+json": {
              "type": "string"
            }
          },
          "metadata": {}
        },
        {
          "output_type": "display_data",
          "data": {
            "text/plain": [
              "\"{induzido_p_esmerilhadeira_ga9020_ga7020_220v_makita_517793-7} {disponivel} {'quantidade 13 unidades'}\""
            ],
            "application/vnd.google.colaboratory.intrinsic+json": {
              "type": "string"
            }
          },
          "metadata": {}
        },
        {
          "output_type": "display_data",
          "data": {
            "text/plain": [
              "np.int64(5)"
            ]
          },
          "metadata": {}
        },
        {
          "output_type": "display_data",
          "data": {
            "text/plain": [
              "np.int64(5)"
            ]
          },
          "metadata": {}
        },
        {
          "output_type": "display_data",
          "data": {
            "text/plain": [
              "np.int64(5)"
            ]
          },
          "metadata": {}
        },
        {
          "output_type": "display_data",
          "data": {
            "text/plain": [
              "np.int64(5)"
            ]
          },
          "metadata": {}
        },
        {
          "output_type": "display_data",
          "data": {
            "text/plain": [
              "'{\\n  \"AVALIACAO 1\": 5,\\n  \"AVALIACAO 2\": 5\\n}'"
            ],
            "application/vnd.google.colaboratory.intrinsic+json": {
              "type": "string"
            }
          },
          "metadata": {}
        },
        {
          "output_type": "display_data",
          "data": {
            "text/plain": [
              "\"{lanterna_civic_2012_2015} {disponivel} {'para compra'}\""
            ],
            "application/vnd.google.colaboratory.intrinsic+json": {
              "type": "string"
            }
          },
          "metadata": {}
        },
        {
          "output_type": "display_data",
          "data": {
            "text/plain": [
              "np.int64(4)"
            ]
          },
          "metadata": {}
        },
        {
          "output_type": "display_data",
          "data": {
            "text/plain": [
              "np.int64(5)"
            ]
          },
          "metadata": {}
        },
        {
          "output_type": "display_data",
          "data": {
            "text/plain": [
              "np.int64(4)"
            ]
          },
          "metadata": {}
        },
        {
          "output_type": "display_data",
          "data": {
            "text/plain": [
              "np.int64(4)"
            ]
          },
          "metadata": {}
        },
        {
          "output_type": "display_data",
          "data": {
            "text/plain": [
              "'{\\n  \"AVALIAÇÃO 1 — CLAREZA DA JUSTIFICATIVA\": 4,\\n  \"AVALIAÇÃO 2 — COERÊNCIA DAS NOTAS COM A JUSTIFICATIVA\": 4\\n}'"
            ],
            "application/vnd.google.colaboratory.intrinsic+json": {
              "type": "string"
            }
          },
          "metadata": {}
        },
        {
          "output_type": "display_data",
          "data": {
            "text/plain": [
              "\"{camera_de_ar_mr16_17_tr13} {indisponivel} {'pneus 265/70 r 15'}\""
            ],
            "application/vnd.google.colaboratory.intrinsic+json": {
              "type": "string"
            }
          },
          "metadata": {}
        },
        {
          "output_type": "display_data",
          "data": {
            "text/plain": [
              "np.int64(5)"
            ]
          },
          "metadata": {}
        },
        {
          "output_type": "display_data",
          "data": {
            "text/plain": [
              "np.int64(5)"
            ]
          },
          "metadata": {}
        },
        {
          "output_type": "display_data",
          "data": {
            "text/plain": [
              "np.int64(5)"
            ]
          },
          "metadata": {}
        },
        {
          "output_type": "display_data",
          "data": {
            "text/plain": [
              "np.int64(5)"
            ]
          },
          "metadata": {}
        },
        {
          "output_type": "display_data",
          "data": {
            "text/plain": [
              "'{\\n  \"AVALIACAO 1\": 5,\\n  \"AVALIACAO 2\": 5\\n}'"
            ],
            "application/vnd.google.colaboratory.intrinsic+json": {
              "type": "string"
            }
          },
          "metadata": {}
        },
        {
          "output_type": "display_data",
          "data": {
            "text/plain": [
              "\"{cadeira_de_escritorio_nagano_102039705_preta} {indisponivel} {'compra_de_04_unidades'}\""
            ],
            "application/vnd.google.colaboratory.intrinsic+json": {
              "type": "string"
            }
          },
          "metadata": {}
        },
        {
          "output_type": "display_data",
          "data": {
            "text/plain": [
              "np.int64(4)"
            ]
          },
          "metadata": {}
        },
        {
          "output_type": "display_data",
          "data": {
            "text/plain": [
              "np.int64(4)"
            ]
          },
          "metadata": {}
        },
        {
          "output_type": "display_data",
          "data": {
            "text/plain": [
              "np.int64(4)"
            ]
          },
          "metadata": {}
        },
        {
          "output_type": "display_data",
          "data": {
            "text/plain": [
              "np.int64(3)"
            ]
          },
          "metadata": {}
        },
        {
          "output_type": "display_data",
          "data": {
            "text/plain": [
              "'{\\n  \"AVALIACAO 1\": 4,\\n  \"AVALIACAO 2\": 4\\n}'"
            ],
            "application/vnd.google.colaboratory.intrinsic+json": {
              "type": "string"
            }
          },
          "metadata": {}
        },
        {
          "output_type": "display_data",
          "data": {
            "text/plain": [
              "\"{trio_capa_cilindro_painel_borboleta_veste_facil} {indisponivel} {'personalizado para primeiro encontro de mulher'}\""
            ],
            "application/vnd.google.colaboratory.intrinsic+json": {
              "type": "string"
            }
          },
          "metadata": {}
        },
        {
          "output_type": "display_data",
          "data": {
            "text/plain": [
              "np.int64(5)"
            ]
          },
          "metadata": {}
        },
        {
          "output_type": "display_data",
          "data": {
            "text/plain": [
              "np.int64(5)"
            ]
          },
          "metadata": {}
        },
        {
          "output_type": "display_data",
          "data": {
            "text/plain": [
              "np.int64(5)"
            ]
          },
          "metadata": {}
        },
        {
          "output_type": "display_data",
          "data": {
            "text/plain": [
              "np.int64(4)"
            ]
          },
          "metadata": {}
        },
        {
          "output_type": "display_data",
          "data": {
            "text/plain": [
              "'{\\n  \"AVALIAÇÃO 1\": 4,\\n  \"AVALIAÇÃO 2\": 5\\n}'"
            ],
            "application/vnd.google.colaboratory.intrinsic+json": {
              "type": "string"
            }
          },
          "metadata": {}
        },
        {
          "output_type": "display_data",
          "data": {
            "text/plain": [
              "'{kit_4pcs_calota_roda_fox_crossfox_scorro_ferraro_vaska_vk232} {disponivel} {\\'especificacao \"ABS232\"\\'}'"
            ],
            "application/vnd.google.colaboratory.intrinsic+json": {
              "type": "string"
            }
          },
          "metadata": {}
        },
        {
          "output_type": "display_data",
          "data": {
            "text/plain": [
              "np.int64(5)"
            ]
          },
          "metadata": {}
        },
        {
          "output_type": "display_data",
          "data": {
            "text/plain": [
              "np.int64(5)"
            ]
          },
          "metadata": {}
        },
        {
          "output_type": "display_data",
          "data": {
            "text/plain": [
              "np.int64(5)"
            ]
          },
          "metadata": {}
        },
        {
          "output_type": "display_data",
          "data": {
            "text/plain": [
              "np.int64(5)"
            ]
          },
          "metadata": {}
        },
        {
          "output_type": "display_data",
          "data": {
            "text/plain": [
              "'{\\n  \"AVALIACAO 1\": 5,\\n  \"AVALIACAO 2\": 5\\n}'"
            ],
            "application/vnd.google.colaboratory.intrinsic+json": {
              "type": "string"
            }
          },
          "metadata": {}
        },
        {
          "output_type": "display_data",
          "data": {
            "text/plain": [
              "'{fonte_automotiva_carregador_com_voltimetro_de_80amp} {indisponivel} {}'"
            ],
            "application/vnd.google.colaboratory.intrinsic+json": {
              "type": "string"
            }
          },
          "metadata": {}
        },
        {
          "output_type": "display_data",
          "data": {
            "text/plain": [
              "np.int64(5)"
            ]
          },
          "metadata": {}
        },
        {
          "output_type": "display_data",
          "data": {
            "text/plain": [
              "np.int64(5)"
            ]
          },
          "metadata": {}
        },
        {
          "output_type": "display_data",
          "data": {
            "text/plain": [
              "np.int64(4)"
            ]
          },
          "metadata": {}
        },
        {
          "output_type": "display_data",
          "data": {
            "text/plain": [
              "np.int64(4)"
            ]
          },
          "metadata": {}
        },
        {
          "output_type": "display_data",
          "data": {
            "text/plain": [
              "'{\\n  \"AVALIAÇÃO 1 — CLAREZA DA JUSTIFICATIVA\": 5,\\n  \"AVALIAÇÃO 2 — COERÊNCIA DAS NOTAS COM A JUSTIFICATIVA\": 4\\n}'"
            ],
            "application/vnd.google.colaboratory.intrinsic+json": {
              "type": "string"
            }
          },
          "metadata": {}
        },
        {
          "output_type": "display_data",
          "data": {
            "text/plain": [
              "\"{listelo_u_decorativo_aco_inox_espelhado} {indisponivel} {'combinação 4 barras de 3m e 2 barras de 2m'}\""
            ],
            "application/vnd.google.colaboratory.intrinsic+json": {
              "type": "string"
            }
          },
          "metadata": {}
        },
        {
          "output_type": "display_data",
          "data": {
            "text/plain": [
              "np.int64(5)"
            ]
          },
          "metadata": {}
        },
        {
          "output_type": "display_data",
          "data": {
            "text/plain": [
              "np.int64(5)"
            ]
          },
          "metadata": {}
        },
        {
          "output_type": "display_data",
          "data": {
            "text/plain": [
              "np.int64(5)"
            ]
          },
          "metadata": {}
        },
        {
          "output_type": "display_data",
          "data": {
            "text/plain": [
              "np.int64(5)"
            ]
          },
          "metadata": {}
        },
        {
          "output_type": "display_data",
          "data": {
            "text/plain": [
              "'{\\n  \"AVALIACAO 1\": 5,\\n  \"AVALIACAO 2\": 5\\n}'"
            ],
            "application/vnd.google.colaboratory.intrinsic+json": {
              "type": "string"
            }
          },
          "metadata": {}
        },
        {
          "output_type": "display_data",
          "data": {
            "text/plain": [
              "\"{macaneta_interna_cinza_suporte_gol_parati_g2_g3_2_portas_dir} {indisponivel} {'lado do motorista'}\""
            ],
            "application/vnd.google.colaboratory.intrinsic+json": {
              "type": "string"
            }
          },
          "metadata": {}
        },
        {
          "output_type": "display_data",
          "data": {
            "text/plain": [
              "np.int64(5)"
            ]
          },
          "metadata": {}
        },
        {
          "output_type": "display_data",
          "data": {
            "text/plain": [
              "np.int64(4)"
            ]
          },
          "metadata": {}
        },
        {
          "output_type": "display_data",
          "data": {
            "text/plain": [
              "np.int64(5)"
            ]
          },
          "metadata": {}
        },
        {
          "output_type": "display_data",
          "data": {
            "text/plain": [
              "np.int64(4)"
            ]
          },
          "metadata": {}
        },
        {
          "output_type": "display_data",
          "data": {
            "text/plain": [
              "'{\\n  \"AVALIACAO 1\": 4,\\n  \"AVALIACAO 2\": 4\\n}'"
            ],
            "application/vnd.google.colaboratory.intrinsic+json": {
              "type": "string"
            }
          },
          "metadata": {}
        },
        {
          "output_type": "display_data",
          "data": {
            "text/plain": [
              "\"{pillow_top_casal_de_espuma_especial_soft_hr_ortopedico} {disponivel} {'tamanho king'}\""
            ],
            "application/vnd.google.colaboratory.intrinsic+json": {
              "type": "string"
            }
          },
          "metadata": {}
        },
        {
          "output_type": "display_data",
          "data": {
            "text/plain": [
              "np.int64(5)"
            ]
          },
          "metadata": {}
        },
        {
          "output_type": "display_data",
          "data": {
            "text/plain": [
              "np.int64(5)"
            ]
          },
          "metadata": {}
        },
        {
          "output_type": "display_data",
          "data": {
            "text/plain": [
              "np.int64(5)"
            ]
          },
          "metadata": {}
        },
        {
          "output_type": "display_data",
          "data": {
            "text/plain": [
              "np.int64(5)"
            ]
          },
          "metadata": {}
        },
        {
          "output_type": "display_data",
          "data": {
            "text/plain": [
              "'{\\n  \"AVALIACAO 1\": 5,\\n  \"AVALIACAO 2\": 5\\n}'"
            ],
            "application/vnd.google.colaboratory.intrinsic+json": {
              "type": "string"
            }
          },
          "metadata": {}
        },
        {
          "output_type": "display_data",
          "data": {
            "text/plain": [
              "\"{kit_2_radio_walk_talk_comunicador_16_ch_12km_baofeng_777s_ht} {indisponivel} {'venda_de_unica_unidade'}\""
            ],
            "application/vnd.google.colaboratory.intrinsic+json": {
              "type": "string"
            }
          },
          "metadata": {}
        },
        {
          "output_type": "display_data",
          "data": {
            "text/plain": [
              "np.int64(5)"
            ]
          },
          "metadata": {}
        },
        {
          "output_type": "display_data",
          "data": {
            "text/plain": [
              "np.int64(5)"
            ]
          },
          "metadata": {}
        },
        {
          "output_type": "display_data",
          "data": {
            "text/plain": [
              "np.int64(4)"
            ]
          },
          "metadata": {}
        },
        {
          "output_type": "display_data",
          "data": {
            "text/plain": [
              "np.int64(4)"
            ]
          },
          "metadata": {}
        },
        {
          "output_type": "display_data",
          "data": {
            "text/plain": [
              "'{\\n  \"AVALIAÇÃO 1\": 5,\\n  \"AVALIAÇÃO 2\": 4\\n}'"
            ],
            "application/vnd.google.colaboratory.intrinsic+json": {
              "type": "string"
            }
          },
          "metadata": {}
        },
        {
          "output_type": "display_data",
          "data": {
            "text/plain": [
              "\"{pulverizador_costal_bateria_20_l_gpm2000_intech_machine} {disponivel} {'pronta entrega'}\""
            ],
            "application/vnd.google.colaboratory.intrinsic+json": {
              "type": "string"
            }
          },
          "metadata": {}
        },
        {
          "output_type": "display_data",
          "data": {
            "text/plain": [
              "np.int64(5)"
            ]
          },
          "metadata": {}
        },
        {
          "output_type": "display_data",
          "data": {
            "text/plain": [
              "np.int64(5)"
            ]
          },
          "metadata": {}
        },
        {
          "output_type": "display_data",
          "data": {
            "text/plain": [
              "np.int64(5)"
            ]
          },
          "metadata": {}
        },
        {
          "output_type": "display_data",
          "data": {
            "text/plain": [
              "np.int64(5)"
            ]
          },
          "metadata": {}
        },
        {
          "output_type": "display_data",
          "data": {
            "text/plain": [
              "'{\\n  \"AVALIACAO 1\": 5,\\n  \"AVALIACAO 2\": 5\\n}'"
            ],
            "application/vnd.google.colaboratory.intrinsic+json": {
              "type": "string"
            }
          },
          "metadata": {}
        },
        {
          "output_type": "display_data",
          "data": {
            "text/plain": [
              "\"{sobre_aro_abs_cromado_universal} {indisponivel} {'cor preta ou grafite'}\""
            ],
            "application/vnd.google.colaboratory.intrinsic+json": {
              "type": "string"
            }
          },
          "metadata": {}
        },
        {
          "output_type": "display_data",
          "data": {
            "text/plain": [
              "np.int64(5)"
            ]
          },
          "metadata": {}
        },
        {
          "output_type": "display_data",
          "data": {
            "text/plain": [
              "np.int64(5)"
            ]
          },
          "metadata": {}
        },
        {
          "output_type": "display_data",
          "data": {
            "text/plain": [
              "np.int64(4)"
            ]
          },
          "metadata": {}
        },
        {
          "output_type": "display_data",
          "data": {
            "text/plain": [
              "np.int64(4)"
            ]
          },
          "metadata": {}
        },
        {
          "output_type": "display_data",
          "data": {
            "text/plain": [
              "'{\\n  \"AVALIACAO 1\": 4,\\n  \"AVALIACAO 2\": 4\\n}'"
            ],
            "application/vnd.google.colaboratory.intrinsic+json": {
              "type": "string"
            }
          },
          "metadata": {}
        },
        {
          "output_type": "display_data",
          "data": {
            "text/plain": [
              "\"{espaguete_tubo_conduite_corrugado_anti_chamas_12_7mm} {indisponivel} {'rolo de 20 metros'}\""
            ],
            "application/vnd.google.colaboratory.intrinsic+json": {
              "type": "string"
            }
          },
          "metadata": {}
        },
        {
          "output_type": "display_data",
          "data": {
            "text/plain": [
              "np.int64(5)"
            ]
          },
          "metadata": {}
        },
        {
          "output_type": "display_data",
          "data": {
            "text/plain": [
              "np.int64(5)"
            ]
          },
          "metadata": {}
        },
        {
          "output_type": "display_data",
          "data": {
            "text/plain": [
              "np.int64(5)"
            ]
          },
          "metadata": {}
        },
        {
          "output_type": "display_data",
          "data": {
            "text/plain": [
              "np.int64(5)"
            ]
          },
          "metadata": {}
        },
        {
          "output_type": "display_data",
          "data": {
            "text/plain": [
              "'{\\n  \"AVALIACAO 1\": 5,\\n  \"AVALIACAO 2\": 5\\n}'"
            ],
            "application/vnd.google.colaboratory.intrinsic+json": {
              "type": "string"
            }
          },
          "metadata": {}
        },
        {
          "output_type": "display_data",
          "data": {
            "text/plain": [
              "\"{pinca_para_microdermal_piercing_aco_inoxidavel} {indisponivel} {'tamanho 3mm'}\""
            ],
            "application/vnd.google.colaboratory.intrinsic+json": {
              "type": "string"
            }
          },
          "metadata": {}
        },
        {
          "output_type": "display_data",
          "data": {
            "text/plain": [
              "np.int64(5)"
            ]
          },
          "metadata": {}
        },
        {
          "output_type": "display_data",
          "data": {
            "text/plain": [
              "np.int64(5)"
            ]
          },
          "metadata": {}
        },
        {
          "output_type": "display_data",
          "data": {
            "text/plain": [
              "np.int64(5)"
            ]
          },
          "metadata": {}
        },
        {
          "output_type": "display_data",
          "data": {
            "text/plain": [
              "np.int64(5)"
            ]
          },
          "metadata": {}
        },
        {
          "output_type": "display_data",
          "data": {
            "text/plain": [
              "'{\\n  \"AVALIACAO 1\": 5,\\n  \"AVALIACAO 2\": 5\\n}'"
            ],
            "application/vnd.google.colaboratory.intrinsic+json": {
              "type": "string"
            }
          },
          "metadata": {}
        }
      ]
    },
    {
      "cell_type": "code",
      "source": [
        "df_avaliado.to_csv(\"julgamento_avaliacao_\"+arquivo, index=False)"
      ],
      "metadata": {
        "id": "w-K2BXfyOapO"
      },
      "execution_count": null,
      "outputs": []
    },
    {
      "cell_type": "markdown",
      "source": [
        "## Metrics"
      ],
      "metadata": {
        "id": "e_5h7wGxD82x"
      }
    },
    {
      "cell_type": "code",
      "source": [
        "import pandas as pd\n",
        "import json"
      ],
      "metadata": {
        "id": "DQ6Fhn7XGjCJ"
      },
      "execution_count": null,
      "outputs": []
    },
    {
      "cell_type": "code",
      "source": [
        "# mounting the main folder from google drive\n",
        "\n",
        "from os.path import join\n",
        "from google.colab import drive\n",
        "\n",
        "ROOT = \"/content/drive\"\n",
        "drive.mount(ROOT)\n",
        "\n",
        "%cd /content/drive/My Drive/CTI/Experimentos/llm-as-a-judge-e-commerce-triples/"
      ],
      "metadata": {
        "id": "cLrk8A68w_cJ",
        "colab": {
          "base_uri": "https://localhost:8080/"
        },
        "outputId": "90102863-d58a-4fef-f79e-22fb0fee9f9f"
      },
      "execution_count": null,
      "outputs": [
        {
          "output_type": "stream",
          "name": "stdout",
          "text": [
            "Mounted at /content/drive\n",
            "/content/drive/My Drive/CTI/Experimentos/llm-as-a-judge-e-commerce-triples\n"
          ]
        }
      ]
    },
    {
      "cell_type": "code",
      "source": [
        "csv_filename = \"Resultados.csv\"\n",
        "df = pd.read_csv(csv_filename)\n",
        "\n",
        "df.head()"
      ],
      "metadata": {
        "colab": {
          "base_uri": "https://localhost:8080/",
          "height": 551
        },
        "id": "zkqh4TTzF6Qz",
        "outputId": "8a14b3bd-139e-4b3f-827e-eb4befd67547"
      },
      "execution_count": null,
      "outputs": [
        {
          "output_type": "execute_result",
          "data": {
            "text/plain": [
              "   ID                                           Sentence  \\\n",
              "0   1  O Central Multimídia Universal Mp5 Espelhament...   \n",
              "1   2  O Quadro Decorativo Grande Para Sala Quarto Le...   \n",
              "2   3  O Controle Ar Condicionado Universal Diversos ...   \n",
              "3   4  A Polia Correia Alternador Idea 2005/2010 4429...   \n",
              "4   5  O Assoalho Fiat Uno 92 93 94 95 96 97 98 99 La...   \n",
              "\n",
              "                                              Triple  GS_SUBJECT  \\\n",
              "0  {central_multimidia_universal_mp5_espelhamento...           5   \n",
              "1  {quadro_decorativo_grande_para_sala_quarto_lea...           4   \n",
              "2  {controle_ar_condicionado_universal_diversos_m...           5   \n",
              "3  {polia_correia_alternador_idea_2005_2010_4429}...           5   \n",
              "4  {assoalho_fiat_uno_92_93_94_95_96_97_98_99_lad...           5   \n",
              "\n",
              "   GS_PREDICATE  GS_OBJECT  GS_TRIPLE  GE_SM_ZS_SUBJECT  GE_SM_ZS_PREDICATE  \\\n",
              "0             5          4          4                 5                   5   \n",
              "1             5          5          4                 5                   4   \n",
              "2             5          5          5                 5                   5   \n",
              "3             5          5          5                 5                   5   \n",
              "4             5          5          5                 5                   5   \n",
              "\n",
              "   GE_SM_ZS_OBJECT  ...                                   SA_LA_ZS_EXPLAIN  \\\n",
              "0                5  ...  A tripla está correta, mas a especificidade da...   \n",
              "1                5  ...  A tripla captura a incompatibilidade com vidro...   \n",
              "2                4  ...  A tripla RDF representa fielmente a frase orig...   \n",
              "3                5  ...  Sujeito e objeto estão corretos, exceto pela f...   \n",
              "4                5  ...  A tripla RDF representa adequadamente a frase ...   \n",
              "\n",
              "  SA_LA_ZS_EVALUATION_1  SA_LA_ZS_EVALUATION_2  SA_LA_FS_SUBJECT  \\\n",
              "0                     4                      4                 5   \n",
              "1                     4                      4                 5   \n",
              "2                     5                      5                 5   \n",
              "3                     5                      5                 5   \n",
              "4                     5                      5                 5   \n",
              "\n",
              "   SA_LA_FS_PREDICATE  SA_LA_FS_OBJECT  SA_LA_FS_TRIPLE  \\\n",
              "0                   5                3                3   \n",
              "1                   4                5                3   \n",
              "2                   5                5                5   \n",
              "3                   5                5                5   \n",
              "4                   5                5                5   \n",
              "\n",
              "                                    SA_LA_FS_EXPLAIN SA_LA_FS_EVALUATION_1  \\\n",
              "0  O sujeito e o predicado estão corretos, mas o ...                     4   \n",
              "1  Sujeito e objeto estão corretos, mas o predica...                     5   \n",
              "2  Tripla RDF reflete corretamente a compatibilid...                     5   \n",
              "3  A tripla RDF reflete com precisão a informação...                     5   \n",
              "4  A tripla representa fielmente a frase, mantend...                     5   \n",
              "\n",
              "   SA_LA_FS_EVALUATION_2  \n",
              "0                      5  \n",
              "1                      5  \n",
              "2                      5  \n",
              "3                      5  \n",
              "4                      5  \n",
              "\n",
              "[5 rows x 91 columns]"
            ],
            "text/html": [
              "\n",
              "  <div id=\"df-f72d76c5-9de0-4e5e-ad00-d152f85d29a4\" class=\"colab-df-container\">\n",
              "    <div>\n",
              "<style scoped>\n",
              "    .dataframe tbody tr th:only-of-type {\n",
              "        vertical-align: middle;\n",
              "    }\n",
              "\n",
              "    .dataframe tbody tr th {\n",
              "        vertical-align: top;\n",
              "    }\n",
              "\n",
              "    .dataframe thead th {\n",
              "        text-align: right;\n",
              "    }\n",
              "</style>\n",
              "<table border=\"1\" class=\"dataframe\">\n",
              "  <thead>\n",
              "    <tr style=\"text-align: right;\">\n",
              "      <th></th>\n",
              "      <th>ID</th>\n",
              "      <th>Sentence</th>\n",
              "      <th>Triple</th>\n",
              "      <th>GS_SUBJECT</th>\n",
              "      <th>GS_PREDICATE</th>\n",
              "      <th>GS_OBJECT</th>\n",
              "      <th>GS_TRIPLE</th>\n",
              "      <th>GE_SM_ZS_SUBJECT</th>\n",
              "      <th>GE_SM_ZS_PREDICATE</th>\n",
              "      <th>GE_SM_ZS_OBJECT</th>\n",
              "      <th>...</th>\n",
              "      <th>SA_LA_ZS_EXPLAIN</th>\n",
              "      <th>SA_LA_ZS_EVALUATION_1</th>\n",
              "      <th>SA_LA_ZS_EVALUATION_2</th>\n",
              "      <th>SA_LA_FS_SUBJECT</th>\n",
              "      <th>SA_LA_FS_PREDICATE</th>\n",
              "      <th>SA_LA_FS_OBJECT</th>\n",
              "      <th>SA_LA_FS_TRIPLE</th>\n",
              "      <th>SA_LA_FS_EXPLAIN</th>\n",
              "      <th>SA_LA_FS_EVALUATION_1</th>\n",
              "      <th>SA_LA_FS_EVALUATION_2</th>\n",
              "    </tr>\n",
              "  </thead>\n",
              "  <tbody>\n",
              "    <tr>\n",
              "      <th>0</th>\n",
              "      <td>1</td>\n",
              "      <td>O Central Multimídia Universal Mp5 Espelhament...</td>\n",
              "      <td>{central_multimidia_universal_mp5_espelhamento...</td>\n",
              "      <td>5</td>\n",
              "      <td>5</td>\n",
              "      <td>4</td>\n",
              "      <td>4</td>\n",
              "      <td>5</td>\n",
              "      <td>5</td>\n",
              "      <td>5</td>\n",
              "      <td>...</td>\n",
              "      <td>A tripla está correta, mas a especificidade da...</td>\n",
              "      <td>4</td>\n",
              "      <td>4</td>\n",
              "      <td>5</td>\n",
              "      <td>5</td>\n",
              "      <td>3</td>\n",
              "      <td>3</td>\n",
              "      <td>O sujeito e o predicado estão corretos, mas o ...</td>\n",
              "      <td>4</td>\n",
              "      <td>5</td>\n",
              "    </tr>\n",
              "    <tr>\n",
              "      <th>1</th>\n",
              "      <td>2</td>\n",
              "      <td>O Quadro Decorativo Grande Para Sala Quarto Le...</td>\n",
              "      <td>{quadro_decorativo_grande_para_sala_quarto_lea...</td>\n",
              "      <td>4</td>\n",
              "      <td>5</td>\n",
              "      <td>5</td>\n",
              "      <td>4</td>\n",
              "      <td>5</td>\n",
              "      <td>4</td>\n",
              "      <td>5</td>\n",
              "      <td>...</td>\n",
              "      <td>A tripla captura a incompatibilidade com vidro...</td>\n",
              "      <td>4</td>\n",
              "      <td>4</td>\n",
              "      <td>5</td>\n",
              "      <td>4</td>\n",
              "      <td>5</td>\n",
              "      <td>3</td>\n",
              "      <td>Sujeito e objeto estão corretos, mas o predica...</td>\n",
              "      <td>5</td>\n",
              "      <td>5</td>\n",
              "    </tr>\n",
              "    <tr>\n",
              "      <th>2</th>\n",
              "      <td>3</td>\n",
              "      <td>O Controle Ar Condicionado Universal Diversos ...</td>\n",
              "      <td>{controle_ar_condicionado_universal_diversos_m...</td>\n",
              "      <td>5</td>\n",
              "      <td>5</td>\n",
              "      <td>5</td>\n",
              "      <td>5</td>\n",
              "      <td>5</td>\n",
              "      <td>5</td>\n",
              "      <td>4</td>\n",
              "      <td>...</td>\n",
              "      <td>A tripla RDF representa fielmente a frase orig...</td>\n",
              "      <td>5</td>\n",
              "      <td>5</td>\n",
              "      <td>5</td>\n",
              "      <td>5</td>\n",
              "      <td>5</td>\n",
              "      <td>5</td>\n",
              "      <td>Tripla RDF reflete corretamente a compatibilid...</td>\n",
              "      <td>5</td>\n",
              "      <td>5</td>\n",
              "    </tr>\n",
              "    <tr>\n",
              "      <th>3</th>\n",
              "      <td>4</td>\n",
              "      <td>A Polia Correia Alternador Idea 2005/2010 4429...</td>\n",
              "      <td>{polia_correia_alternador_idea_2005_2010_4429}...</td>\n",
              "      <td>5</td>\n",
              "      <td>5</td>\n",
              "      <td>5</td>\n",
              "      <td>5</td>\n",
              "      <td>5</td>\n",
              "      <td>5</td>\n",
              "      <td>5</td>\n",
              "      <td>...</td>\n",
              "      <td>Sujeito e objeto estão corretos, exceto pela f...</td>\n",
              "      <td>5</td>\n",
              "      <td>5</td>\n",
              "      <td>5</td>\n",
              "      <td>5</td>\n",
              "      <td>5</td>\n",
              "      <td>5</td>\n",
              "      <td>A tripla RDF reflete com precisão a informação...</td>\n",
              "      <td>5</td>\n",
              "      <td>5</td>\n",
              "    </tr>\n",
              "    <tr>\n",
              "      <th>4</th>\n",
              "      <td>5</td>\n",
              "      <td>O Assoalho Fiat Uno 92 93 94 95 96 97 98 99 La...</td>\n",
              "      <td>{assoalho_fiat_uno_92_93_94_95_96_97_98_99_lad...</td>\n",
              "      <td>5</td>\n",
              "      <td>5</td>\n",
              "      <td>5</td>\n",
              "      <td>5</td>\n",
              "      <td>5</td>\n",
              "      <td>5</td>\n",
              "      <td>5</td>\n",
              "      <td>...</td>\n",
              "      <td>A tripla RDF representa adequadamente a frase ...</td>\n",
              "      <td>5</td>\n",
              "      <td>5</td>\n",
              "      <td>5</td>\n",
              "      <td>5</td>\n",
              "      <td>5</td>\n",
              "      <td>5</td>\n",
              "      <td>A tripla representa fielmente a frase, mantend...</td>\n",
              "      <td>5</td>\n",
              "      <td>5</td>\n",
              "    </tr>\n",
              "  </tbody>\n",
              "</table>\n",
              "<p>5 rows × 91 columns</p>\n",
              "</div>\n",
              "    <div class=\"colab-df-buttons\">\n",
              "\n",
              "  <div class=\"colab-df-container\">\n",
              "    <button class=\"colab-df-convert\" onclick=\"convertToInteractive('df-f72d76c5-9de0-4e5e-ad00-d152f85d29a4')\"\n",
              "            title=\"Convert this dataframe to an interactive table.\"\n",
              "            style=\"display:none;\">\n",
              "\n",
              "  <svg xmlns=\"http://www.w3.org/2000/svg\" height=\"24px\" viewBox=\"0 -960 960 960\">\n",
              "    <path d=\"M120-120v-720h720v720H120Zm60-500h600v-160H180v160Zm220 220h160v-160H400v160Zm0 220h160v-160H400v160ZM180-400h160v-160H180v160Zm440 0h160v-160H620v160ZM180-180h160v-160H180v160Zm440 0h160v-160H620v160Z\"/>\n",
              "  </svg>\n",
              "    </button>\n",
              "\n",
              "  <style>\n",
              "    .colab-df-container {\n",
              "      display:flex;\n",
              "      gap: 12px;\n",
              "    }\n",
              "\n",
              "    .colab-df-convert {\n",
              "      background-color: #E8F0FE;\n",
              "      border: none;\n",
              "      border-radius: 50%;\n",
              "      cursor: pointer;\n",
              "      display: none;\n",
              "      fill: #1967D2;\n",
              "      height: 32px;\n",
              "      padding: 0 0 0 0;\n",
              "      width: 32px;\n",
              "    }\n",
              "\n",
              "    .colab-df-convert:hover {\n",
              "      background-color: #E2EBFA;\n",
              "      box-shadow: 0px 1px 2px rgba(60, 64, 67, 0.3), 0px 1px 3px 1px rgba(60, 64, 67, 0.15);\n",
              "      fill: #174EA6;\n",
              "    }\n",
              "\n",
              "    .colab-df-buttons div {\n",
              "      margin-bottom: 4px;\n",
              "    }\n",
              "\n",
              "    [theme=dark] .colab-df-convert {\n",
              "      background-color: #3B4455;\n",
              "      fill: #D2E3FC;\n",
              "    }\n",
              "\n",
              "    [theme=dark] .colab-df-convert:hover {\n",
              "      background-color: #434B5C;\n",
              "      box-shadow: 0px 1px 3px 1px rgba(0, 0, 0, 0.15);\n",
              "      filter: drop-shadow(0px 1px 2px rgba(0, 0, 0, 0.3));\n",
              "      fill: #FFFFFF;\n",
              "    }\n",
              "  </style>\n",
              "\n",
              "    <script>\n",
              "      const buttonEl =\n",
              "        document.querySelector('#df-f72d76c5-9de0-4e5e-ad00-d152f85d29a4 button.colab-df-convert');\n",
              "      buttonEl.style.display =\n",
              "        google.colab.kernel.accessAllowed ? 'block' : 'none';\n",
              "\n",
              "      async function convertToInteractive(key) {\n",
              "        const element = document.querySelector('#df-f72d76c5-9de0-4e5e-ad00-d152f85d29a4');\n",
              "        const dataTable =\n",
              "          await google.colab.kernel.invokeFunction('convertToInteractive',\n",
              "                                                    [key], {});\n",
              "        if (!dataTable) return;\n",
              "\n",
              "        const docLinkHtml = 'Like what you see? Visit the ' +\n",
              "          '<a target=\"_blank\" href=https://colab.research.google.com/notebooks/data_table.ipynb>data table notebook</a>'\n",
              "          + ' to learn more about interactive tables.';\n",
              "        element.innerHTML = '';\n",
              "        dataTable['output_type'] = 'display_data';\n",
              "        await google.colab.output.renderOutput(dataTable, element);\n",
              "        const docLink = document.createElement('div');\n",
              "        docLink.innerHTML = docLinkHtml;\n",
              "        element.appendChild(docLink);\n",
              "      }\n",
              "    </script>\n",
              "  </div>\n",
              "\n",
              "\n",
              "    <div id=\"df-ccede1d6-1bce-4856-bb3a-5093dbd46991\">\n",
              "      <button class=\"colab-df-quickchart\" onclick=\"quickchart('df-ccede1d6-1bce-4856-bb3a-5093dbd46991')\"\n",
              "                title=\"Suggest charts\"\n",
              "                style=\"display:none;\">\n",
              "\n",
              "<svg xmlns=\"http://www.w3.org/2000/svg\" height=\"24px\"viewBox=\"0 0 24 24\"\n",
              "     width=\"24px\">\n",
              "    <g>\n",
              "        <path d=\"M19 3H5c-1.1 0-2 .9-2 2v14c0 1.1.9 2 2 2h14c1.1 0 2-.9 2-2V5c0-1.1-.9-2-2-2zM9 17H7v-7h2v7zm4 0h-2V7h2v10zm4 0h-2v-4h2v4z\"/>\n",
              "    </g>\n",
              "</svg>\n",
              "      </button>\n",
              "\n",
              "<style>\n",
              "  .colab-df-quickchart {\n",
              "      --bg-color: #E8F0FE;\n",
              "      --fill-color: #1967D2;\n",
              "      --hover-bg-color: #E2EBFA;\n",
              "      --hover-fill-color: #174EA6;\n",
              "      --disabled-fill-color: #AAA;\n",
              "      --disabled-bg-color: #DDD;\n",
              "  }\n",
              "\n",
              "  [theme=dark] .colab-df-quickchart {\n",
              "      --bg-color: #3B4455;\n",
              "      --fill-color: #D2E3FC;\n",
              "      --hover-bg-color: #434B5C;\n",
              "      --hover-fill-color: #FFFFFF;\n",
              "      --disabled-bg-color: #3B4455;\n",
              "      --disabled-fill-color: #666;\n",
              "  }\n",
              "\n",
              "  .colab-df-quickchart {\n",
              "    background-color: var(--bg-color);\n",
              "    border: none;\n",
              "    border-radius: 50%;\n",
              "    cursor: pointer;\n",
              "    display: none;\n",
              "    fill: var(--fill-color);\n",
              "    height: 32px;\n",
              "    padding: 0;\n",
              "    width: 32px;\n",
              "  }\n",
              "\n",
              "  .colab-df-quickchart:hover {\n",
              "    background-color: var(--hover-bg-color);\n",
              "    box-shadow: 0 1px 2px rgba(60, 64, 67, 0.3), 0 1px 3px 1px rgba(60, 64, 67, 0.15);\n",
              "    fill: var(--button-hover-fill-color);\n",
              "  }\n",
              "\n",
              "  .colab-df-quickchart-complete:disabled,\n",
              "  .colab-df-quickchart-complete:disabled:hover {\n",
              "    background-color: var(--disabled-bg-color);\n",
              "    fill: var(--disabled-fill-color);\n",
              "    box-shadow: none;\n",
              "  }\n",
              "\n",
              "  .colab-df-spinner {\n",
              "    border: 2px solid var(--fill-color);\n",
              "    border-color: transparent;\n",
              "    border-bottom-color: var(--fill-color);\n",
              "    animation:\n",
              "      spin 1s steps(1) infinite;\n",
              "  }\n",
              "\n",
              "  @keyframes spin {\n",
              "    0% {\n",
              "      border-color: transparent;\n",
              "      border-bottom-color: var(--fill-color);\n",
              "      border-left-color: var(--fill-color);\n",
              "    }\n",
              "    20% {\n",
              "      border-color: transparent;\n",
              "      border-left-color: var(--fill-color);\n",
              "      border-top-color: var(--fill-color);\n",
              "    }\n",
              "    30% {\n",
              "      border-color: transparent;\n",
              "      border-left-color: var(--fill-color);\n",
              "      border-top-color: var(--fill-color);\n",
              "      border-right-color: var(--fill-color);\n",
              "    }\n",
              "    40% {\n",
              "      border-color: transparent;\n",
              "      border-right-color: var(--fill-color);\n",
              "      border-top-color: var(--fill-color);\n",
              "    }\n",
              "    60% {\n",
              "      border-color: transparent;\n",
              "      border-right-color: var(--fill-color);\n",
              "    }\n",
              "    80% {\n",
              "      border-color: transparent;\n",
              "      border-right-color: var(--fill-color);\n",
              "      border-bottom-color: var(--fill-color);\n",
              "    }\n",
              "    90% {\n",
              "      border-color: transparent;\n",
              "      border-bottom-color: var(--fill-color);\n",
              "    }\n",
              "  }\n",
              "</style>\n",
              "\n",
              "      <script>\n",
              "        async function quickchart(key) {\n",
              "          const quickchartButtonEl =\n",
              "            document.querySelector('#' + key + ' button');\n",
              "          quickchartButtonEl.disabled = true;  // To prevent multiple clicks.\n",
              "          quickchartButtonEl.classList.add('colab-df-spinner');\n",
              "          try {\n",
              "            const charts = await google.colab.kernel.invokeFunction(\n",
              "                'suggestCharts', [key], {});\n",
              "          } catch (error) {\n",
              "            console.error('Error during call to suggestCharts:', error);\n",
              "          }\n",
              "          quickchartButtonEl.classList.remove('colab-df-spinner');\n",
              "          quickchartButtonEl.classList.add('colab-df-quickchart-complete');\n",
              "        }\n",
              "        (() => {\n",
              "          let quickchartButtonEl =\n",
              "            document.querySelector('#df-ccede1d6-1bce-4856-bb3a-5093dbd46991 button');\n",
              "          quickchartButtonEl.style.display =\n",
              "            google.colab.kernel.accessAllowed ? 'block' : 'none';\n",
              "        })();\n",
              "      </script>\n",
              "    </div>\n",
              "\n",
              "    </div>\n",
              "  </div>\n"
            ],
            "application/vnd.google.colaboratory.intrinsic+json": {
              "type": "dataframe",
              "variable_name": "df"
            }
          },
          "metadata": {},
          "execution_count": 3
        }
      ]
    },
    {
      "cell_type": "code",
      "source": [
        "import pandas as pd\n",
        "from scipy.stats import kendalltau, spearmanr\n",
        "\n",
        "def evaluate_llms(df, llm_names):\n",
        "    results = []\n",
        "\n",
        "    for llm in llm_names:\n",
        "        row = {'LLM': llm}\n",
        "\n",
        "        dimensions = ['SUBJECT', 'PREDICATE', 'OBJECT', 'TRIPLE']\n",
        "\n",
        "        for dim in dimensions:\n",
        "            gs_col = f\"GS_{dim}\"\n",
        "            llm_col = f\"{llm}_{dim}\"\n",
        "\n",
        "            gs_scores = df[gs_col].values\n",
        "            llm_scores = df[llm_col].values\n",
        "\n",
        "            # Compute Kendall's Tau and Spearman's Rho\n",
        "            tau, p_value_kendal = kendalltau(gs_scores, llm_scores)\n",
        "            rho, p_value_spearman = spearmanr(gs_scores, llm_scores)\n",
        "\n",
        "            row[f\"Kendall_Tau_{dim}\"] = tau\n",
        "            row[f\"p-Kendall_Tau_{dim}\"] = p_value_kendal\n",
        "            row[f\"Spearman_{dim}\"] = rho\n",
        "            row[f\"p-Spearman_{dim}\"] = p_value_spearman\n",
        "\n",
        "        results.append(row)\n",
        "\n",
        "    return pd.DataFrame(results)\n"
      ],
      "metadata": {
        "id": "PGU-BqUvGfkc"
      },
      "execution_count": null,
      "outputs": []
    },
    {
      "cell_type": "code",
      "source": [
        "llms = [\n",
        "  'GE_SM_ZS',\n",
        "    'GE_SM_FS',\n",
        "    'GE_LA_ZS',\n",
        "    'GE_LA_FS',\n",
        "    'QW_SM_ZS',\n",
        "    'QW_SM_FS',\n",
        "    'QW_LA_ZS',\n",
        "    'QW_LA_FS',\n",
        "    'SA_SM_ZS',\n",
        "    'SA_SM_FS',\n",
        "    'SA_LA_ZS',\n",
        "    'SA_LA_FS'\n",
        "]  # add all 12 names\n",
        "df_results = evaluate_llms(df, llms)\n",
        "display(df_results)\n"
      ],
      "metadata": {
        "colab": {
          "base_uri": "https://localhost:8080/",
          "height": 463
        },
        "id": "h11jveEUv4_X",
        "outputId": "bf4cc515-038b-47b7-c666-5f1250fd8899"
      },
      "execution_count": null,
      "outputs": [
        {
          "output_type": "display_data",
          "data": {
            "text/plain": [
              "         LLM  Kendall_Tau_SUBJECT  p-Kendall_Tau_SUBJECT  Spearman_SUBJECT  \\\n",
              "0   GE_SM_ZS             0.106780           5.349913e-02          0.112000   \n",
              "1   GE_SM_FS             0.114782           3.952451e-02          0.119057   \n",
              "2   GE_LA_ZS             0.156885           4.430923e-03          0.164609   \n",
              "3   GE_LA_FS             0.129024           2.066067e-02          0.133830   \n",
              "4   QW_SM_ZS             0.070345           1.961060e-01          0.075177   \n",
              "5   QW_SM_FS             0.100274           7.174820e-02          0.104259   \n",
              "6   QW_LA_ZS             0.530017           2.259296e-22          0.559808   \n",
              "7   QW_LA_FS             0.241136           1.208635e-05          0.251775   \n",
              "8   SA_SM_ZS             0.128100           1.608319e-02          0.137294   \n",
              "9   SA_SM_FS             0.074879           1.792706e-01          0.077668   \n",
              "10  SA_LA_ZS             0.249688           4.532467e-06          0.264952   \n",
              "11  SA_LA_FS             0.321733           7.483677e-09          0.333261   \n",
              "\n",
              "    p-Spearman_SUBJECT  Kendall_Tau_PREDICATE  p-Kendall_Tau_PREDICATE  \\\n",
              "0         5.263492e-02               0.199230                 0.000181   \n",
              "1         3.931731e-02               0.214187                 0.000087   \n",
              "2         4.253308e-03               0.217140                 0.000024   \n",
              "3         2.040814e-02               0.183863                 0.000622   \n",
              "4         1.941162e-01               0.101053                 0.057736   \n",
              "5         7.135692e-02               0.140427                 0.011377   \n",
              "6         3.833310e-26               0.155023                 0.002929   \n",
              "7         1.014899e-05               0.167259                 0.001498   \n",
              "8         1.734323e-02               0.143492                 0.006534   \n",
              "9         1.797064e-01               0.143401                 0.010471   \n",
              "10        3.265514e-06               0.226137                 0.000028   \n",
              "11        3.255107e-09               0.183283                 0.000858   \n",
              "\n",
              "    Spearman_PREDICATE  p-Spearman_PREDICATE  Kendall_Tau_OBJECT  \\\n",
              "0             0.215813              0.000165            0.314782   \n",
              "1             0.225476              0.000082            0.405399   \n",
              "2             0.244443              0.000019            0.388353   \n",
              "3             0.198147              0.000557            0.382107   \n",
              "4             0.110077              0.056856           -0.050228   \n",
              "5             0.146590              0.011017            0.366319   \n",
              "6             0.171522              0.002877            0.316451   \n",
              "7             0.182938              0.001461            0.272367   \n",
              "8             0.156833              0.006490            0.353472   \n",
              "9             0.147628              0.010456            0.435765   \n",
              "10            0.240652              0.000025            0.293014   \n",
              "11            0.192504              0.000803            0.308837   \n",
              "\n",
              "    p-Kendall_Tau_OBJECT  Spearman_OBJECT  p-Spearman_OBJECT  \\\n",
              "0           7.007744e-10         0.350279       4.361697e-10   \n",
              "1           1.777988e-14         0.434820       2.876289e-15   \n",
              "2           3.937163e-14         0.428255       8.236969e-15   \n",
              "3           2.118270e-13         0.414457       6.989114e-14   \n",
              "4           3.370322e-01        -0.055044       3.420494e-01   \n",
              "5           8.348349e-13         0.405780       2.552289e-13   \n",
              "6           8.978332e-10         0.350468       4.262618e-10   \n",
              "7           1.087123e-07         0.302922       8.741452e-08   \n",
              "8           4.969861e-12         0.391741       1.919518e-12   \n",
              "9           1.102908e-15         0.459796       4.239723e-17   \n",
              "10          5.777375e-08         0.309828       4.267905e-08   \n",
              "11          6.514653e-09         0.329516       4.984610e-09   \n",
              "\n",
              "    Kendall_Tau_TRIPLE  p-Kendall_Tau_TRIPLE  Spearman_TRIPLE  \\\n",
              "0             0.334308          6.898848e-11         0.371826   \n",
              "1             0.394738          1.287017e-14         0.434944   \n",
              "2             0.424329          4.566906e-17         0.479623   \n",
              "3             0.394987          7.170084e-15         0.442838   \n",
              "4             0.050608          3.247294e-01         0.056505   \n",
              "5             0.381587          4.513288e-14         0.425600   \n",
              "6             0.314437          3.154909e-10         0.357643   \n",
              "7             0.353562          2.568883e-12         0.395768   \n",
              "8             0.422505          1.018974e-16         0.466536   \n",
              "9             0.385815          3.116330e-13         0.420613   \n",
              "10            0.338594          4.655289e-11         0.375487   \n",
              "11            0.450528          2.462597e-18         0.490521   \n",
              "\n",
              "    p-Spearman_TRIPLE  \n",
              "0        2.864145e-11  \n",
              "1        2.818739e-15  \n",
              "2        1.155536e-18  \n",
              "3        7.711432e-16  \n",
              "4        3.293645e-01  \n",
              "5        1.252467e-14  \n",
              "6        1.759560e-10  \n",
              "7        1.086687e-12  \n",
              "8        1.278862e-17  \n",
              "9        2.724897e-14  \n",
              "10       1.766740e-11  \n",
              "11       1.440505e-19  "
            ],
            "text/html": [
              "\n",
              "  <div id=\"df-63f24e44-1326-4001-ab5f-7ca643931de2\" class=\"colab-df-container\">\n",
              "    <div>\n",
              "<style scoped>\n",
              "    .dataframe tbody tr th:only-of-type {\n",
              "        vertical-align: middle;\n",
              "    }\n",
              "\n",
              "    .dataframe tbody tr th {\n",
              "        vertical-align: top;\n",
              "    }\n",
              "\n",
              "    .dataframe thead th {\n",
              "        text-align: right;\n",
              "    }\n",
              "</style>\n",
              "<table border=\"1\" class=\"dataframe\">\n",
              "  <thead>\n",
              "    <tr style=\"text-align: right;\">\n",
              "      <th></th>\n",
              "      <th>LLM</th>\n",
              "      <th>Kendall_Tau_SUBJECT</th>\n",
              "      <th>p-Kendall_Tau_SUBJECT</th>\n",
              "      <th>Spearman_SUBJECT</th>\n",
              "      <th>p-Spearman_SUBJECT</th>\n",
              "      <th>Kendall_Tau_PREDICATE</th>\n",
              "      <th>p-Kendall_Tau_PREDICATE</th>\n",
              "      <th>Spearman_PREDICATE</th>\n",
              "      <th>p-Spearman_PREDICATE</th>\n",
              "      <th>Kendall_Tau_OBJECT</th>\n",
              "      <th>p-Kendall_Tau_OBJECT</th>\n",
              "      <th>Spearman_OBJECT</th>\n",
              "      <th>p-Spearman_OBJECT</th>\n",
              "      <th>Kendall_Tau_TRIPLE</th>\n",
              "      <th>p-Kendall_Tau_TRIPLE</th>\n",
              "      <th>Spearman_TRIPLE</th>\n",
              "      <th>p-Spearman_TRIPLE</th>\n",
              "    </tr>\n",
              "  </thead>\n",
              "  <tbody>\n",
              "    <tr>\n",
              "      <th>0</th>\n",
              "      <td>GE_SM_ZS</td>\n",
              "      <td>0.106780</td>\n",
              "      <td>5.349913e-02</td>\n",
              "      <td>0.112000</td>\n",
              "      <td>5.263492e-02</td>\n",
              "      <td>0.199230</td>\n",
              "      <td>0.000181</td>\n",
              "      <td>0.215813</td>\n",
              "      <td>0.000165</td>\n",
              "      <td>0.314782</td>\n",
              "      <td>7.007744e-10</td>\n",
              "      <td>0.350279</td>\n",
              "      <td>4.361697e-10</td>\n",
              "      <td>0.334308</td>\n",
              "      <td>6.898848e-11</td>\n",
              "      <td>0.371826</td>\n",
              "      <td>2.864145e-11</td>\n",
              "    </tr>\n",
              "    <tr>\n",
              "      <th>1</th>\n",
              "      <td>GE_SM_FS</td>\n",
              "      <td>0.114782</td>\n",
              "      <td>3.952451e-02</td>\n",
              "      <td>0.119057</td>\n",
              "      <td>3.931731e-02</td>\n",
              "      <td>0.214187</td>\n",
              "      <td>0.000087</td>\n",
              "      <td>0.225476</td>\n",
              "      <td>0.000082</td>\n",
              "      <td>0.405399</td>\n",
              "      <td>1.777988e-14</td>\n",
              "      <td>0.434820</td>\n",
              "      <td>2.876289e-15</td>\n",
              "      <td>0.394738</td>\n",
              "      <td>1.287017e-14</td>\n",
              "      <td>0.434944</td>\n",
              "      <td>2.818739e-15</td>\n",
              "    </tr>\n",
              "    <tr>\n",
              "      <th>2</th>\n",
              "      <td>GE_LA_ZS</td>\n",
              "      <td>0.156885</td>\n",
              "      <td>4.430923e-03</td>\n",
              "      <td>0.164609</td>\n",
              "      <td>4.253308e-03</td>\n",
              "      <td>0.217140</td>\n",
              "      <td>0.000024</td>\n",
              "      <td>0.244443</td>\n",
              "      <td>0.000019</td>\n",
              "      <td>0.388353</td>\n",
              "      <td>3.937163e-14</td>\n",
              "      <td>0.428255</td>\n",
              "      <td>8.236969e-15</td>\n",
              "      <td>0.424329</td>\n",
              "      <td>4.566906e-17</td>\n",
              "      <td>0.479623</td>\n",
              "      <td>1.155536e-18</td>\n",
              "    </tr>\n",
              "    <tr>\n",
              "      <th>3</th>\n",
              "      <td>GE_LA_FS</td>\n",
              "      <td>0.129024</td>\n",
              "      <td>2.066067e-02</td>\n",
              "      <td>0.133830</td>\n",
              "      <td>2.040814e-02</td>\n",
              "      <td>0.183863</td>\n",
              "      <td>0.000622</td>\n",
              "      <td>0.198147</td>\n",
              "      <td>0.000557</td>\n",
              "      <td>0.382107</td>\n",
              "      <td>2.118270e-13</td>\n",
              "      <td>0.414457</td>\n",
              "      <td>6.989114e-14</td>\n",
              "      <td>0.394987</td>\n",
              "      <td>7.170084e-15</td>\n",
              "      <td>0.442838</td>\n",
              "      <td>7.711432e-16</td>\n",
              "    </tr>\n",
              "    <tr>\n",
              "      <th>4</th>\n",
              "      <td>QW_SM_ZS</td>\n",
              "      <td>0.070345</td>\n",
              "      <td>1.961060e-01</td>\n",
              "      <td>0.075177</td>\n",
              "      <td>1.941162e-01</td>\n",
              "      <td>0.101053</td>\n",
              "      <td>0.057736</td>\n",
              "      <td>0.110077</td>\n",
              "      <td>0.056856</td>\n",
              "      <td>-0.050228</td>\n",
              "      <td>3.370322e-01</td>\n",
              "      <td>-0.055044</td>\n",
              "      <td>3.420494e-01</td>\n",
              "      <td>0.050608</td>\n",
              "      <td>3.247294e-01</td>\n",
              "      <td>0.056505</td>\n",
              "      <td>3.293645e-01</td>\n",
              "    </tr>\n",
              "    <tr>\n",
              "      <th>5</th>\n",
              "      <td>QW_SM_FS</td>\n",
              "      <td>0.100274</td>\n",
              "      <td>7.174820e-02</td>\n",
              "      <td>0.104259</td>\n",
              "      <td>7.135692e-02</td>\n",
              "      <td>0.140427</td>\n",
              "      <td>0.011377</td>\n",
              "      <td>0.146590</td>\n",
              "      <td>0.011017</td>\n",
              "      <td>0.366319</td>\n",
              "      <td>8.348349e-13</td>\n",
              "      <td>0.405780</td>\n",
              "      <td>2.552289e-13</td>\n",
              "      <td>0.381587</td>\n",
              "      <td>4.513288e-14</td>\n",
              "      <td>0.425600</td>\n",
              "      <td>1.252467e-14</td>\n",
              "    </tr>\n",
              "    <tr>\n",
              "      <th>6</th>\n",
              "      <td>QW_LA_ZS</td>\n",
              "      <td>0.530017</td>\n",
              "      <td>2.259296e-22</td>\n",
              "      <td>0.559808</td>\n",
              "      <td>3.833310e-26</td>\n",
              "      <td>0.155023</td>\n",
              "      <td>0.002929</td>\n",
              "      <td>0.171522</td>\n",
              "      <td>0.002877</td>\n",
              "      <td>0.316451</td>\n",
              "      <td>8.978332e-10</td>\n",
              "      <td>0.350468</td>\n",
              "      <td>4.262618e-10</td>\n",
              "      <td>0.314437</td>\n",
              "      <td>3.154909e-10</td>\n",
              "      <td>0.357643</td>\n",
              "      <td>1.759560e-10</td>\n",
              "    </tr>\n",
              "    <tr>\n",
              "      <th>7</th>\n",
              "      <td>QW_LA_FS</td>\n",
              "      <td>0.241136</td>\n",
              "      <td>1.208635e-05</td>\n",
              "      <td>0.251775</td>\n",
              "      <td>1.014899e-05</td>\n",
              "      <td>0.167259</td>\n",
              "      <td>0.001498</td>\n",
              "      <td>0.182938</td>\n",
              "      <td>0.001461</td>\n",
              "      <td>0.272367</td>\n",
              "      <td>1.087123e-07</td>\n",
              "      <td>0.302922</td>\n",
              "      <td>8.741452e-08</td>\n",
              "      <td>0.353562</td>\n",
              "      <td>2.568883e-12</td>\n",
              "      <td>0.395768</td>\n",
              "      <td>1.086687e-12</td>\n",
              "    </tr>\n",
              "    <tr>\n",
              "      <th>8</th>\n",
              "      <td>SA_SM_ZS</td>\n",
              "      <td>0.128100</td>\n",
              "      <td>1.608319e-02</td>\n",
              "      <td>0.137294</td>\n",
              "      <td>1.734323e-02</td>\n",
              "      <td>0.143492</td>\n",
              "      <td>0.006534</td>\n",
              "      <td>0.156833</td>\n",
              "      <td>0.006490</td>\n",
              "      <td>0.353472</td>\n",
              "      <td>4.969861e-12</td>\n",
              "      <td>0.391741</td>\n",
              "      <td>1.919518e-12</td>\n",
              "      <td>0.422505</td>\n",
              "      <td>1.018974e-16</td>\n",
              "      <td>0.466536</td>\n",
              "      <td>1.278862e-17</td>\n",
              "    </tr>\n",
              "    <tr>\n",
              "      <th>9</th>\n",
              "      <td>SA_SM_FS</td>\n",
              "      <td>0.074879</td>\n",
              "      <td>1.792706e-01</td>\n",
              "      <td>0.077668</td>\n",
              "      <td>1.797064e-01</td>\n",
              "      <td>0.143401</td>\n",
              "      <td>0.010471</td>\n",
              "      <td>0.147628</td>\n",
              "      <td>0.010456</td>\n",
              "      <td>0.435765</td>\n",
              "      <td>1.102908e-15</td>\n",
              "      <td>0.459796</td>\n",
              "      <td>4.239723e-17</td>\n",
              "      <td>0.385815</td>\n",
              "      <td>3.116330e-13</td>\n",
              "      <td>0.420613</td>\n",
              "      <td>2.724897e-14</td>\n",
              "    </tr>\n",
              "    <tr>\n",
              "      <th>10</th>\n",
              "      <td>SA_LA_ZS</td>\n",
              "      <td>0.249688</td>\n",
              "      <td>4.532467e-06</td>\n",
              "      <td>0.264952</td>\n",
              "      <td>3.265514e-06</td>\n",
              "      <td>0.226137</td>\n",
              "      <td>0.000028</td>\n",
              "      <td>0.240652</td>\n",
              "      <td>0.000025</td>\n",
              "      <td>0.293014</td>\n",
              "      <td>5.777375e-08</td>\n",
              "      <td>0.309828</td>\n",
              "      <td>4.267905e-08</td>\n",
              "      <td>0.338594</td>\n",
              "      <td>4.655289e-11</td>\n",
              "      <td>0.375487</td>\n",
              "      <td>1.766740e-11</td>\n",
              "    </tr>\n",
              "    <tr>\n",
              "      <th>11</th>\n",
              "      <td>SA_LA_FS</td>\n",
              "      <td>0.321733</td>\n",
              "      <td>7.483677e-09</td>\n",
              "      <td>0.333261</td>\n",
              "      <td>3.255107e-09</td>\n",
              "      <td>0.183283</td>\n",
              "      <td>0.000858</td>\n",
              "      <td>0.192504</td>\n",
              "      <td>0.000803</td>\n",
              "      <td>0.308837</td>\n",
              "      <td>6.514653e-09</td>\n",
              "      <td>0.329516</td>\n",
              "      <td>4.984610e-09</td>\n",
              "      <td>0.450528</td>\n",
              "      <td>2.462597e-18</td>\n",
              "      <td>0.490521</td>\n",
              "      <td>1.440505e-19</td>\n",
              "    </tr>\n",
              "  </tbody>\n",
              "</table>\n",
              "</div>\n",
              "    <div class=\"colab-df-buttons\">\n",
              "\n",
              "  <div class=\"colab-df-container\">\n",
              "    <button class=\"colab-df-convert\" onclick=\"convertToInteractive('df-63f24e44-1326-4001-ab5f-7ca643931de2')\"\n",
              "            title=\"Convert this dataframe to an interactive table.\"\n",
              "            style=\"display:none;\">\n",
              "\n",
              "  <svg xmlns=\"http://www.w3.org/2000/svg\" height=\"24px\" viewBox=\"0 -960 960 960\">\n",
              "    <path d=\"M120-120v-720h720v720H120Zm60-500h600v-160H180v160Zm220 220h160v-160H400v160Zm0 220h160v-160H400v160ZM180-400h160v-160H180v160Zm440 0h160v-160H620v160ZM180-180h160v-160H180v160Zm440 0h160v-160H620v160Z\"/>\n",
              "  </svg>\n",
              "    </button>\n",
              "\n",
              "  <style>\n",
              "    .colab-df-container {\n",
              "      display:flex;\n",
              "      gap: 12px;\n",
              "    }\n",
              "\n",
              "    .colab-df-convert {\n",
              "      background-color: #E8F0FE;\n",
              "      border: none;\n",
              "      border-radius: 50%;\n",
              "      cursor: pointer;\n",
              "      display: none;\n",
              "      fill: #1967D2;\n",
              "      height: 32px;\n",
              "      padding: 0 0 0 0;\n",
              "      width: 32px;\n",
              "    }\n",
              "\n",
              "    .colab-df-convert:hover {\n",
              "      background-color: #E2EBFA;\n",
              "      box-shadow: 0px 1px 2px rgba(60, 64, 67, 0.3), 0px 1px 3px 1px rgba(60, 64, 67, 0.15);\n",
              "      fill: #174EA6;\n",
              "    }\n",
              "\n",
              "    .colab-df-buttons div {\n",
              "      margin-bottom: 4px;\n",
              "    }\n",
              "\n",
              "    [theme=dark] .colab-df-convert {\n",
              "      background-color: #3B4455;\n",
              "      fill: #D2E3FC;\n",
              "    }\n",
              "\n",
              "    [theme=dark] .colab-df-convert:hover {\n",
              "      background-color: #434B5C;\n",
              "      box-shadow: 0px 1px 3px 1px rgba(0, 0, 0, 0.15);\n",
              "      filter: drop-shadow(0px 1px 2px rgba(0, 0, 0, 0.3));\n",
              "      fill: #FFFFFF;\n",
              "    }\n",
              "  </style>\n",
              "\n",
              "    <script>\n",
              "      const buttonEl =\n",
              "        document.querySelector('#df-63f24e44-1326-4001-ab5f-7ca643931de2 button.colab-df-convert');\n",
              "      buttonEl.style.display =\n",
              "        google.colab.kernel.accessAllowed ? 'block' : 'none';\n",
              "\n",
              "      async function convertToInteractive(key) {\n",
              "        const element = document.querySelector('#df-63f24e44-1326-4001-ab5f-7ca643931de2');\n",
              "        const dataTable =\n",
              "          await google.colab.kernel.invokeFunction('convertToInteractive',\n",
              "                                                    [key], {});\n",
              "        if (!dataTable) return;\n",
              "\n",
              "        const docLinkHtml = 'Like what you see? Visit the ' +\n",
              "          '<a target=\"_blank\" href=https://colab.research.google.com/notebooks/data_table.ipynb>data table notebook</a>'\n",
              "          + ' to learn more about interactive tables.';\n",
              "        element.innerHTML = '';\n",
              "        dataTable['output_type'] = 'display_data';\n",
              "        await google.colab.output.renderOutput(dataTable, element);\n",
              "        const docLink = document.createElement('div');\n",
              "        docLink.innerHTML = docLinkHtml;\n",
              "        element.appendChild(docLink);\n",
              "      }\n",
              "    </script>\n",
              "  </div>\n",
              "\n",
              "\n",
              "    <div id=\"df-26f379fe-111c-4933-9398-a5543acf821d\">\n",
              "      <button class=\"colab-df-quickchart\" onclick=\"quickchart('df-26f379fe-111c-4933-9398-a5543acf821d')\"\n",
              "                title=\"Suggest charts\"\n",
              "                style=\"display:none;\">\n",
              "\n",
              "<svg xmlns=\"http://www.w3.org/2000/svg\" height=\"24px\"viewBox=\"0 0 24 24\"\n",
              "     width=\"24px\">\n",
              "    <g>\n",
              "        <path d=\"M19 3H5c-1.1 0-2 .9-2 2v14c0 1.1.9 2 2 2h14c1.1 0 2-.9 2-2V5c0-1.1-.9-2-2-2zM9 17H7v-7h2v7zm4 0h-2V7h2v10zm4 0h-2v-4h2v4z\"/>\n",
              "    </g>\n",
              "</svg>\n",
              "      </button>\n",
              "\n",
              "<style>\n",
              "  .colab-df-quickchart {\n",
              "      --bg-color: #E8F0FE;\n",
              "      --fill-color: #1967D2;\n",
              "      --hover-bg-color: #E2EBFA;\n",
              "      --hover-fill-color: #174EA6;\n",
              "      --disabled-fill-color: #AAA;\n",
              "      --disabled-bg-color: #DDD;\n",
              "  }\n",
              "\n",
              "  [theme=dark] .colab-df-quickchart {\n",
              "      --bg-color: #3B4455;\n",
              "      --fill-color: #D2E3FC;\n",
              "      --hover-bg-color: #434B5C;\n",
              "      --hover-fill-color: #FFFFFF;\n",
              "      --disabled-bg-color: #3B4455;\n",
              "      --disabled-fill-color: #666;\n",
              "  }\n",
              "\n",
              "  .colab-df-quickchart {\n",
              "    background-color: var(--bg-color);\n",
              "    border: none;\n",
              "    border-radius: 50%;\n",
              "    cursor: pointer;\n",
              "    display: none;\n",
              "    fill: var(--fill-color);\n",
              "    height: 32px;\n",
              "    padding: 0;\n",
              "    width: 32px;\n",
              "  }\n",
              "\n",
              "  .colab-df-quickchart:hover {\n",
              "    background-color: var(--hover-bg-color);\n",
              "    box-shadow: 0 1px 2px rgba(60, 64, 67, 0.3), 0 1px 3px 1px rgba(60, 64, 67, 0.15);\n",
              "    fill: var(--button-hover-fill-color);\n",
              "  }\n",
              "\n",
              "  .colab-df-quickchart-complete:disabled,\n",
              "  .colab-df-quickchart-complete:disabled:hover {\n",
              "    background-color: var(--disabled-bg-color);\n",
              "    fill: var(--disabled-fill-color);\n",
              "    box-shadow: none;\n",
              "  }\n",
              "\n",
              "  .colab-df-spinner {\n",
              "    border: 2px solid var(--fill-color);\n",
              "    border-color: transparent;\n",
              "    border-bottom-color: var(--fill-color);\n",
              "    animation:\n",
              "      spin 1s steps(1) infinite;\n",
              "  }\n",
              "\n",
              "  @keyframes spin {\n",
              "    0% {\n",
              "      border-color: transparent;\n",
              "      border-bottom-color: var(--fill-color);\n",
              "      border-left-color: var(--fill-color);\n",
              "    }\n",
              "    20% {\n",
              "      border-color: transparent;\n",
              "      border-left-color: var(--fill-color);\n",
              "      border-top-color: var(--fill-color);\n",
              "    }\n",
              "    30% {\n",
              "      border-color: transparent;\n",
              "      border-left-color: var(--fill-color);\n",
              "      border-top-color: var(--fill-color);\n",
              "      border-right-color: var(--fill-color);\n",
              "    }\n",
              "    40% {\n",
              "      border-color: transparent;\n",
              "      border-right-color: var(--fill-color);\n",
              "      border-top-color: var(--fill-color);\n",
              "    }\n",
              "    60% {\n",
              "      border-color: transparent;\n",
              "      border-right-color: var(--fill-color);\n",
              "    }\n",
              "    80% {\n",
              "      border-color: transparent;\n",
              "      border-right-color: var(--fill-color);\n",
              "      border-bottom-color: var(--fill-color);\n",
              "    }\n",
              "    90% {\n",
              "      border-color: transparent;\n",
              "      border-bottom-color: var(--fill-color);\n",
              "    }\n",
              "  }\n",
              "</style>\n",
              "\n",
              "      <script>\n",
              "        async function quickchart(key) {\n",
              "          const quickchartButtonEl =\n",
              "            document.querySelector('#' + key + ' button');\n",
              "          quickchartButtonEl.disabled = true;  // To prevent multiple clicks.\n",
              "          quickchartButtonEl.classList.add('colab-df-spinner');\n",
              "          try {\n",
              "            const charts = await google.colab.kernel.invokeFunction(\n",
              "                'suggestCharts', [key], {});\n",
              "          } catch (error) {\n",
              "            console.error('Error during call to suggestCharts:', error);\n",
              "          }\n",
              "          quickchartButtonEl.classList.remove('colab-df-spinner');\n",
              "          quickchartButtonEl.classList.add('colab-df-quickchart-complete');\n",
              "        }\n",
              "        (() => {\n",
              "          let quickchartButtonEl =\n",
              "            document.querySelector('#df-26f379fe-111c-4933-9398-a5543acf821d button');\n",
              "          quickchartButtonEl.style.display =\n",
              "            google.colab.kernel.accessAllowed ? 'block' : 'none';\n",
              "        })();\n",
              "      </script>\n",
              "    </div>\n",
              "\n",
              "  <div id=\"id_1e68c6e2-d04a-43e2-b098-d943acedde04\">\n",
              "    <style>\n",
              "      .colab-df-generate {\n",
              "        background-color: #E8F0FE;\n",
              "        border: none;\n",
              "        border-radius: 50%;\n",
              "        cursor: pointer;\n",
              "        display: none;\n",
              "        fill: #1967D2;\n",
              "        height: 32px;\n",
              "        padding: 0 0 0 0;\n",
              "        width: 32px;\n",
              "      }\n",
              "\n",
              "      .colab-df-generate:hover {\n",
              "        background-color: #E2EBFA;\n",
              "        box-shadow: 0px 1px 2px rgba(60, 64, 67, 0.3), 0px 1px 3px 1px rgba(60, 64, 67, 0.15);\n",
              "        fill: #174EA6;\n",
              "      }\n",
              "\n",
              "      [theme=dark] .colab-df-generate {\n",
              "        background-color: #3B4455;\n",
              "        fill: #D2E3FC;\n",
              "      }\n",
              "\n",
              "      [theme=dark] .colab-df-generate:hover {\n",
              "        background-color: #434B5C;\n",
              "        box-shadow: 0px 1px 3px 1px rgba(0, 0, 0, 0.15);\n",
              "        filter: drop-shadow(0px 1px 2px rgba(0, 0, 0, 0.3));\n",
              "        fill: #FFFFFF;\n",
              "      }\n",
              "    </style>\n",
              "    <button class=\"colab-df-generate\" onclick=\"generateWithVariable('df_results')\"\n",
              "            title=\"Generate code using this dataframe.\"\n",
              "            style=\"display:none;\">\n",
              "\n",
              "  <svg xmlns=\"http://www.w3.org/2000/svg\" height=\"24px\"viewBox=\"0 0 24 24\"\n",
              "       width=\"24px\">\n",
              "    <path d=\"M7,19H8.4L18.45,9,17,7.55,7,17.6ZM5,21V16.75L18.45,3.32a2,2,0,0,1,2.83,0l1.4,1.43a1.91,1.91,0,0,1,.58,1.4,1.91,1.91,0,0,1-.58,1.4L9.25,21ZM18.45,9,17,7.55Zm-12,3A5.31,5.31,0,0,0,4.9,8.1,5.31,5.31,0,0,0,1,6.5,5.31,5.31,0,0,0,4.9,4.9,5.31,5.31,0,0,0,6.5,1,5.31,5.31,0,0,0,8.1,4.9,5.31,5.31,0,0,0,12,6.5,5.46,5.46,0,0,0,6.5,12Z\"/>\n",
              "  </svg>\n",
              "    </button>\n",
              "    <script>\n",
              "      (() => {\n",
              "      const buttonEl =\n",
              "        document.querySelector('#id_1e68c6e2-d04a-43e2-b098-d943acedde04 button.colab-df-generate');\n",
              "      buttonEl.style.display =\n",
              "        google.colab.kernel.accessAllowed ? 'block' : 'none';\n",
              "\n",
              "      buttonEl.onclick = () => {\n",
              "        google.colab.notebook.generateWithVariable('df_results');\n",
              "      }\n",
              "      })();\n",
              "    </script>\n",
              "  </div>\n",
              "\n",
              "    </div>\n",
              "  </div>\n"
            ],
            "application/vnd.google.colaboratory.intrinsic+json": {
              "type": "dataframe",
              "variable_name": "df_results",
              "summary": "{\n  \"name\": \"df_results\",\n  \"rows\": 12,\n  \"fields\": [\n    {\n      \"column\": \"LLM\",\n      \"properties\": {\n        \"dtype\": \"string\",\n        \"num_unique_values\": 12,\n        \"samples\": [\n          \"SA_LA_ZS\",\n          \"SA_SM_FS\",\n          \"GE_SM_ZS\"\n        ],\n        \"semantic_type\": \"\",\n        \"description\": \"\"\n      }\n    },\n    {\n      \"column\": \"Kendall_Tau_SUBJECT\",\n      \"properties\": {\n        \"dtype\": \"number\",\n        \"std\": 0.13339235209708278,\n        \"min\": 0.07034482311727892,\n        \"max\": 0.5300172588935672,\n        \"num_unique_values\": 12,\n        \"samples\": [\n          0.24968782081486757,\n          0.0748791970890875,\n          0.10677980501458749\n        ],\n        \"semantic_type\": \"\",\n        \"description\": \"\"\n      }\n    },\n    {\n      \"column\": \"p-Kendall_Tau_SUBJECT\",\n      \"properties\": {\n        \"dtype\": \"number\",\n        \"std\": 0.06922284942403664,\n        \"min\": 2.2592960727842683e-22,\n        \"max\": 0.19610601266315653,\n        \"num_unique_values\": 12,\n        \"samples\": [\n          4.532467478320842e-06,\n          0.1792706183920778,\n          0.053499133338291094\n        ],\n        \"semantic_type\": \"\",\n        \"description\": \"\"\n      }\n    },\n    {\n      \"column\": \"Spearman_SUBJECT\",\n      \"properties\": {\n        \"dtype\": \"number\",\n        \"std\": 0.1405588160955665,\n        \"min\": 0.0751765351852531,\n        \"max\": 0.5598081722638028,\n        \"num_unique_values\": 12,\n        \"samples\": [\n          0.2649519245147099,\n          0.07766793744794344,\n          0.11200024663156902\n        ],\n        \"semantic_type\": \"\",\n        \"description\": \"\"\n      }\n    },\n    {\n      \"column\": \"p-Spearman_SUBJECT\",\n      \"properties\": {\n        \"dtype\": \"number\",\n        \"std\": 0.06886597413111675,\n        \"min\": 3.8333104357870164e-26,\n        \"max\": 0.19411622254434743,\n        \"num_unique_values\": 12,\n        \"samples\": [\n          3.265513691591931e-06,\n          0.1797063847912239,\n          0.0526349241446704\n        ],\n        \"semantic_type\": \"\",\n        \"description\": \"\"\n      }\n    },\n    {\n      \"column\": \"Kendall_Tau_PREDICATE\",\n      \"properties\": {\n        \"dtype\": \"number\",\n        \"std\": 0.037803465702701516,\n        \"min\": 0.10105258372121938,\n        \"max\": 0.22613672891734074,\n        \"num_unique_values\": 12,\n        \"samples\": [\n          0.22613672891734074,\n          0.1434013936519663,\n          0.19922962335544395\n        ],\n        \"semantic_type\": \"\",\n        \"description\": \"\"\n      }\n    },\n    {\n      \"column\": \"p-Kendall_Tau_PREDICATE\",\n      \"properties\": {\n        \"dtype\": \"number\",\n        \"std\": 0.016283300766995423,\n        \"min\": 2.3574119964831432e-05,\n        \"max\": 0.05773621123582246,\n        \"num_unique_values\": 12,\n        \"samples\": [\n          2.7614617711869946e-05,\n          0.010470980287741958,\n          0.00018101523188971232\n        ],\n        \"semantic_type\": \"\",\n        \"description\": \"\"\n      }\n    },\n    {\n      \"column\": \"Spearman_PREDICATE\",\n      \"properties\": {\n        \"dtype\": \"number\",\n        \"std\": 0.04144989680392537,\n        \"min\": 0.11007658359028116,\n        \"max\": 0.2444430070530444,\n        \"num_unique_values\": 12,\n        \"samples\": [\n          0.24065172074821783,\n          0.14762804423876708,\n          0.21581287531715587\n        ],\n        \"semantic_type\": \"\",\n        \"description\": \"\"\n      }\n    },\n    {\n      \"column\": \"p-Spearman_PREDICATE\",\n      \"properties\": {\n        \"dtype\": \"number\",\n        \"std\": 0.01603884384387347,\n        \"min\": 1.85782302615958e-05,\n        \"max\": 0.05685628708127404,\n        \"num_unique_values\": 12,\n        \"samples\": [\n          2.5212892372873728e-05,\n          0.010456320708254939,\n          0.00016530835456793588\n        ],\n        \"semantic_type\": \"\",\n        \"description\": \"\"\n      }\n    },\n    {\n      \"column\": \"Kendall_Tau_OBJECT\",\n      \"properties\": {\n        \"dtype\": \"number\",\n        \"std\": 0.12522084052173105,\n        \"min\": -0.05022797728434815,\n        \"max\": 0.43576477013020176,\n        \"num_unique_values\": 12,\n        \"samples\": [\n          0.2930144050989106,\n          0.43576477013020176,\n          0.3147820631062611\n        ],\n        \"semantic_type\": \"\",\n        \"description\": \"\"\n      }\n    },\n    {\n      \"column\": \"p-Kendall_Tau_OBJECT\",\n      \"properties\": {\n        \"dtype\": \"number\",\n        \"std\": 0.09729280856309161,\n        \"min\": 1.102907972835536e-15,\n        \"max\": 0.3370321911578954,\n        \"num_unique_values\": 12,\n        \"samples\": [\n          5.7773751876128974e-08,\n          1.102907972835536e-15,\n          7.007744226030462e-10\n        ],\n        \"semantic_type\": \"\",\n        \"description\": \"\"\n      }\n    },\n    {\n      \"column\": \"Spearman_OBJECT\",\n      \"properties\": {\n        \"dtype\": \"number\",\n        \"std\": 0.13557808234891247,\n        \"min\": -0.05504361160629252,\n        \"max\": 0.4597955692230833,\n        \"num_unique_values\": 12,\n        \"samples\": [\n          0.30982791101005813,\n          0.4597955692230833,\n          0.35027918774474254\n        ],\n        \"semantic_type\": \"\",\n        \"description\": \"\"\n      }\n    },\n    {\n      \"column\": \"p-Spearman_OBJECT\",\n      \"properties\": {\n        \"dtype\": \"number\",\n        \"std\": 0.09874114504152892,\n        \"min\": 4.239722747511544e-17,\n        \"max\": 0.34204937237734123,\n        \"num_unique_values\": 12,\n        \"samples\": [\n          4.267904732364134e-08,\n          4.239722747511544e-17,\n          4.361696900512753e-10\n        ],\n        \"semantic_type\": \"\",\n        \"description\": \"\"\n      }\n    },\n    {\n      \"column\": \"Kendall_Tau_TRIPLE\",\n      \"properties\": {\n        \"dtype\": \"number\",\n        \"std\": 0.10370683767529708,\n        \"min\": 0.05060825120555291,\n        \"max\": 0.45052752171570287,\n        \"num_unique_values\": 12,\n        \"samples\": [\n          0.3385935984495166,\n          0.3858149753550492,\n          0.3343077986909534\n        ],\n        \"semantic_type\": \"\",\n        \"description\": \"\"\n      }\n    },\n    {\n      \"column\": \"p-Kendall_Tau_TRIPLE\",\n      \"properties\": {\n        \"dtype\": \"number\",\n        \"std\": 0.09374130674821907,\n        \"min\": 2.4625965687514347e-18,\n        \"max\": 0.32472941215108186,\n        \"num_unique_values\": 12,\n        \"samples\": [\n          4.6552892615527104e-11,\n          3.116330244826742e-13,\n          6.898848164842153e-11\n        ],\n        \"semantic_type\": \"\",\n        \"description\": \"\"\n      }\n    },\n    {\n      \"column\": \"Spearman_TRIPLE\",\n      \"properties\": {\n        \"dtype\": \"number\",\n        \"std\": 0.11430858352483309,\n        \"min\": 0.05650533050859339,\n        \"max\": 0.49052139600246175,\n        \"num_unique_values\": 12,\n        \"samples\": [\n          0.3754867177726452,\n          0.4206126454369355,\n          0.37182604179606366\n        ],\n        \"semantic_type\": \"\",\n        \"description\": \"\"\n      }\n    },\n    {\n      \"column\": \"p-Spearman_TRIPLE\",\n      \"properties\": {\n        \"dtype\": \"number\",\n        \"std\": 0.0950793322957606,\n        \"min\": 1.440505119990933e-19,\n        \"max\": 0.3293644685922722,\n        \"num_unique_values\": 12,\n        \"samples\": [\n          1.7667399399240464e-11,\n          2.7248973073687348e-14,\n          2.8641451773521152e-11\n        ],\n        \"semantic_type\": \"\",\n        \"description\": \"\"\n      }\n    }\n  ]\n}"
            }
          },
          "metadata": {}
        }
      ]
    },
    {
      "cell_type": "code",
      "source": [
        "df_results.to_csv('/content/drive/My Drive/CTI/Experimentos/llm-as-a-judge-e-commerce-triples/tau_spearman_results.csv', index=False)"
      ],
      "metadata": {
        "id": "AYNPX0cveHEj"
      },
      "execution_count": null,
      "outputs": []
    }
  ]
}